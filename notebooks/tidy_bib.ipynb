{
 "cells": [
  {
   "cell_type": "code",
   "execution_count": 1,
   "id": "ec0d2fa5-e607-4545-935c-bbdc19985049",
   "metadata": {},
   "outputs": [],
   "source": [
    "## inspect bibliography for duplicates and missing abstracts"
   ]
  },
  {
   "cell_type": "code",
   "execution_count": 1,
   "id": "df1db3b7-b4c8-407f-8e74-9d073d602a45",
   "metadata": {},
   "outputs": [],
   "source": [
    "import nbib\n",
    "import rispy"
   ]
  },
  {
   "cell_type": "code",
   "execution_count": 2,
   "id": "f34a5f21-b55f-4910-a0fc-54c413ce6c47",
   "metadata": {},
   "outputs": [],
   "source": [
    "refs = nbib.read_file('bib/pubmed-9NOTanimal-set 2.nbib')"
   ]
  },
  {
   "cell_type": "code",
   "execution_count": 17,
   "id": "bcee35b1-f0e5-47f7-9f25-01f8969baf86",
   "metadata": {},
   "outputs": [
    {
     "data": {
      "text/plain": [
       "6879"
      ]
     },
     "execution_count": 17,
     "metadata": {},
     "output_type": "execute_result"
    }
   ],
   "source": [
    "len(refs)"
   ]
  },
  {
   "cell_type": "code",
   "execution_count": 23,
   "id": "5c02cdf9-0524-412c-a485-a902392456f7",
   "metadata": {
    "tags": []
   },
   "outputs": [
    {
     "name": "stdout",
     "output_type": "stream",
     "text": [
      "{'author': 'Barchi, Alberto', 'author_abbreviated': 'Barchi A', 'affiliations': ['Gastroenterology and Digestive Endoscopy, IRCCS Ospedale San Raffaele, Milan, Italy.'], 'first_name': 'Alberto', 'last_name': 'Barchi'}\n"
     ]
    }
   ],
   "source": [
    "for entries in refs[:1]:\n",
    "    print(entries['authors'][0])"
   ]
  },
  {
   "cell_type": "code",
   "execution_count": 25,
   "id": "da6d7a1f-a43a-4a6b-b14a-50447628db99",
   "metadata": {
    "collapsed": true,
    "jupyter": {
     "outputs_hidden": true
    },
    "tags": []
   },
   "outputs": [
    {
     "name": "stderr",
     "output_type": "stream",
     "text": [
      "/Users/evaviviani/opt/anaconda3/envs/asreview/lib/python3.12/site-packages/rispy/writer.py:114: UserWarning: label `pubmed_id` not exported\n",
      "  warnings.warn(UserWarning(f\"label `{label}` not exported\"))\n",
      "/Users/evaviviani/opt/anaconda3/envs/asreview/lib/python3.12/site-packages/rispy/writer.py:114: UserWarning: label `citation_owner` not exported\n",
      "  warnings.warn(UserWarning(f\"label `{label}` not exported\"))\n",
      "/Users/evaviviani/opt/anaconda3/envs/asreview/lib/python3.12/site-packages/rispy/writer.py:114: UserWarning: label `nlm_status` not exported\n",
      "  warnings.warn(UserWarning(f\"label `{label}` not exported\"))\n",
      "/Users/evaviviani/opt/anaconda3/envs/asreview/lib/python3.12/site-packages/rispy/writer.py:114: UserWarning: label `last_revision_date` not exported\n",
      "  warnings.warn(UserWarning(f\"label `{label}` not exported\"))\n",
      "/Users/evaviviani/opt/anaconda3/envs/asreview/lib/python3.12/site-packages/rispy/writer.py:114: UserWarning: label `print_issn` not exported\n",
      "  warnings.warn(UserWarning(f\"label `{label}` not exported\"))\n",
      "/Users/evaviviani/opt/anaconda3/envs/asreview/lib/python3.12/site-packages/rispy/writer.py:114: UserWarning: label `electronic_issn` not exported\n",
      "  warnings.warn(UserWarning(f\"label `{label}` not exported\"))\n",
      "/Users/evaviviani/opt/anaconda3/envs/asreview/lib/python3.12/site-packages/rispy/writer.py:114: UserWarning: label `linking_issn` not exported\n",
      "  warnings.warn(UserWarning(f\"label `{label}` not exported\"))\n",
      "/Users/evaviviani/opt/anaconda3/envs/asreview/lib/python3.12/site-packages/rispy/writer.py:114: UserWarning: label `journal_volume` not exported\n",
      "  warnings.warn(UserWarning(f\"label `{label}` not exported\"))\n",
      "/Users/evaviviani/opt/anaconda3/envs/asreview/lib/python3.12/site-packages/rispy/writer.py:114: UserWarning: label `publication_date` not exported\n",
      "  warnings.warn(UserWarning(f\"label `{label}` not exported\"))\n",
      "/Users/evaviviani/opt/anaconda3/envs/asreview/lib/python3.12/site-packages/rispy/writer.py:114: UserWarning: label `pages` not exported\n",
      "  warnings.warn(UserWarning(f\"label `{label}` not exported\"))\n",
      "/Users/evaviviani/opt/anaconda3/envs/asreview/lib/python3.12/site-packages/rispy/writer.py:114: UserWarning: label `copyright` not exported\n",
      "  warnings.warn(UserWarning(f\"label `{label}` not exported\"))\n",
      "/Users/evaviviani/opt/anaconda3/envs/asreview/lib/python3.12/site-packages/rispy/writer.py:114: UserWarning: label `publication_types` not exported\n",
      "  warnings.warn(UserWarning(f\"label `{label}` not exported\"))\n",
      "/Users/evaviviani/opt/anaconda3/envs/asreview/lib/python3.12/site-packages/rispy/writer.py:114: UserWarning: label `electronic_publication_date` not exported\n",
      "  warnings.warn(UserWarning(f\"label `{label}` not exported\"))\n",
      "/Users/evaviviani/opt/anaconda3/envs/asreview/lib/python3.12/site-packages/rispy/writer.py:114: UserWarning: label `place_of_publication` not exported\n",
      "  warnings.warn(UserWarning(f\"label `{label}` not exported\"))\n",
      "/Users/evaviviani/opt/anaconda3/envs/asreview/lib/python3.12/site-packages/rispy/writer.py:114: UserWarning: label `journal_abbreviated` not exported\n",
      "  warnings.warn(UserWarning(f\"label `{label}` not exported\"))\n",
      "/Users/evaviviani/opt/anaconda3/envs/asreview/lib/python3.12/site-packages/rispy/writer.py:114: UserWarning: label `journal` not exported\n",
      "  warnings.warn(UserWarning(f\"label `{label}` not exported\"))\n",
      "/Users/evaviviani/opt/anaconda3/envs/asreview/lib/python3.12/site-packages/rispy/writer.py:114: UserWarning: label `nlm_journal_id` not exported\n",
      "  warnings.warn(UserWarning(f\"label `{label}` not exported\"))\n",
      "/Users/evaviviani/opt/anaconda3/envs/asreview/lib/python3.12/site-packages/rispy/writer.py:114: UserWarning: label `pmcid` not exported\n",
      "  warnings.warn(UserWarning(f\"label `{label}` not exported\"))\n",
      "/Users/evaviviani/opt/anaconda3/envs/asreview/lib/python3.12/site-packages/rispy/writer.py:114: UserWarning: label `conflict_of_interest` not exported\n",
      "  warnings.warn(UserWarning(f\"label `{label}` not exported\"))\n",
      "/Users/evaviviani/opt/anaconda3/envs/asreview/lib/python3.12/site-packages/rispy/writer.py:114: UserWarning: label `received_time` not exported\n",
      "  warnings.warn(UserWarning(f\"label `{label}` not exported\"))\n",
      "/Users/evaviviani/opt/anaconda3/envs/asreview/lib/python3.12/site-packages/rispy/writer.py:114: UserWarning: label `revised_time` not exported\n",
      "  warnings.warn(UserWarning(f\"label `{label}` not exported\"))\n",
      "/Users/evaviviani/opt/anaconda3/envs/asreview/lib/python3.12/site-packages/rispy/writer.py:114: UserWarning: label `accepted_time` not exported\n",
      "  warnings.warn(UserWarning(f\"label `{label}` not exported\"))\n",
      "/Users/evaviviani/opt/anaconda3/envs/asreview/lib/python3.12/site-packages/rispy/writer.py:114: UserWarning: label `medline_time` not exported\n",
      "  warnings.warn(UserWarning(f\"label `{label}` not exported\"))\n",
      "/Users/evaviviani/opt/anaconda3/envs/asreview/lib/python3.12/site-packages/rispy/writer.py:114: UserWarning: label `pubmed_time` not exported\n",
      "  warnings.warn(UserWarning(f\"label `{label}` not exported\"))\n",
      "/Users/evaviviani/opt/anaconda3/envs/asreview/lib/python3.12/site-packages/rispy/writer.py:114: UserWarning: label `entrez_time` not exported\n",
      "  warnings.warn(UserWarning(f\"label `{label}` not exported\"))\n",
      "/Users/evaviviani/opt/anaconda3/envs/asreview/lib/python3.12/site-packages/rispy/writer.py:114: UserWarning: label `pmc-release_time` not exported\n",
      "  warnings.warn(UserWarning(f\"label `{label}` not exported\"))\n",
      "/Users/evaviviani/opt/anaconda3/envs/asreview/lib/python3.12/site-packages/rispy/writer.py:114: UserWarning: label `pii` not exported\n",
      "  warnings.warn(UserWarning(f\"label `{label}` not exported\"))\n",
      "/Users/evaviviani/opt/anaconda3/envs/asreview/lib/python3.12/site-packages/rispy/writer.py:114: UserWarning: label `publication_status` not exported\n",
      "  warnings.warn(UserWarning(f\"label `{label}` not exported\"))\n",
      "/Users/evaviviani/opt/anaconda3/envs/asreview/lib/python3.12/site-packages/rispy/writer.py:114: UserWarning: label `descriptors` not exported\n",
      "  warnings.warn(UserWarning(f\"label `{label}` not exported\"))\n",
      "/Users/evaviviani/opt/anaconda3/envs/asreview/lib/python3.12/site-packages/rispy/writer.py:114: UserWarning: label `journal_issue` not exported\n",
      "  warnings.warn(UserWarning(f\"label `{label}` not exported\"))\n",
      "/Users/evaviviani/opt/anaconda3/envs/asreview/lib/python3.12/site-packages/rispy/writer.py:114: UserWarning: label `grants` not exported\n",
      "  warnings.warn(UserWarning(f\"label `{label}` not exported\"))\n",
      "/Users/evaviviani/opt/anaconda3/envs/asreview/lib/python3.12/site-packages/rispy/writer.py:114: UserWarning: label `corporate_author` not exported\n",
      "  warnings.warn(UserWarning(f\"label `{label}` not exported\"))\n",
      "/Users/evaviviani/opt/anaconda3/envs/asreview/lib/python3.12/site-packages/rispy/writer.py:114: UserWarning: label `secondary_source` not exported\n",
      "  warnings.warn(UserWarning(f\"label `{label}` not exported\"))\n",
      "/Users/evaviviani/opt/anaconda3/envs/asreview/lib/python3.12/site-packages/rispy/writer.py:114: UserWarning: label `transliterated_title` not exported\n",
      "  warnings.warn(UserWarning(f\"label `{label}` not exported\"))\n",
      "/Users/evaviviani/opt/anaconda3/envs/asreview/lib/python3.12/site-packages/rispy/writer.py:114: UserWarning: label `bookaccession` not exported\n",
      "  warnings.warn(UserWarning(f\"label `{label}` not exported\"))\n"
     ]
    }
   ],
   "source": [
    "# ASReview does not support nbib, I prefer therefore to export it to RIS\n",
    "filepath = 'bib/export-pubmed-9NOTanimal-set 2.ris'\n",
    "\n",
    "with open(filepath, 'w') as bibliography_file:\n",
    "    rispy.dump(refs, bibliography_file)"
   ]
  },
  {
   "cell_type": "code",
   "execution_count": 26,
   "id": "90e3b775-0099-44ed-a059-6985c6b3abc0",
   "metadata": {},
   "outputs": [
    {
     "name": "stderr",
     "output_type": "stream",
     "text": [
      "/Users/evaviviani/opt/anaconda3/envs/asreview/lib/python3.12/site-packages/sentence_transformers/cross_encoder/CrossEncoder.py:11: TqdmExperimentalWarning: Using `tqdm.autonotebook.tqdm` in notebook mode. Use `tqdm.tqdm` instead to force console mode (e.g. in jupyter console)\n",
      "  from tqdm.autonotebook import tqdm, trange\n"
     ]
    }
   ],
   "source": [
    "from asreview import ASReviewData\n",
    "\n",
    "class tidyBib():\n",
    "    def __init__(self, ris):\n",
    "        # load .ris file using asreview\n",
    "        self.ris = ASReviewData.from_file(ris).to_dataframe()\n",
    "        \n",
    "    @staticmethod\n",
    "    def is_missing_abstract(abstract):\n",
    "        if isinstance(abstract, str):\n",
    "            return abstract.strip() == ''\n",
    "        return pd.isna(abstract)\n",
    "    \n",
    "    @staticmethod\n",
    "    def resolve_duplicates(group):\n",
    "        # Handle duplicates: retain one entry, preferring the one with an abstract\n",
    "        if group['abstract'].notna().any():\n",
    "            return group.loc[group['abstract'].notna()].iloc[0]\n",
    "        return group.iloc[0]\n",
    "        \n",
    "\n",
    "    def return_resolved_ris(self):\n",
    "        # Identify and resolve duplicates\n",
    "        resolved_ris = self.ris.groupby(['title', 'authors'], group_keys=False).apply(self.resolve_duplicates)\n",
    "        return resolved_ris\n",
    "    \n",
    "    def return_missing_abstracts(self):\n",
    "        # Identify entries with missing abstracts\n",
    "        missing_abstracts = self.ris[self.ris['abstract'].apply(self.is_missing_abstract)]\n",
    "        return missing_abstracts\n",
    "        \n",
    "        \n",
    "    def return_tidy_bib(self):\n",
    "        # identify and resolve duplicates\n",
    "        # remove missing abstracts\n",
    "        # return tidy bib\n",
    "        \n",
    "        resolved_ris = self.return_resolved_ris()\n",
    "        tidy_ris = resolved_ris[~resolved_ris['abstract'].apply(self.is_missing_abstract)]\n",
    "        \n",
    "        return tidy_ris\n",
    "\n",
    "    def save_tidy_ris(self, output_file):\n",
    "        # save tidy bib\n",
    "        tidy_ris = self.return_tidy_bib()\n",
    "        tidy_ris.to_csv(output_file)\n",
    "        return tidy_ris\n",
    "    "
   ]
  },
  {
   "cell_type": "code",
   "execution_count": 27,
   "id": "139a44ff-17a9-4cba-88ae-a1917114363e",
   "metadata": {},
   "outputs": [],
   "source": [
    "tidy = tidyBib('bib/export-pubmed-9NOTanimal-set 2.ris')"
   ]
  },
  {
   "cell_type": "code",
   "execution_count": 28,
   "id": "d223987f-21a9-4789-a3ef-c38f085f7ab3",
   "metadata": {},
   "outputs": [
    {
     "data": {
      "text/plain": [
       "6874"
      ]
     },
     "execution_count": 28,
     "metadata": {},
     "output_type": "execute_result"
    }
   ],
   "source": [
    "tidy.ris.title.nunique()"
   ]
  },
  {
   "cell_type": "code",
   "execution_count": 42,
   "id": "67cf6e5b-783a-408a-94fc-1f0cf13119ef",
   "metadata": {},
   "outputs": [
    {
     "data": {
      "text/plain": [
       "6879"
      ]
     },
     "execution_count": 42,
     "metadata": {},
     "output_type": "execute_result"
    }
   ],
   "source": [
    "len(tidy.ris)"
   ]
  },
  {
   "cell_type": "code",
   "execution_count": 29,
   "id": "c53d0358-b59e-4795-9126-25daea8cb4e8",
   "metadata": {},
   "outputs": [
    {
     "data": {
      "text/html": [
       "<div>\n",
       "<style scoped>\n",
       "    .dataframe tbody tr th:only-of-type {\n",
       "        vertical-align: middle;\n",
       "    }\n",
       "\n",
       "    .dataframe tbody tr th {\n",
       "        vertical-align: top;\n",
       "    }\n",
       "\n",
       "    .dataframe thead th {\n",
       "        text-align: right;\n",
       "    }\n",
       "</style>\n",
       "<table border=\"1\" class=\"dataframe\">\n",
       "  <thead>\n",
       "    <tr style=\"text-align: right;\">\n",
       "      <th></th>\n",
       "      <th>type_of_reference</th>\n",
       "      <th>title</th>\n",
       "      <th>abstract</th>\n",
       "      <th>authors</th>\n",
       "      <th>language</th>\n",
       "      <th>keywords</th>\n",
       "      <th>doi</th>\n",
       "    </tr>\n",
       "    <tr>\n",
       "      <th>record_id</th>\n",
       "      <th></th>\n",
       "      <th></th>\n",
       "      <th></th>\n",
       "      <th></th>\n",
       "      <th></th>\n",
       "      <th></th>\n",
       "      <th></th>\n",
       "    </tr>\n",
       "  </thead>\n",
       "  <tbody>\n",
       "    <tr>\n",
       "      <th>0</th>\n",
       "      <td>JOUR</td>\n",
       "      <td>Microbiota profiling in esophageal diseases: N...</td>\n",
       "      <td>Gut microbiota is recognized nowadays as one o...</td>\n",
       "      <td>[\"{'author': 'Barchi, Alberto', 'author_abbrev...</td>\n",
       "      <td>eng</td>\n",
       "      <td>['Achalasia', 'Cancer', 'Eosinophilic esophagi...</td>\n",
       "      <td>10.1016/j.csbj.2023.12.026</td>\n",
       "    </tr>\n",
       "    <tr>\n",
       "      <th>1</th>\n",
       "      <td>JOUR</td>\n",
       "      <td>Oral bacteriome and mycobiome of patients with...</td>\n",
       "      <td>ETHNOPHARMACOLOGICAL RELEVANCE: Moshen Fuyuan ...</td>\n",
       "      <td>[\"{'author': 'Wang, Xin-Hui', 'author_abbrevia...</td>\n",
       "      <td>eng</td>\n",
       "      <td>['Idiopathic membranous nephropathy (IMN)', 'M...</td>\n",
       "      <td>10.1016/j.jep.2024.118233</td>\n",
       "    </tr>\n",
       "    <tr>\n",
       "      <th>2</th>\n",
       "      <td>JOUR</td>\n",
       "      <td>High-throughput microfluidic quantitative PCR ...</td>\n",
       "      <td>Comprehensive data on bacterial and viral path...</td>\n",
       "      <td>[\"{'author': 'Shrestha, Sadhana', 'author_abbr...</td>\n",
       "      <td>eng</td>\n",
       "      <td>['Antibiotic resistance gene', 'Class 1 integr...</td>\n",
       "      <td>10.1016/j.envres.2024.119156</td>\n",
       "    </tr>\n",
       "    <tr>\n",
       "      <th>3</th>\n",
       "      <td>JOUR</td>\n",
       "      <td>Prevalence and characterization of aminoglycos...</td>\n",
       "      <td>Campylobacter jejuni is recognized as a signif...</td>\n",
       "      <td>[\"{'author': 'Kang, Jin', 'author_abbreviated'...</td>\n",
       "      <td>eng</td>\n",
       "      <td>['Aminoglycoside resistance', 'Campylobacter j...</td>\n",
       "      <td>10.1016/j.ijfoodmicro.2024.110747</td>\n",
       "    </tr>\n",
       "    <tr>\n",
       "      <th>4</th>\n",
       "      <td>JOUR</td>\n",
       "      <td>Wastewater surveillance together with metaviro...</td>\n",
       "      <td>How to address public health priorities after ...</td>\n",
       "      <td>['{\\'author\\': \\'Zhang, Ziqiang\\', \\'author_ab...</td>\n",
       "      <td>eng</td>\n",
       "      <td>['Amplicon sequencing', 'Metaviromic data', 'N...</td>\n",
       "      <td>10.1016/j.jhazmat.2024.134635</td>\n",
       "    </tr>\n",
       "  </tbody>\n",
       "</table>\n",
       "</div>"
      ],
      "text/plain": [
       "          type_of_reference  \\\n",
       "record_id                     \n",
       "0                      JOUR   \n",
       "1                      JOUR   \n",
       "2                      JOUR   \n",
       "3                      JOUR   \n",
       "4                      JOUR   \n",
       "\n",
       "                                                       title  \\\n",
       "record_id                                                      \n",
       "0          Microbiota profiling in esophageal diseases: N...   \n",
       "1          Oral bacteriome and mycobiome of patients with...   \n",
       "2          High-throughput microfluidic quantitative PCR ...   \n",
       "3          Prevalence and characterization of aminoglycos...   \n",
       "4          Wastewater surveillance together with metaviro...   \n",
       "\n",
       "                                                    abstract  \\\n",
       "record_id                                                      \n",
       "0          Gut microbiota is recognized nowadays as one o...   \n",
       "1          ETHNOPHARMACOLOGICAL RELEVANCE: Moshen Fuyuan ...   \n",
       "2          Comprehensive data on bacterial and viral path...   \n",
       "3          Campylobacter jejuni is recognized as a signif...   \n",
       "4          How to address public health priorities after ...   \n",
       "\n",
       "                                                     authors language  \\\n",
       "record_id                                                               \n",
       "0          [\"{'author': 'Barchi, Alberto', 'author_abbrev...      eng   \n",
       "1          [\"{'author': 'Wang, Xin-Hui', 'author_abbrevia...      eng   \n",
       "2          [\"{'author': 'Shrestha, Sadhana', 'author_abbr...      eng   \n",
       "3          [\"{'author': 'Kang, Jin', 'author_abbreviated'...      eng   \n",
       "4          ['{\\'author\\': \\'Zhang, Ziqiang\\', \\'author_ab...      eng   \n",
       "\n",
       "                                                    keywords  \\\n",
       "record_id                                                      \n",
       "0          ['Achalasia', 'Cancer', 'Eosinophilic esophagi...   \n",
       "1          ['Idiopathic membranous nephropathy (IMN)', 'M...   \n",
       "2          ['Antibiotic resistance gene', 'Class 1 integr...   \n",
       "3          ['Aminoglycoside resistance', 'Campylobacter j...   \n",
       "4          ['Amplicon sequencing', 'Metaviromic data', 'N...   \n",
       "\n",
       "                                         doi  \n",
       "record_id                                     \n",
       "0                 10.1016/j.csbj.2023.12.026  \n",
       "1                  10.1016/j.jep.2024.118233  \n",
       "2               10.1016/j.envres.2024.119156  \n",
       "3          10.1016/j.ijfoodmicro.2024.110747  \n",
       "4              10.1016/j.jhazmat.2024.134635  "
      ]
     },
     "execution_count": 29,
     "metadata": {},
     "output_type": "execute_result"
    }
   ],
   "source": [
    "tidy.ris.head()"
   ]
  },
  {
   "cell_type": "code",
   "execution_count": 43,
   "id": "595319cf-ba8c-450f-aa16-d3ff9c8c4496",
   "metadata": {},
   "outputs": [
    {
     "data": {
      "text/plain": [
       "216"
      ]
     },
     "execution_count": 43,
     "metadata": {},
     "output_type": "execute_result"
    }
   ],
   "source": [
    "len(tidy.return_missing_abstracts())"
   ]
  },
  {
   "cell_type": "code",
   "execution_count": 44,
   "id": "3173266c-cb73-47f7-a24d-c141d078b3f1",
   "metadata": {},
   "outputs": [],
   "source": [
    "missing_abstracts = tidy.return_missing_abstracts()"
   ]
  },
  {
   "cell_type": "code",
   "execution_count": 46,
   "id": "71cab7ef-1664-4681-9d8c-02697734be40",
   "metadata": {},
   "outputs": [
    {
     "data": {
      "text/plain": [
       "6663"
      ]
     },
     "execution_count": 46,
     "metadata": {},
     "output_type": "execute_result"
    }
   ],
   "source": [
    "len(refs) - len(missing_abstracts)"
   ]
  },
  {
   "cell_type": "code",
   "execution_count": 36,
   "id": "4ce02c0d-bb73-4fc1-897c-4f9f4d116a70",
   "metadata": {},
   "outputs": [
    {
     "data": {
      "text/html": [
       "<div>\n",
       "<style scoped>\n",
       "    .dataframe tbody tr th:only-of-type {\n",
       "        vertical-align: middle;\n",
       "    }\n",
       "\n",
       "    .dataframe tbody tr th {\n",
       "        vertical-align: top;\n",
       "    }\n",
       "\n",
       "    .dataframe thead th {\n",
       "        text-align: right;\n",
       "    }\n",
       "</style>\n",
       "<table border=\"1\" class=\"dataframe\">\n",
       "  <thead>\n",
       "    <tr style=\"text-align: right;\">\n",
       "      <th></th>\n",
       "      <th>type_of_reference</th>\n",
       "      <th>title</th>\n",
       "      <th>abstract</th>\n",
       "      <th>authors</th>\n",
       "      <th>language</th>\n",
       "      <th>keywords</th>\n",
       "      <th>doi</th>\n",
       "    </tr>\n",
       "    <tr>\n",
       "      <th>record_id</th>\n",
       "      <th></th>\n",
       "      <th></th>\n",
       "      <th></th>\n",
       "      <th></th>\n",
       "      <th></th>\n",
       "      <th></th>\n",
       "      <th></th>\n",
       "    </tr>\n",
       "  </thead>\n",
       "  <tbody>\n",
       "    <tr>\n",
       "      <th>938</th>\n",
       "      <td>JOUR</td>\n",
       "      <td>Giardiasis Outbreaks-United States, 2012-2017.</td>\n",
       "      <td></td>\n",
       "      <td></td>\n",
       "      <td>eng</td>\n",
       "      <td></td>\n",
       "      <td>10.1097/INF.0000000000003180</td>\n",
       "    </tr>\n",
       "    <tr>\n",
       "      <th>1087</th>\n",
       "      <td>JOUR</td>\n",
       "      <td>[The effect of gut microbiota composition on i...</td>\n",
       "      <td></td>\n",
       "      <td>['{\\'author\\': \\'Yang, T\\', \\'author_abbreviat...</td>\n",
       "      <td>chi</td>\n",
       "      <td></td>\n",
       "      <td>10.3760/cma.j.cn112140-20200508-00480</td>\n",
       "    </tr>\n",
       "    <tr>\n",
       "      <th>1162</th>\n",
       "      <td>JOUR</td>\n",
       "      <td>Treatment of giardiasis in children: Randomize...</td>\n",
       "      <td></td>\n",
       "      <td>['{\\'author\\': \\'Vakkilainen, Svetlana\\', \\'au...</td>\n",
       "      <td>eng</td>\n",
       "      <td></td>\n",
       "      <td>10.1016/j.jinf.2020.08.050</td>\n",
       "    </tr>\n",
       "    <tr>\n",
       "      <th>1226</th>\n",
       "      <td>JOUR</td>\n",
       "      <td>The Growth of Young Children and Associations ...</td>\n",
       "      <td></td>\n",
       "      <td>[\"{'author': 'Stine, O Colin', 'author_abbrevi...</td>\n",
       "      <td>eng</td>\n",
       "      <td></td>\n",
       "      <td>10.1093/cid/ciz907</td>\n",
       "    </tr>\n",
       "    <tr>\n",
       "      <th>1257</th>\n",
       "      <td>JOUR</td>\n",
       "      <td>Refractory giardiasis in medical students retu...</td>\n",
       "      <td></td>\n",
       "      <td>[\"{'author': 'Dao, Thi Loi', 'author_abbreviat...</td>\n",
       "      <td>eng</td>\n",
       "      <td></td>\n",
       "      <td>10.1016/j.tmaid.2019.101469</td>\n",
       "    </tr>\n",
       "  </tbody>\n",
       "</table>\n",
       "</div>"
      ],
      "text/plain": [
       "          type_of_reference  \\\n",
       "record_id                     \n",
       "938                    JOUR   \n",
       "1087                   JOUR   \n",
       "1162                   JOUR   \n",
       "1226                   JOUR   \n",
       "1257                   JOUR   \n",
       "\n",
       "                                                       title abstract  \\\n",
       "record_id                                                               \n",
       "938           Giardiasis Outbreaks-United States, 2012-2017.            \n",
       "1087       [The effect of gut microbiota composition on i...            \n",
       "1162       Treatment of giardiasis in children: Randomize...            \n",
       "1226       The Growth of Young Children and Associations ...            \n",
       "1257       Refractory giardiasis in medical students retu...            \n",
       "\n",
       "                                                     authors language  \\\n",
       "record_id                                                               \n",
       "938                                                               eng   \n",
       "1087       ['{\\'author\\': \\'Yang, T\\', \\'author_abbreviat...      chi   \n",
       "1162       ['{\\'author\\': \\'Vakkilainen, Svetlana\\', \\'au...      eng   \n",
       "1226       [\"{'author': 'Stine, O Colin', 'author_abbrevi...      eng   \n",
       "1257       [\"{'author': 'Dao, Thi Loi', 'author_abbreviat...      eng   \n",
       "\n",
       "          keywords                                    doi  \n",
       "record_id                                                  \n",
       "938                          10.1097/INF.0000000000003180  \n",
       "1087                10.3760/cma.j.cn112140-20200508-00480  \n",
       "1162                           10.1016/j.jinf.2020.08.050  \n",
       "1226                                   10.1093/cid/ciz907  \n",
       "1257                          10.1016/j.tmaid.2019.101469  "
      ]
     },
     "execution_count": 36,
     "metadata": {},
     "output_type": "execute_result"
    }
   ],
   "source": [
    "missing_abstracts.head()"
   ]
  },
  {
   "cell_type": "code",
   "execution_count": 52,
   "id": "5a62f3a6-d1da-4d98-9b53-5218a4a2a866",
   "metadata": {},
   "outputs": [],
   "source": [
    "missing_abstracts.to_csv('bib/missing_abstracts-pubmed-9NOTanimal-set 2.csv')"
   ]
  },
  {
   "cell_type": "code",
   "execution_count": 31,
   "id": "619c6320-adeb-4a5f-8d68-bb120ab851a2",
   "metadata": {
    "collapsed": true,
    "jupyter": {
     "outputs_hidden": true
    },
    "tags": []
   },
   "outputs": [
    {
     "name": "stdout",
     "output_type": "stream",
     "text": [
      "Giardiasis Outbreaks-United States, 2012-2017.\n",
      "[The effect of gut microbiota composition on immunogenicity of rotavirus vaccine].\n",
      "Treatment of giardiasis in children: Randomized trial of rectal metronidazole versus oral tinidazole.\n",
      "The Growth of Young Children and Associations With Their Intestinal Microbiota and Campylobacter.\n",
      "Refractory giardiasis in medical students returning from humanitarian work abroad.\n",
      "The skin microbiota as a link between rosacea and its systemic comorbidities.\n",
      "A new strategy for high-throughput identification of human gut microbiota containing specific monosaccharide.\n",
      "Examining the influence of weather on rotavirus infection.\n",
      "Cryptosporidium genotyping and land use mapping for hazard identification and source tracking in a small mixed rural-urban watershed in Southeastern Brazil.\n",
      "50 Years Ago in The Journal of Pediatrics: Epidemiology and Etiology of Severe Infantile Diarrhea.\n",
      "Cholangiocytes and the environment in primary sclerosing cholangitis: where is the link?\n",
      "Heat-Stable Oral Rotavirus Vaccine.\n",
      "Heat-Stable Oral Rotavirus Vaccine.\n",
      "The Gut Microbiome as Possible Key to Understanding and Improving Rotavirus Vaccine Performance in High-Disease Burden Settings.\n",
      "Epidemiology of rotavirus in Andaman and Nicobar Islands, India--Predominance of G1 and emergence of G12 strains.\n",
      "Giardia outbreak in Bergen 2004 – what was the source of infection?\n",
      "[Characterization of Group A Rotavirus Genotypes Isolated from Gastroenteritis among Children during the 2008/2009 through 2013/2014 Seasons in Nara Prefecture, Japan].\n",
      "Controlling Cryptosporidium.\n",
      "Controlling Cryptosporidium in the environment.\n",
      "[Epidemiological and clinical study of rotavirus acute diarrhea in infants at the hospital Jason Sendwe Lubumbashi, Democratic Republic of Congo].\n",
      "Norovirus and Rotavirus infection in children aged less than five years in a paediatric hospital, Havana, Cuba.\n",
      "[Bioaccumulation of Giardia and Cryptosporidium coproantigen in a child's human environment].\n",
      "Characterization of the genetic environment of the ribosomal RNA methylase gene erm(B) in Campylobacter jejuni.\n",
      "WHO Global rotavirus surveillance network – a strategic review of the first 5 years (2008–2012).\n",
      "[Endovascular Campylobacter infections: report of two cases].\n",
      "The occurrence of thermotolerant Campylobacter spp. in raw meat intended for public catering.\n",
      "Functional relationship between Campylobacter concisus and the stomach ecosystem in health and disease.\n",
      "Reply to \"ranking filter methods for concentrating pathogens in lake water\".\n",
      "Ranking filter methods for concentrating pathogens in lake water.\n",
      "Water, sanitation, hygiene and enteric infections in children.\n",
      "Diversity in mitochondrion-derived organelles of the parasitic diplomonads Spironucleus and Giardia.\n",
      "\"Thermal inactivation of campylobacter jejuni in broth,\" a comment on: J. Food Prot. 75(6):1029-1035 (2012).\n",
      "Building rotavirus laboratory capacity to support the Global Rotavirus Surveillance Network.\n",
      "Metabolomic analysis of Cryptosporidium parvum oocysts in water: a proof of concept demonstration.\n",
      "Susceptibility of Campylobacter isolates from river water in Brittany, France.\n",
      "Progress introducing rotavirus vaccine into Latin America and the Caribbean, 2006–2010.\n",
      "Keep the focus on contaminated poultry to further curtail New Zealand's campylobacteriosis epidemic.\n",
      "[Detection of Rotavirus in 2745 children with diarrhea].\n",
      "Real-world impact of rotavirus vaccination.\n",
      "Campylobacteriosis in New Zealand.\n",
      "Altered linkage of hydroxyacyl chains in bacterial lipid A.\n",
      "Impact of rotavirus vaccination: the importance of monitoring strains.\n",
      "Mimicking myocardial infarction: localized ST-segment elevation in Campylobacter jejuni myopericarditis.\n",
      "Cryptosporidium sp. rabbit genotype, a newly identified human pathogen.\n",
      "The post-tsunami outbreak of diarrhoeal diseases in Car Nicobar Island, India, was caused by human group A rotavirus G2 strains.\n",
      "Outbreak of rotaviral diarrhoea in a relief camp for tsunami victims at Car Nicobar Island, India.\n",
      "Cryptosporidium education.\n",
      "Clinical update: rotavirus gastroenteritis and its prevention.\n",
      "Cryptosporidiosis: a recreational water threat that hasn't gone away.\n",
      "Can we change the hymn sheet? Campylobacteriosis not just from chicken.\n",
      "Shigellosis and cryptosporidiosis, Baltimore, Maryland.\n",
      "Wading in waste.\n",
      "The investigation of an outbreak of cryptosporidiosis in New South Wales in 2005.\n",
      "Secondary transmission of cryptosporidiosis associated with swimming pool use.\n",
      "Findings and methodological lessons from a small case-control study into campylobacteriosis in Wellington.\n",
      "Is Campylobacter jejuni enteritis a weekend disease?\n",
      "Urease-positive thermophilic Campylobacter species.\n",
      "[Winter viruses].\n",
      "[Morbidity and detection rates of cryptosporidiosis in the Zhitomir region].\n",
      "Evidence-based medicine in the wilderness: the safety of backcountry water.\n",
      "Foodborne disease surveillance in NSW: moving towards performance standards.\n",
      "EPA strengthens some drinking water protections.\n",
      "Epidemiological studies of rotavirus infection in Guinea-Bissau, West Africa.\n",
      "Foreign and domestic travel and the risk of Campylobacter infection: results from a population-based sentinel surveillance scheme.\n",
      "[Spread of giardiasis in Perm city].\n",
      "Water pollution is a risk factor for Cryptosporidium infection in Gharbia Governorate.\n",
      "The Campylobacter conundrum.\n",
      "Seasonal shift in Cryptosporidium parvum transmission cycles in New Zealand.\n",
      "Campylobacter jejuni.\n",
      "Poultry as a source of Campylobacter and related organisms.\n",
      "Current epidemiological issues in human campylobacteriosis.\n",
      "Campylobacters in water, sewage and the environment.\n",
      "Rotavirus infection in Asia.\n",
      "Sentinel surveillance of campylobacter in England and Wales.\n",
      "Heat-labile serotyping of two Campylobacter jejuni strains isolated from patients with Guillain-Barré syndrome and belonging to serotype O19 (Penner).\n",
      "Susceptibility of the Chesapeake Bay to environmental contamination with Cryptosporidium parvum.\n",
      "Rotavirus diversity: what surveillance will tell us.\n",
      "How safe is Seattle's water?\n",
      "Outbreak of cryptosporidiosis in north west England.\n",
      "The Bouchier report--a recommendation too far?\n",
      "Serotyping of Campylobacter jejuni based on heat-stable antigens: relevance, molecular basis and implications in pathogenesis.\n",
      "Increase in Campylobacter gastroenteritis coinciding with Melbourne gas restrictions.\n",
      "Communicable Diseases Surveillance.\n",
      "Lack of an apparent association between intussusception and wild or vaccine rotavirus infection.\n",
      "Communicable diseases surveillance.\n",
      "Outbreaks of Escherichia coli O157:H7 infection and cryptosporidiosis associated with drinking unpasteurized apple cider--Connecticut and New York, October 1996.\n",
      "Water, water everywhere...but how can you make sure it's safe to drink?\n",
      "Avoiding cryptosporidium: safe food, safe water, safe sex.\n",
      "CDC provides guidelines on suspect water supplies. Centers for Disease Control and Prevention.\n",
      "Combination live enteric virus vaccines.\n",
      "What's in the water?\n",
      "Enteropathogens associated with acute diarrhoeal diseases.\n",
      "Cryptosporidium parvum: household transmission.\n",
      "Chinese paralytic syndrome or acute motor axonal neuropathy.\n",
      "[Pathogenicity and virulence mechanisms described in thermo-resistant Campylobacter bacteria].\n",
      "Albendazole is highly effective against cutaneous larva migrans but not against Giardia infection: results of an open pilot trial in travellers returning from the tropics.\n",
      "[The diagnosis and epidemiological characteristics of rotavirus gastroenteritis in a region of the arid climatic zone].\n",
      "[The living and health conditions of Palestinian children].\n",
      "Campylobacter surveillance.\n",
      "Epidemiological and clinical characteristics of acute diarrhoea in children due to human rotavirus.\n",
      "Rotavirus surveillance and cluster detection.\n",
      "[Need for a new biochemical identification scheme for thermotolerant Campylobacter].\n",
      "[The annual and seasonal variation in the bacteria and rotaviruses implicated in the etiology of diarrheal diseases in children].\n",
      "Giardiasis, cryofibrinogenemia, and cold sensitivity: a response to metronidazole.\n",
      "Rotavirus surveillance.\n",
      "[Prevalence of protozoans in children with acute diarrheal disease].\n",
      "From the Centers for Disease Control. Rotavirus surveillance--United States, 1989-1990.\n",
      "Birds, milk, and Campylobacter.\n",
      "Sources and survival of campylobacters: relevance to enteritis and the food industry.\n",
      "Rotavirus specific breast milk antibody in two populations and possible correlates of protection.\n",
      "Campylobacter.\n",
      "[Electrophoretic heterogeneity of a population of rotaviruses isolated in Leningrad in the fall-winter season of 1986-1987].\n",
      "[The urease test for detecting Campylobacter pylori: which reactive milieu to choose? At what temperature?].\n",
      "Disease problems in the Third World.\n",
      "[The etiologic role of rotaviruses in intestinal pathology in adults and children].\n",
      "Rotavirus as a cause of diarrheal morbidity and mortality in the United States.\n",
      "The significance of wild birds (Larus sp.) in the epidemiology of Campylobacter infections in humans.\n",
      "[Campylobacter--a possible causative agent of diarrhea in children].\n",
      "Urease tests for Campylobacter pylori: care in interpretation.\n",
      "[Clinical observations of infants and children with rotavirus gastroenteritis in southern Taiwan].\n",
      "Campylobacter isolates in the United States, 1982-1986.\n",
      "Epidemiological and clinical study and electrophoretyping survey of rotavirus acute diarrhoea in a children's infectious disease unit in Casablanca, Morocco.\n",
      "Campylobacter pylori--acridine orange stain and ultraviolet fluorescence.\n",
      "Isolation of Campylobacter spp from the river Ganga in Varanasi.\n",
      "Rotavirus shown to be the main cause of acute childhood diarrhoea in a New Delhi hospital with a high prevalence in winter.\n",
      "[Comparison of basic media for the culture of thermophilic strains of the genus Campylobacter].\n",
      "[The inactivation of viruses in sewage sludge treatment].\n",
      "Cryptosporidiosis and routine parasitological diagnosis.\n",
      "Rotaviruses in infants with diarrhea studied by viral RNA electrophoresis in Ankara, Turkey.\n",
      "[Prevalence of enteropathogenic agents in the acute diarrheal syndrome in hospitalized and outpatient children].\n",
      "Research on Aeromonas and Plesiomonas. III. Enteric infections.\n",
      "Identification of human rotaviruses in stools from children with gastroenteritis.\n",
      "AIDS and Africa.\n",
      "[Effect of NaCl on the survival of Campylobacter jejuni at a temperature of 20 degrees Centigrade].\n",
      "Seasonal prevalence of Cryptosporidium associated diarrhoea in young children.\n",
      "[Hospital infection caused by rotaviruses in infants, Santiago, Chile].\n",
      "[Role of thermophilic strains of Campylobacter in infections of the digestive system].\n",
      "The Gambia and Bangladesh: the seasons and diarrhoea.\n",
      "[Acquired immunodeficiency syndrome (AIDS) in the African environment].\n",
      "Further study of the epidemiology of rotavirus infection in Tokyo.\n",
      "The relative importance of various enteropathogens as a cause of diarrhoea in hospitalized children in Chiang Mai, Thailand.\n",
      "Effect of simulated poor specimen handling on ELISA for rotavirus detection.\n",
      "Clinical profile of rotavirus enteritis in Ethiopian children.\n",
      "[Human rotavirus].\n",
      "Economic cultivation of \"thermophilic\" Campylobacter spp.\n",
      "[Seasonal distribution of Campylobacter jejuni and Campylobacter coli (1 September 1982--31 August 1983)].\n",
      "Campylobacter enteritis in British Columbia--a 30 month study.\n",
      "Serum antibodies to heat-labile enterotoxin of Campylobacter jejuni.\n",
      "Rotavirus & bacterial enteropathogens in acute diarrhoeas of young children in Bangalore.\n",
      "Dessication resistance in thermotolerant Campylobacter species.\n",
      "Acute enteritis associated with rotavirus presence in Brazilian children: evaluations on prevalence, therapy and age group.\n",
      "[Intestinal Campylobacter jejuni infection in Chilean infants].\n",
      "Urease-positive thermophilic campylobacters.\n",
      "[Campylobacter infections].\n",
      "A study of rotavirus diarrhoea in children in a north Indian community.\n",
      "Potential exposure of Utah Army National Guard personnel to giardiasis during field training exercises: a preliminary survey.\n",
      "Interventions for the control of diarrhoeal diseases among young children: rotavirus and cholera immunization.\n",
      "Occurrence & significance of Campylobacter jejuni in Calcutta.\n",
      "Age distribution and seasonal pattern of rotavirus infection in children in Kenya.\n",
      "[A clinical analysis of 88 cases of Campylobacter enteritis].\n",
      "Giardiasis--a recent investigation.\n",
      "Epidemiology of rotavirus infection in Tokyo during two winter seasons, as revealed by analyses of recovered viral RNA.\n",
      "Genetic probing of Campylobacter jejuni for cholera toxin and Escherichia coli heat-labile enterotoxin.\n",
      "[Epidemiology of rotavirus infections--a review].\n",
      "[Epidemiology of Rotavirus infections].\n",
      "The molecular epidemiology of rotavirus gastroenteritis.\n",
      "[Epidemiology of campylobacteriosis].\n",
      "Virological survey of children in Nyeri and Mombasa. Monthly survey of rotavirus in faeces.\n",
      "[Incidence and types of rotavirus in relation to the age of the patients and different times of the year].\n",
      "[Incidence of rotavirus infection in children hospitalized for acute diarrhea].\n",
      "Incidence of plasmid DNA in strains of Campylobacter jejuni isolated from stool specimens at 37 C and 43 C.\n",
      "[Incidence of viral particles in children with acute or protracted diarrhea, seen at the Hospital das Clinicas of the Faculdade de Medicina de Botucatu from February 1980 to February 1981].\n",
      "Intestinal occurrence of Campylobacter jejuni in a French hospitalized population.\n",
      "[Rotavirus infections--epidemiological aspects].\n",
      "Epidemiology of Campylobacter jejuni infections.\n",
      "Etiological agents responsible for acute diarrhea in children in an urban community in Burma.\n",
      "[Studies on the etiology of autumnal acute gastroenteritis in Kunming. II. Determination of rotavirus by an enzyme-linked immunosorbent assay].\n",
      "[Studies on the etiology of automnal acute gastroenteritis in Kunming. I. A preliminary report on the detection of rotavirus].\n",
      "Study of rotavirus diarrhea in a north Indian community.\n",
      "[Epidemic of acute gastroenteritis due to rotavirus in Lianyungang City].\n",
      "Isolation and genetic characterization of temperature-sensitive mutants of simian rotavirus SA11.\n",
      "[Intestinal biopsies and giardiasis in pediatrics (author's transl)].\n",
      "[Familial giardiasis: clinical and epidemiological study beginning with index cases].\n",
      "[Fecal detection of rotavirus and other enteropathogens in infants less than a year old, with acute diarrhea].\n",
      "[Detection of rotavirus in hospitalized and ambulatory infants with acute diarrhea in Santiago de Chile].\n",
      "[Epidemiological characteristics of Campylobacter infection].\n",
      "Rotavirus detection for the routine laboratory.\n",
      "Further studies on the etiology of autumn infant gastroenteritis.\n",
      "[Further studies on the etiology of autumnal infantile gastroenteritis (author's transl)].\n",
      "[Rotavirus gastroenteritis in children (a review of the literature)].\n",
      "Inability of an lodination Method to Destroy Completely Giardia Cysts in Cold Water.\n",
      "A human strain of Campylobacter fetus subsp. intestinalis grown at 42 degrees C.\n",
      "A human strain of Campylobacter fetus subsp. intestinalis grown at 42 degrees C.\n",
      "[Rotavirus infections in the province of Ancona. Sero-epidemiological studies].\n",
      "[Microbial infections of the small and large intestine].\n",
      "Resistance of Giardia cysts to physical and chemical agents.\n",
      "Rotavirus infection in young Gambian village children.\n",
      "[\"Indigestion\" in infants mostly virus infections].\n",
      "[Rotavirus gastro-enteritis in infants].\n",
      "[Epidemiological and clinical significance of rotoviruses].\n",
      "Viral gastroenteritis in children.\n",
      "Environmental isolation of heat-tolerant Campylobacter in the Southampton area.\n",
      "[Medical aspects of work in tropical countries].\n",
      "Comments on the pathogenesis of rotaviral infections.\n",
      "A clinical study of rotavirus gastroenteritis.\n",
      "[Lambliasis. Pathogenicity, clinical picture, diagnosis and therapy].\n",
      "Letter: Giardiasis in a refugee from Darwin.\n",
      "Problems in the shipment of fecal samples. Comparative studies on the efficacy of Stuart's transport medium and liquid nitrogen as the means of preserving enteropathogens.\n",
      "Evaluation of plating media and temperature parameters in the isolation of selected enteric pathogens.\n",
      "Acute enteritis due to related vibrio: first positive stool cultures.\n",
      "[Intestinal parasites in citizens of the GDR travelling abroad].\n",
      "[Giardiasis in hospitalized patients in the light of laboratory data].\n",
      "[Examination of persons returning from the tropics for intestinal parasites].\n",
      "PARASITOLOGIC SURVEYS IN CALI, DEPARTAMENTO DEL VALLE, COLOMBIA. XI. INTESTINAL PARASITES IN WARD SILO'E, CALI, DURING A FOUR-YEAR PERIOD 1956--1960.\n",
      "[OBSERVATIONS ABOUT ASCARIASIS IN 2 NEARBY TOWNS].\n",
      "A methodology for environmental and occupational cancer surveys.\n"
     ]
    }
   ],
   "source": [
    "for title in tidy.return_missing_abstracts()['title']:\n",
    "    print(title)"
   ]
  },
  {
   "cell_type": "code",
   "execution_count": 48,
   "id": "0b178839-e6e9-4051-81de-d55fd08c0b11",
   "metadata": {},
   "outputs": [
    {
     "name": "stderr",
     "output_type": "stream",
     "text": [
      "/var/folders/7r/f1h2yj0s3779qbgqnqntmhgc0000gn/T/ipykernel_6407/628146192.py:24: DeprecationWarning: DataFrameGroupBy.apply operated on the grouping columns. This behavior is deprecated, and in a future version of pandas the grouping columns will be excluded from the operation. Either pass `include_groups=False` to exclude the groupings or explicitly select the grouping columns after groupby to silence this warning.\n",
      "  resolved_ris = self.ris.groupby(['title', 'authors'], group_keys=False).apply(self.resolve_duplicates)\n"
     ]
    }
   ],
   "source": [
    "tidy_ris = tidy.return_tidy_bib()"
   ]
  },
  {
   "cell_type": "code",
   "execution_count": 49,
   "id": "2cca6d7f-7503-4259-8f58-dcc9bd013062",
   "metadata": {},
   "outputs": [
    {
     "data": {
      "text/plain": [
       "6662"
      ]
     },
     "execution_count": 49,
     "metadata": {},
     "output_type": "execute_result"
    }
   ],
   "source": [
    "len(tidy_ris)"
   ]
  },
  {
   "cell_type": "code",
   "execution_count": 51,
   "id": "5f4f352b-499f-437c-a1af-dfd9b1ea521e",
   "metadata": {},
   "outputs": [],
   "source": [
    "tidy_ris.to_csv('bib/pubmed-9NOTanimal-set 2-ready-for-ASReview.csv')"
   ]
  },
  {
   "cell_type": "code",
   "execution_count": null,
   "id": "dd636445-bd0c-48b6-82e8-b1b040374fc7",
   "metadata": {},
   "outputs": [],
   "source": []
  }
 ],
 "metadata": {
  "kernelspec": {
   "display_name": "asreview",
   "language": "python",
   "name": "asreview"
  },
  "language_info": {
   "codemirror_mode": {
    "name": "ipython",
    "version": 3
   },
   "file_extension": ".py",
   "mimetype": "text/x-python",
   "name": "python",
   "nbconvert_exporter": "python",
   "pygments_lexer": "ipython3",
   "version": "3.12.0"
  }
 },
 "nbformat": 4,
 "nbformat_minor": 5
}
