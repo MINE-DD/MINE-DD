{
 "cells": [
  {
   "cell_type": "markdown",
   "id": "d55ea1e0-d6cd-436a-ba93-00ac1273ee63",
   "metadata": {},
   "source": [
    "# Parse RIS files into a data table"
   ]
  },
  {
   "cell_type": "markdown",
   "id": "4720ef84-9d9d-4f9d-a6a3-246722943ea1",
   "metadata": {},
   "source": [
    "This notebook is a proof of concept to create a functionality to parse RIS files into a data table useful for ASReview"
   ]
  },
  {
   "cell_type": "code",
   "execution_count": 55,
   "id": "1dff6905-dc90-4d16-9b31-b04d6b3852f9",
   "metadata": {},
   "outputs": [],
   "source": [
    "import pandas as pd\n",
    "import rispy\n",
    "import os"
   ]
  },
  {
   "cell_type": "code",
   "execution_count": 51,
   "id": "7ce031e8-a031-4adb-9d36-4ead16537254",
   "metadata": {},
   "outputs": [],
   "source": [
    "filepath = 'test/bib_zotero.ris'"
   ]
  },
  {
   "cell_type": "code",
   "execution_count": 56,
   "id": "5f38f331-37f3-4928-974d-278cc4bda5de",
   "metadata": {},
   "outputs": [
    {
     "name": "stdout",
     "output_type": "stream",
     "text": [
      "Associations Between Eight Earth Observation‐Derived Climate Variables and Enteropathogen Infection: An Independent Participant Data Meta‐Analysis of Surveillance Studies With Broad Spectrum Nucleic Acid Diagnostics\n",
      "Use of earth observation-derived hydrometeorological variables to model and predict rotavirus infection (MAL-ED): a multisite cohort study\n",
      "Seasonality and the effects of weather on Campylobacter infections\n",
      "The seasonality of diarrheal pathogens: A retrospective study of seven sites over three years\n",
      "The effects of ambient temperature and heatwaves on daily <i>Campylobacter</i> cases in Adelaide, Australia, 1990–2012\n",
      "Climate variability and campylobacter infection: an international study\n",
      "Potential impact of macroclimatic variability on the epidemiology of giardiasis in three provinces of Cuba, 2010–2012\n",
      "The Influence of Climate and Livestock Reservoirs on Human Cases of Giardiasis\n",
      "Temperature-dependent transmission of rotavirus in Great Britain and The Netherlands\n",
      "Determinants of Rotavirus Transmission: A Lag Nonlinear Time Series Analysis\n",
      "Influence of weather and climate on cryptosporidiosis—A review\n"
     ]
    }
   ],
   "source": [
    "with open(filepath, 'r') as bibliography_file:\n",
    "    entries = rispy.load(bibliography_file)\n",
    "    for entry in entries:\n",
    "        print(entry['title'])\n",
    "        "
   ]
  },
  {
   "cell_type": "code",
   "execution_count": null,
   "id": "b7020d3c-0db4-4871-b4ac-929b1817683f",
   "metadata": {},
   "outputs": [],
   "source": []
  }
 ],
 "metadata": {
  "kernelspec": {
   "display_name": "minedd",
   "language": "python",
   "name": "minedd"
  },
  "language_info": {
   "codemirror_mode": {
    "name": "ipython",
    "version": 3
   },
   "file_extension": ".py",
   "mimetype": "text/x-python",
   "name": "python",
   "nbconvert_exporter": "python",
   "pygments_lexer": "ipython3",
   "version": "3.12.0"
  }
 },
 "nbformat": 4,
 "nbformat_minor": 5
}
