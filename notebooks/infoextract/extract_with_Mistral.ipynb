{
 "cells": [
  {
   "cell_type": "markdown",
   "id": "b9aeef9a-43a9-4ce9-abd6-c85a94c383a9",
   "metadata": {},
   "source": [
    "# use Mistral-large-latest to get structured JSON output"
   ]
  },
  {
   "cell_type": "markdown",
   "id": "06487d56-3c2b-420b-829b-86d4c25e744a",
   "metadata": {},
   "source": [
    "This is a proof of concept that uses Mistral to extract information and return it into a JSON pre-defined schema"
   ]
  },
  {
   "cell_type": "code",
   "execution_count": 1,
   "id": "c8dc1433-5ea3-4877-bf21-bb6888153855",
   "metadata": {},
   "outputs": [
    {
     "name": "stdin",
     "output_type": "stream",
     "text": [
      " ········\n"
     ]
    }
   ],
   "source": [
    "import getpass\n",
    "import os\n",
    "\n",
    "os.environ[\"MISTRAL_API_KEY\"] = getpass.getpass()\n",
    "\n",
    "from langchain_mistralai import ChatMistralAI\n",
    "\n",
    "llm = ChatMistralAI(model=\"mistral-large-latest\")"
   ]
  },
  {
   "cell_type": "markdown",
   "id": "f63a7ae7-d366-4a14-b932-c2928d6f7245",
   "metadata": {},
   "source": [
    "# 1. set up pydantic pre-defined model"
   ]
  },
  {
   "cell_type": "code",
   "execution_count": 10,
   "id": "551fd60e-fae9-4383-b4ae-465139c738d5",
   "metadata": {},
   "outputs": [],
   "source": [
    "from pydantic import BaseModel, Field\n",
    "import os\n",
    "from pathlib import Path\n",
    "import json"
   ]
  },
  {
   "cell_type": "code",
   "execution_count": 11,
   "id": "ad099c99-b1c6-4989-8fb0-bb91fb8c482e",
   "metadata": {},
   "outputs": [],
   "source": [
    "class Measurement(BaseModel):\n",
    "    measurement_type: str = Field(\n",
    "        description=\"The type of measurement (e.g., Relative Humidity, Specific Humidity).\"\n",
    "    )\n",
    "    description: str = Field(\n",
    "        description=\"Description of how the measurement is computed or estimated.\"\n",
    "    )\n",
    "    formula: list[str] | None = Field(\n",
    "        description=\"Formula(s) used for computation, if applicable.\"\n",
    "    )\n",
    "    variables: list[str] | None = Field(\n",
    "        description=\"Variables used in the formulas.\"\n",
    "    )\n",
    "    notes: str | None = Field(\n",
    "        description=\"Additional notes about the measurement, such as handling of missing data.\"\n",
    "    )\n",
    "\n",
    "class WeatherData(BaseModel):\n",
    "    time_period: str | None = Field(\n",
    "        description='Time in which weather data was collected, or time window in which environmental variables were monitored',\n",
    "        examples=['Precipitation was collected during the monsoon season', 'monthly weather data were monitored between 2001 and 2012']\n",
    "    )\n",
    "    details: list[str] | None = Field(\n",
    "        description='Any sentence from the paper describing any info related to weather data that cannot be captured well in the above fields',\n",
    "        examples='Precipitations in Bangladesh were scarse during the 2005 fall'\n",
    "    )\n",
    "    measurement: list[Measurement] = Field(\n",
    "        description=\"List of different measurements and methodologies used in the study.\"\n",
    "    )\n",
    "    \n",
    "#%%\n",
    "class Methodology(BaseModel):\n",
    "    name: str | None = Field(\n",
    "        description='Name of the methodology used',\n",
    "        examples=['t-test', 'signal processing']\n",
    "    )\n",
    "    description: str | None = Field(\n",
    "        description='Literal text, Description of the methodology'\n",
    "    )\n",
    "    methods: list[str] | None = Field(\n",
    "        description='Specific methods or techniques used within the methodology',\n",
    "        examples='Fast fourier transformation'\n",
    "    )\n",
    "    goals: list[str] | None = Field(\n",
    "        description='Goals or purposes of using the methodology'\n",
    "    )\n",
    "\n",
    "class StudyScope(BaseModel):\n",
    "    study_sites: list[str] | None = Field(\n",
    "        description='sites studied and mentioned in the paper',\n",
    "        examples=['The Gambia', 'Mali']\n",
    "    ),\n",
    "    description: list[str] | None = Field(\n",
    "        description='Sites/setting description in sentences which not necessarily contain the name of the site',\n",
    "        examples='resource limited setting'\n",
    "    ),\n",
    "    locations: list[str] = Field(\n",
    "        description='Names of the actual locations'\n",
    "    )\n",
    "\n",
    "\n",
    "class StudyDuration(BaseModel):\n",
    "    duration: str | None = Field(\n",
    "        description='The duration of the study described in the paper',\n",
    "        examples=['three years', '6 months', 'the study ran over 10 years']\n",
    "    )\n",
    "    details: list[str] | None  = Field(\n",
    "        description='Actual sentences whereby the duration is mentioned. It is possible in this field to have multiple durations mentioned'\n",
    "    )\n",
    "\n",
    "class ParticipantAgeGroup(BaseModel):\n",
    "    age_range: str | None = Field(\n",
    "        description='Age range of the population described in the paper. If there is no range, also age in months/years is fine',\n",
    "        examples=['36 months old', 'children younger than five years of age']\n",
    "    )\n",
    "    details: list[str] | None = Field(\n",
    "        description='Any descriptive sentence that details who the participants were, how old they were and any other information that relates to them',\n",
    "        examples=['Children 0–59 months of age with moderate-to-severe diarrhea (MSD)', 'Only the first 8–9 children in each age strata (0–11 months, 12–23 months, 24–59 months) were recruited']\n",
    "    )\n",
    "\n",
    "\n",
    "\n",
    "\n",
    "class Bibliography(BaseModel):\n",
    "    article_type: str | None = Field(\n",
    "        description='Article type', \n",
    "        examples=['Research article', ' meta-analysis', 'review', 'opinion paper']\n",
    "    )\n",
    "    study_type: str | None = Field(\n",
    "        description='Type of study',\n",
    "        examples=['retrospective study']\n",
    "    )\n",
    "    title: str = Field(\n",
    "        description='Title of the paper'\n",
    "    )\n",
    "    study_scope: StudyScope = []\n",
    "    methodology: list[Methodology] = []\n",
    "    study_duration: StudyDuration = [] \n",
    "    participant_age_group: ParticipantAgeGroup = []\n",
    "    weather_data: WeatherData = [] \n",
    "    data_collection: str = Field(\n",
    "        description='When data was collected?',\n",
    "        examples=['during 2008 to 2011']\n",
    "    )\n",
    "    authors: str = Field(\n",
    "        description='Authors of the paper. Usually listed below the title in the first page of the paper',\n",
    "        examples=['Roose, A., Washington, D., Aniston, J.A.']\n",
    "    )\n",
    "    affiliation: str = Field(\n",
    "        description='Affiliations of the authors listed in the authors field',\n",
    "        examples=['Institute for Disease Modeling, Bellevue, Washington', 'International School for Advanced Studies, Trieste, Italy']\n",
    "    )\n",
    "    citation: str | None = Field(\n",
    "        description='Citation of the paper which typically includes the first author surname followed by et al., and the year of publication along with the name of the journal',\n",
    "        examples=['Roose et al., 2008, BMJ']\n",
    "    )\n",
    "    corresponding_author: str = Field(\n",
    "        description='Author that has made available their email for further contact',\n",
    "        examples=['r.roosevelt@gmail.com']\n",
    "    )\n",
    "    doi: str | None \n",
    "    date: str = Field(\n",
    "        description='Date in which the paper has been published comprising typically day, month and year',\n",
    "        examples=['06-08-2013']\n",
    "    )\n",
    "    github_repo: str | None = Field(\n",
    "        description='Github repository where code and data are available.',\n",
    "        examples='https://github.com/papermanuscript/main'\n",
    "    )\n",
    "    journal: str = Field(\n",
    "        description='Name of the journal in which the paper has been published, tipically listed in the front page, nearby the title',\n",
    "        examples= 'PLoS Negl Trop Dis'\n",
    "    )"
   ]
  },
  {
   "cell_type": "markdown",
   "id": "70a89cc7-8ca1-46e7-bf05-fc718ec6f084",
   "metadata": {},
   "source": [
    "# 2. parse the model with pydantic"
   ]
  },
  {
   "cell_type": "code",
   "execution_count": 12,
   "id": "3c6c5e42-ca5c-456a-b5c5-3e54a9b1456c",
   "metadata": {},
   "outputs": [],
   "source": [
    "from langchain_core.output_parsers import PydanticOutputParser\n",
    "from langchain_core.prompts import ChatPromptTemplate"
   ]
  },
  {
   "cell_type": "code",
   "execution_count": 13,
   "id": "dd59012c-3099-4361-8d52-50f9512f30fb",
   "metadata": {},
   "outputs": [],
   "source": [
    "parser = PydanticOutputParser(pydantic_object=Bibliography)"
   ]
  },
  {
   "cell_type": "code",
   "execution_count": 14,
   "id": "661b6241-b686-442e-8587-eee207e0a632",
   "metadata": {},
   "outputs": [
    {
     "name": "stderr",
     "output_type": "stream",
     "text": [
      "/Users/evaviviani/opt/anaconda3/envs/minedd/lib/python3.12/site-packages/pydantic/json_schema.py:2179: PydanticJsonSchemaWarning: Default value (FieldInfo(annotation=NoneType, required=True, description='sites studied and mentioned in the paper', examples=['The Gambia', 'Mali']),) is not JSON serializable; excluding default from JSON schema [non-serializable-default]\n",
      "  warnings.warn(message, PydanticJsonSchemaWarning)\n",
      "/Users/evaviviani/opt/anaconda3/envs/minedd/lib/python3.12/site-packages/pydantic/json_schema.py:2179: PydanticJsonSchemaWarning: Default value (FieldInfo(annotation=NoneType, required=True, description='Sites/setting description in sentences which not necessarily contain the name of the site', examples='resource limited setting'),) is not JSON serializable; excluding default from JSON schema [non-serializable-default]\n",
      "  warnings.warn(message, PydanticJsonSchemaWarning)\n"
     ]
    }
   ],
   "source": [
    "# Prompt\n",
    "prompt = ChatPromptTemplate.from_messages(\n",
    "    [\n",
    "        (\n",
    "            \"system\",\n",
    "            \"Answer the user query. Wrap the output in `json` tags\\n{format_instructions}\",\n",
    "        ),\n",
    "        (\"human\", \"{query}\"),\n",
    "    ]\n",
    ").partial(format_instructions=parser.get_format_instructions())"
   ]
  },
  {
   "cell_type": "code",
   "execution_count": 15,
   "id": "85bfdcf1-4f25-4c87-afd6-9ae077c5caf0",
   "metadata": {},
   "outputs": [],
   "source": [
    "prompt_query = (f\"You are provided with an excerpt of a text: 'Weather and notified Campylobacter infections in temperate  and sub-tropical regions of Australia  Abstract  Background   The relationship between weather and food-borne diseases has been of great concern  recently. However, the impact of weather variations on food-borne disease may vary in  different areas with various geographic, weather and demographic characteristics. This  study was designed to quantify the relationship between weather variables and  Campylobacter infections in two Australian cities with different local climatic conditions.  Methods   An ecological-epidemiological study was conducted, using weekly disease surveillance  data and meteorological data, over the period 1990-2005, to quantify the relationship  between maximum and minimum temperature, rainfall, relative humidity and  notifications of Campylobacter infections in Adelaide, with a temperate Mediterranean  climate, and Brisbane, with a sub-tropical climate. Spearman correlation and time-series  adjusted Poisson regression analyses were performed taking into account seasonality, lag  effects and long-term trends.   Results   The results indicate that weekly maximum and minimum temperatures were inversely  associated with the weekly number of cases in Adelaide, but positively correlated with  the number of cases in Brisbane, with relevant lagged effects. The effects of rainfall and  relative humidity on Campylobacter infection rates varied in the two cities.'\")"
   ]
  },
  {
   "cell_type": "code",
   "execution_count": 16,
   "id": "1723d1ca-9f9c-48a2-a185-5008b2185b2d",
   "metadata": {},
   "outputs": [],
   "source": [
    "# this is a bit silly but I prefer to keep it so that I can trace back the initial example by googling the code ;)\n",
    "query = prompt_query"
   ]
  },
  {
   "cell_type": "markdown",
   "id": "2492f5df-c35d-4a54-93df-a6aecbe4fc6d",
   "metadata": {},
   "source": [
    "To get the output we can build a 'chain' in which the output gets wrapped in a more consistent way, so that it's easier to save. Unfortunately though the output (while still a json) it's not really readable? we must use a function to parse it into a json indentation"
   ]
  },
  {
   "cell_type": "code",
   "execution_count": 17,
   "id": "c5387229-9362-4001-82e1-1ec2c220948a",
   "metadata": {},
   "outputs": [
    {
     "data": {
      "text/plain": [
       "Bibliography(article_type='Research article', study_type='ecological-epidemiological study', title='Weather and notified Campylobacter infections in temperate and sub-tropical regions of Australia', study_scope=StudyScope(study_sites=['Adelaide', 'Brisbane'], description=['Adelaide, with a temperate Mediterranean climate', 'Brisbane, with a sub-tropical climate'], locations=['Adelaide', 'Brisbane']), methodology=[Methodology(name='Spearman correlation and time-series adjusted Poisson regression analyses', description='An ecological-epidemiological study was conducted, using weekly disease surveillance data and meteorological data, over the period 1990-2005, to quantify the relationship between maximum and minimum temperature, rainfall, relative humidity and notifications of Campylobacter infections.', methods=['Spearman correlation', 'time-series adjusted Poisson regression analyses'], goals=['Quantify the relationship between weather variables and Campylobacter infections', 'Account for seasonality, lag effects and long-term trends'])], study_duration=StudyDuration(duration='1990-2005', details=['The study was conducted over the period 1990-2005']), participant_age_group=ParticipantAgeGroup(age_range=None, details=None), weather_data=WeatherData(time_period='1990-2005', details=['Weekly disease surveillance data and meteorological data were used', 'Maximum and minimum temperature, rainfall, relative humidity were monitored'], measurement=[Measurement(measurement_type='Temperature', description='Maximum and minimum temperature data', formula=None, variables=['maximum temperature', 'minimum temperature'], notes=None), Measurement(measurement_type='Rainfall', description='Rainfall data', formula=None, variables=['rainfall'], notes=None), Measurement(measurement_type='Relative Humidity', description='Relative humidity data', formula=None, variables=['relative humidity'], notes=None)]), data_collection='1990-2005', authors='Not provided', affiliation='Not provided', citation='Not provided', corresponding_author='Not provided', doi='Not provided', date='Not provided', github_repo='Not provided', journal='Not provided')"
      ]
     },
     "execution_count": 17,
     "metadata": {},
     "output_type": "execute_result"
    }
   ],
   "source": [
    "chain = prompt | llm | parser\n",
    "\n",
    "chain.invoke({\"query\": prompt_query})"
   ]
  },
  {
   "cell_type": "markdown",
   "id": "2c8f63e3-44c3-48d6-adb3-fabfa10fe6ed",
   "metadata": {},
   "source": [
    "# 3. parse output into a human-readable json"
   ]
  },
  {
   "cell_type": "code",
   "execution_count": 18,
   "id": "b326d775-1c24-42fe-9af2-48577ecbc43d",
   "metadata": {},
   "outputs": [],
   "source": [
    "from langchain_core.messages import AIMessage\n",
    "from typing import List\n",
    "import re\n",
    "\n",
    "def extract_json(message: AIMessage) -> List[dict]:\n",
    "    \"\"\"Extracts JSON content from a string where JSON is embedded between ```json and ``` tags.\n",
    "\n",
    "    Parameters:\n",
    "        text (str): The text containing the JSON content.\n",
    "\n",
    "    Returns:\n",
    "        list: A list of extracted JSON strings.\n",
    "    \"\"\"\n",
    "    text = message.content\n",
    "    # Define the regular expression pattern to match JSON blocks\n",
    "    pattern = r\"```json(.*?)```\"\n",
    "\n",
    "    # Find all non-overlapping matches of the pattern in the string\n",
    "    matches = re.findall(pattern, text, re.DOTALL)\n",
    "\n",
    "    # Return the list of matched JSON strings, stripping any leading or trailing whitespace\n",
    "    try:\n",
    "        return [json.loads(match.strip()) for match in matches]\n",
    "    except Exception:\n",
    "        raise ValueError(f\"Failed to parse: {message}\")"
   ]
  },
  {
   "cell_type": "code",
   "execution_count": 19,
   "id": "196a689f-77af-466a-9ab8-6dbd03c4f169",
   "metadata": {},
   "outputs": [
    {
     "data": {
      "text/plain": [
       "[{'article_type': 'Research article',\n",
       "  'study_type': 'ecological-epidemiological study',\n",
       "  'title': 'Weather and notified Campylobacter infections in temperate and sub-tropical regions of Australia',\n",
       "  'study_scope': {'study_sites': ['Adelaide', 'Brisbane'],\n",
       "   'description': ['Adelaide, with a temperate Mediterranean climate',\n",
       "    'Brisbane, with a sub-tropical climate'],\n",
       "   'locations': ['Adelaide', 'Brisbane']},\n",
       "  'methodology': [{'name': 'Spearman correlation',\n",
       "    'description': 'Spearman correlation analysis was performed.',\n",
       "    'methods': ['Spearman correlation'],\n",
       "    'goals': ['Quantify the relationship between weather variables and Campylobacter infections']},\n",
       "   {'name': 'Time-series adjusted Poisson regression',\n",
       "    'description': 'Time-series adjusted Poisson regression analysis was performed.',\n",
       "    'methods': ['Time-series adjusted Poisson regression'],\n",
       "    'goals': ['Quantify the relationship between weather variables and Campylobacter infections']}],\n",
       "  'study_duration': {'duration': '1990-2005',\n",
       "   'details': ['The study was conducted over the period 1990-2005']},\n",
       "  'participant_age_group': {'age_range': None, 'details': None},\n",
       "  'weather_data': {'time_period': '1990-2005',\n",
       "   'details': ['Weekly disease surveillance data and meteorological data were used'],\n",
       "   'measurement': [{'measurement_type': 'Maximum Temperature',\n",
       "     'description': 'Maximum temperature data collected',\n",
       "     'formula': None,\n",
       "     'variables': None,\n",
       "     'notes': None},\n",
       "    {'measurement_type': 'Minimum Temperature',\n",
       "     'description': 'Minimum temperature data collected',\n",
       "     'formula': None,\n",
       "     'variables': None,\n",
       "     'notes': None},\n",
       "    {'measurement_type': 'Rainfall',\n",
       "     'description': 'Rainfall data collected',\n",
       "     'formula': None,\n",
       "     'variables': None,\n",
       "     'notes': None},\n",
       "    {'measurement_type': 'Relative Humidity',\n",
       "     'description': 'Relative humidity data collected',\n",
       "     'formula': None,\n",
       "     'variables': None,\n",
       "     'notes': None}]},\n",
       "  'data_collection': '1990-2005',\n",
       "  'authors': 'Not specified',\n",
       "  'affiliation': 'Not specified',\n",
       "  'citation': 'Not specified',\n",
       "  'corresponding_author': 'Not specified',\n",
       "  'doi': None,\n",
       "  'date': 'Not specified',\n",
       "  'github_repo': None,\n",
       "  'journal': 'Not specified'}]"
      ]
     },
     "execution_count": 19,
     "metadata": {},
     "output_type": "execute_result"
    }
   ],
   "source": [
    "chain2 = prompt | llm | extract_json\n",
    "\n",
    "chain2.invoke({\"query\": prompt_query})"
   ]
  },
  {
   "cell_type": "code",
   "execution_count": null,
   "id": "865f65cc-76b0-488a-bac6-32ec8380b2d0",
   "metadata": {},
   "outputs": [],
   "source": []
  }
 ],
 "metadata": {
  "kernelspec": {
   "display_name": "minedd",
   "language": "python",
   "name": "minedd"
  },
  "language_info": {
   "codemirror_mode": {
    "name": "ipython",
    "version": 3
   },
   "file_extension": ".py",
   "mimetype": "text/x-python",
   "name": "python",
   "nbconvert_exporter": "python",
   "pygments_lexer": "ipython3",
   "version": "3.12.0"
  }
 },
 "nbformat": 4,
 "nbformat_minor": 5
}
