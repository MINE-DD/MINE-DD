{
 "cells": [
  {
   "cell_type": "markdown",
   "id": "da741be0-dd5e-42c0-a146-ace39aec1c61",
   "metadata": {},
   "source": [
    "# Notebook that shows how to parse documents with llamaparse"
   ]
  },
  {
   "cell_type": "code",
   "execution_count": null,
   "id": "f43cb79a-d9f0-4830-ba64-97f28fb5167f",
   "metadata": {},
   "outputs": [],
   "source": [
    "import nest_asyncio\n",
    "nest_asyncio.apply()"
   ]
  },
  {
   "cell_type": "code",
   "execution_count": 2,
   "id": "968a7a58-63c8-489c-841f-cc8c61b53f0f",
   "metadata": {},
   "outputs": [],
   "source": [
    "import os\n",
    "os.environ[\"LLAMA_CLOUD_API_KEY\"] = \"llx-K7y7ntrSVtT5YNg2FynQvZTtsdor8EkJTUCzmia1G7T5A5Gb\""
   ]
  },
  {
   "cell_type": "code",
   "execution_count": 3,
   "id": "b6a7e49e-3321-4dd0-b33a-d3f30362f1ef",
   "metadata": {},
   "outputs": [],
   "source": [
    "from llama_parse import LlamaParse"
   ]
  },
  {
   "cell_type": "code",
   "execution_count": 29,
   "id": "6421b929-1ab0-495b-8971-c1bc77279b07",
   "metadata": {},
   "outputs": [
    {
     "name": "stdout",
     "output_type": "stream",
     "text": [
      "Started parsing the file under job_id 1adf4d72-51f1-47a8-bcd4-765001c141cd\n"
     ]
    }
   ],
   "source": [
    "document_with_instruction = LlamaParse(\n",
    "    result_type=\"markdown\",\n",
    "    language='en',\n",
    "    parsing_instruction= \"\"\"\n",
    "    This is a research paper. \n",
    "    \"\"\").load_data(\"test-papers/highlighted pdf_vch.pdf\")"
   ]
  },
  {
   "cell_type": "code",
   "execution_count": 33,
   "id": "cc5028ce-77c8-49d5-989a-6413b5d4e4a8",
   "metadata": {},
   "outputs": [],
   "source": [
    "file_name = \"test-papers/txt/highlighted-paper-with-instr-table.md\"\n",
    "with open(file_name, 'w') as file:\n",
    "    file.write(document_with_instruction[6].text)"
   ]
  }
 ],
 "metadata": {
  "kernelspec": {
   "display_name": "Python 3 (ipykernel)",
   "language": "python",
   "name": "python3"
  },
  "language_info": {
   "codemirror_mode": {
    "name": "ipython",
    "version": 3
   },
   "file_extension": ".py",
   "mimetype": "text/x-python",
   "name": "python",
   "nbconvert_exporter": "python",
   "pygments_lexer": "ipython3",
   "version": "3.12.0"
  }
 },
 "nbformat": 4,
 "nbformat_minor": 5
}
