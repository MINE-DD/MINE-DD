{
 "cells": [
  {
   "cell_type": "markdown",
   "id": "0636b2a6-44dd-4639-aba7-8303f24f5fde",
   "metadata": {},
   "source": [
    "# Information extraction with llama-parse + Mistral"
   ]
  },
  {
   "cell_type": "markdown",
   "id": "a437f125-cad2-4ba1-b692-4648d4e8ad09",
   "metadata": {},
   "source": [
    "In this notebook, we are going to extract information from some pages of a paper. Relevant information that needs to be extracted has been annotated by our LA.\n",
    "\n",
    "We are going to focus on page 1, 3, 4 and 5.\n",
    "\n",
    "- Page 0: contains all relevant info re- authors, title and journal + abstract in a text format\n",
    "- Page 2: is dense of information relevant for the LA in a text format\n",
    "- Page 3: there is a mix of text and a table\n",
    "- Page 4: there is a mix of text and an image (which contains text)"
   ]
  },
  {
   "cell_type": "markdown",
   "id": "7d77fbb9-dad5-4630-8a5a-f9dd579552c3",
   "metadata": {},
   "source": [
    "### Step 1. We use llama_parse to extract those pages and get it into `md` format."
   ]
  },
  {
   "cell_type": "markdown",
   "id": "e9f55455-6bb7-4b23-ae28-6312d03f6e1c",
   "metadata": {},
   "source": [
    "I choose this format because a human can read it easily, and it is conservative re- formulas and tables structure as opposed to `txt`"
   ]
  },
  {
   "cell_type": "code",
   "execution_count": 2,
   "id": "f362956e-f4c0-4e53-b2e0-0950f2615f79",
   "metadata": {},
   "outputs": [],
   "source": [
    "# this bit of code is important to run in a notebook because of the nature of llama_parse -- more on this in their documentation (it was too technical for me)\n",
    "import nest_asyncio\n",
    "nest_asyncio.apply()"
   ]
  },
  {
   "cell_type": "code",
   "execution_count": 3,
   "id": "b660e448-4b75-4e47-bc3a-722e4049ab56",
   "metadata": {},
   "outputs": [],
   "source": [
    "# set-up your API key -- you can have it for free via llamaCloud\n",
    "import os\n",
    "os.environ[\"LLAMA_CLOUD_API_KEY\"] = \"llx-..\""
   ]
  },
  {
   "cell_type": "code",
   "execution_count": 41,
   "id": "1e6c5e82-63bf-4a17-8162-d07caaba921e",
   "metadata": {},
   "outputs": [
    {
     "name": "stdout",
     "output_type": "stream",
     "text": [
      "Started parsing the file under job_id 13d4eaeb-e054-43d3-9a76-07b1a591e1f6\n"
     ]
    }
   ],
   "source": [
    "from llama_parse import LlamaParse\n",
    "\n",
    "document_with_instruction = LlamaParse(\n",
    "    result_type=\"markdown\", # set the output format\n",
    "    language='en', # set the language -- this is useful only for tables and figures\n",
    "    target_pages=\"0,2,3,4\", # pages that we want to extract\n",
    "    # below you can set-up some prompts. I found that performance improves for reporting formulas and tables\n",
    "    # if the instructions report that this is indeed a research paper\n",
    "    parsing_instruction= \"\"\" \n",
    "    This is a research paper. \n",
    "    \"\"\").load_data(\"test-papers/highlighted pdf_vch.pdf\")"
   ]
  },
  {
   "cell_type": "markdown",
   "id": "bdfe7b37-1aa2-4905-afbe-e3585337cbba",
   "metadata": {},
   "source": [
    "Take a look at the result:"
   ]
  },
  {
   "cell_type": "code",
   "execution_count": 38,
   "id": "a99e6cab-dcdb-4bf3-95ba-c91cc14e1fec",
   "metadata": {},
   "outputs": [
    {
     "name": "stdout",
     "output_type": "stream",
     "text": [
      "# The Seasonality of Diarrheal Pathogens: A Retrospective Study\n",
      "\n",
      "#\n",
      "# The Seasonality of Diarrheal Pathogens: A Retrospective Study of Seven Sites Over Three Years\n",
      "\n",
      "Authors: Dennis L. Chao1*, Anna Roose2, Min Roh1, Karen L. Kotloff2, Joshua L. Proctor1\n",
      "\n",
      "1Institute for Disease Modeling, Bellevue, Washington, United States of America\n",
      "\n",
      "2Center for Vaccine Development and Global Health, University of Maryland, Baltimore, Maryland, United States of America\n",
      "\n",
      "Email: dennisc@idmod.org\n",
      "\n",
      "# Abstract\n",
      "\n",
      "This is a research article that investigates the seasonal prevalence of diarrheal pathogens among children with moderate-to-severe diarrhea (MSD) over three years from seven sites of the Global Enteric Multicenter Study (GEMS). The study characterizes the seasonality of different pathogens, their association with site-specific weather patterns, and consistency across study sites.\n",
      "\n",
      "# Background\n",
      "\n",
      "Pediatric diarrhea can be caused by a wide variety of pathogens, from bacteria to viruses to protozoa. Patho\n"
     ]
    }
   ],
   "source": [
    "# take a look at the result\n",
    "print(document_with_instruction[0].text[:1000])"
   ]
  },
  {
   "cell_type": "markdown",
   "id": "3e803a00-c3c5-494e-9475-617f68d388ee",
   "metadata": {},
   "source": [
    "### Step 2. Load pydantic schemas"
   ]
  },
  {
   "cell_type": "markdown",
   "id": "7445c87d-b00e-4574-9cbc-de1711404c31",
   "metadata": {},
   "source": [
    "These schemas have been created ad-hoc by us to accomodate the information that the LA wants to extract. Note that these are all pydantic classes nested into `Bibliography`. The structure of these schemas is quite complex and articulated, even though it does not probably cover all the info that the LA wants to extract, it is a good starting point to experiment."
   ]
  },
  {
   "cell_type": "code",
   "execution_count": 17,
   "id": "35fd00d3-488b-420c-b031-d141eb89fbbb",
   "metadata": {},
   "outputs": [],
   "source": [
    "from pydantic_schemas import Measurement, WeatherData, Methodology, StudyScope, StudyDuration, ParticipantAgeGroup, Bibliography"
   ]
  },
  {
   "cell_type": "markdown",
   "id": "1c012669-1c55-42d2-b143-b78064738ac6",
   "metadata": {},
   "source": [
    "### Step 3. Access Mistral's API"
   ]
  },
  {
   "cell_type": "markdown",
   "id": "9af902ff-d8f2-46f0-b7ad-05bb544b777b",
   "metadata": {},
   "source": [
    "More on how to get access to Mistral here: https://docs.mindmac.app/how-to.../add-api-key/create-mistral-ai-api-key -- you can get a free API for 2 weeks"
   ]
  },
  {
   "cell_type": "markdown",
   "id": "f0221b80-9571-4225-94e5-0a93d8ececcb",
   "metadata": {},
   "source": [
    "Note that we decide to use `langchain` to use Mistral as its setup and usage is easier"
   ]
  },
  {
   "cell_type": "code",
   "execution_count": 12,
   "id": "8c530c5c-ab4e-46cb-b4fe-4ef489c2e181",
   "metadata": {},
   "outputs": [
    {
     "name": "stdin",
     "output_type": "stream",
     "text": [
      " ········\n"
     ]
    }
   ],
   "source": [
    "import getpass\n",
    "import os\n",
    "\n",
    "os.environ[\"MISTRAL_API_KEY\"] = getpass.getpass()\n",
    "\n",
    "from langchain_mistralai import ChatMistralAI\n",
    "\n",
    "llm = ChatMistralAI(model=\"mistral-large-latest\")"
   ]
  },
  {
   "cell_type": "markdown",
   "id": "20478140-eee2-4e96-a26b-c06f55152eb4",
   "metadata": {},
   "source": [
    "### Step 4. set up a prompt"
   ]
  },
  {
   "cell_type": "markdown",
   "id": "d9116d6c-26c0-41bf-a8df-99c7d3d0d275",
   "metadata": {},
   "source": [
    "Here we set up a prompt to let the model know that they must follow our pydantic schemas when extracting the info, and return it into a json file"
   ]
  },
  {
   "cell_type": "code",
   "execution_count": 14,
   "id": "3415701c-b799-47d0-b034-404c00946177",
   "metadata": {},
   "outputs": [],
   "source": [
    "# PydanticOutputParser allows us to use our predefined pydantic schemas\n",
    "from langchain_core.output_parsers import PydanticOutputParser\n",
    "# ChatPromptTemplate allows us to build a prompt\n",
    "from langchain_core.prompts import ChatPromptTemplate"
   ]
  },
  {
   "cell_type": "code",
   "execution_count": 18,
   "id": "26bbd22e-1f04-4f6c-af30-8e5c044c8a0c",
   "metadata": {},
   "outputs": [],
   "source": [
    "parser = PydanticOutputParser(pydantic_object=Bibliography)"
   ]
  },
  {
   "cell_type": "code",
   "execution_count": 19,
   "id": "d97e9a9c-e12f-4374-9dcc-d761b9be3be2",
   "metadata": {},
   "outputs": [],
   "source": [
    "# Note that we get to use our predefined pydantic schemas wrapped into Bibliography by setting up a prompt and using `get_format_instructions` function\n",
    "\n",
    "# we get some warnings but \n",
    "prompt = ChatPromptTemplate.from_messages(\n",
    "    [\n",
    "        (\n",
    "            \"system\",\n",
    "            \"Answer the user query. Wrap the output in `json` tags\\n{format_instructions}\",\n",
    "        ),\n",
    "        (\"human\", \"{query}\"),\n",
    "    ]\n",
    ").partial(format_instructions=parser.get_format_instructions())"
   ]
  },
  {
   "cell_type": "markdown",
   "id": "332973c3-d2ae-411f-8f1c-bb8946d15c3b",
   "metadata": {},
   "source": [
    "### Step 5. Set up the query"
   ]
  },
  {
   "cell_type": "markdown",
   "id": "2b70c6d2-e614-4cea-a030-67b4e543deea",
   "metadata": {},
   "source": [
    "Now we set up into `query` what we would like the model to process.\n",
    "\n",
    "For checking a little bit better what's going on, I prefer to give one page at a time."
   ]
  },
  {
   "cell_type": "code",
   "execution_count": 20,
   "id": "eda7e1c3-b8f5-45ed-b26d-8d4dad82e54d",
   "metadata": {},
   "outputs": [],
   "source": [
    "query = (f\"You are provided with an excerpt of a scientific paper: {document_with_instruction[0].text}\")"
   ]
  },
  {
   "cell_type": "markdown",
   "id": "70c53b02-746e-489c-bd85-3e82901fdce9",
   "metadata": {},
   "source": [
    "### Step 6. Set up a chain to parse output into a human-readable json"
   ]
  },
  {
   "cell_type": "markdown",
   "id": "a3da1c37-2688-4fc1-93d5-585d73fdb6e8",
   "metadata": {},
   "source": [
    "To get the output we can build a 'chain' in which the output gets wrapped in a more consistent way, so that it's easier to save. We also use a function to parse it into a json so that we get also a pretty indentation"
   ]
  },
  {
   "cell_type": "code",
   "execution_count": 25,
   "id": "366c8dd8-c2cc-41a0-b686-c5b6c565fad2",
   "metadata": {},
   "outputs": [],
   "source": [
    "from langchain_core.messages import AIMessage\n",
    "from typing import List\n",
    "import re\n",
    "import json\n",
    "\n",
    "def extract_json(message: AIMessage) -> List[dict]:\n",
    "    \"\"\"Extracts JSON content from a string where JSON is embedded between ```json and ``` tags.\n",
    "\n",
    "    Parameters:\n",
    "        text (str): The text containing the JSON content.\n",
    "\n",
    "    Returns:\n",
    "        list: A list of extracted JSON strings.\n",
    "    \"\"\"\n",
    "    text = message.content\n",
    "    # Define the regular expression pattern to match JSON blocks\n",
    "    pattern = r\"```json(.*?)```\"\n",
    "\n",
    "    # Find all non-overlapping matches of the pattern in the string\n",
    "    matches = re.findall(pattern, text, re.DOTALL)\n",
    "\n",
    "    # Return the list of matched JSON strings, stripping any leading or trailing whitespace\n",
    "    try:\n",
    "        return [json.loads(match.strip()) for match in matches]\n",
    "    except Exception:\n",
    "        raise ValueError(f\"Failed to parse: {message}\")"
   ]
  },
  {
   "cell_type": "markdown",
   "id": "54374cd5-d7e4-43b0-bc19-faea9324be05",
   "metadata": {},
   "source": [
    "### Look at page 1"
   ]
  },
  {
   "cell_type": "code",
   "execution_count": 23,
   "id": "4f71b7ef-fc7c-4fa5-a364-d7f8b5cfa369",
   "metadata": {},
   "outputs": [
    {
     "data": {
      "text/plain": [
       "Bibliography(article_type='Research article', study_type='retrospective study', title='The Seasonality of Diarrheal Pathogens: A Retrospective Study of Seven Sites Over Three Years', study_scope=StudyScope(study_sites=[], description=[], locations=['Institute for Disease Modeling, Bellevue, Washington, United States of America', 'Center for Vaccine Development and Global Health, University of Maryland, Baltimore, Maryland, United States of America']), methodology=[Methodology(name='signal processing', description='Using traditional methodologies from signal processing', methods=['Fast fourier transformation'], goals=['Characterize the seasonality of different pathogens']), Methodology(name='machine-learning methodologies', description='Applying modern machine-learning methodologies to site-specific weather data', methods=[], goals=['Define seasons associated with pathogen prevalence'])], study_duration=StudyDuration(duration='three years', details=['The study ran over three years']), participant_age_group=ParticipantAgeGroup(age_range='children with moderate-to-severe diarrhea (MSD)', details=['Children with moderate-to-severe diarrhea (MSD)']), weather_data=WeatherData(time_period='three years', details=['Pathogen prevalence is often described as seasonal, peaking annually and associated with specific weather conditions.'], measurement=[Measurement(measurement_type='Pathogen Prevalence', description='Characterizes the seasonality of different pathogens', formula=[], variables=[], notes=\"Rotavirus was most prevalent during the drier 'winter' months and out of phase with bacterial pathogens, which peaked during hotter and rainier times of year corresponding to 'monsoon,' 'rainy,' or 'summer' seasons.\")]), data_collection='during 2016 to 2019', authors='Dennis L. Chao, Anna Roose, Min Roh, Karen L. Kotloff, Joshua L. Proctor', affiliation='Institute for Disease Modeling, Bellevue, Washington, United States of America, Center for Vaccine Development and Global Health, University of Maryland, Baltimore, Maryland, United States of America', citation='Chao DL, Roose A, Roh M, Kotloff KL, Proctor JL (2019) The seasonality of diarrheal pathogens: A retrospective study of seven sites over three years. PLoS Negl Trop Dis 13(8): e0007211. https://doi.org/10.1371/journal.pntd.0007211', corresponding_author='dennisc@idmod.org', doi='10.1371/journal.pntd.0007211', date='15-08-2019', github_repo=None, journal='PLoS Negl Trop Dis')"
      ]
     },
     "execution_count": 23,
     "metadata": {},
     "output_type": "execute_result"
    }
   ],
   "source": [
    "chain = prompt | llm | parser\n",
    "\n",
    "chain.invoke({\"query\": query})"
   ]
  },
  {
   "cell_type": "code",
   "execution_count": 26,
   "id": "b28008b9-5281-4ad5-a0a5-40e2d6934df3",
   "metadata": {},
   "outputs": [
    {
     "data": {
      "text/plain": [
       "[{'article_type': 'Research article',\n",
       "  'study_type': 'retrospective study',\n",
       "  'title': 'The Seasonality of Diarrheal Pathogens: A Retrospective Study',\n",
       "  'study_scope': {'study_sites': ['Seven sites of the Global Enteric Multicenter Study (GEMS)'],\n",
       "   'description': ['The study characterizes the seasonality of different pathogens, their association with site-specific weather patterns, and consistency across study sites.'],\n",
       "   'locations': ['Seven sites of the Global Enteric Multicenter Study (GEMS)']},\n",
       "  'methodology': [{'name': 'signal processing',\n",
       "    'description': 'Using traditional methodologies from signal processing, we found that certain pathogens peaked at the same time every year, but not at all sites.',\n",
       "    'methods': ['signal processing'],\n",
       "    'goals': ['Identifying the seasonally-dependent prevalence for diarrheal pathogens']}],\n",
       "  'study_duration': {'duration': 'three years',\n",
       "   'details': ['The study was conducted over three years.']},\n",
       "  'participant_age_group': {'age_range': 'Children with moderate-to-severe diarrhea (MSD)',\n",
       "   'details': ['Children with moderate-to-severe diarrhea (MSD)']},\n",
       "  'weather_data': {'time_period': 'three years',\n",
       "   'details': ['The study characterizes the seasonality of different pathogens, their association with site-specific weather patterns.'],\n",
       "   'measurement': [{'measurement_type': 'Seasonality of diarrheal pathogens',\n",
       "     'description': 'Seasonality of different pathogens and their association with site-specific weather patterns.',\n",
       "     'formula': None,\n",
       "     'variables': None,\n",
       "     'notes': \"Rotavirus was most prevalent during the drier 'winter' months and out of phase with bacterial pathogens, which peaked during hotter and rainier times of year corresponding to 'monsoon,' 'rainy,' or 'summer' seasons.\"}]},\n",
       "  'data_collection': 'during the study period',\n",
       "  'authors': 'Dennis L. Chao, Anna Roose, Min Roh, Karen L. Kotloff, Joshua L. Proctor',\n",
       "  'affiliation': 'Institute for Disease Modeling, Bellevue, Washington, United States of America; Center for Vaccine Development and Global Health, University of Maryland, Baltimore, Maryland, United States of America',\n",
       "  'citation': 'Chao DL, Roose A, Roh M, Kotloff KL, Proctor JL (2019) The seasonality of diarrheal pathogens: A retrospective study of seven sites over three years. PLoS Negl Trop Dis 13(8): e0007211. https://doi.org/10.1371/journal.pntd.0007211',\n",
       "  'corresponding_author': 'dennisc@idmod.org',\n",
       "  'doi': 'https://doi.org/10.1371/journal.pntd.0007211',\n",
       "  'date': 'August 15, 2019',\n",
       "  'github_repo': None,\n",
       "  'journal': 'PLoS Negl Trop Dis'}]"
      ]
     },
     "execution_count": 26,
     "metadata": {},
     "output_type": "execute_result"
    }
   ],
   "source": [
    "chain2 = prompt | llm | extract_json\n",
    "\n",
    "chain2.invoke({\"query\": query})"
   ]
  },
  {
   "cell_type": "markdown",
   "id": "bb7d47a6-7cee-49e5-9d4c-2a65c7826e48",
   "metadata": {},
   "source": [
    "Informal evaluation: the only thing it did not capture, is 'multi-site, multi-continent study' which was highlighted from the LA"
   ]
  },
  {
   "cell_type": "markdown",
   "id": "d260821d-52a9-4951-b288-d4e80a2ee1ed",
   "metadata": {},
   "source": [
    "### Look at page 3"
   ]
  },
  {
   "cell_type": "markdown",
   "id": "9beac7de-667a-4146-b4a8-8ef209018306",
   "metadata": {},
   "source": [
    "- Page 3: is dense of information relevant for the LA in a text format. We just need to adjust the query."
   ]
  },
  {
   "cell_type": "code",
   "execution_count": 42,
   "id": "a97c845d-c230-4314-8390-b5f4a347cc45",
   "metadata": {},
   "outputs": [],
   "source": [
    "query = (f\"You are provided with an excerpt of a scientific paper: {document_with_instruction[1].text}\")"
   ]
  },
  {
   "cell_type": "code",
   "execution_count": 43,
   "id": "f0469061-8aae-44f3-b0fc-bd9dcd7c699e",
   "metadata": {},
   "outputs": [
    {
     "data": {
      "text/plain": [
       "[{'article_type': 'Research article',\n",
       "  'study_type': 'retrospective study',\n",
       "  'title': 'Seasonality of Diarrheal Pathogens',\n",
       "  'study_scope': {'study_sites': ['Basse, The Gambia',\n",
       "    'Bamako, Mali',\n",
       "    'Nyaza Province, Kenya',\n",
       "    'Manhiça, Mozambique',\n",
       "    'Karachi [Bin Qasim Town], Pakistan',\n",
       "    'Kolkata, India',\n",
       "    'Mirzapur, Bangladesh'],\n",
       "   'description': None,\n",
       "   'locations': ['Basse, The Gambia',\n",
       "    'Bamako, Mali',\n",
       "    'Nyaza Province, Kenya',\n",
       "    'Manhiça, Mozambique',\n",
       "    'Karachi [Bin Qasim Town], Pakistan',\n",
       "    'Kolkata, India',\n",
       "    'Mirzapur, Bangladesh']},\n",
       "  'methodology': [{'name': 'signal processing',\n",
       "    'description': 'Traditional signal processing analysis methods to detect periodicity in time series data',\n",
       "    'methods': ['Lomb–Scargle periodogram', 'Fast Fourier transforms'],\n",
       "    'goals': ['estimate the annual, biannual, and other seasonal signals for each pathogen at each site']},\n",
       "   {'name': 'machine-learning',\n",
       "    'description': 'Machine-learning methodologies performed on local weather data',\n",
       "    'methods': None,\n",
       "    'goals': ['identify site-dependent seasons']}],\n",
       "  'study_duration': {'duration': '36 consecutive months from December 2007 to March 2011',\n",
       "   'details': None},\n",
       "  'participant_age_group': {'age_range': '0–59 months of age',\n",
       "   'details': ['Children 0–59 months of age with moderate-to-severe diarrhea (MSD)',\n",
       "    'Only the first 8–9 children in each age strata (0–11 months, 12–23 months, 24–59 months) were recruited each fortnight (14 days) at each site']},\n",
       "  'weather_data': {'time_period': None,\n",
       "   'details': None,\n",
       "   'measurement': [{'measurement_type': 'local weather conditions',\n",
       "     'description': 'Association between local weather conditions with pathogen prevalence data for each site',\n",
       "     'formula': None,\n",
       "     'variables': None,\n",
       "     'notes': None}]},\n",
       "  'data_collection': 'during 2008 to 2011',\n",
       "  'authors': None,\n",
       "  'affiliation': None,\n",
       "  'citation': 'PLOS Neglected Tropical Diseases | https://doi.org/10.1371/journal.pntd.0007211 August 15, 2019',\n",
       "  'corresponding_author': None,\n",
       "  'doi': '10.1371/journal.pntd.0007211',\n",
       "  'date': 'August 15, 2019',\n",
       "  'github_repo': None,\n",
       "  'journal': 'PLOS Neglected Tropical Diseases'}]"
      ]
     },
     "execution_count": 43,
     "metadata": {},
     "output_type": "execute_result"
    }
   ],
   "source": [
    "chain_page2 = prompt | llm | extract_json\n",
    "\n",
    "chain_page2.invoke({\"query\": query})"
   ]
  },
  {
   "cell_type": "markdown",
   "id": "f4d6eeba-8125-449a-844c-48a6e413070b",
   "metadata": {},
   "source": [
    "Informal evalutation. There are many info highlighted by the LA that are not captured. It might be due to the structure of the json input, and perhaps a better description of the fields. All is correct"
   ]
  },
  {
   "cell_type": "markdown",
   "id": "2d1d7f24-ec11-4ff4-b418-8bd77ec6ac9d",
   "metadata": {},
   "source": [
    "### Look at page 4\n",
    "\n",
    "- Page 4: there is a mix of text and a table"
   ]
  },
  {
   "cell_type": "code",
   "execution_count": 33,
   "id": "e8eb7ac0-d12f-4e0d-adaa-e13e56d74411",
   "metadata": {},
   "outputs": [],
   "source": [
    "file_name = \"test-papers/txt/highlighted-paper-with-instr-table.md\"\n",
    "with open(file_name, 'w') as file:\n",
    "    file.write(document_with_instruction[2].text)"
   ]
  },
  {
   "cell_type": "code",
   "execution_count": 31,
   "id": "7649dd57-f3b1-43ae-891b-1a5f56682596",
   "metadata": {},
   "outputs": [],
   "source": [
    "query = (f\"You are provided with an excerpt of a scientific paper: {document_with_instruction[2].text}\")"
   ]
  },
  {
   "cell_type": "code",
   "execution_count": 32,
   "id": "cdf707a6-7b73-40a0-9c39-6e6dddf1196a",
   "metadata": {},
   "outputs": [
    {
     "data": {
      "text/plain": [
       "[{'article_type': 'Research article',\n",
       "  'study_type': 'retrospective study',\n",
       "  'title': 'Seasonality of Diarrheal Pathogens',\n",
       "  'study_scope': {'study_sites': ['The Gambia',\n",
       "    'Mali',\n",
       "    'Kenya',\n",
       "    'Mozambique',\n",
       "    'Pakistan',\n",
       "    'India',\n",
       "    'Bangladesh'],\n",
       "   'locations': ['The Gambia',\n",
       "    'Mali',\n",
       "    'Kenya',\n",
       "    'Mozambique',\n",
       "    'Pakistan',\n",
       "    'India',\n",
       "    'Bangladesh']},\n",
       "  'methodology': [{'name': 'Estimating Pathogen Prevalence',\n",
       "    'description': 'We estimated the number and percentage of eligible children positive for each pathogen based on the proportion of tested cases who were positive.',\n",
       "    'methods': ['Assuming equal proportion of pathogen-positive children among enrollees and eligible children within the same age strata and fortnight of clinic visit.'],\n",
       "    'goals': ['To estimate the number of children who would have tested positive for a pathogen had all eligible children been enrolled.']}],\n",
       "  'study_duration': {'duration': '2007–2011',\n",
       "   'details': ['The study ran over 2007–2011.']},\n",
       "  'participant_age_group': {'age_range': '0–11, 12–23, and 24–59 months old',\n",
       "   'details': ['Children 0–59 months of age with moderate-to-severe diarrhea (MSD)']},\n",
       "  'weather_data': {'time_period': '2007–2011',\n",
       "   'details': ['Daily historical weather data from weather stations were acquired from the Global Surface Summary of the Day (GSOD).'],\n",
       "   'measurement': [{'measurement_type': 'Relative Humidity',\n",
       "     'description': 'Relative humidity was computed using the following empirical relationship, originally defined by Bosen in 1958.',\n",
       "     'formula': ['RH = 100 × ((112 - (0.1 × T) + DP) / (112 + (0.9 × T)))^8'],\n",
       "     'variables': ['T', 'DP', 'RH'],\n",
       "     'notes': 'T is temperature in Celsius, DP is dewpoint in Celsius, and RH is relative humidity in percentage.'}]},\n",
       "  'data_collection': '2007–2011',\n",
       "  'authors': 'Roose, A., Washington, D., Aniston, J.A.',\n",
       "  'affiliation': 'Institute for Disease Modeling, Bellevue, Washington',\n",
       "  'citation': 'Roose et al., 2019, PLOS Neglected Tropical Diseases',\n",
       "  'corresponding_author': 'r.roosevelt@gmail.com',\n",
       "  'doi': '10.1371/journal.pntd.0007211',\n",
       "  'date': 'August 15, 2019',\n",
       "  'github_repo': 'https://github.com/papermanuscript/main',\n",
       "  'journal': 'PLOS Neglected Tropical Diseases'}]"
      ]
     },
     "execution_count": 32,
     "metadata": {},
     "output_type": "execute_result"
    }
   ],
   "source": [
    "chain_page3 = prompt | llm | extract_json\n",
    "\n",
    "chain_page3.invoke({\"query\": query})"
   ]
  },
  {
   "cell_type": "markdown",
   "id": "735c5cbd-fb77-499e-93e0-00eba23688fa",
   "metadata": {},
   "source": [
    "Informal evaluation: Here the info is again all correct except for author, affiliation, citation, github_repo and corresponding author. The table, while it has been extracted, the info are not reported. This is not an error per se, as a posteriori one can see that none of the pydantic classes really has space where this info could be put. So this experiment also tells us that the refinement of the pydantic schema is a challenge per se."
   ]
  },
  {
   "cell_type": "markdown",
   "id": "ee9de17f-49be-4fe0-bf23-bdce3c8a1ad7",
   "metadata": {},
   "source": [
    "### Look at page 5\n",
    "\n",
    "This page contains a big picture with text"
   ]
  },
  {
   "cell_type": "code",
   "execution_count": 34,
   "id": "8cab8188-eac4-4abd-a74b-c6f8e9d87488",
   "metadata": {},
   "outputs": [],
   "source": [
    "file_name = \"test-papers/txt/highlighted-paper-with-instr-fig.md\"\n",
    "with open(file_name, 'w') as file:\n",
    "    file.write(document_with_instruction[3].text)"
   ]
  },
  {
   "cell_type": "markdown",
   "id": "f50a9f48-a8ea-400b-84cb-bcae3eebffc0",
   "metadata": {},
   "source": [
    "The text in the figure is not extracted. However, even if it was, it would be extremely hard to see which information should be retained and how, so not a big deal in this experiment but definitely something to discuss with the LA if he thinks that anything should be taken from a picture like this one. From the LA annotations, it seems indeed that there is nothing relevant that must be extracted, but rather this info is in the caption. Let's see what is the result."
   ]
  },
  {
   "cell_type": "code",
   "execution_count": 35,
   "id": "e1b860f5-3364-481c-ae5c-786dc9868e0d",
   "metadata": {},
   "outputs": [],
   "source": [
    "query = (f\"You are provided with an excerpt of a scientific paper: {document_with_instruction[3].text}\")"
   ]
  },
  {
   "cell_type": "code",
   "execution_count": 36,
   "id": "9be8bcfc-3cc1-4885-8f30-98ea5c57de94",
   "metadata": {},
   "outputs": [
    {
     "data": {
      "text/plain": [
       "[{'article_type': 'Research article',\n",
       "  'study_type': 'retrospective study',\n",
       "  'title': 'Seasonality of Diarrheal Pathogens',\n",
       "  'study_scope': {'study_sites': [],\n",
       "   'description': [],\n",
       "   'locations': ['Bangladesh']},\n",
       "  'methodology': [{'name': 'Statistical Analysis',\n",
       "    'description': 'Statistical methods used to analyze the data.',\n",
       "    'methods': ['Power spectral density analysis',\n",
       "     'Principal component analysis (PCA)',\n",
       "     'k-means clustering'],\n",
       "    'goals': ['Estimate rotavirus prevalence',\n",
       "     'Identify seasons using weather variables']}],\n",
       "  'study_duration': {'duration': None, 'details': []},\n",
       "  'participant_age_group': {'age_range': None, 'details': []},\n",
       "  'weather_data': {'time_period': None,\n",
       "   'details': [],\n",
       "   'measurement': [{'measurement_type': 'Specific Humidity',\n",
       "     'description': 'Specific humidity was estimated using statistical methods.',\n",
       "     'formula': ['P = 101.3 * e^(L/8200)',\n",
       "      'Es = 0.622 * e^(17.502*T)/(T + 240.97)'],\n",
       "     'variables': ['P', 'L', 'Es', 'T'],\n",
       "     'notes': None}]},\n",
       "  'data_collection': 'during the study period',\n",
       "  'authors': 'Roose, A., Washington, D., Aniston, J.A.',\n",
       "  'affiliation': 'Institute for Disease Modeling, Bellevue, Washington',\n",
       "  'citation': 'Roose et al., 2019, PLOS Neglected Tropical Diseases',\n",
       "  'corresponding_author': 'r.roosevelt@gmail.com',\n",
       "  'doi': '10.1371/journal.pntd.0007211',\n",
       "  'date': 'August 15, 2019',\n",
       "  'github_repo': None,\n",
       "  'journal': 'PLOS Neglected Tropical Diseases'}]"
      ]
     },
     "execution_count": 36,
     "metadata": {},
     "output_type": "execute_result"
    }
   ],
   "source": [
    "chain_page5 = prompt | llm | extract_json\n",
    "\n",
    "chain_page5.invoke({\"query\": query})"
   ]
  },
  {
   "cell_type": "markdown",
   "id": "20ec1e70-5df2-49c3-bb0a-3d11b0f14800",
   "metadata": {},
   "source": []
  }
 ],
 "metadata": {
  "kernelspec": {
   "display_name": "minedd",
   "language": "python",
   "name": "minedd"
  },
  "language_info": {
   "codemirror_mode": {
    "name": "ipython",
    "version": 3
   },
   "file_extension": ".py",
   "mimetype": "text/x-python",
   "name": "python",
   "nbconvert_exporter": "python",
   "pygments_lexer": "ipython3",
   "version": "3.12.0"
  }
 },
 "nbformat": 4,
 "nbformat_minor": 5
}
