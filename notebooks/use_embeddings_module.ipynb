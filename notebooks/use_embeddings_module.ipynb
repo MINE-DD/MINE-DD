{
 "cells": [
  {
   "cell_type": "markdown",
   "metadata": {},
   "source": [
    "# Embeddings Module"
   ]
  },
  {
   "cell_type": "markdown",
   "metadata": {},
   "source": [
    "### Install necessary modules"
   ]
  },
  {
   "cell_type": "code",
   "execution_count": 1,
   "metadata": {},
   "outputs": [
    {
     "name": "stdout",
     "output_type": "stream",
     "text": [
      "Obtaining file:///Users/jose/Repos/MINE-DD\n",
      "  Installing build dependencies ... \u001b[?25ldone\n",
      "\u001b[?25h  Checking if build backend supports build_editable ... \u001b[?25ldone\n",
      "\u001b[?25h  Getting requirements to build editable ... \u001b[?25ldone\n",
      "\u001b[?25h  Preparing editable metadata (pyproject.toml) ... \u001b[?25ldone\n",
      "\u001b[?25hRequirement already satisfied: fhaviary>=0.18.3 in /opt/miniconda3/envs/poopqa/lib/python3.12/site-packages (from minedd==0.1.0) (0.19.0)\n",
      "Requirement already satisfied: paper-qa==5.5.0 in /opt/miniconda3/envs/poopqa/lib/python3.12/site-packages (from minedd==0.1.0) (5.5.0)\n",
      "Requirement already satisfied: pandas>=2.2.3 in /opt/miniconda3/envs/poopqa/lib/python3.12/site-packages (from minedd==0.1.0) (2.2.3)\n",
      "Requirement already satisfied: numpy>=1.26.4 in /opt/miniconda3/envs/poopqa/lib/python3.12/site-packages (from minedd==0.1.0) (1.26.4)\n",
      "Requirement already satisfied: tqdm>=4.67.1 in /opt/miniconda3/envs/poopqa/lib/python3.12/site-packages (from minedd==0.1.0) (4.67.1)\n",
      "Requirement already satisfied: openpyxl>=3.1.5 in /opt/miniconda3/envs/poopqa/lib/python3.12/site-packages (from minedd==0.1.0) (3.1.5)\n",
      "Requirement already satisfied: nest-asyncio>=1.6.0 in /opt/miniconda3/envs/poopqa/lib/python3.12/site-packages (from minedd==0.1.0) (1.6.0)\n",
      "Requirement already satisfied: litellm>=1.52.16 in /opt/miniconda3/envs/poopqa/lib/python3.12/site-packages (from minedd==0.1.0) (1.65.4.post1)\n",
      "Requirement already satisfied: aiohttp>=3.11.7 in /opt/miniconda3/envs/poopqa/lib/python3.12/site-packages (from minedd==0.1.0) (3.11.16)\n",
      "Requirement already satisfied: openai>=1.55.0 in /opt/miniconda3/envs/poopqa/lib/python3.12/site-packages (from minedd==0.1.0) (1.72.0)\n",
      "Collecting pydantic==2.10.1 (from minedd==0.1.0)\n",
      "  Using cached pydantic-2.10.1-py3-none-any.whl.metadata (169 kB)\n",
      "Requirement already satisfied: tiktoken>=0.8.0 in /opt/miniconda3/envs/poopqa/lib/python3.12/site-packages (from minedd==0.1.0) (0.8.0)\n",
      "Requirement already satisfied: requests>=2.32.3 in /opt/miniconda3/envs/poopqa/lib/python3.12/site-packages (from minedd==0.1.0) (2.32.3)\n",
      "Requirement already satisfied: python-dotenv>=1.0.1 in /opt/miniconda3/envs/poopqa/lib/python3.12/site-packages (from minedd==0.1.0) (1.0.1)\n",
      "Requirement already satisfied: PyMuPDF>=1.24.12 in /opt/miniconda3/envs/poopqa/lib/python3.12/site-packages (from paper-qa==5.5.0->minedd==0.1.0) (1.24.14)\n",
      "Requirement already satisfied: anyio in /opt/miniconda3/envs/poopqa/lib/python3.12/site-packages (from paper-qa==5.5.0->minedd==0.1.0) (4.6.2.post1)\n",
      "Requirement already satisfied: coredis in /opt/miniconda3/envs/poopqa/lib/python3.12/site-packages (from paper-qa==5.5.0->minedd==0.1.0) (4.17.0)\n",
      "Requirement already satisfied: html2text in /opt/miniconda3/envs/poopqa/lib/python3.12/site-packages (from paper-qa==5.5.0->minedd==0.1.0) (2024.2.26)\n",
      "Requirement already satisfied: httpx in /opt/miniconda3/envs/poopqa/lib/python3.12/site-packages (from paper-qa==5.5.0->minedd==0.1.0) (0.27.2)\n",
      "Requirement already satisfied: limits in /opt/miniconda3/envs/poopqa/lib/python3.12/site-packages (from paper-qa==5.5.0->minedd==0.1.0) (3.14.1)\n",
      "Requirement already satisfied: pybtex in /opt/miniconda3/envs/poopqa/lib/python3.12/site-packages (from paper-qa==5.5.0->minedd==0.1.0) (0.24.0)\n",
      "Requirement already satisfied: pydantic-settings in /opt/miniconda3/envs/poopqa/lib/python3.12/site-packages (from paper-qa==5.5.0->minedd==0.1.0) (2.6.0)\n",
      "Requirement already satisfied: rich in /opt/miniconda3/envs/poopqa/lib/python3.12/site-packages (from paper-qa==5.5.0->minedd==0.1.0) (13.9.2)\n",
      "Requirement already satisfied: setuptools in /opt/miniconda3/envs/poopqa/lib/python3.12/site-packages (from paper-qa==5.5.0->minedd==0.1.0) (75.1.0)\n",
      "Requirement already satisfied: tantivy in /opt/miniconda3/envs/poopqa/lib/python3.12/site-packages (from paper-qa==5.5.0->minedd==0.1.0) (0.22.0)\n",
      "Requirement already satisfied: tenacity in /opt/miniconda3/envs/poopqa/lib/python3.12/site-packages (from paper-qa==5.5.0->minedd==0.1.0) (9.0.0)\n",
      "Requirement already satisfied: annotated-types>=0.6.0 in /opt/miniconda3/envs/poopqa/lib/python3.12/site-packages (from pydantic==2.10.1->minedd==0.1.0) (0.7.0)\n",
      "Collecting pydantic-core==2.27.1 (from pydantic==2.10.1->minedd==0.1.0)\n",
      "  Using cached pydantic_core-2.27.1-cp312-cp312-macosx_11_0_arm64.whl.metadata (6.6 kB)\n",
      "Requirement already satisfied: typing-extensions>=4.12.2 in /opt/miniconda3/envs/poopqa/lib/python3.12/site-packages (from pydantic==2.10.1->minedd==0.1.0) (4.12.2)\n",
      "Requirement already satisfied: aiohappyeyeballs>=2.3.0 in /opt/miniconda3/envs/poopqa/lib/python3.12/site-packages (from aiohttp>=3.11.7->minedd==0.1.0) (2.4.3)\n",
      "Requirement already satisfied: aiosignal>=1.1.2 in /opt/miniconda3/envs/poopqa/lib/python3.12/site-packages (from aiohttp>=3.11.7->minedd==0.1.0) (1.3.1)\n",
      "Requirement already satisfied: attrs>=17.3.0 in /opt/miniconda3/envs/poopqa/lib/python3.12/site-packages (from aiohttp>=3.11.7->minedd==0.1.0) (24.2.0)\n",
      "Requirement already satisfied: frozenlist>=1.1.1 in /opt/miniconda3/envs/poopqa/lib/python3.12/site-packages (from aiohttp>=3.11.7->minedd==0.1.0) (1.4.1)\n",
      "Requirement already satisfied: multidict<7.0,>=4.5 in /opt/miniconda3/envs/poopqa/lib/python3.12/site-packages (from aiohttp>=3.11.7->minedd==0.1.0) (6.1.0)\n",
      "Requirement already satisfied: propcache>=0.2.0 in /opt/miniconda3/envs/poopqa/lib/python3.12/site-packages (from aiohttp>=3.11.7->minedd==0.1.0) (0.2.0)\n",
      "Requirement already satisfied: yarl<2.0,>=1.17.0 in /opt/miniconda3/envs/poopqa/lib/python3.12/site-packages (from aiohttp>=3.11.7->minedd==0.1.0) (1.18.3)\n",
      "Requirement already satisfied: docstring_parser>=0.16 in /opt/miniconda3/envs/poopqa/lib/python3.12/site-packages (from fhaviary>=0.18.3->minedd==0.1.0) (0.16)\n",
      "Requirement already satisfied: click in /opt/miniconda3/envs/poopqa/lib/python3.12/site-packages (from litellm>=1.52.16->minedd==0.1.0) (8.1.7)\n",
      "Requirement already satisfied: importlib-metadata>=6.8.0 in /opt/miniconda3/envs/poopqa/lib/python3.12/site-packages (from litellm>=1.52.16->minedd==0.1.0) (8.5.0)\n",
      "Requirement already satisfied: jinja2<4.0.0,>=3.1.2 in /opt/miniconda3/envs/poopqa/lib/python3.12/site-packages (from litellm>=1.52.16->minedd==0.1.0) (3.1.4)\n",
      "Requirement already satisfied: jsonschema<5.0.0,>=4.22.0 in /opt/miniconda3/envs/poopqa/lib/python3.12/site-packages (from litellm>=1.52.16->minedd==0.1.0) (4.23.0)\n",
      "Requirement already satisfied: tokenizers in /opt/miniconda3/envs/poopqa/lib/python3.12/site-packages (from litellm>=1.52.16->minedd==0.1.0) (0.21.0)\n",
      "Requirement already satisfied: distro<2,>=1.7.0 in /opt/miniconda3/envs/poopqa/lib/python3.12/site-packages (from openai>=1.55.0->minedd==0.1.0) (1.9.0)\n",
      "Requirement already satisfied: jiter<1,>=0.4.0 in /opt/miniconda3/envs/poopqa/lib/python3.12/site-packages (from openai>=1.55.0->minedd==0.1.0) (0.8.0)\n",
      "Requirement already satisfied: sniffio in /opt/miniconda3/envs/poopqa/lib/python3.12/site-packages (from openai>=1.55.0->minedd==0.1.0) (1.3.1)\n",
      "Requirement already satisfied: et-xmlfile in /opt/miniconda3/envs/poopqa/lib/python3.12/site-packages (from openpyxl>=3.1.5->minedd==0.1.0) (2.0.0)\n",
      "Requirement already satisfied: python-dateutil>=2.8.2 in /opt/miniconda3/envs/poopqa/lib/python3.12/site-packages (from pandas>=2.2.3->minedd==0.1.0) (2.9.0.post0)\n",
      "Requirement already satisfied: pytz>=2020.1 in /opt/miniconda3/envs/poopqa/lib/python3.12/site-packages (from pandas>=2.2.3->minedd==0.1.0) (2024.2)\n",
      "Requirement already satisfied: tzdata>=2022.7 in /opt/miniconda3/envs/poopqa/lib/python3.12/site-packages (from pandas>=2.2.3->minedd==0.1.0) (2024.2)\n",
      "Requirement already satisfied: charset-normalizer<4,>=2 in /opt/miniconda3/envs/poopqa/lib/python3.12/site-packages (from requests>=2.32.3->minedd==0.1.0) (2.1.1)\n",
      "Requirement already satisfied: idna<4,>=2.5 in /opt/miniconda3/envs/poopqa/lib/python3.12/site-packages (from requests>=2.32.3->minedd==0.1.0) (3.10)\n",
      "Requirement already satisfied: urllib3<3,>=1.21.1 in /opt/miniconda3/envs/poopqa/lib/python3.12/site-packages (from requests>=2.32.3->minedd==0.1.0) (2.2.3)\n",
      "Requirement already satisfied: certifi>=2017.4.17 in /opt/miniconda3/envs/poopqa/lib/python3.12/site-packages (from requests>=2.32.3->minedd==0.1.0) (2024.8.30)\n",
      "Requirement already satisfied: regex>=2022.1.18 in /opt/miniconda3/envs/poopqa/lib/python3.12/site-packages (from tiktoken>=0.8.0->minedd==0.1.0) (2024.9.11)\n",
      "Requirement already satisfied: fhlmi in /opt/miniconda3/envs/poopqa/lib/python3.12/site-packages (from fhaviary[llm]>=0.10.0->paper-qa==5.5.0->minedd==0.1.0) (0.26.0)\n",
      "Requirement already satisfied: httpcore==1.* in /opt/miniconda3/envs/poopqa/lib/python3.12/site-packages (from httpx->paper-qa==5.5.0->minedd==0.1.0) (1.0.6)\n",
      "Requirement already satisfied: h11<0.15,>=0.13 in /opt/miniconda3/envs/poopqa/lib/python3.12/site-packages (from httpcore==1.*->httpx->paper-qa==5.5.0->minedd==0.1.0) (0.14.0)\n",
      "Requirement already satisfied: zipp>=3.20 in /opt/miniconda3/envs/poopqa/lib/python3.12/site-packages (from importlib-metadata>=6.8.0->litellm>=1.52.16->minedd==0.1.0) (3.21.0)\n",
      "Requirement already satisfied: MarkupSafe>=2.0 in /opt/miniconda3/envs/poopqa/lib/python3.12/site-packages (from jinja2<4.0.0,>=3.1.2->litellm>=1.52.16->minedd==0.1.0) (3.0.2)\n",
      "Requirement already satisfied: jsonschema-specifications>=2023.03.6 in /opt/miniconda3/envs/poopqa/lib/python3.12/site-packages (from jsonschema<5.0.0,>=4.22.0->litellm>=1.52.16->minedd==0.1.0) (2024.10.1)\n",
      "Requirement already satisfied: referencing>=0.28.4 in /opt/miniconda3/envs/poopqa/lib/python3.12/site-packages (from jsonschema<5.0.0,>=4.22.0->litellm>=1.52.16->minedd==0.1.0) (0.35.1)\n",
      "Requirement already satisfied: rpds-py>=0.7.1 in /opt/miniconda3/envs/poopqa/lib/python3.12/site-packages (from jsonschema<5.0.0,>=4.22.0->litellm>=1.52.16->minedd==0.1.0) (0.21.0)\n",
      "Requirement already satisfied: six>=1.5 in /opt/miniconda3/envs/poopqa/lib/python3.12/site-packages (from python-dateutil>=2.8.2->pandas>=2.2.3->minedd==0.1.0) (1.16.0)\n",
      "Requirement already satisfied: async-timeout<5,>4 in /opt/miniconda3/envs/poopqa/lib/python3.12/site-packages (from coredis->paper-qa==5.5.0->minedd==0.1.0) (4.0.3)\n",
      "Requirement already satisfied: deprecated>=1.2 in /opt/miniconda3/envs/poopqa/lib/python3.12/site-packages (from coredis->paper-qa==5.5.0->minedd==0.1.0) (1.2.15)\n",
      "Requirement already satisfied: packaging<25,>=21 in /opt/miniconda3/envs/poopqa/lib/python3.12/site-packages (from coredis->paper-qa==5.5.0->minedd==0.1.0) (24.1)\n",
      "Requirement already satisfied: pympler<2,>1 in /opt/miniconda3/envs/poopqa/lib/python3.12/site-packages (from coredis->paper-qa==5.5.0->minedd==0.1.0) (1.1)\n",
      "Requirement already satisfied: wrapt<2,>=1.1.0 in /opt/miniconda3/envs/poopqa/lib/python3.12/site-packages (from coredis->paper-qa==5.5.0->minedd==0.1.0) (1.14.1)\n",
      "Requirement already satisfied: PyYAML>=3.01 in /opt/miniconda3/envs/poopqa/lib/python3.12/site-packages (from pybtex->paper-qa==5.5.0->minedd==0.1.0) (6.0.2)\n",
      "Requirement already satisfied: latexcodec>=1.0.4 in /opt/miniconda3/envs/poopqa/lib/python3.12/site-packages (from pybtex->paper-qa==5.5.0->minedd==0.1.0) (3.0.0)\n",
      "Requirement already satisfied: markdown-it-py>=2.2.0 in /opt/miniconda3/envs/poopqa/lib/python3.12/site-packages (from rich->paper-qa==5.5.0->minedd==0.1.0) (3.0.0)\n",
      "Requirement already satisfied: pygments<3.0.0,>=2.13.0 in /opt/miniconda3/envs/poopqa/lib/python3.12/site-packages (from rich->paper-qa==5.5.0->minedd==0.1.0) (2.15.1)\n",
      "Requirement already satisfied: huggingface-hub<1.0,>=0.16.4 in /opt/miniconda3/envs/poopqa/lib/python3.12/site-packages (from tokenizers->litellm>=1.52.16->minedd==0.1.0) (0.26.3)\n",
      "Requirement already satisfied: filelock in /opt/miniconda3/envs/poopqa/lib/python3.12/site-packages (from huggingface-hub<1.0,>=0.16.4->tokenizers->litellm>=1.52.16->minedd==0.1.0) (3.16.1)\n",
      "Requirement already satisfied: fsspec>=2023.5.0 in /opt/miniconda3/envs/poopqa/lib/python3.12/site-packages (from huggingface-hub<1.0,>=0.16.4->tokenizers->litellm>=1.52.16->minedd==0.1.0) (2024.10.0)\n",
      "Requirement already satisfied: mdurl~=0.1 in /opt/miniconda3/envs/poopqa/lib/python3.12/site-packages (from markdown-it-py>=2.2.0->rich->paper-qa==5.5.0->minedd==0.1.0) (0.1.2)\n",
      "Using cached pydantic-2.10.1-py3-none-any.whl (455 kB)\n",
      "Using cached pydantic_core-2.27.1-cp312-cp312-macosx_11_0_arm64.whl (1.8 MB)\n",
      "Building wheels for collected packages: minedd\n",
      "  Building editable for minedd (pyproject.toml) ... \u001b[?25ldone\n",
      "\u001b[?25h  Created wheel for minedd: filename=minedd-0.1.0-0.editable-py3-none-any.whl size=13964 sha256=745d95edee8a2f02e65c280538abe608cab9fc3e4eb176f37c25df1a33406b50\n",
      "  Stored in directory: /private/var/folders/79/zf67ls7520x9m4mj7nx6q07w0000gp/T/pip-ephem-wheel-cache-fb88wcby/wheels/c7/bf/1e/e7790fb2ba7cdeeb0fd2dc5eb82103f3cd4a31d3c897656e15\n",
      "Successfully built minedd\n",
      "Installing collected packages: pydantic-core, pydantic, minedd\n",
      "  Attempting uninstall: pydantic-core\n",
      "    Found existing installation: pydantic_core 2.23.4\n",
      "    Uninstalling pydantic_core-2.23.4:\n",
      "      Successfully uninstalled pydantic_core-2.23.4\n",
      "  Attempting uninstall: pydantic\n",
      "    Found existing installation: pydantic 2.9.2\n",
      "    Uninstalling pydantic-2.9.2:\n",
      "      Successfully uninstalled pydantic-2.9.2\n",
      "  Attempting uninstall: minedd\n",
      "    Found existing installation: minedd 0.1.0\n",
      "    Uninstalling minedd-0.1.0:\n",
      "      Successfully uninstalled minedd-0.1.0\n",
      "Successfully installed minedd-0.1.0 pydantic-2.10.1 pydantic-core-2.27.1\n",
      "\n",
      "\u001b[1m[\u001b[0m\u001b[34;49mnotice\u001b[0m\u001b[1;39;49m]\u001b[0m\u001b[39;49m A new release of pip is available: \u001b[0m\u001b[31;49m24.2\u001b[0m\u001b[39;49m -> \u001b[0m\u001b[32;49m25.0.1\u001b[0m\n",
      "\u001b[1m[\u001b[0m\u001b[34;49mnotice\u001b[0m\u001b[1;39;49m]\u001b[0m\u001b[39;49m To update, run: \u001b[0m\u001b[32;49mpip install --upgrade pip\u001b[0m\n",
      "Note: you may need to restart the kernel to use updated packages.\n",
      "Obtaining file:///Users/jose/Repos/MINE-DD\n",
      "  Installing build dependencies ... \u001b[?25ldone\n",
      "\u001b[?25h  Checking if build backend supports build_editable ... \u001b[?25ldone\n",
      "\u001b[?25h  Getting requirements to build editable ... \u001b[?25ldone\n",
      "\u001b[?25h  Preparing editable metadata (pyproject.toml) ... \u001b[?25ldone\n",
      "\u001b[?25hRequirement already satisfied: fhaviary>=0.18.3 in /opt/miniconda3/envs/poopqa/lib/python3.12/site-packages (from minedd==0.1.0) (0.19.0)\n",
      "Requirement already satisfied: paper-qa==5.5.0 in /opt/miniconda3/envs/poopqa/lib/python3.12/site-packages (from minedd==0.1.0) (5.5.0)\n",
      "Requirement already satisfied: pandas>=2.2.3 in /opt/miniconda3/envs/poopqa/lib/python3.12/site-packages (from minedd==0.1.0) (2.2.3)\n",
      "Requirement already satisfied: numpy>=1.26.4 in /opt/miniconda3/envs/poopqa/lib/python3.12/site-packages (from minedd==0.1.0) (1.26.4)\n",
      "Requirement already satisfied: tqdm>=4.67.1 in /opt/miniconda3/envs/poopqa/lib/python3.12/site-packages (from minedd==0.1.0) (4.67.1)\n",
      "Requirement already satisfied: openpyxl>=3.1.5 in /opt/miniconda3/envs/poopqa/lib/python3.12/site-packages (from minedd==0.1.0) (3.1.5)\n",
      "Requirement already satisfied: nest-asyncio>=1.6.0 in /opt/miniconda3/envs/poopqa/lib/python3.12/site-packages (from minedd==0.1.0) (1.6.0)\n",
      "Requirement already satisfied: litellm>=1.52.16 in /opt/miniconda3/envs/poopqa/lib/python3.12/site-packages (from minedd==0.1.0) (1.65.4.post1)\n",
      "Requirement already satisfied: aiohttp>=3.11.7 in /opt/miniconda3/envs/poopqa/lib/python3.12/site-packages (from minedd==0.1.0) (3.11.16)\n",
      "Requirement already satisfied: openai>=1.55.0 in /opt/miniconda3/envs/poopqa/lib/python3.12/site-packages (from minedd==0.1.0) (1.72.0)\n",
      "Requirement already satisfied: pydantic==2.10.1 in /opt/miniconda3/envs/poopqa/lib/python3.12/site-packages (from minedd==0.1.0) (2.10.1)\n",
      "Requirement already satisfied: tiktoken>=0.8.0 in /opt/miniconda3/envs/poopqa/lib/python3.12/site-packages (from minedd==0.1.0) (0.8.0)\n",
      "Requirement already satisfied: requests>=2.32.3 in /opt/miniconda3/envs/poopqa/lib/python3.12/site-packages (from minedd==0.1.0) (2.32.3)\n",
      "Requirement already satisfied: python-dotenv>=1.0.1 in /opt/miniconda3/envs/poopqa/lib/python3.12/site-packages (from minedd==0.1.0) (1.0.1)\n",
      "Requirement already satisfied: PyMuPDF>=1.24.12 in /opt/miniconda3/envs/poopqa/lib/python3.12/site-packages (from paper-qa==5.5.0->minedd==0.1.0) (1.24.14)\n",
      "Requirement already satisfied: anyio in /opt/miniconda3/envs/poopqa/lib/python3.12/site-packages (from paper-qa==5.5.0->minedd==0.1.0) (4.6.2.post1)\n",
      "Requirement already satisfied: coredis in /opt/miniconda3/envs/poopqa/lib/python3.12/site-packages (from paper-qa==5.5.0->minedd==0.1.0) (4.17.0)\n",
      "Requirement already satisfied: html2text in /opt/miniconda3/envs/poopqa/lib/python3.12/site-packages (from paper-qa==5.5.0->minedd==0.1.0) (2024.2.26)\n",
      "Requirement already satisfied: httpx in /opt/miniconda3/envs/poopqa/lib/python3.12/site-packages (from paper-qa==5.5.0->minedd==0.1.0) (0.27.2)\n",
      "Requirement already satisfied: limits in /opt/miniconda3/envs/poopqa/lib/python3.12/site-packages (from paper-qa==5.5.0->minedd==0.1.0) (3.14.1)\n",
      "Requirement already satisfied: pybtex in /opt/miniconda3/envs/poopqa/lib/python3.12/site-packages (from paper-qa==5.5.0->minedd==0.1.0) (0.24.0)\n",
      "Requirement already satisfied: pydantic-settings in /opt/miniconda3/envs/poopqa/lib/python3.12/site-packages (from paper-qa==5.5.0->minedd==0.1.0) (2.6.0)\n",
      "Requirement already satisfied: rich in /opt/miniconda3/envs/poopqa/lib/python3.12/site-packages (from paper-qa==5.5.0->minedd==0.1.0) (13.9.2)\n",
      "Requirement already satisfied: setuptools in /opt/miniconda3/envs/poopqa/lib/python3.12/site-packages (from paper-qa==5.5.0->minedd==0.1.0) (75.1.0)\n",
      "Requirement already satisfied: tantivy in /opt/miniconda3/envs/poopqa/lib/python3.12/site-packages (from paper-qa==5.5.0->minedd==0.1.0) (0.22.0)\n",
      "Requirement already satisfied: tenacity in /opt/miniconda3/envs/poopqa/lib/python3.12/site-packages (from paper-qa==5.5.0->minedd==0.1.0) (9.0.0)\n",
      "Requirement already satisfied: annotated-types>=0.6.0 in /opt/miniconda3/envs/poopqa/lib/python3.12/site-packages (from pydantic==2.10.1->minedd==0.1.0) (0.7.0)\n",
      "Requirement already satisfied: pydantic-core==2.27.1 in /opt/miniconda3/envs/poopqa/lib/python3.12/site-packages (from pydantic==2.10.1->minedd==0.1.0) (2.27.1)\n",
      "Requirement already satisfied: typing-extensions>=4.12.2 in /opt/miniconda3/envs/poopqa/lib/python3.12/site-packages (from pydantic==2.10.1->minedd==0.1.0) (4.12.2)\n",
      "Requirement already satisfied: aiohappyeyeballs>=2.3.0 in /opt/miniconda3/envs/poopqa/lib/python3.12/site-packages (from aiohttp>=3.11.7->minedd==0.1.0) (2.4.3)\n",
      "Requirement already satisfied: aiosignal>=1.1.2 in /opt/miniconda3/envs/poopqa/lib/python3.12/site-packages (from aiohttp>=3.11.7->minedd==0.1.0) (1.3.1)\n",
      "Requirement already satisfied: attrs>=17.3.0 in /opt/miniconda3/envs/poopqa/lib/python3.12/site-packages (from aiohttp>=3.11.7->minedd==0.1.0) (24.2.0)\n",
      "Requirement already satisfied: frozenlist>=1.1.1 in /opt/miniconda3/envs/poopqa/lib/python3.12/site-packages (from aiohttp>=3.11.7->minedd==0.1.0) (1.4.1)\n",
      "Requirement already satisfied: multidict<7.0,>=4.5 in /opt/miniconda3/envs/poopqa/lib/python3.12/site-packages (from aiohttp>=3.11.7->minedd==0.1.0) (6.1.0)\n",
      "Requirement already satisfied: propcache>=0.2.0 in /opt/miniconda3/envs/poopqa/lib/python3.12/site-packages (from aiohttp>=3.11.7->minedd==0.1.0) (0.2.0)\n",
      "Requirement already satisfied: yarl<2.0,>=1.17.0 in /opt/miniconda3/envs/poopqa/lib/python3.12/site-packages (from aiohttp>=3.11.7->minedd==0.1.0) (1.18.3)\n",
      "Requirement already satisfied: docstring_parser>=0.16 in /opt/miniconda3/envs/poopqa/lib/python3.12/site-packages (from fhaviary>=0.18.3->minedd==0.1.0) (0.16)\n",
      "Requirement already satisfied: click in /opt/miniconda3/envs/poopqa/lib/python3.12/site-packages (from litellm>=1.52.16->minedd==0.1.0) (8.1.7)\n",
      "Requirement already satisfied: importlib-metadata>=6.8.0 in /opt/miniconda3/envs/poopqa/lib/python3.12/site-packages (from litellm>=1.52.16->minedd==0.1.0) (8.5.0)\n",
      "Requirement already satisfied: jinja2<4.0.0,>=3.1.2 in /opt/miniconda3/envs/poopqa/lib/python3.12/site-packages (from litellm>=1.52.16->minedd==0.1.0) (3.1.4)\n",
      "Requirement already satisfied: jsonschema<5.0.0,>=4.22.0 in /opt/miniconda3/envs/poopqa/lib/python3.12/site-packages (from litellm>=1.52.16->minedd==0.1.0) (4.23.0)\n",
      "Requirement already satisfied: tokenizers in /opt/miniconda3/envs/poopqa/lib/python3.12/site-packages (from litellm>=1.52.16->minedd==0.1.0) (0.21.0)\n",
      "Requirement already satisfied: distro<2,>=1.7.0 in /opt/miniconda3/envs/poopqa/lib/python3.12/site-packages (from openai>=1.55.0->minedd==0.1.0) (1.9.0)\n",
      "Requirement already satisfied: jiter<1,>=0.4.0 in /opt/miniconda3/envs/poopqa/lib/python3.12/site-packages (from openai>=1.55.0->minedd==0.1.0) (0.8.0)\n",
      "Requirement already satisfied: sniffio in /opt/miniconda3/envs/poopqa/lib/python3.12/site-packages (from openai>=1.55.0->minedd==0.1.0) (1.3.1)\n",
      "Requirement already satisfied: et-xmlfile in /opt/miniconda3/envs/poopqa/lib/python3.12/site-packages (from openpyxl>=3.1.5->minedd==0.1.0) (2.0.0)\n",
      "Requirement already satisfied: python-dateutil>=2.8.2 in /opt/miniconda3/envs/poopqa/lib/python3.12/site-packages (from pandas>=2.2.3->minedd==0.1.0) (2.9.0.post0)\n",
      "Requirement already satisfied: pytz>=2020.1 in /opt/miniconda3/envs/poopqa/lib/python3.12/site-packages (from pandas>=2.2.3->minedd==0.1.0) (2024.2)\n",
      "Requirement already satisfied: tzdata>=2022.7 in /opt/miniconda3/envs/poopqa/lib/python3.12/site-packages (from pandas>=2.2.3->minedd==0.1.0) (2024.2)\n",
      "Requirement already satisfied: charset-normalizer<4,>=2 in /opt/miniconda3/envs/poopqa/lib/python3.12/site-packages (from requests>=2.32.3->minedd==0.1.0) (2.1.1)\n",
      "Requirement already satisfied: idna<4,>=2.5 in /opt/miniconda3/envs/poopqa/lib/python3.12/site-packages (from requests>=2.32.3->minedd==0.1.0) (3.10)\n",
      "Requirement already satisfied: urllib3<3,>=1.21.1 in /opt/miniconda3/envs/poopqa/lib/python3.12/site-packages (from requests>=2.32.3->minedd==0.1.0) (2.2.3)\n",
      "Requirement already satisfied: certifi>=2017.4.17 in /opt/miniconda3/envs/poopqa/lib/python3.12/site-packages (from requests>=2.32.3->minedd==0.1.0) (2024.8.30)\n",
      "Requirement already satisfied: regex>=2022.1.18 in /opt/miniconda3/envs/poopqa/lib/python3.12/site-packages (from tiktoken>=0.8.0->minedd==0.1.0) (2024.9.11)\n",
      "Requirement already satisfied: fhlmi in /opt/miniconda3/envs/poopqa/lib/python3.12/site-packages (from fhaviary[llm]>=0.10.0->paper-qa==5.5.0->minedd==0.1.0) (0.26.0)\n",
      "Requirement already satisfied: httpcore==1.* in /opt/miniconda3/envs/poopqa/lib/python3.12/site-packages (from httpx->paper-qa==5.5.0->minedd==0.1.0) (1.0.6)\n",
      "Requirement already satisfied: h11<0.15,>=0.13 in /opt/miniconda3/envs/poopqa/lib/python3.12/site-packages (from httpcore==1.*->httpx->paper-qa==5.5.0->minedd==0.1.0) (0.14.0)\n",
      "Requirement already satisfied: zipp>=3.20 in /opt/miniconda3/envs/poopqa/lib/python3.12/site-packages (from importlib-metadata>=6.8.0->litellm>=1.52.16->minedd==0.1.0) (3.21.0)\n",
      "Requirement already satisfied: MarkupSafe>=2.0 in /opt/miniconda3/envs/poopqa/lib/python3.12/site-packages (from jinja2<4.0.0,>=3.1.2->litellm>=1.52.16->minedd==0.1.0) (3.0.2)\n",
      "Requirement already satisfied: jsonschema-specifications>=2023.03.6 in /opt/miniconda3/envs/poopqa/lib/python3.12/site-packages (from jsonschema<5.0.0,>=4.22.0->litellm>=1.52.16->minedd==0.1.0) (2024.10.1)\n",
      "Requirement already satisfied: referencing>=0.28.4 in /opt/miniconda3/envs/poopqa/lib/python3.12/site-packages (from jsonschema<5.0.0,>=4.22.0->litellm>=1.52.16->minedd==0.1.0) (0.35.1)\n",
      "Requirement already satisfied: rpds-py>=0.7.1 in /opt/miniconda3/envs/poopqa/lib/python3.12/site-packages (from jsonschema<5.0.0,>=4.22.0->litellm>=1.52.16->minedd==0.1.0) (0.21.0)\n",
      "Requirement already satisfied: six>=1.5 in /opt/miniconda3/envs/poopqa/lib/python3.12/site-packages (from python-dateutil>=2.8.2->pandas>=2.2.3->minedd==0.1.0) (1.16.0)\n",
      "Requirement already satisfied: async-timeout<5,>4 in /opt/miniconda3/envs/poopqa/lib/python3.12/site-packages (from coredis->paper-qa==5.5.0->minedd==0.1.0) (4.0.3)\n",
      "Requirement already satisfied: deprecated>=1.2 in /opt/miniconda3/envs/poopqa/lib/python3.12/site-packages (from coredis->paper-qa==5.5.0->minedd==0.1.0) (1.2.15)\n",
      "Requirement already satisfied: packaging<25,>=21 in /opt/miniconda3/envs/poopqa/lib/python3.12/site-packages (from coredis->paper-qa==5.5.0->minedd==0.1.0) (24.1)\n",
      "Requirement already satisfied: pympler<2,>1 in /opt/miniconda3/envs/poopqa/lib/python3.12/site-packages (from coredis->paper-qa==5.5.0->minedd==0.1.0) (1.1)\n",
      "Requirement already satisfied: wrapt<2,>=1.1.0 in /opt/miniconda3/envs/poopqa/lib/python3.12/site-packages (from coredis->paper-qa==5.5.0->minedd==0.1.0) (1.14.1)\n",
      "Requirement already satisfied: PyYAML>=3.01 in /opt/miniconda3/envs/poopqa/lib/python3.12/site-packages (from pybtex->paper-qa==5.5.0->minedd==0.1.0) (6.0.2)\n",
      "Requirement already satisfied: latexcodec>=1.0.4 in /opt/miniconda3/envs/poopqa/lib/python3.12/site-packages (from pybtex->paper-qa==5.5.0->minedd==0.1.0) (3.0.0)\n",
      "Requirement already satisfied: markdown-it-py>=2.2.0 in /opt/miniconda3/envs/poopqa/lib/python3.12/site-packages (from rich->paper-qa==5.5.0->minedd==0.1.0) (3.0.0)\n",
      "Requirement already satisfied: pygments<3.0.0,>=2.13.0 in /opt/miniconda3/envs/poopqa/lib/python3.12/site-packages (from rich->paper-qa==5.5.0->minedd==0.1.0) (2.15.1)\n",
      "Requirement already satisfied: huggingface-hub<1.0,>=0.16.4 in /opt/miniconda3/envs/poopqa/lib/python3.12/site-packages (from tokenizers->litellm>=1.52.16->minedd==0.1.0) (0.26.3)\n",
      "Requirement already satisfied: filelock in /opt/miniconda3/envs/poopqa/lib/python3.12/site-packages (from huggingface-hub<1.0,>=0.16.4->tokenizers->litellm>=1.52.16->minedd==0.1.0) (3.16.1)\n",
      "Requirement already satisfied: fsspec>=2023.5.0 in /opt/miniconda3/envs/poopqa/lib/python3.12/site-packages (from huggingface-hub<1.0,>=0.16.4->tokenizers->litellm>=1.52.16->minedd==0.1.0) (2024.10.0)\n",
      "Requirement already satisfied: mdurl~=0.1 in /opt/miniconda3/envs/poopqa/lib/python3.12/site-packages (from markdown-it-py>=2.2.0->rich->paper-qa==5.5.0->minedd==0.1.0) (0.1.2)\n",
      "Building wheels for collected packages: minedd\n",
      "  Building editable for minedd (pyproject.toml) ... \u001b[?25ldone\n",
      "\u001b[?25h  Created wheel for minedd: filename=minedd-0.1.0-0.editable-py3-none-any.whl size=13964 sha256=ca62a3def3d4431c53d20988268ad3c5dba5f997cf6d7e4f11851960ee8dbf10\n",
      "  Stored in directory: /private/var/folders/79/zf67ls7520x9m4mj7nx6q07w0000gp/T/pip-ephem-wheel-cache-_45b0kn0/wheels/c7/bf/1e/e7790fb2ba7cdeeb0fd2dc5eb82103f3cd4a31d3c897656e15\n",
      "Successfully built minedd\n",
      "Installing collected packages: minedd\n",
      "  Attempting uninstall: minedd\n",
      "    Found existing installation: minedd 0.1.0\n",
      "    Uninstalling minedd-0.1.0:\n",
      "      Successfully uninstalled minedd-0.1.0\n",
      "Successfully installed minedd-0.1.0\n",
      "\n",
      "\u001b[1m[\u001b[0m\u001b[34;49mnotice\u001b[0m\u001b[1;39;49m]\u001b[0m\u001b[39;49m A new release of pip is available: \u001b[0m\u001b[31;49m24.2\u001b[0m\u001b[39;49m -> \u001b[0m\u001b[32;49m25.0.1\u001b[0m\n",
      "\u001b[1m[\u001b[0m\u001b[34;49mnotice\u001b[0m\u001b[1;39;49m]\u001b[0m\u001b[39;49m To update, run: \u001b[0m\u001b[32;49mpip install --upgrade pip\u001b[0m\n",
      "Note: you may need to restart the kernel to use updated packages.\n",
      "Collecting pydantic==2.9.2\n",
      "  Using cached pydantic-2.9.2-py3-none-any.whl.metadata (149 kB)\n",
      "Requirement already satisfied: annotated-types>=0.6.0 in /opt/miniconda3/envs/poopqa/lib/python3.12/site-packages (from pydantic==2.9.2) (0.7.0)\n",
      "Collecting pydantic-core==2.23.4 (from pydantic==2.9.2)\n",
      "  Using cached pydantic_core-2.23.4-cp312-cp312-macosx_11_0_arm64.whl.metadata (6.6 kB)\n",
      "Requirement already satisfied: typing-extensions>=4.6.1 in /opt/miniconda3/envs/poopqa/lib/python3.12/site-packages (from pydantic==2.9.2) (4.12.2)\n",
      "Using cached pydantic-2.9.2-py3-none-any.whl (434 kB)\n",
      "Using cached pydantic_core-2.23.4-cp312-cp312-macosx_11_0_arm64.whl (1.8 MB)\n",
      "Installing collected packages: pydantic-core, pydantic\n",
      "  Attempting uninstall: pydantic-core\n",
      "    Found existing installation: pydantic_core 2.27.1\n",
      "    Uninstalling pydantic_core-2.27.1:\n",
      "      Successfully uninstalled pydantic_core-2.27.1\n",
      "  Attempting uninstall: pydantic\n",
      "    Found existing installation: pydantic 2.10.1\n",
      "    Uninstalling pydantic-2.10.1:\n",
      "      Successfully uninstalled pydantic-2.10.1\n",
      "\u001b[31mERROR: pip's dependency resolver does not currently take into account all the packages that are installed. This behaviour is the source of the following dependency conflicts.\n",
      "minedd 0.1.0 requires pydantic==2.10.1, but you have pydantic 2.9.2 which is incompatible.\n",
      "fhlmi 0.26.0 requires pydantic>=2.10.1,~=2.0, but you have pydantic 2.9.2 which is incompatible.\u001b[0m\u001b[31m\n",
      "\u001b[0mSuccessfully installed pydantic-2.9.2 pydantic-core-2.23.4\n",
      "\n",
      "\u001b[1m[\u001b[0m\u001b[34;49mnotice\u001b[0m\u001b[1;39;49m]\u001b[0m\u001b[39;49m A new release of pip is available: \u001b[0m\u001b[31;49m24.2\u001b[0m\u001b[39;49m -> \u001b[0m\u001b[32;49m25.0.1\u001b[0m\n",
      "\u001b[1m[\u001b[0m\u001b[34;49mnotice\u001b[0m\u001b[1;39;49m]\u001b[0m\u001b[39;49m To update, run: \u001b[0m\u001b[32;49mpip install --upgrade pip\u001b[0m\n",
      "Note: you may need to restart the kernel to use updated packages.\n",
      "Requirement already satisfied: nest_asyncio in /opt/miniconda3/envs/poopqa/lib/python3.12/site-packages (1.6.0)\n",
      "\n",
      "\u001b[1m[\u001b[0m\u001b[34;49mnotice\u001b[0m\u001b[1;39;49m]\u001b[0m\u001b[39;49m A new release of pip is available: \u001b[0m\u001b[31;49m24.2\u001b[0m\u001b[39;49m -> \u001b[0m\u001b[32;49m25.0.1\u001b[0m\n",
      "\u001b[1m[\u001b[0m\u001b[34;49mnotice\u001b[0m\u001b[1;39;49m]\u001b[0m\u001b[39;49m To update, run: \u001b[0m\u001b[32;49mpip install --upgrade pip\u001b[0m\n",
      "Note: you may need to restart the kernel to use updated packages.\n"
     ]
    }
   ],
   "source": [
    "%pip install -U -e ..\n",
    "%pip install -e ..\n",
    "%pip install pydantic==2.9.2\n",
    "%pip install nest_asyncio"
   ]
  },
  {
   "cell_type": "code",
   "execution_count": 2,
   "metadata": {},
   "outputs": [],
   "source": [
    "# This is needed to run asyncio code in Jupyter notebooks\n",
    "# without getting \"RuntimeError: This event loop is already running\"\n",
    "import nest_asyncio\n",
    "nest_asyncio.apply()"
   ]
  },
  {
   "cell_type": "markdown",
   "metadata": {},
   "source": [
    "### Load Embeddings object"
   ]
  },
  {
   "cell_type": "code",
   "execution_count": 3,
   "metadata": {},
   "outputs": [
    {
     "data": {
      "text/plain": [
       "Embeddings(output_embeddings_path=my-embeddings.pkl, docs=None)"
      ]
     },
     "execution_count": 3,
     "metadata": {},
     "output_type": "execute_result"
    }
   ],
   "source": [
    "from minedd.embeddings import Embeddings\n",
    "from pathlib import Path\n",
    "\n",
    "MODEL = \"ollama/llama3.2\"\n",
    "EMBEDDING = \"ollama/mxbai-embed-large:latest\"\n",
    "PAPERS_DIRECTORY = Path.home() / \"papers_minedd/\"\n",
    "\n",
    "embeddings = Embeddings(\n",
    "    model=MODEL,\n",
    "    embedding_model=EMBEDDING,\n",
    "    paper_directory=PAPERS_DIRECTORY,\n",
    "    output_embeddings_path=\"my-embeddings.pkl\",\n",
    ")\n",
    "embeddings"
   ]
  },
  {
   "cell_type": "markdown",
   "metadata": {},
   "source": [
    "### Load papers for processing"
   ]
  },
  {
   "cell_type": "code",
   "execution_count": 4,
   "metadata": {},
   "outputs": [
    {
     "name": "stdout",
     "output_type": "stream",
     "text": [
      "11\n"
     ]
    },
    {
     "data": {
      "text/plain": [
       "['Ambient temperature and age-related notified Campylobacter infection in Israel_ A 12-year time series study.pdf',\n",
       " 'A comparison of weather variables linked to infectious disease patterns using laboratory addresses and patient residence addresses.pdf',\n",
       " '.DS_Store',\n",
       " '_i_Campylobacter__i_ Monitoring in German Broiler Flocks_ An Explorative Time Series Analysis.pdf',\n",
       " 'A time series analysis of the relationship of ambient temperature and common bacterial enteric infections in two Canadian provinces.pdf',\n",
       " 'A Bayesian spatio-temporal framework to identify outbreaks and examine environmental and social risk factors for infectious diseases monitored by routine surveillance.pdf',\n",
       " 'A time-series study of the association of rainfall_ relative humidity and ambient temperature with hospitalizations for rotavirus and norovirus infection among children in Hong Kong.pdf',\n",
       " 'Weather Variability and the Incidence of Cryptosporidiosis_ Comparison of Time Series Poisson Regression and SARIMA Models.pdf',\n",
       " '_i_Campylobacter__i_epidemiology_ a descriptive study reviewing 1 million cases in England and Wales between 1989 and 2011.pdf',\n",
       " 'Weather and notified Campylobacter infections in temperate and sub-tropical regions of Australia_ An ecological study.pdf']"
      ]
     },
     "execution_count": 4,
     "metadata": {},
     "output_type": "execute_result"
    }
   ],
   "source": [
    "pdf_file_list = embeddings.prepare_papers()\n",
    "print(len(pdf_file_list))\n",
    "# Check the first 10 files\n",
    "pdf_file_list[:10]"
   ]
  },
  {
   "cell_type": "markdown",
   "metadata": {},
   "source": [
    "### Create/Load Embeddings and save in PKL"
   ]
  },
  {
   "cell_type": "code",
   "execution_count": 5,
   "metadata": {},
   "outputs": [
    {
     "name": "stdout",
     "output_type": "stream",
     "text": [
      "Creating new Docs object.\n"
     ]
    },
    {
     "name": "stderr",
     "output_type": "stream",
     "text": [
      "Processing papers::   0%|          | 0/11 [00:00<?, ?paper/s]SEMANTIC_SCHOLAR_API_KEY environment variable not set. Semantic Scholar API rate limits may apply.\n",
      "CROSSREF_MAILTO environment variable not set. Crossref API rate limits may apply.\n",
      "CROSSREF_API_KEY environment variable not set. Crossref API rate limits may apply.\n",
      "Metadata not found for Ambient temperature and age-related notified Campylobacter infection in TIsrael: A 12-year time series study in SemanticScholarProvider.\n",
      "Processing papers::   9%|▉         | 1/11 [00:20<03:23, 20.37s/paper]"
     ]
    },
    {
     "name": "stdout",
     "output_type": "stream",
     "text": [
      "Correctly loaded Ambient temperature and age-related notified Campylobacter infection in Israel_ A 12-year time series study.pdf\n"
     ]
    },
    {
     "name": "stderr",
     "output_type": "stream",
     "text": [
      "Failed to parse all of title, DOI, and authors from the ParsingSettings.structured_citation_prompt's response {\n",
      "        \"title\": title,\n",
      "        \"authors\": authors,\n",
      "        \"doi\": doi if doi else None\n",
      "    }, consider using a manifest file or specifying a different citation prompt.\n",
      "Processing papers::  18%|█▊        | 2/11 [00:39<02:55, 19.55s/paper]"
     ]
    },
    {
     "name": "stdout",
     "output_type": "stream",
     "text": [
      "Correctly loaded A comparison of weather variables linked to infectious disease patterns using laboratory addresses and patient residence addresses.pdf\n",
      "Could not read .DS_Store: ParsedText.content must be a `list`, not <class 'str'>.\n"
     ]
    },
    {
     "name": "stderr",
     "output_type": "stream",
     "text": [
      "Failed to parse all of title, DOI, and authors from the ParsingSettings.structured_citation_prompt's response {\"title\": None, \"authors\": None, \"doi\": None}, consider using a manifest file or specifying a different citation prompt.\n",
      "Processing papers::  36%|███▋      | 4/11 [01:09<01:57, 16.79s/paper]"
     ]
    },
    {
     "name": "stdout",
     "output_type": "stream",
     "text": [
      "Correctly loaded _i_Campylobacter__i_ Monitoring in German Broiler Flocks_ An Explorative Time Series Analysis.pdf\n"
     ]
    },
    {
     "name": "stderr",
     "output_type": "stream",
     "text": [
      "Failed to parse all of title, DOI, and authors from the ParsingSettings.structured_citation_prompt's response {\n",
      "        \"title\": title,\n",
      "        \"authors\": authors,\n",
      "        \"doi\": doi\n",
      "    }, consider using a manifest file or specifying a different citation prompt.\n",
      "Processing papers::  45%|████▌     | 5/11 [01:23<01:35, 15.92s/paper]"
     ]
    },
    {
     "name": "stdout",
     "output_type": "stream",
     "text": [
      "Correctly loaded A time series analysis of the relationship of ambient temperature and common bacterial enteric infections in two Canadian provinces.pdf\n"
     ]
    },
    {
     "name": "stderr",
     "output_type": "stream",
     "text": [
      "SEMANTIC_SCHOLAR_API_KEY environment variable not set. Semantic Scholar API rate limits may apply.\n",
      "Processing papers::  55%|█████▍    | 6/11 [01:42<01:24, 16.80s/paper]"
     ]
    },
    {
     "name": "stdout",
     "output_type": "stream",
     "text": [
      "Correctly loaded A Bayesian spatio-temporal framework to identify outbreaks and examine environmental and social risk factors for infectious diseases monitored by routine surveillance.pdf\n"
     ]
    },
    {
     "name": "stderr",
     "output_type": "stream",
     "text": [
      "SEMANTIC_SCHOLAR_API_KEY environment variable not set. Semantic Scholar API rate limits may apply.\n",
      "Processing papers::  64%|██████▎   | 7/11 [02:05<01:14, 18.58s/paper]"
     ]
    },
    {
     "name": "stdout",
     "output_type": "stream",
     "text": [
      "Correctly loaded A time-series study of the association of rainfall_ relative humidity and ambient temperature with hospitalizations for rotavirus and norovirus infection among children in Hong Kong.pdf\n"
     ]
    },
    {
     "name": "stderr",
     "output_type": "stream",
     "text": [
      "Processing papers::  73%|███████▎  | 8/11 [02:17<00:49, 16.64s/paper]"
     ]
    },
    {
     "name": "stdout",
     "output_type": "stream",
     "text": [
      "Correctly loaded Weather Variability and the Incidence of Cryptosporidiosis_ Comparison of Time Series Poisson Regression and SARIMA Models.pdf\n"
     ]
    },
    {
     "name": "stderr",
     "output_type": "stream",
     "text": [
      "SEMANTIC_SCHOLAR_API_KEY environment variable not set. Semantic Scholar API rate limits may apply.\n",
      "Processing papers::  82%|████████▏ | 9/11 [02:36<00:34, 17.38s/paper]"
     ]
    },
    {
     "name": "stdout",
     "output_type": "stream",
     "text": [
      "Correctly loaded _i_Campylobacter__i_epidemiology_ a descriptive study reviewing 1 million cases in England and Wales between 1989 and 2011.pdf\n"
     ]
    },
    {
     "name": "stderr",
     "output_type": "stream",
     "text": [
      "Failed to parse all of title, DOI, and authors from the ParsingSettings.structured_citation_prompt's response {4,9}, consider using a manifest file or specifying a different citation prompt.\n",
      "Processing papers::  91%|█████████ | 10/11 [02:58<00:18, 18.87s/paper]"
     ]
    },
    {
     "name": "stdout",
     "output_type": "stream",
     "text": [
      "Correctly loaded Weather and notified Campylobacter infections in temperate and sub-tropical regions of Australia_ An ecological study.pdf\n"
     ]
    },
    {
     "name": "stderr",
     "output_type": "stream",
     "text": [
      "SEMANTIC_SCHOLAR_API_KEY environment variable not set. Semantic Scholar API rate limits may apply.\n",
      "Processing papers:: 100%|██████████| 11/11 [03:13<00:00, 17.58s/paper]"
     ]
    },
    {
     "name": "stdout",
     "output_type": "stream",
     "text": [
      "Correctly loaded Are hospitalizations for rotavirus gastroenteritis associated with meteorologic factors_.pdf\n",
      "Docs object saved to my-embeddings.pkl\n",
      "Embeddings created and saved to my-embeddings.pkl\n"
     ]
    },
    {
     "name": "stderr",
     "output_type": "stream",
     "text": [
      "\n"
     ]
    }
   ],
   "source": [
    "import os\n",
    "if os.path.exists(\"my-embeddings.pkl\"):\n",
    "    embeddings.load_existing_embeddings(\"my-embeddings.pkl\")\n",
    "else:\n",
    "    embeddings.process_papers(pdf_file_list)\n",
    "    print(\"Embeddings created and saved to my-embeddings.pkl\")"
   ]
  },
  {
   "cell_type": "markdown",
   "metadata": {},
   "source": [
    "### Inspect Documents Object"
   ]
  },
  {
   "cell_type": "code",
   "execution_count": 6,
   "metadata": {},
   "outputs": [
    {
     "data": {
      "text/html": [
       "<div>\n",
       "<style scoped>\n",
       "    .dataframe tbody tr th:only-of-type {\n",
       "        vertical-align: middle;\n",
       "    }\n",
       "\n",
       "    .dataframe tbody tr th {\n",
       "        vertical-align: top;\n",
       "    }\n",
       "\n",
       "    .dataframe thead th {\n",
       "        text-align: right;\n",
       "    }\n",
       "</style>\n",
       "<table border=\"1\" class=\"dataframe\">\n",
       "  <thead>\n",
       "    <tr style=\"text-align: right;\">\n",
       "      <th></th>\n",
       "      <th>doc_key</th>\n",
       "      <th>key</th>\n",
       "      <th>docname</th>\n",
       "      <th>title</th>\n",
       "      <th>authors</th>\n",
       "      <th>year</th>\n",
       "      <th>journal</th>\n",
       "      <th>volume</th>\n",
       "      <th>pages</th>\n",
       "      <th>doi</th>\n",
       "      <th>url</th>\n",
       "      <th>file_location</th>\n",
       "      <th>citation_count</th>\n",
       "      <th>source_quality</th>\n",
       "    </tr>\n",
       "  </thead>\n",
       "  <tbody>\n",
       "    <tr>\n",
       "      <th>0</th>\n",
       "      <td>2f5ce47e00c8464d</td>\n",
       "      <td>rosenberg2018ambienttemperatureand</td>\n",
       "      <td>rosenberg2018ambienttemperatureand</td>\n",
       "      <td>Ambient temperature and age-related notified C...</td>\n",
       "      <td>[Alina Rosenberg, Miriam Weinberger, Shlomit P...</td>\n",
       "      <td>2018.0</td>\n",
       "      <td>Environmental Research</td>\n",
       "      <td>164</td>\n",
       "      <td>539-545</td>\n",
       "      <td>10.1016/j.envres.2018.03.017</td>\n",
       "      <td>https://doi.org/10.1016/j.envres.2018.03.017</td>\n",
       "      <td>None</td>\n",
       "      <td>20.0</td>\n",
       "      <td>2.0</td>\n",
       "    </tr>\n",
       "    <tr>\n",
       "      <th>1</th>\n",
       "      <td>5e1061700ab7312396d7b7fd503e8c2f</td>\n",
       "      <td>None</td>\n",
       "      <td>A comparison of weather variables linked to in...</td>\n",
       "      <td>None</td>\n",
       "      <td>None</td>\n",
       "      <td>NaN</td>\n",
       "      <td>None</td>\n",
       "      <td>None</td>\n",
       "      <td>None</td>\n",
       "      <td>None</td>\n",
       "      <td>None</td>\n",
       "      <td>None</td>\n",
       "      <td>NaN</td>\n",
       "      <td>NaN</td>\n",
       "    </tr>\n",
       "    <tr>\n",
       "      <th>2</th>\n",
       "      <td>3bc9bfea106e4f86c21c162e72c5e9f0</td>\n",
       "      <td>None</td>\n",
       "      <td>_i_Campylobacter__i_ Monitoring in German Broi...</td>\n",
       "      <td>None</td>\n",
       "      <td>None</td>\n",
       "      <td>NaN</td>\n",
       "      <td>None</td>\n",
       "      <td>None</td>\n",
       "      <td>None</td>\n",
       "      <td>None</td>\n",
       "      <td>None</td>\n",
       "      <td>None</td>\n",
       "      <td>NaN</td>\n",
       "      <td>NaN</td>\n",
       "    </tr>\n",
       "    <tr>\n",
       "      <th>3</th>\n",
       "      <td>bf02d614f82ce026fa308eeeaf192053</td>\n",
       "      <td>None</td>\n",
       "      <td>A time series analysis of the relationship of ...</td>\n",
       "      <td>None</td>\n",
       "      <td>None</td>\n",
       "      <td>NaN</td>\n",
       "      <td>None</td>\n",
       "      <td>None</td>\n",
       "      <td>None</td>\n",
       "      <td>None</td>\n",
       "      <td>None</td>\n",
       "      <td>None</td>\n",
       "      <td>NaN</td>\n",
       "      <td>NaN</td>\n",
       "    </tr>\n",
       "    <tr>\n",
       "      <th>4</th>\n",
       "      <td>b924171c933be72d</td>\n",
       "      <td>aparna2018abayesianspatiotemporal</td>\n",
       "      <td>aparna2018abayesianspatiotemporal</td>\n",
       "      <td>A Bayesian spatio-temporal framework to identi...</td>\n",
       "      <td>[Lal, Aparna, Jonathan Marshall, Jackie Bensch...</td>\n",
       "      <td>2018.0</td>\n",
       "      <td>Spatial and Spatio-temporal Epidemiology</td>\n",
       "      <td>25</td>\n",
       "      <td>39-48</td>\n",
       "      <td>10.1016/j.sste.2017.10.004</td>\n",
       "      <td>https://doi.org/10.1016/j.sste.2017.10.004</td>\n",
       "      <td>None</td>\n",
       "      <td>13.0</td>\n",
       "      <td>1.0</td>\n",
       "    </tr>\n",
       "    <tr>\n",
       "      <th>5</th>\n",
       "      <td>b6a6137315ccac14</td>\n",
       "      <td>wang2018atimeseriesstudy</td>\n",
       "      <td>wang2018atimeseriesstudy</td>\n",
       "      <td>A time-series study of the association of rain...</td>\n",
       "      <td>[Pin Wang, William B. Goggins, Emily Y.Y. Chan]</td>\n",
       "      <td>2018.0</td>\n",
       "      <td>Science of The Total Environment</td>\n",
       "      <td>643</td>\n",
       "      <td>414-422</td>\n",
       "      <td>10.1016/j.scitotenv.2018.06.189</td>\n",
       "      <td>https://doi.org/10.1016/j.scitotenv.2018.06.189</td>\n",
       "      <td>None</td>\n",
       "      <td>69.0</td>\n",
       "      <td>2.0</td>\n",
       "    </tr>\n",
       "    <tr>\n",
       "      <th>6</th>\n",
       "      <td>9e26ccef2cfc3b32fa4c2f143c32c296</td>\n",
       "      <td>None</td>\n",
       "      <td>Weather Variability and the Incidence of Crypt...</td>\n",
       "      <td>None</td>\n",
       "      <td>None</td>\n",
       "      <td>NaN</td>\n",
       "      <td>None</td>\n",
       "      <td>None</td>\n",
       "      <td>None</td>\n",
       "      <td>None</td>\n",
       "      <td>None</td>\n",
       "      <td>None</td>\n",
       "      <td>NaN</td>\n",
       "      <td>NaN</td>\n",
       "    </tr>\n",
       "    <tr>\n",
       "      <th>7</th>\n",
       "      <td>8fd3974f4ecb34bc</td>\n",
       "      <td>nichols2012campylobacterepidemiologya</td>\n",
       "      <td>nichols2012campylobacterepidemiologya</td>\n",
       "      <td>Campylobacter epidemiology: a descriptive stud...</td>\n",
       "      <td>[Gordon L Nichols, Judith F Richardson, Samuel...</td>\n",
       "      <td>2012.0</td>\n",
       "      <td>BMJ Open</td>\n",
       "      <td>2</td>\n",
       "      <td>None</td>\n",
       "      <td>10.1136/bmjopen-2012-001179</td>\n",
       "      <td>https://bmjopen.bmj.com/content/bmjopen/2/4/e0...</td>\n",
       "      <td>None</td>\n",
       "      <td>142.0</td>\n",
       "      <td>1.0</td>\n",
       "    </tr>\n",
       "    <tr>\n",
       "      <th>8</th>\n",
       "      <td>e2e754915d56cacf7780abef4f1fdf7b</td>\n",
       "      <td>None</td>\n",
       "      <td>Weather and notified Campylobacter infections ...</td>\n",
       "      <td>None</td>\n",
       "      <td>None</td>\n",
       "      <td>NaN</td>\n",
       "      <td>None</td>\n",
       "      <td>None</td>\n",
       "      <td>None</td>\n",
       "      <td>None</td>\n",
       "      <td>None</td>\n",
       "      <td>None</td>\n",
       "      <td>NaN</td>\n",
       "      <td>NaN</td>\n",
       "    </tr>\n",
       "    <tr>\n",
       "      <th>9</th>\n",
       "      <td>2de90bd8cde7df74</td>\n",
       "      <td>d.2014arehospitalizationsfor</td>\n",
       "      <td>d.2014arehospitalizationsfor</td>\n",
       "      <td>Are hospitalizations for rotavirus gastroenter...</td>\n",
       "      <td>[Hervás, D., Hervás-Masip, J., Rosell, A., Men...</td>\n",
       "      <td>2014.0</td>\n",
       "      <td>European Journal of Clinical Microbiology &amp;amp...</td>\n",
       "      <td>33</td>\n",
       "      <td>1547-1553</td>\n",
       "      <td>10.1007/s10096-014-2106-y</td>\n",
       "      <td>https://doi.org/10.1007/s10096-014-2106-y</td>\n",
       "      <td>None</td>\n",
       "      <td>22.0</td>\n",
       "      <td>-1.0</td>\n",
       "    </tr>\n",
       "  </tbody>\n",
       "</table>\n",
       "</div>"
      ],
      "text/plain": [
       "                            doc_key                                    key  \\\n",
       "0                  2f5ce47e00c8464d     rosenberg2018ambienttemperatureand   \n",
       "1  5e1061700ab7312396d7b7fd503e8c2f                                   None   \n",
       "2  3bc9bfea106e4f86c21c162e72c5e9f0                                   None   \n",
       "3  bf02d614f82ce026fa308eeeaf192053                                   None   \n",
       "4                  b924171c933be72d      aparna2018abayesianspatiotemporal   \n",
       "5                  b6a6137315ccac14               wang2018atimeseriesstudy   \n",
       "6  9e26ccef2cfc3b32fa4c2f143c32c296                                   None   \n",
       "7                  8fd3974f4ecb34bc  nichols2012campylobacterepidemiologya   \n",
       "8  e2e754915d56cacf7780abef4f1fdf7b                                   None   \n",
       "9                  2de90bd8cde7df74           d.2014arehospitalizationsfor   \n",
       "\n",
       "                                             docname  \\\n",
       "0                 rosenberg2018ambienttemperatureand   \n",
       "1  A comparison of weather variables linked to in...   \n",
       "2  _i_Campylobacter__i_ Monitoring in German Broi...   \n",
       "3  A time series analysis of the relationship of ...   \n",
       "4                  aparna2018abayesianspatiotemporal   \n",
       "5                           wang2018atimeseriesstudy   \n",
       "6  Weather Variability and the Incidence of Crypt...   \n",
       "7              nichols2012campylobacterepidemiologya   \n",
       "8  Weather and notified Campylobacter infections ...   \n",
       "9                       d.2014arehospitalizationsfor   \n",
       "\n",
       "                                               title  \\\n",
       "0  Ambient temperature and age-related notified C...   \n",
       "1                                               None   \n",
       "2                                               None   \n",
       "3                                               None   \n",
       "4  A Bayesian spatio-temporal framework to identi...   \n",
       "5  A time-series study of the association of rain...   \n",
       "6                                               None   \n",
       "7  Campylobacter epidemiology: a descriptive stud...   \n",
       "8                                               None   \n",
       "9  Are hospitalizations for rotavirus gastroenter...   \n",
       "\n",
       "                                             authors    year  \\\n",
       "0  [Alina Rosenberg, Miriam Weinberger, Shlomit P...  2018.0   \n",
       "1                                               None     NaN   \n",
       "2                                               None     NaN   \n",
       "3                                               None     NaN   \n",
       "4  [Lal, Aparna, Jonathan Marshall, Jackie Bensch...  2018.0   \n",
       "5    [Pin Wang, William B. Goggins, Emily Y.Y. Chan]  2018.0   \n",
       "6                                               None     NaN   \n",
       "7  [Gordon L Nichols, Judith F Richardson, Samuel...  2012.0   \n",
       "8                                               None     NaN   \n",
       "9  [Hervás, D., Hervás-Masip, J., Rosell, A., Men...  2014.0   \n",
       "\n",
       "                                             journal volume      pages  \\\n",
       "0                             Environmental Research    164    539-545   \n",
       "1                                               None   None       None   \n",
       "2                                               None   None       None   \n",
       "3                                               None   None       None   \n",
       "4           Spatial and Spatio-temporal Epidemiology     25      39-48   \n",
       "5                   Science of The Total Environment    643    414-422   \n",
       "6                                               None   None       None   \n",
       "7                                           BMJ Open      2       None   \n",
       "8                                               None   None       None   \n",
       "9  European Journal of Clinical Microbiology &amp...     33  1547-1553   \n",
       "\n",
       "                               doi  \\\n",
       "0     10.1016/j.envres.2018.03.017   \n",
       "1                             None   \n",
       "2                             None   \n",
       "3                             None   \n",
       "4       10.1016/j.sste.2017.10.004   \n",
       "5  10.1016/j.scitotenv.2018.06.189   \n",
       "6                             None   \n",
       "7      10.1136/bmjopen-2012-001179   \n",
       "8                             None   \n",
       "9        10.1007/s10096-014-2106-y   \n",
       "\n",
       "                                                 url file_location  \\\n",
       "0       https://doi.org/10.1016/j.envres.2018.03.017          None   \n",
       "1                                               None          None   \n",
       "2                                               None          None   \n",
       "3                                               None          None   \n",
       "4         https://doi.org/10.1016/j.sste.2017.10.004          None   \n",
       "5    https://doi.org/10.1016/j.scitotenv.2018.06.189          None   \n",
       "6                                               None          None   \n",
       "7  https://bmjopen.bmj.com/content/bmjopen/2/4/e0...          None   \n",
       "8                                               None          None   \n",
       "9          https://doi.org/10.1007/s10096-014-2106-y          None   \n",
       "\n",
       "   citation_count  source_quality  \n",
       "0            20.0             2.0  \n",
       "1             NaN             NaN  \n",
       "2             NaN             NaN  \n",
       "3             NaN             NaN  \n",
       "4            13.0             1.0  \n",
       "5            69.0             2.0  \n",
       "6             NaN             NaN  \n",
       "7           142.0             1.0  \n",
       "8             NaN             NaN  \n",
       "9            22.0            -1.0  "
      ]
     },
     "execution_count": 6,
     "metadata": {},
     "output_type": "execute_result"
    }
   ],
   "source": [
    "detail_df = embeddings.get_docs_details()\n",
    "detail_df"
   ]
  },
  {
   "cell_type": "code",
   "execution_count": 18,
   "metadata": {},
   "outputs": [
    {
     "name": "stdout",
     "output_type": "stream",
     "text": [
      "2500\n",
      "Embeddings Dimsenions [219, 1024]\n"
     ]
    }
   ],
   "source": [
    "n_chunks = len(embeddings.docs.texts)\n",
    "for doc in embeddings.docs.texts:\n",
    "    emb_dims = len(doc.embedding)\n",
    "    print(len(doc.text))\n",
    "    break\n",
    "\n",
    "print(f\"Embeddings Dimsenions [{n_chunks}, {emb_dims}]\")"
   ]
  }
 ],
 "metadata": {
  "kernelspec": {
   "display_name": "poopqa",
   "language": "python",
   "name": "python3"
  },
  "language_info": {
   "codemirror_mode": {
    "name": "ipython",
    "version": 3
   },
   "file_extension": ".py",
   "mimetype": "text/x-python",
   "name": "python",
   "nbconvert_exporter": "python",
   "pygments_lexer": "ipython3",
   "version": "3.12.7"
  }
 },
 "nbformat": 4,
 "nbformat_minor": 2
}
