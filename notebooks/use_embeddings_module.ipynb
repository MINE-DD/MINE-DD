{
 "cells": [
  {
   "cell_type": "markdown",
   "metadata": {},
   "source": [
    "# Embeddings Module"
   ]
  },
  {
   "cell_type": "markdown",
   "metadata": {},
   "source": [
    "### Install necessary modules"
   ]
  },
  {
   "cell_type": "code",
   "execution_count": 1,
   "metadata": {},
   "outputs": [
    {
     "name": "stdout",
     "output_type": "stream",
     "text": [
      "Obtaining file:///Users/jose/Repos/MINE-DD\n",
      "  Installing build dependencies ... \u001b[?25ldone\n",
      "\u001b[?25h  Checking if build backend supports build_editable ... \u001b[?25ldone\n",
      "\u001b[?25h  Getting requirements to build editable ... \u001b[?25ldone\n",
      "\u001b[?25h  Preparing editable metadata (pyproject.toml) ... \u001b[?25ldone\n",
      "\u001b[?25hRequirement already satisfied: paper-qa==5.5.0 in /opt/miniconda3/envs/poopqa/lib/python3.12/site-packages (from minedd==0.1.0) (5.5.0)\n",
      "Requirement already satisfied: pandas>=2.2.3 in /opt/miniconda3/envs/poopqa/lib/python3.12/site-packages (from minedd==0.1.0) (2.2.3)\n",
      "Requirement already satisfied: numpy>=1.26.4 in /opt/miniconda3/envs/poopqa/lib/python3.12/site-packages (from minedd==0.1.0) (1.26.4)\n",
      "Requirement already satisfied: tqdm>=4.67.1 in /opt/miniconda3/envs/poopqa/lib/python3.12/site-packages (from minedd==0.1.0) (4.67.1)\n",
      "Requirement already satisfied: openpyxl>=3.1.5 in /opt/miniconda3/envs/poopqa/lib/python3.12/site-packages (from minedd==0.1.0) (3.1.5)\n",
      "Requirement already satisfied: nest-asyncio>=1.6.0 in /opt/miniconda3/envs/poopqa/lib/python3.12/site-packages (from minedd==0.1.0) (1.6.0)\n",
      "Requirement already satisfied: litellm>=1.52.16 in /opt/miniconda3/envs/poopqa/lib/python3.12/site-packages (from minedd==0.1.0) (1.53.1)\n",
      "Requirement already satisfied: aiohttp>=3.11.7 in /opt/miniconda3/envs/poopqa/lib/python3.12/site-packages (from minedd==0.1.0) (3.11.16)\n",
      "Requirement already satisfied: openai>=1.55.0 in /opt/miniconda3/envs/poopqa/lib/python3.12/site-packages (from minedd==0.1.0) (1.55.3)\n",
      "Collecting pydantic>=2.10.1 (from minedd==0.1.0)\n",
      "  Using cached pydantic-2.11.2-py3-none-any.whl.metadata (64 kB)\n",
      "Requirement already satisfied: tiktoken>=0.8.0 in /opt/miniconda3/envs/poopqa/lib/python3.12/site-packages (from minedd==0.1.0) (0.8.0)\n",
      "Requirement already satisfied: requests>=2.32.3 in /opt/miniconda3/envs/poopqa/lib/python3.12/site-packages (from minedd==0.1.0) (2.32.3)\n",
      "Requirement already satisfied: python-dotenv>=1.0.1 in /opt/miniconda3/envs/poopqa/lib/python3.12/site-packages (from minedd==0.1.0) (1.0.1)\n",
      "Requirement already satisfied: PyMuPDF>=1.24.12 in /opt/miniconda3/envs/poopqa/lib/python3.12/site-packages (from paper-qa==5.5.0->minedd==0.1.0) (1.24.14)\n",
      "Requirement already satisfied: anyio in /opt/miniconda3/envs/poopqa/lib/python3.12/site-packages (from paper-qa==5.5.0->minedd==0.1.0) (4.6.2.post1)\n",
      "Requirement already satisfied: coredis in /opt/miniconda3/envs/poopqa/lib/python3.12/site-packages (from paper-qa==5.5.0->minedd==0.1.0) (4.17.0)\n",
      "Requirement already satisfied: fhaviary>=0.10.0 in /opt/miniconda3/envs/poopqa/lib/python3.12/site-packages (from fhaviary[llm]>=0.10.0->paper-qa==5.5.0->minedd==0.1.0) (0.10.2)\n",
      "Requirement already satisfied: html2text in /opt/miniconda3/envs/poopqa/lib/python3.12/site-packages (from paper-qa==5.5.0->minedd==0.1.0) (2024.2.26)\n",
      "Requirement already satisfied: httpx in /opt/miniconda3/envs/poopqa/lib/python3.12/site-packages (from paper-qa==5.5.0->minedd==0.1.0) (0.27.2)\n",
      "Requirement already satisfied: limits in /opt/miniconda3/envs/poopqa/lib/python3.12/site-packages (from paper-qa==5.5.0->minedd==0.1.0) (3.14.1)\n",
      "Requirement already satisfied: pybtex in /opt/miniconda3/envs/poopqa/lib/python3.12/site-packages (from paper-qa==5.5.0->minedd==0.1.0) (0.24.0)\n",
      "Requirement already satisfied: pydantic-settings in /opt/miniconda3/envs/poopqa/lib/python3.12/site-packages (from paper-qa==5.5.0->minedd==0.1.0) (2.6.0)\n",
      "Requirement already satisfied: rich in /opt/miniconda3/envs/poopqa/lib/python3.12/site-packages (from paper-qa==5.5.0->minedd==0.1.0) (13.9.2)\n",
      "Requirement already satisfied: setuptools in /opt/miniconda3/envs/poopqa/lib/python3.12/site-packages (from paper-qa==5.5.0->minedd==0.1.0) (75.1.0)\n",
      "Requirement already satisfied: tantivy in /opt/miniconda3/envs/poopqa/lib/python3.12/site-packages (from paper-qa==5.5.0->minedd==0.1.0) (0.22.0)\n",
      "Requirement already satisfied: tenacity in /opt/miniconda3/envs/poopqa/lib/python3.12/site-packages (from paper-qa==5.5.0->minedd==0.1.0) (9.0.0)\n",
      "Requirement already satisfied: aiohappyeyeballs>=2.3.0 in /opt/miniconda3/envs/poopqa/lib/python3.12/site-packages (from aiohttp>=3.11.7->minedd==0.1.0) (2.4.3)\n",
      "Requirement already satisfied: aiosignal>=1.1.2 in /opt/miniconda3/envs/poopqa/lib/python3.12/site-packages (from aiohttp>=3.11.7->minedd==0.1.0) (1.3.1)\n",
      "Requirement already satisfied: attrs>=17.3.0 in /opt/miniconda3/envs/poopqa/lib/python3.12/site-packages (from aiohttp>=3.11.7->minedd==0.1.0) (24.2.0)\n",
      "Requirement already satisfied: frozenlist>=1.1.1 in /opt/miniconda3/envs/poopqa/lib/python3.12/site-packages (from aiohttp>=3.11.7->minedd==0.1.0) (1.4.1)\n",
      "Requirement already satisfied: multidict<7.0,>=4.5 in /opt/miniconda3/envs/poopqa/lib/python3.12/site-packages (from aiohttp>=3.11.7->minedd==0.1.0) (6.1.0)\n",
      "Requirement already satisfied: propcache>=0.2.0 in /opt/miniconda3/envs/poopqa/lib/python3.12/site-packages (from aiohttp>=3.11.7->minedd==0.1.0) (0.2.0)\n",
      "Requirement already satisfied: yarl<2.0,>=1.17.0 in /opt/miniconda3/envs/poopqa/lib/python3.12/site-packages (from aiohttp>=3.11.7->minedd==0.1.0) (1.18.3)\n",
      "Requirement already satisfied: click in /opt/miniconda3/envs/poopqa/lib/python3.12/site-packages (from litellm>=1.52.16->minedd==0.1.0) (8.1.7)\n",
      "Requirement already satisfied: importlib-metadata>=6.8.0 in /opt/miniconda3/envs/poopqa/lib/python3.12/site-packages (from litellm>=1.52.16->minedd==0.1.0) (8.5.0)\n",
      "Requirement already satisfied: jinja2<4.0.0,>=3.1.2 in /opt/miniconda3/envs/poopqa/lib/python3.12/site-packages (from litellm>=1.52.16->minedd==0.1.0) (3.1.4)\n",
      "Requirement already satisfied: jsonschema<5.0.0,>=4.22.0 in /opt/miniconda3/envs/poopqa/lib/python3.12/site-packages (from litellm>=1.52.16->minedd==0.1.0) (4.23.0)\n",
      "Requirement already satisfied: tokenizers in /opt/miniconda3/envs/poopqa/lib/python3.12/site-packages (from litellm>=1.52.16->minedd==0.1.0) (0.21.0)\n",
      "Requirement already satisfied: distro<2,>=1.7.0 in /opt/miniconda3/envs/poopqa/lib/python3.12/site-packages (from openai>=1.55.0->minedd==0.1.0) (1.9.0)\n",
      "Requirement already satisfied: jiter<1,>=0.4.0 in /opt/miniconda3/envs/poopqa/lib/python3.12/site-packages (from openai>=1.55.0->minedd==0.1.0) (0.8.0)\n",
      "Requirement already satisfied: sniffio in /opt/miniconda3/envs/poopqa/lib/python3.12/site-packages (from openai>=1.55.0->minedd==0.1.0) (1.3.1)\n",
      "Requirement already satisfied: typing-extensions<5,>=4.11 in /opt/miniconda3/envs/poopqa/lib/python3.12/site-packages (from openai>=1.55.0->minedd==0.1.0) (4.12.2)\n",
      "Requirement already satisfied: et-xmlfile in /opt/miniconda3/envs/poopqa/lib/python3.12/site-packages (from openpyxl>=3.1.5->minedd==0.1.0) (2.0.0)\n",
      "Requirement already satisfied: python-dateutil>=2.8.2 in /opt/miniconda3/envs/poopqa/lib/python3.12/site-packages (from pandas>=2.2.3->minedd==0.1.0) (2.9.0.post0)\n",
      "Requirement already satisfied: pytz>=2020.1 in /opt/miniconda3/envs/poopqa/lib/python3.12/site-packages (from pandas>=2.2.3->minedd==0.1.0) (2024.2)\n",
      "Requirement already satisfied: tzdata>=2022.7 in /opt/miniconda3/envs/poopqa/lib/python3.12/site-packages (from pandas>=2.2.3->minedd==0.1.0) (2024.2)\n",
      "Requirement already satisfied: annotated-types>=0.6.0 in /opt/miniconda3/envs/poopqa/lib/python3.12/site-packages (from pydantic>=2.10.1->minedd==0.1.0) (0.7.0)\n",
      "Collecting pydantic-core==2.33.1 (from pydantic>=2.10.1->minedd==0.1.0)\n",
      "  Using cached pydantic_core-2.33.1-cp312-cp312-macosx_11_0_arm64.whl.metadata (6.8 kB)\n",
      "Requirement already satisfied: typing-inspection>=0.4.0 in /opt/miniconda3/envs/poopqa/lib/python3.12/site-packages (from pydantic>=2.10.1->minedd==0.1.0) (0.4.0)\n",
      "Requirement already satisfied: charset-normalizer<4,>=2 in /opt/miniconda3/envs/poopqa/lib/python3.12/site-packages (from requests>=2.32.3->minedd==0.1.0) (2.1.1)\n",
      "Requirement already satisfied: idna<4,>=2.5 in /opt/miniconda3/envs/poopqa/lib/python3.12/site-packages (from requests>=2.32.3->minedd==0.1.0) (3.10)\n",
      "Requirement already satisfied: urllib3<3,>=1.21.1 in /opt/miniconda3/envs/poopqa/lib/python3.12/site-packages (from requests>=2.32.3->minedd==0.1.0) (2.2.3)\n",
      "Requirement already satisfied: certifi>=2017.4.17 in /opt/miniconda3/envs/poopqa/lib/python3.12/site-packages (from requests>=2.32.3->minedd==0.1.0) (2024.8.30)\n",
      "Requirement already satisfied: regex>=2022.1.18 in /opt/miniconda3/envs/poopqa/lib/python3.12/site-packages (from tiktoken>=0.8.0->minedd==0.1.0) (2024.9.11)\n",
      "Requirement already satisfied: docstring_parser>=0.16 in /opt/miniconda3/envs/poopqa/lib/python3.12/site-packages (from fhaviary>=0.10.0->fhaviary[llm]>=0.10.0->paper-qa==5.5.0->minedd==0.1.0) (0.16)\n",
      "Requirement already satisfied: httpcore==1.* in /opt/miniconda3/envs/poopqa/lib/python3.12/site-packages (from httpx->paper-qa==5.5.0->minedd==0.1.0) (1.0.6)\n",
      "Requirement already satisfied: h11<0.15,>=0.13 in /opt/miniconda3/envs/poopqa/lib/python3.12/site-packages (from httpcore==1.*->httpx->paper-qa==5.5.0->minedd==0.1.0) (0.14.0)\n",
      "Requirement already satisfied: zipp>=3.20 in /opt/miniconda3/envs/poopqa/lib/python3.12/site-packages (from importlib-metadata>=6.8.0->litellm>=1.52.16->minedd==0.1.0) (3.21.0)\n",
      "Requirement already satisfied: MarkupSafe>=2.0 in /opt/miniconda3/envs/poopqa/lib/python3.12/site-packages (from jinja2<4.0.0,>=3.1.2->litellm>=1.52.16->minedd==0.1.0) (3.0.2)\n",
      "Requirement already satisfied: jsonschema-specifications>=2023.03.6 in /opt/miniconda3/envs/poopqa/lib/python3.12/site-packages (from jsonschema<5.0.0,>=4.22.0->litellm>=1.52.16->minedd==0.1.0) (2024.10.1)\n",
      "Requirement already satisfied: referencing>=0.28.4 in /opt/miniconda3/envs/poopqa/lib/python3.12/site-packages (from jsonschema<5.0.0,>=4.22.0->litellm>=1.52.16->minedd==0.1.0) (0.35.1)\n",
      "Requirement already satisfied: rpds-py>=0.7.1 in /opt/miniconda3/envs/poopqa/lib/python3.12/site-packages (from jsonschema<5.0.0,>=4.22.0->litellm>=1.52.16->minedd==0.1.0) (0.21.0)\n",
      "Requirement already satisfied: six>=1.5 in /opt/miniconda3/envs/poopqa/lib/python3.12/site-packages (from python-dateutil>=2.8.2->pandas>=2.2.3->minedd==0.1.0) (1.16.0)\n",
      "Requirement already satisfied: async-timeout<5,>4 in /opt/miniconda3/envs/poopqa/lib/python3.12/site-packages (from coredis->paper-qa==5.5.0->minedd==0.1.0) (4.0.3)\n",
      "Requirement already satisfied: deprecated>=1.2 in /opt/miniconda3/envs/poopqa/lib/python3.12/site-packages (from coredis->paper-qa==5.5.0->minedd==0.1.0) (1.2.15)\n",
      "Requirement already satisfied: packaging<25,>=21 in /opt/miniconda3/envs/poopqa/lib/python3.12/site-packages (from coredis->paper-qa==5.5.0->minedd==0.1.0) (24.1)\n",
      "Requirement already satisfied: pympler<2,>1 in /opt/miniconda3/envs/poopqa/lib/python3.12/site-packages (from coredis->paper-qa==5.5.0->minedd==0.1.0) (1.1)\n",
      "Requirement already satisfied: wrapt<2,>=1.1.0 in /opt/miniconda3/envs/poopqa/lib/python3.12/site-packages (from coredis->paper-qa==5.5.0->minedd==0.1.0) (1.14.1)\n",
      "Requirement already satisfied: PyYAML>=3.01 in /opt/miniconda3/envs/poopqa/lib/python3.12/site-packages (from pybtex->paper-qa==5.5.0->minedd==0.1.0) (6.0.2)\n",
      "Requirement already satisfied: latexcodec>=1.0.4 in /opt/miniconda3/envs/poopqa/lib/python3.12/site-packages (from pybtex->paper-qa==5.5.0->minedd==0.1.0) (3.0.0)\n",
      "Requirement already satisfied: markdown-it-py>=2.2.0 in /opt/miniconda3/envs/poopqa/lib/python3.12/site-packages (from rich->paper-qa==5.5.0->minedd==0.1.0) (3.0.0)\n",
      "Requirement already satisfied: pygments<3.0.0,>=2.13.0 in /opt/miniconda3/envs/poopqa/lib/python3.12/site-packages (from rich->paper-qa==5.5.0->minedd==0.1.0) (2.15.1)\n",
      "Requirement already satisfied: huggingface-hub<1.0,>=0.16.4 in /opt/miniconda3/envs/poopqa/lib/python3.12/site-packages (from tokenizers->litellm>=1.52.16->minedd==0.1.0) (0.26.3)\n",
      "Requirement already satisfied: filelock in /opt/miniconda3/envs/poopqa/lib/python3.12/site-packages (from huggingface-hub<1.0,>=0.16.4->tokenizers->litellm>=1.52.16->minedd==0.1.0) (3.16.1)\n",
      "Requirement already satisfied: fsspec>=2023.5.0 in /opt/miniconda3/envs/poopqa/lib/python3.12/site-packages (from huggingface-hub<1.0,>=0.16.4->tokenizers->litellm>=1.52.16->minedd==0.1.0) (2024.10.0)\n",
      "Requirement already satisfied: mdurl~=0.1 in /opt/miniconda3/envs/poopqa/lib/python3.12/site-packages (from markdown-it-py>=2.2.0->rich->paper-qa==5.5.0->minedd==0.1.0) (0.1.2)\n",
      "Using cached pydantic-2.11.2-py3-none-any.whl (443 kB)\n",
      "Using cached pydantic_core-2.33.1-cp312-cp312-macosx_11_0_arm64.whl (1.9 MB)\n",
      "Building wheels for collected packages: minedd\n",
      "  Building editable for minedd (pyproject.toml) ... \u001b[?25ldone\n",
      "\u001b[?25h  Created wheel for minedd: filename=minedd-0.1.0-0.editable-py3-none-any.whl size=13035 sha256=c474645a96702995f1de92b6d8d63bdb39bd77a2659205d44712d5e5102c395e\n",
      "  Stored in directory: /private/var/folders/79/zf67ls7520x9m4mj7nx6q07w0000gp/T/pip-ephem-wheel-cache-bu3cgrky/wheels/c7/bf/1e/e7790fb2ba7cdeeb0fd2dc5eb82103f3cd4a31d3c897656e15\n",
      "Successfully built minedd\n",
      "Installing collected packages: pydantic-core, pydantic, minedd\n",
      "  Attempting uninstall: pydantic-core\n",
      "    Found existing installation: pydantic_core 2.23.4\n",
      "    Uninstalling pydantic_core-2.23.4:\n",
      "      Successfully uninstalled pydantic_core-2.23.4\n",
      "  Attempting uninstall: pydantic\n",
      "    Found existing installation: pydantic 2.9.2\n",
      "    Uninstalling pydantic-2.9.2:\n",
      "      Successfully uninstalled pydantic-2.9.2\n",
      "  Attempting uninstall: minedd\n",
      "    Found existing installation: minedd 0.1.0\n",
      "    Uninstalling minedd-0.1.0:\n",
      "      Successfully uninstalled minedd-0.1.0\n",
      "Successfully installed minedd-0.1.0 pydantic-2.11.2 pydantic-core-2.33.1\n",
      "\n",
      "\u001b[1m[\u001b[0m\u001b[34;49mnotice\u001b[0m\u001b[1;39;49m]\u001b[0m\u001b[39;49m A new release of pip is available: \u001b[0m\u001b[31;49m24.2\u001b[0m\u001b[39;49m -> \u001b[0m\u001b[32;49m25.0.1\u001b[0m\n",
      "\u001b[1m[\u001b[0m\u001b[34;49mnotice\u001b[0m\u001b[1;39;49m]\u001b[0m\u001b[39;49m To update, run: \u001b[0m\u001b[32;49mpip install --upgrade pip\u001b[0m\n",
      "Note: you may need to restart the kernel to use updated packages.\n",
      "Obtaining file:///Users/jose/Repos/MINE-DD\n",
      "  Installing build dependencies ... \u001b[?25ldone\n",
      "\u001b[?25h  Checking if build backend supports build_editable ... \u001b[?25ldone\n",
      "\u001b[?25h  Getting requirements to build editable ... \u001b[?25ldone\n",
      "\u001b[?25h  Preparing editable metadata (pyproject.toml) ... \u001b[?25ldone\n",
      "\u001b[?25hRequirement already satisfied: paper-qa==5.5.0 in /opt/miniconda3/envs/poopqa/lib/python3.12/site-packages (from minedd==0.1.0) (5.5.0)\n",
      "Requirement already satisfied: pandas>=2.2.3 in /opt/miniconda3/envs/poopqa/lib/python3.12/site-packages (from minedd==0.1.0) (2.2.3)\n",
      "Requirement already satisfied: numpy>=1.26.4 in /opt/miniconda3/envs/poopqa/lib/python3.12/site-packages (from minedd==0.1.0) (1.26.4)\n",
      "Requirement already satisfied: tqdm>=4.67.1 in /opt/miniconda3/envs/poopqa/lib/python3.12/site-packages (from minedd==0.1.0) (4.67.1)\n",
      "Requirement already satisfied: openpyxl>=3.1.5 in /opt/miniconda3/envs/poopqa/lib/python3.12/site-packages (from minedd==0.1.0) (3.1.5)\n",
      "Requirement already satisfied: nest-asyncio>=1.6.0 in /opt/miniconda3/envs/poopqa/lib/python3.12/site-packages (from minedd==0.1.0) (1.6.0)\n",
      "Requirement already satisfied: litellm>=1.52.16 in /opt/miniconda3/envs/poopqa/lib/python3.12/site-packages (from minedd==0.1.0) (1.53.1)\n",
      "Requirement already satisfied: aiohttp>=3.11.7 in /opt/miniconda3/envs/poopqa/lib/python3.12/site-packages (from minedd==0.1.0) (3.11.16)\n",
      "Requirement already satisfied: openai>=1.55.0 in /opt/miniconda3/envs/poopqa/lib/python3.12/site-packages (from minedd==0.1.0) (1.55.3)\n",
      "Requirement already satisfied: pydantic>=2.10.1 in /opt/miniconda3/envs/poopqa/lib/python3.12/site-packages (from minedd==0.1.0) (2.11.2)\n",
      "Requirement already satisfied: tiktoken>=0.8.0 in /opt/miniconda3/envs/poopqa/lib/python3.12/site-packages (from minedd==0.1.0) (0.8.0)\n",
      "Requirement already satisfied: requests>=2.32.3 in /opt/miniconda3/envs/poopqa/lib/python3.12/site-packages (from minedd==0.1.0) (2.32.3)\n",
      "Requirement already satisfied: python-dotenv>=1.0.1 in /opt/miniconda3/envs/poopqa/lib/python3.12/site-packages (from minedd==0.1.0) (1.0.1)\n",
      "Requirement already satisfied: PyMuPDF>=1.24.12 in /opt/miniconda3/envs/poopqa/lib/python3.12/site-packages (from paper-qa==5.5.0->minedd==0.1.0) (1.24.14)\n",
      "Requirement already satisfied: anyio in /opt/miniconda3/envs/poopqa/lib/python3.12/site-packages (from paper-qa==5.5.0->minedd==0.1.0) (4.6.2.post1)\n",
      "Requirement already satisfied: coredis in /opt/miniconda3/envs/poopqa/lib/python3.12/site-packages (from paper-qa==5.5.0->minedd==0.1.0) (4.17.0)\n",
      "Requirement already satisfied: fhaviary>=0.10.0 in /opt/miniconda3/envs/poopqa/lib/python3.12/site-packages (from fhaviary[llm]>=0.10.0->paper-qa==5.5.0->minedd==0.1.0) (0.10.2)\n",
      "Requirement already satisfied: html2text in /opt/miniconda3/envs/poopqa/lib/python3.12/site-packages (from paper-qa==5.5.0->minedd==0.1.0) (2024.2.26)\n",
      "Requirement already satisfied: httpx in /opt/miniconda3/envs/poopqa/lib/python3.12/site-packages (from paper-qa==5.5.0->minedd==0.1.0) (0.27.2)\n",
      "Requirement already satisfied: limits in /opt/miniconda3/envs/poopqa/lib/python3.12/site-packages (from paper-qa==5.5.0->minedd==0.1.0) (3.14.1)\n",
      "Requirement already satisfied: pybtex in /opt/miniconda3/envs/poopqa/lib/python3.12/site-packages (from paper-qa==5.5.0->minedd==0.1.0) (0.24.0)\n",
      "Requirement already satisfied: pydantic-settings in /opt/miniconda3/envs/poopqa/lib/python3.12/site-packages (from paper-qa==5.5.0->minedd==0.1.0) (2.6.0)\n",
      "Requirement already satisfied: rich in /opt/miniconda3/envs/poopqa/lib/python3.12/site-packages (from paper-qa==5.5.0->minedd==0.1.0) (13.9.2)\n",
      "Requirement already satisfied: setuptools in /opt/miniconda3/envs/poopqa/lib/python3.12/site-packages (from paper-qa==5.5.0->minedd==0.1.0) (75.1.0)\n",
      "Requirement already satisfied: tantivy in /opt/miniconda3/envs/poopqa/lib/python3.12/site-packages (from paper-qa==5.5.0->minedd==0.1.0) (0.22.0)\n",
      "Requirement already satisfied: tenacity in /opt/miniconda3/envs/poopqa/lib/python3.12/site-packages (from paper-qa==5.5.0->minedd==0.1.0) (9.0.0)\n",
      "Requirement already satisfied: aiohappyeyeballs>=2.3.0 in /opt/miniconda3/envs/poopqa/lib/python3.12/site-packages (from aiohttp>=3.11.7->minedd==0.1.0) (2.4.3)\n",
      "Requirement already satisfied: aiosignal>=1.1.2 in /opt/miniconda3/envs/poopqa/lib/python3.12/site-packages (from aiohttp>=3.11.7->minedd==0.1.0) (1.3.1)\n",
      "Requirement already satisfied: attrs>=17.3.0 in /opt/miniconda3/envs/poopqa/lib/python3.12/site-packages (from aiohttp>=3.11.7->minedd==0.1.0) (24.2.0)\n",
      "Requirement already satisfied: frozenlist>=1.1.1 in /opt/miniconda3/envs/poopqa/lib/python3.12/site-packages (from aiohttp>=3.11.7->minedd==0.1.0) (1.4.1)\n",
      "Requirement already satisfied: multidict<7.0,>=4.5 in /opt/miniconda3/envs/poopqa/lib/python3.12/site-packages (from aiohttp>=3.11.7->minedd==0.1.0) (6.1.0)\n",
      "Requirement already satisfied: propcache>=0.2.0 in /opt/miniconda3/envs/poopqa/lib/python3.12/site-packages (from aiohttp>=3.11.7->minedd==0.1.0) (0.2.0)\n",
      "Requirement already satisfied: yarl<2.0,>=1.17.0 in /opt/miniconda3/envs/poopqa/lib/python3.12/site-packages (from aiohttp>=3.11.7->minedd==0.1.0) (1.18.3)\n",
      "Requirement already satisfied: click in /opt/miniconda3/envs/poopqa/lib/python3.12/site-packages (from litellm>=1.52.16->minedd==0.1.0) (8.1.7)\n",
      "Requirement already satisfied: importlib-metadata>=6.8.0 in /opt/miniconda3/envs/poopqa/lib/python3.12/site-packages (from litellm>=1.52.16->minedd==0.1.0) (8.5.0)\n",
      "Requirement already satisfied: jinja2<4.0.0,>=3.1.2 in /opt/miniconda3/envs/poopqa/lib/python3.12/site-packages (from litellm>=1.52.16->minedd==0.1.0) (3.1.4)\n",
      "Requirement already satisfied: jsonschema<5.0.0,>=4.22.0 in /opt/miniconda3/envs/poopqa/lib/python3.12/site-packages (from litellm>=1.52.16->minedd==0.1.0) (4.23.0)\n",
      "Requirement already satisfied: tokenizers in /opt/miniconda3/envs/poopqa/lib/python3.12/site-packages (from litellm>=1.52.16->minedd==0.1.0) (0.21.0)\n",
      "Requirement already satisfied: distro<2,>=1.7.0 in /opt/miniconda3/envs/poopqa/lib/python3.12/site-packages (from openai>=1.55.0->minedd==0.1.0) (1.9.0)\n",
      "Requirement already satisfied: jiter<1,>=0.4.0 in /opt/miniconda3/envs/poopqa/lib/python3.12/site-packages (from openai>=1.55.0->minedd==0.1.0) (0.8.0)\n",
      "Requirement already satisfied: sniffio in /opt/miniconda3/envs/poopqa/lib/python3.12/site-packages (from openai>=1.55.0->minedd==0.1.0) (1.3.1)\n",
      "Requirement already satisfied: typing-extensions<5,>=4.11 in /opt/miniconda3/envs/poopqa/lib/python3.12/site-packages (from openai>=1.55.0->minedd==0.1.0) (4.12.2)\n",
      "Requirement already satisfied: et-xmlfile in /opt/miniconda3/envs/poopqa/lib/python3.12/site-packages (from openpyxl>=3.1.5->minedd==0.1.0) (2.0.0)\n",
      "Requirement already satisfied: python-dateutil>=2.8.2 in /opt/miniconda3/envs/poopqa/lib/python3.12/site-packages (from pandas>=2.2.3->minedd==0.1.0) (2.9.0.post0)\n",
      "Requirement already satisfied: pytz>=2020.1 in /opt/miniconda3/envs/poopqa/lib/python3.12/site-packages (from pandas>=2.2.3->minedd==0.1.0) (2024.2)\n",
      "Requirement already satisfied: tzdata>=2022.7 in /opt/miniconda3/envs/poopqa/lib/python3.12/site-packages (from pandas>=2.2.3->minedd==0.1.0) (2024.2)\n",
      "Requirement already satisfied: annotated-types>=0.6.0 in /opt/miniconda3/envs/poopqa/lib/python3.12/site-packages (from pydantic>=2.10.1->minedd==0.1.0) (0.7.0)\n",
      "Requirement already satisfied: pydantic-core==2.33.1 in /opt/miniconda3/envs/poopqa/lib/python3.12/site-packages (from pydantic>=2.10.1->minedd==0.1.0) (2.33.1)\n",
      "Requirement already satisfied: typing-inspection>=0.4.0 in /opt/miniconda3/envs/poopqa/lib/python3.12/site-packages (from pydantic>=2.10.1->minedd==0.1.0) (0.4.0)\n",
      "Requirement already satisfied: charset-normalizer<4,>=2 in /opt/miniconda3/envs/poopqa/lib/python3.12/site-packages (from requests>=2.32.3->minedd==0.1.0) (2.1.1)\n",
      "Requirement already satisfied: idna<4,>=2.5 in /opt/miniconda3/envs/poopqa/lib/python3.12/site-packages (from requests>=2.32.3->minedd==0.1.0) (3.10)\n",
      "Requirement already satisfied: urllib3<3,>=1.21.1 in /opt/miniconda3/envs/poopqa/lib/python3.12/site-packages (from requests>=2.32.3->minedd==0.1.0) (2.2.3)\n",
      "Requirement already satisfied: certifi>=2017.4.17 in /opt/miniconda3/envs/poopqa/lib/python3.12/site-packages (from requests>=2.32.3->minedd==0.1.0) (2024.8.30)\n",
      "Requirement already satisfied: regex>=2022.1.18 in /opt/miniconda3/envs/poopqa/lib/python3.12/site-packages (from tiktoken>=0.8.0->minedd==0.1.0) (2024.9.11)\n",
      "Requirement already satisfied: docstring_parser>=0.16 in /opt/miniconda3/envs/poopqa/lib/python3.12/site-packages (from fhaviary>=0.10.0->fhaviary[llm]>=0.10.0->paper-qa==5.5.0->minedd==0.1.0) (0.16)\n",
      "Requirement already satisfied: httpcore==1.* in /opt/miniconda3/envs/poopqa/lib/python3.12/site-packages (from httpx->paper-qa==5.5.0->minedd==0.1.0) (1.0.6)\n",
      "Requirement already satisfied: h11<0.15,>=0.13 in /opt/miniconda3/envs/poopqa/lib/python3.12/site-packages (from httpcore==1.*->httpx->paper-qa==5.5.0->minedd==0.1.0) (0.14.0)\n",
      "Requirement already satisfied: zipp>=3.20 in /opt/miniconda3/envs/poopqa/lib/python3.12/site-packages (from importlib-metadata>=6.8.0->litellm>=1.52.16->minedd==0.1.0) (3.21.0)\n",
      "Requirement already satisfied: MarkupSafe>=2.0 in /opt/miniconda3/envs/poopqa/lib/python3.12/site-packages (from jinja2<4.0.0,>=3.1.2->litellm>=1.52.16->minedd==0.1.0) (3.0.2)\n",
      "Requirement already satisfied: jsonschema-specifications>=2023.03.6 in /opt/miniconda3/envs/poopqa/lib/python3.12/site-packages (from jsonschema<5.0.0,>=4.22.0->litellm>=1.52.16->minedd==0.1.0) (2024.10.1)\n",
      "Requirement already satisfied: referencing>=0.28.4 in /opt/miniconda3/envs/poopqa/lib/python3.12/site-packages (from jsonschema<5.0.0,>=4.22.0->litellm>=1.52.16->minedd==0.1.0) (0.35.1)\n",
      "Requirement already satisfied: rpds-py>=0.7.1 in /opt/miniconda3/envs/poopqa/lib/python3.12/site-packages (from jsonschema<5.0.0,>=4.22.0->litellm>=1.52.16->minedd==0.1.0) (0.21.0)\n",
      "Requirement already satisfied: six>=1.5 in /opt/miniconda3/envs/poopqa/lib/python3.12/site-packages (from python-dateutil>=2.8.2->pandas>=2.2.3->minedd==0.1.0) (1.16.0)\n",
      "Requirement already satisfied: async-timeout<5,>4 in /opt/miniconda3/envs/poopqa/lib/python3.12/site-packages (from coredis->paper-qa==5.5.0->minedd==0.1.0) (4.0.3)\n",
      "Requirement already satisfied: deprecated>=1.2 in /opt/miniconda3/envs/poopqa/lib/python3.12/site-packages (from coredis->paper-qa==5.5.0->minedd==0.1.0) (1.2.15)\n",
      "Requirement already satisfied: packaging<25,>=21 in /opt/miniconda3/envs/poopqa/lib/python3.12/site-packages (from coredis->paper-qa==5.5.0->minedd==0.1.0) (24.1)\n",
      "Requirement already satisfied: pympler<2,>1 in /opt/miniconda3/envs/poopqa/lib/python3.12/site-packages (from coredis->paper-qa==5.5.0->minedd==0.1.0) (1.1)\n",
      "Requirement already satisfied: wrapt<2,>=1.1.0 in /opt/miniconda3/envs/poopqa/lib/python3.12/site-packages (from coredis->paper-qa==5.5.0->minedd==0.1.0) (1.14.1)\n",
      "Requirement already satisfied: PyYAML>=3.01 in /opt/miniconda3/envs/poopqa/lib/python3.12/site-packages (from pybtex->paper-qa==5.5.0->minedd==0.1.0) (6.0.2)\n",
      "Requirement already satisfied: latexcodec>=1.0.4 in /opt/miniconda3/envs/poopqa/lib/python3.12/site-packages (from pybtex->paper-qa==5.5.0->minedd==0.1.0) (3.0.0)\n",
      "Requirement already satisfied: markdown-it-py>=2.2.0 in /opt/miniconda3/envs/poopqa/lib/python3.12/site-packages (from rich->paper-qa==5.5.0->minedd==0.1.0) (3.0.0)\n",
      "Requirement already satisfied: pygments<3.0.0,>=2.13.0 in /opt/miniconda3/envs/poopqa/lib/python3.12/site-packages (from rich->paper-qa==5.5.0->minedd==0.1.0) (2.15.1)\n",
      "Requirement already satisfied: huggingface-hub<1.0,>=0.16.4 in /opt/miniconda3/envs/poopqa/lib/python3.12/site-packages (from tokenizers->litellm>=1.52.16->minedd==0.1.0) (0.26.3)\n",
      "Requirement already satisfied: filelock in /opt/miniconda3/envs/poopqa/lib/python3.12/site-packages (from huggingface-hub<1.0,>=0.16.4->tokenizers->litellm>=1.52.16->minedd==0.1.0) (3.16.1)\n",
      "Requirement already satisfied: fsspec>=2023.5.0 in /opt/miniconda3/envs/poopqa/lib/python3.12/site-packages (from huggingface-hub<1.0,>=0.16.4->tokenizers->litellm>=1.52.16->minedd==0.1.0) (2024.10.0)\n",
      "Requirement already satisfied: mdurl~=0.1 in /opt/miniconda3/envs/poopqa/lib/python3.12/site-packages (from markdown-it-py>=2.2.0->rich->paper-qa==5.5.0->minedd==0.1.0) (0.1.2)\n",
      "Building wheels for collected packages: minedd\n",
      "  Building editable for minedd (pyproject.toml) ... \u001b[?25ldone\n",
      "\u001b[?25h  Created wheel for minedd: filename=minedd-0.1.0-0.editable-py3-none-any.whl size=13035 sha256=3965feb4188756081a2c9b6a9bed805af980426f6296a3be82a0c31d630daabe\n",
      "  Stored in directory: /private/var/folders/79/zf67ls7520x9m4mj7nx6q07w0000gp/T/pip-ephem-wheel-cache-qc0smfxq/wheels/c7/bf/1e/e7790fb2ba7cdeeb0fd2dc5eb82103f3cd4a31d3c897656e15\n",
      "Successfully built minedd\n",
      "Installing collected packages: minedd\n",
      "  Attempting uninstall: minedd\n",
      "    Found existing installation: minedd 0.1.0\n",
      "    Uninstalling minedd-0.1.0:\n",
      "      Successfully uninstalled minedd-0.1.0\n",
      "Successfully installed minedd-0.1.0\n",
      "\n",
      "\u001b[1m[\u001b[0m\u001b[34;49mnotice\u001b[0m\u001b[1;39;49m]\u001b[0m\u001b[39;49m A new release of pip is available: \u001b[0m\u001b[31;49m24.2\u001b[0m\u001b[39;49m -> \u001b[0m\u001b[32;49m25.0.1\u001b[0m\n",
      "\u001b[1m[\u001b[0m\u001b[34;49mnotice\u001b[0m\u001b[1;39;49m]\u001b[0m\u001b[39;49m To update, run: \u001b[0m\u001b[32;49mpip install --upgrade pip\u001b[0m\n",
      "Note: you may need to restart the kernel to use updated packages.\n",
      "Collecting pydantic==2.9.2\n",
      "  Using cached pydantic-2.9.2-py3-none-any.whl.metadata (149 kB)\n",
      "Requirement already satisfied: annotated-types>=0.6.0 in /opt/miniconda3/envs/poopqa/lib/python3.12/site-packages (from pydantic==2.9.2) (0.7.0)\n",
      "Collecting pydantic-core==2.23.4 (from pydantic==2.9.2)\n",
      "  Using cached pydantic_core-2.23.4-cp312-cp312-macosx_11_0_arm64.whl.metadata (6.6 kB)\n",
      "Requirement already satisfied: typing-extensions>=4.6.1 in /opt/miniconda3/envs/poopqa/lib/python3.12/site-packages (from pydantic==2.9.2) (4.12.2)\n",
      "Using cached pydantic-2.9.2-py3-none-any.whl (434 kB)\n",
      "Using cached pydantic_core-2.23.4-cp312-cp312-macosx_11_0_arm64.whl (1.8 MB)\n",
      "Installing collected packages: pydantic-core, pydantic\n",
      "  Attempting uninstall: pydantic-core\n",
      "    Found existing installation: pydantic_core 2.33.1\n",
      "    Uninstalling pydantic_core-2.33.1:\n",
      "      Successfully uninstalled pydantic_core-2.33.1\n",
      "  Attempting uninstall: pydantic\n",
      "    Found existing installation: pydantic 2.11.2\n",
      "    Uninstalling pydantic-2.11.2:\n",
      "      Successfully uninstalled pydantic-2.11.2\n",
      "\u001b[31mERROR: pip's dependency resolver does not currently take into account all the packages that are installed. This behaviour is the source of the following dependency conflicts.\n",
      "minedd 0.1.0 requires pydantic>=2.10.1, but you have pydantic 2.9.2 which is incompatible.\u001b[0m\u001b[31m\n",
      "\u001b[0mSuccessfully installed pydantic-2.9.2 pydantic-core-2.23.4\n",
      "\n",
      "\u001b[1m[\u001b[0m\u001b[34;49mnotice\u001b[0m\u001b[1;39;49m]\u001b[0m\u001b[39;49m A new release of pip is available: \u001b[0m\u001b[31;49m24.2\u001b[0m\u001b[39;49m -> \u001b[0m\u001b[32;49m25.0.1\u001b[0m\n",
      "\u001b[1m[\u001b[0m\u001b[34;49mnotice\u001b[0m\u001b[1;39;49m]\u001b[0m\u001b[39;49m To update, run: \u001b[0m\u001b[32;49mpip install --upgrade pip\u001b[0m\n",
      "Note: you may need to restart the kernel to use updated packages.\n",
      "Requirement already satisfied: nest_asyncio in /opt/miniconda3/envs/poopqa/lib/python3.12/site-packages (1.6.0)\n",
      "\n",
      "\u001b[1m[\u001b[0m\u001b[34;49mnotice\u001b[0m\u001b[1;39;49m]\u001b[0m\u001b[39;49m A new release of pip is available: \u001b[0m\u001b[31;49m24.2\u001b[0m\u001b[39;49m -> \u001b[0m\u001b[32;49m25.0.1\u001b[0m\n",
      "\u001b[1m[\u001b[0m\u001b[34;49mnotice\u001b[0m\u001b[1;39;49m]\u001b[0m\u001b[39;49m To update, run: \u001b[0m\u001b[32;49mpip install --upgrade pip\u001b[0m\n",
      "Note: you may need to restart the kernel to use updated packages.\n"
     ]
    }
   ],
   "source": [
    "%pip install -U -e ..\n",
    "%pip install -e ..\n",
    "%pip install pydantic==2.9.2\n",
    "%pip install nest_asyncio"
   ]
  },
  {
   "cell_type": "code",
   "execution_count": 2,
   "metadata": {},
   "outputs": [],
   "source": [
    "# This is needed to run asyncio code in Jupyter notebooks\n",
    "# without getting \"RuntimeError: This event loop is already running\"\n",
    "import nest_asyncio\n",
    "nest_asyncio.apply()"
   ]
  },
  {
   "cell_type": "markdown",
   "metadata": {},
   "source": [
    "### Load Embeddings object"
   ]
  },
  {
   "cell_type": "code",
   "execution_count": 3,
   "metadata": {},
   "outputs": [
    {
     "data": {
      "text/plain": [
       "Embeddings(output_embeddings_path=my-embeddings.pkl, docs=None)"
      ]
     },
     "execution_count": 3,
     "metadata": {},
     "output_type": "execute_result"
    }
   ],
   "source": [
    "from minedd.embeddings import Embeddings\n",
    "\n",
    "embeddings = Embeddings(\n",
    "    output_embeddings_path=\"my-embeddings.pkl\",\n",
    ")\n",
    "embeddings"
   ]
  },
  {
   "cell_type": "markdown",
   "metadata": {},
   "source": [
    "### Load papers for processing"
   ]
  },
  {
   "cell_type": "code",
   "execution_count": 4,
   "metadata": {},
   "outputs": [
    {
     "name": "stdout",
     "output_type": "stream",
     "text": [
      "11\n"
     ]
    },
    {
     "data": {
      "text/plain": [
       "['Ambient temperature and age-related notified Campylobacter infection in Israel_ A 12-year time series study.pdf',\n",
       " 'A comparison of weather variables linked to infectious disease patterns using laboratory addresses and patient residence addresses.pdf',\n",
       " '.DS_Store',\n",
       " '_i_Campylobacter__i_ Monitoring in German Broiler Flocks_ An Explorative Time Series Analysis.pdf',\n",
       " 'A time series analysis of the relationship of ambient temperature and common bacterial enteric infections in two Canadian provinces.pdf',\n",
       " 'A Bayesian spatio-temporal framework to identify outbreaks and examine environmental and social risk factors for infectious diseases monitored by routine surveillance.pdf',\n",
       " 'A time-series study of the association of rainfall_ relative humidity and ambient temperature with hospitalizations for rotavirus and norovirus infection among children in Hong Kong.pdf',\n",
       " 'Weather Variability and the Incidence of Cryptosporidiosis_ Comparison of Time Series Poisson Regression and SARIMA Models.pdf',\n",
       " '_i_Campylobacter__i_epidemiology_ a descriptive study reviewing 1 million cases in England and Wales between 1989 and 2011.pdf',\n",
       " 'Weather and notified Campylobacter infections in temperate and sub-tropical regions of Australia_ An ecological study.pdf']"
      ]
     },
     "execution_count": 4,
     "metadata": {},
     "output_type": "execute_result"
    }
   ],
   "source": [
    "from pathlib import Path\n",
    "PAPERS_DIRECTORY = Path.home() / \"papers_minedd/\"\n",
    "pdf_file_list = embeddings.prepare_papers(PAPERS_DIRECTORY)\n",
    "print(len(pdf_file_list))\n",
    "# Check the first 10 files\n",
    "pdf_file_list[:10]"
   ]
  },
  {
   "cell_type": "markdown",
   "metadata": {},
   "source": [
    "### Define paperQA settings"
   ]
  },
  {
   "cell_type": "code",
   "execution_count": 5,
   "metadata": {},
   "outputs": [],
   "source": [
    "from paperqa.settings import Settings, AgentSettings\n",
    "\n",
    "MODEL = \"ollama/llama3.2\"\n",
    "EMBEDDING = \"ollama/mxbai-embed-large:latest\"\n",
    "\n",
    "\"\"\"Configure settings for paperqa.\"\"\"\n",
    "local_llm_config = {\n",
    "    \"model_list\": [\n",
    "        {\n",
    "            \"model_name\": MODEL,\n",
    "            \"litellm_params\": {\n",
    "                \"model\": MODEL,\n",
    "                \"api_base\": \"http://0.0.0.0:11434\",\n",
    "            },\n",
    "            \"answer\": {\n",
    "                \"evidence_k\": 40,\n",
    "                \"evidence_detailed_citations\": True,\n",
    "                \"evidence_summary_length\": \"about 100 words\",\n",
    "                \"answer_max_sources\": 10,\n",
    "                \"answer_length\": \"about 600 words, but can be longer\",\n",
    "                \"max_concurrent_requests\": 10,\n",
    "                \"answer_filter_extra_background\": False\n",
    "            },\n",
    "            \"parsing\": {\n",
    "                \"use_doc_details\": True\n",
    "            }\n",
    "        }\n",
    "    ]\n",
    "}\n",
    "\n",
    "settings = Settings(\n",
    "    llm=MODEL,\n",
    "    llm_config=local_llm_config,\n",
    "    summary_llm=MODEL,\n",
    "    summary_llm_config=local_llm_config,\n",
    "    paper_directory=str(PAPERS_DIRECTORY),\n",
    "    embedding=EMBEDDING,\n",
    "    agent=AgentSettings(\n",
    "        agent_llm=MODEL,\n",
    "        agent_llm_config=local_llm_config,\n",
    "        return_paper_metadata=True\n",
    "    )\n",
    ")"
   ]
  },
  {
   "cell_type": "markdown",
   "metadata": {},
   "source": [
    "### Create Embeddings and save in PKL"
   ]
  },
  {
   "cell_type": "code",
   "execution_count": 6,
   "metadata": {},
   "outputs": [
    {
     "name": "stdout",
     "output_type": "stream",
     "text": [
      "Creating new Docs object.\n"
     ]
    },
    {
     "name": "stderr",
     "output_type": "stream",
     "text": [
      "  0%|          | 0/11 [00:00<?, ?it/s]/opt/miniconda3/envs/poopqa/lib/python3.12/site-packages/tqdm/auto.py:21: TqdmWarning: IProgress not found. Please update jupyter and ipywidgets. See https://ipywidgets.readthedocs.io/en/stable/user_install.html\n",
      "  from .autonotebook import tqdm as notebook_tqdm\n",
      "Discarding list of DOIs [None, None, None, None] due to it not having one value, full data was {'doi': [None, None, None, None], 'authors': [['Weinberger, Miriam', 'Shlomit Paz', 'Lea Valinskye', 'Vered Agmon', 'Chava Peretz', 'others'], None, None, None], 'title': ['Ambient Temperature and Age-Related Notiﬁed Campylobacter Infection in TIsrael: A 12-Year Time Series Study.', 'Campylobacter species and human infection', 'EFSA Scientific Opinion on the Risk Assessment of Campylobacter in poultry and laying hens in relation to human health', 'Campylobacter']}.\n",
      "  9%|▉         | 1/11 [00:16<02:48, 16.86s/it]"
     ]
    },
    {
     "name": "stdout",
     "output_type": "stream",
     "text": [
      "Could not read Ambient temperature and age-related notified Campylobacter infection in Israel_ A 12-year time series study.pdf: 'list' object has no attribute 'lower'\n"
     ]
    },
    {
     "name": "stderr",
     "output_type": "stream",
     "text": [
      "Failed to parse all of title, DOI, and authors from the ParsingSettings.structured_citation_prompt's response {\n",
      "    'title': title,\n",
      "    'authors': authors,\n",
      "    'doi': doi\n",
      "}, consider using a manifest file or specifying a different citation prompt.\n",
      " 18%|█▊        | 2/11 [00:32<02:26, 16.27s/it]"
     ]
    },
    {
     "name": "stdout",
     "output_type": "stream",
     "text": [
      "Correctly loaded A comparison of weather variables linked to infectious disease patterns using laboratory addresses and patient residence addresses.pdf\n",
      "Could not read .DS_Store: ParsedText.content must be a `list`, not <class 'str'>.\n"
     ]
    },
    {
     "name": "stderr",
     "output_type": "stream",
     "text": [
      "Failed to parse all of title, DOI, and authors from the ParsingSettings.structured_citation_prompt's response {\n",
      "        'title': title,\n",
      "        'authors': authors,\n",
      "        'doi': doi\n",
      "    }, consider using a manifest file or specifying a different citation prompt.\n",
      " 36%|███▋      | 4/11 [00:51<01:23, 11.95s/it]"
     ]
    },
    {
     "name": "stdout",
     "output_type": "stream",
     "text": [
      "Correctly loaded _i_Campylobacter__i_ Monitoring in German Broiler Flocks_ An Explorative Time Series Analysis.pdf\n"
     ]
    },
    {
     "name": "stderr",
     "output_type": "stream",
     "text": [
      "Failed to parse all of title, DOI, and authors from the ParsingSettings.structured_citation_prompt's response {\n",
      "        \"title\": title,\n",
      "        \"authors\": authors,\n",
      "        \"doi\": doi\n",
      "    }, consider using a manifest file or specifying a different citation prompt.\n",
      " 45%|████▌     | 5/11 [01:04<01:14, 12.35s/it]"
     ]
    },
    {
     "name": "stdout",
     "output_type": "stream",
     "text": [
      "Correctly loaded A time series analysis of the relationship of ambient temperature and common bacterial enteric infections in two Canadian provinces.pdf\n"
     ]
    },
    {
     "name": "stderr",
     "output_type": "stream",
     "text": [
      "Failed to parse all of title, DOI, and authors from the ParsingSettings.structured_citation_prompt's response {4,9}, consider using a manifest file or specifying a different citation prompt.\n",
      " 55%|█████▍    | 6/11 [01:28<01:19, 15.93s/it]"
     ]
    },
    {
     "name": "stdout",
     "output_type": "stream",
     "text": [
      "Correctly loaded A Bayesian spatio-temporal framework to identify outbreaks and examine environmental and social risk factors for infectious diseases monitored by routine surveillance.pdf\n"
     ]
    },
    {
     "name": "stderr",
     "output_type": "stream",
     "text": [
      "Failed to parse all of title, DOI, and authors from the ParsingSettings.structured_citation_prompt's response {'title': None, 'authors': [], 'doi': None}, consider using a manifest file or specifying a different citation prompt.\n",
      " 64%|██████▎   | 7/11 [01:57<01:19, 19.89s/it]"
     ]
    },
    {
     "name": "stdout",
     "output_type": "stream",
     "text": [
      "Correctly loaded A time-series study of the association of rainfall_ relative humidity and ambient temperature with hospitalizations for rotavirus and norovirus infection among children in Hong Kong.pdf\n"
     ]
    },
    {
     "name": "stderr",
     "output_type": "stream",
     "text": [
      "Failed to parse all of title, DOI, and authors from the ParsingSettings.structured_citation_prompt's response {\n",
      "        \"title\": title,\n",
      "        \"authors\": authors,\n",
      "        \"doi\": doi\n",
      "    }, consider using a manifest file or specifying a different citation prompt.\n",
      " 73%|███████▎  | 8/11 [02:16<00:58, 19.47s/it]"
     ]
    },
    {
     "name": "stdout",
     "output_type": "stream",
     "text": [
      "Correctly loaded Weather Variability and the Incidence of Cryptosporidiosis_ Comparison of Time Series Poisson Regression and SARIMA Models.pdf\n"
     ]
    },
    {
     "name": "stderr",
     "output_type": "stream",
     "text": [
      "Failed to parse all of title, DOI, and authors from the ParsingSettings.structured_citation_prompt's response {4,9}, consider using a manifest file or specifying a different citation prompt.\n",
      " 82%|████████▏ | 9/11 [02:35<00:38, 19.41s/it]"
     ]
    },
    {
     "name": "stdout",
     "output_type": "stream",
     "text": [
      "Correctly loaded _i_Campylobacter__i_epidemiology_ a descriptive study reviewing 1 million cases in England and Wales between 1989 and 2011.pdf\n"
     ]
    },
    {
     "name": "stderr",
     "output_type": "stream",
     "text": [
      "CROSSREF_MAILTO environment variable not set. Crossref API rate limits may apply.\n",
      "CROSSREF_API_KEY environment variable not set. Crossref API rate limits may apply.\n",
      "SEMANTIC_SCHOLAR_API_KEY environment variable not set. Semantic Scholar API rate limits may apply.\n",
      " 91%|█████████ | 10/11 [02:47<00:17, 17.14s/it]"
     ]
    },
    {
     "name": "stdout",
     "output_type": "stream",
     "text": [
      "Correctly loaded Weather and notified Campylobacter infections in temperate and sub-tropical regions of Australia_ An ecological study.pdf\n"
     ]
    },
    {
     "name": "stderr",
     "output_type": "stream",
     "text": [
      "SEMANTIC_SCHOLAR_API_KEY environment variable not set. Semantic Scholar API rate limits may apply.\n",
      "100%|██████████| 11/11 [03:06<00:00, 16.95s/it]"
     ]
    },
    {
     "name": "stdout",
     "output_type": "stream",
     "text": [
      "Correctly loaded Are hospitalizations for rotavirus gastroenteritis associated with meteorologic factors_.pdf\n",
      "Docs object saved to my-embeddings.pkl\n",
      "Embeddings created and saved to my-embeddings.pkl\n"
     ]
    },
    {
     "name": "stderr",
     "output_type": "stream",
     "text": [
      "\n"
     ]
    }
   ],
   "source": [
    "embeddings.process_papers(settings, PAPERS_DIRECTORY, pdf_file_list)\n",
    "print(\"Embeddings created and saved to my-embeddings.pkl\")"
   ]
  },
  {
   "cell_type": "markdown",
   "metadata": {},
   "source": [
    "### Inspect Documents Object"
   ]
  },
  {
   "cell_type": "code",
   "execution_count": 7,
   "metadata": {},
   "outputs": [
    {
     "data": {
      "text/html": [
       "<div>\n",
       "<style scoped>\n",
       "    .dataframe tbody tr th:only-of-type {\n",
       "        vertical-align: middle;\n",
       "    }\n",
       "\n",
       "    .dataframe tbody tr th {\n",
       "        vertical-align: top;\n",
       "    }\n",
       "\n",
       "    .dataframe thead th {\n",
       "        text-align: right;\n",
       "    }\n",
       "</style>\n",
       "<table border=\"1\" class=\"dataframe\">\n",
       "  <thead>\n",
       "    <tr style=\"text-align: right;\">\n",
       "      <th></th>\n",
       "      <th>doc_key</th>\n",
       "      <th>key</th>\n",
       "      <th>docname</th>\n",
       "      <th>title</th>\n",
       "      <th>authors</th>\n",
       "      <th>year</th>\n",
       "      <th>journal</th>\n",
       "      <th>volume</th>\n",
       "      <th>pages</th>\n",
       "      <th>doi</th>\n",
       "      <th>url</th>\n",
       "      <th>file_location</th>\n",
       "      <th>citation_count</th>\n",
       "      <th>source_quality</th>\n",
       "    </tr>\n",
       "  </thead>\n",
       "  <tbody>\n",
       "    <tr>\n",
       "      <th>0</th>\n",
       "      <td>5e1061700ab7312396d7b7fd503e8c2f</td>\n",
       "      <td>None</td>\n",
       "      <td>A comparison of weather variables linked to in...</td>\n",
       "      <td>None</td>\n",
       "      <td>None</td>\n",
       "      <td>NaN</td>\n",
       "      <td>None</td>\n",
       "      <td>None</td>\n",
       "      <td>None</td>\n",
       "      <td>None</td>\n",
       "      <td>None</td>\n",
       "      <td>None</td>\n",
       "      <td>NaN</td>\n",
       "      <td>NaN</td>\n",
       "    </tr>\n",
       "    <tr>\n",
       "      <th>1</th>\n",
       "      <td>3bc9bfea106e4f86c21c162e72c5e9f0</td>\n",
       "      <td>None</td>\n",
       "      <td>_i_Campylobacter__i_ Monitoring in German Broi...</td>\n",
       "      <td>None</td>\n",
       "      <td>None</td>\n",
       "      <td>NaN</td>\n",
       "      <td>None</td>\n",
       "      <td>None</td>\n",
       "      <td>None</td>\n",
       "      <td>None</td>\n",
       "      <td>None</td>\n",
       "      <td>None</td>\n",
       "      <td>NaN</td>\n",
       "      <td>NaN</td>\n",
       "    </tr>\n",
       "    <tr>\n",
       "      <th>2</th>\n",
       "      <td>bf02d614f82ce026fa308eeeaf192053</td>\n",
       "      <td>None</td>\n",
       "      <td>A time series analysis of the relationship of ...</td>\n",
       "      <td>None</td>\n",
       "      <td>None</td>\n",
       "      <td>NaN</td>\n",
       "      <td>None</td>\n",
       "      <td>None</td>\n",
       "      <td>None</td>\n",
       "      <td>None</td>\n",
       "      <td>None</td>\n",
       "      <td>None</td>\n",
       "      <td>NaN</td>\n",
       "      <td>NaN</td>\n",
       "    </tr>\n",
       "    <tr>\n",
       "      <th>3</th>\n",
       "      <td>140bd9764073390a4631a93ce7ffe0ec</td>\n",
       "      <td>None</td>\n",
       "      <td>A Bayesian spatio-temporal framework to identi...</td>\n",
       "      <td>None</td>\n",
       "      <td>None</td>\n",
       "      <td>NaN</td>\n",
       "      <td>None</td>\n",
       "      <td>None</td>\n",
       "      <td>None</td>\n",
       "      <td>None</td>\n",
       "      <td>None</td>\n",
       "      <td>None</td>\n",
       "      <td>NaN</td>\n",
       "      <td>NaN</td>\n",
       "    </tr>\n",
       "    <tr>\n",
       "      <th>4</th>\n",
       "      <td>16eda9d66c9bfaa5a431fe765cc27318</td>\n",
       "      <td>None</td>\n",
       "      <td>A time-series study of the association of rain...</td>\n",
       "      <td>None</td>\n",
       "      <td>None</td>\n",
       "      <td>NaN</td>\n",
       "      <td>None</td>\n",
       "      <td>None</td>\n",
       "      <td>None</td>\n",
       "      <td>None</td>\n",
       "      <td>None</td>\n",
       "      <td>None</td>\n",
       "      <td>NaN</td>\n",
       "      <td>NaN</td>\n",
       "    </tr>\n",
       "    <tr>\n",
       "      <th>5</th>\n",
       "      <td>9e26ccef2cfc3b32fa4c2f143c32c296</td>\n",
       "      <td>None</td>\n",
       "      <td>Weather Variability and the Incidence of Crypt...</td>\n",
       "      <td>None</td>\n",
       "      <td>None</td>\n",
       "      <td>NaN</td>\n",
       "      <td>None</td>\n",
       "      <td>None</td>\n",
       "      <td>None</td>\n",
       "      <td>None</td>\n",
       "      <td>None</td>\n",
       "      <td>None</td>\n",
       "      <td>NaN</td>\n",
       "      <td>NaN</td>\n",
       "    </tr>\n",
       "    <tr>\n",
       "      <th>6</th>\n",
       "      <td>aff6d96d1f88ea6d15ef934239c39e02</td>\n",
       "      <td>None</td>\n",
       "      <td>_i_Campylobacter__i_epidemiology_ a descriptiv...</td>\n",
       "      <td>None</td>\n",
       "      <td>None</td>\n",
       "      <td>NaN</td>\n",
       "      <td>None</td>\n",
       "      <td>None</td>\n",
       "      <td>None</td>\n",
       "      <td>None</td>\n",
       "      <td>None</td>\n",
       "      <td>None</td>\n",
       "      <td>NaN</td>\n",
       "      <td>NaN</td>\n",
       "    </tr>\n",
       "    <tr>\n",
       "      <th>7</th>\n",
       "      <td>e1fb9238ba24b9e1</td>\n",
       "      <td>bi2008weatherandnotified</td>\n",
       "      <td>bi2008weatherandnotified</td>\n",
       "      <td>Weather and notified Campylobacter infections ...</td>\n",
       "      <td>[Peng Bi, A. Scott Cameron, Ying Zhang, Kevin ...</td>\n",
       "      <td>2008.0</td>\n",
       "      <td>The Journal of infection</td>\n",
       "      <td>57 4</td>\n",
       "      <td>\\n317-23\\n</td>\n",
       "      <td>10.1016/j.jinf.2008.08.004</td>\n",
       "      <td></td>\n",
       "      <td>None</td>\n",
       "      <td>61.0</td>\n",
       "      <td>-1.0</td>\n",
       "    </tr>\n",
       "    <tr>\n",
       "      <th>8</th>\n",
       "      <td>2de90bd8cde7df74</td>\n",
       "      <td>d.2014arehospitalizationsfor</td>\n",
       "      <td>d.2014arehospitalizationsfor</td>\n",
       "      <td>Are hospitalizations for rotavirus gastroenter...</td>\n",
       "      <td>[Hervás, D., Hervás-Masip, J., Rosell, A., Men...</td>\n",
       "      <td>2014.0</td>\n",
       "      <td>European Journal of Clinical Microbiology &amp; In...</td>\n",
       "      <td>33</td>\n",
       "      <td>1547-1553</td>\n",
       "      <td>10.1007/s10096-014-2106-y</td>\n",
       "      <td></td>\n",
       "      <td>None</td>\n",
       "      <td>22.0</td>\n",
       "      <td>-1.0</td>\n",
       "    </tr>\n",
       "  </tbody>\n",
       "</table>\n",
       "</div>"
      ],
      "text/plain": [
       "                            doc_key                           key  \\\n",
       "0  5e1061700ab7312396d7b7fd503e8c2f                          None   \n",
       "1  3bc9bfea106e4f86c21c162e72c5e9f0                          None   \n",
       "2  bf02d614f82ce026fa308eeeaf192053                          None   \n",
       "3  140bd9764073390a4631a93ce7ffe0ec                          None   \n",
       "4  16eda9d66c9bfaa5a431fe765cc27318                          None   \n",
       "5  9e26ccef2cfc3b32fa4c2f143c32c296                          None   \n",
       "6  aff6d96d1f88ea6d15ef934239c39e02                          None   \n",
       "7                  e1fb9238ba24b9e1      bi2008weatherandnotified   \n",
       "8                  2de90bd8cde7df74  d.2014arehospitalizationsfor   \n",
       "\n",
       "                                             docname  \\\n",
       "0  A comparison of weather variables linked to in...   \n",
       "1  _i_Campylobacter__i_ Monitoring in German Broi...   \n",
       "2  A time series analysis of the relationship of ...   \n",
       "3  A Bayesian spatio-temporal framework to identi...   \n",
       "4  A time-series study of the association of rain...   \n",
       "5  Weather Variability and the Incidence of Crypt...   \n",
       "6  _i_Campylobacter__i_epidemiology_ a descriptiv...   \n",
       "7                           bi2008weatherandnotified   \n",
       "8                       d.2014arehospitalizationsfor   \n",
       "\n",
       "                                               title  \\\n",
       "0                                               None   \n",
       "1                                               None   \n",
       "2                                               None   \n",
       "3                                               None   \n",
       "4                                               None   \n",
       "5                                               None   \n",
       "6                                               None   \n",
       "7  Weather and notified Campylobacter infections ...   \n",
       "8  Are hospitalizations for rotavirus gastroenter...   \n",
       "\n",
       "                                             authors    year  \\\n",
       "0                                               None     NaN   \n",
       "1                                               None     NaN   \n",
       "2                                               None     NaN   \n",
       "3                                               None     NaN   \n",
       "4                                               None     NaN   \n",
       "5                                               None     NaN   \n",
       "6                                               None     NaN   \n",
       "7  [Peng Bi, A. Scott Cameron, Ying Zhang, Kevin ...  2008.0   \n",
       "8  [Hervás, D., Hervás-Masip, J., Rosell, A., Men...  2014.0   \n",
       "\n",
       "                                             journal volume       pages  \\\n",
       "0                                               None   None        None   \n",
       "1                                               None   None        None   \n",
       "2                                               None   None        None   \n",
       "3                                               None   None        None   \n",
       "4                                               None   None        None   \n",
       "5                                               None   None        None   \n",
       "6                                               None   None        None   \n",
       "7                           The Journal of infection   57 4  \\n317-23\\n   \n",
       "8  European Journal of Clinical Microbiology & In...     33   1547-1553   \n",
       "\n",
       "                          doi   url file_location  citation_count  \\\n",
       "0                        None  None          None             NaN   \n",
       "1                        None  None          None             NaN   \n",
       "2                        None  None          None             NaN   \n",
       "3                        None  None          None             NaN   \n",
       "4                        None  None          None             NaN   \n",
       "5                        None  None          None             NaN   \n",
       "6                        None  None          None             NaN   \n",
       "7  10.1016/j.jinf.2008.08.004                None            61.0   \n",
       "8   10.1007/s10096-014-2106-y                None            22.0   \n",
       "\n",
       "   source_quality  \n",
       "0             NaN  \n",
       "1             NaN  \n",
       "2             NaN  \n",
       "3             NaN  \n",
       "4             NaN  \n",
       "5             NaN  \n",
       "6             NaN  \n",
       "7            -1.0  \n",
       "8            -1.0  "
      ]
     },
     "execution_count": 7,
     "metadata": {},
     "output_type": "execute_result"
    }
   ],
   "source": [
    "detail_df = embeddings.get_docs_details()\n",
    "detail_df"
   ]
  }
 ],
 "metadata": {
  "kernelspec": {
   "display_name": "poopqa",
   "language": "python",
   "name": "python3"
  },
  "language_info": {
   "codemirror_mode": {
    "name": "ipython",
    "version": 3
   },
   "file_extension": ".py",
   "mimetype": "text/x-python",
   "name": "python",
   "nbconvert_exporter": "python",
   "pygments_lexer": "ipython3",
   "version": "3.12.7"
  }
 },
 "nbformat": 4,
 "nbformat_minor": 2
}
