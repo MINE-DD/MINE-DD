{
 "cells": [
  {
   "cell_type": "markdown",
   "metadata": {},
   "source": [
    "# Embeddings Module"
   ]
  },
  {
   "cell_type": "markdown",
   "metadata": {},
   "source": [
    "### Install necessary modules"
   ]
  },
  {
   "cell_type": "code",
   "execution_count": 1,
   "metadata": {},
   "outputs": [
    {
     "name": "stdout",
     "output_type": "stream",
     "text": [
      "Obtaining file:///Users/jose/Repos/MINE-DD\n",
      "  Installing build dependencies ... \u001b[?25ldone\n",
      "\u001b[?25h  Checking if build backend supports build_editable ... \u001b[?25ldone\n",
      "\u001b[?25h  Getting requirements to build editable ... \u001b[?25ldone\n",
      "\u001b[?25h  Preparing editable metadata (pyproject.toml) ... \u001b[?25ldone\n",
      "\u001b[?25hRequirement already satisfied: paper-qa==5.5.0 in /opt/miniconda3/envs/poopqa/lib/python3.12/site-packages (from minedd==0.1.0) (5.5.0)\n",
      "Requirement already satisfied: pandas>=2.2.3 in /opt/miniconda3/envs/poopqa/lib/python3.12/site-packages (from minedd==0.1.0) (2.2.3)\n",
      "Requirement already satisfied: numpy>=1.26.4 in /opt/miniconda3/envs/poopqa/lib/python3.12/site-packages (from minedd==0.1.0) (1.26.4)\n",
      "Requirement already satisfied: tqdm>=4.67.1 in /opt/miniconda3/envs/poopqa/lib/python3.12/site-packages (from minedd==0.1.0) (4.67.1)\n",
      "Requirement already satisfied: openpyxl>=3.1.5 in /opt/miniconda3/envs/poopqa/lib/python3.12/site-packages (from minedd==0.1.0) (3.1.5)\n",
      "Requirement already satisfied: nest-asyncio>=1.6.0 in /opt/miniconda3/envs/poopqa/lib/python3.12/site-packages (from minedd==0.1.0) (1.6.0)\n",
      "Requirement already satisfied: litellm>=1.52.16 in /opt/miniconda3/envs/poopqa/lib/python3.12/site-packages (from minedd==0.1.0) (1.53.1)\n",
      "Requirement already satisfied: aiohttp>=3.11.7 in /opt/miniconda3/envs/poopqa/lib/python3.12/site-packages (from minedd==0.1.0) (3.11.16)\n",
      "Requirement already satisfied: openai>=1.55.0 in /opt/miniconda3/envs/poopqa/lib/python3.12/site-packages (from minedd==0.1.0) (1.55.3)\n",
      "Collecting pydantic>=2.10.1 (from minedd==0.1.0)\n",
      "  Using cached pydantic-2.11.2-py3-none-any.whl.metadata (64 kB)\n",
      "Requirement already satisfied: tiktoken>=0.8.0 in /opt/miniconda3/envs/poopqa/lib/python3.12/site-packages (from minedd==0.1.0) (0.8.0)\n",
      "Requirement already satisfied: requests>=2.32.3 in /opt/miniconda3/envs/poopqa/lib/python3.12/site-packages (from minedd==0.1.0) (2.32.3)\n",
      "Requirement already satisfied: python-dotenv>=1.0.1 in /opt/miniconda3/envs/poopqa/lib/python3.12/site-packages (from minedd==0.1.0) (1.0.1)\n",
      "Requirement already satisfied: PyMuPDF>=1.24.12 in /opt/miniconda3/envs/poopqa/lib/python3.12/site-packages (from paper-qa==5.5.0->minedd==0.1.0) (1.24.14)\n",
      "Requirement already satisfied: anyio in /opt/miniconda3/envs/poopqa/lib/python3.12/site-packages (from paper-qa==5.5.0->minedd==0.1.0) (4.6.2.post1)\n",
      "Requirement already satisfied: coredis in /opt/miniconda3/envs/poopqa/lib/python3.12/site-packages (from paper-qa==5.5.0->minedd==0.1.0) (4.17.0)\n",
      "Requirement already satisfied: fhaviary>=0.10.0 in /opt/miniconda3/envs/poopqa/lib/python3.12/site-packages (from fhaviary[llm]>=0.10.0->paper-qa==5.5.0->minedd==0.1.0) (0.10.2)\n",
      "Requirement already satisfied: html2text in /opt/miniconda3/envs/poopqa/lib/python3.12/site-packages (from paper-qa==5.5.0->minedd==0.1.0) (2024.2.26)\n",
      "Requirement already satisfied: httpx in /opt/miniconda3/envs/poopqa/lib/python3.12/site-packages (from paper-qa==5.5.0->minedd==0.1.0) (0.27.2)\n",
      "Requirement already satisfied: limits in /opt/miniconda3/envs/poopqa/lib/python3.12/site-packages (from paper-qa==5.5.0->minedd==0.1.0) (3.14.1)\n",
      "Requirement already satisfied: pybtex in /opt/miniconda3/envs/poopqa/lib/python3.12/site-packages (from paper-qa==5.5.0->minedd==0.1.0) (0.24.0)\n",
      "Requirement already satisfied: pydantic-settings in /opt/miniconda3/envs/poopqa/lib/python3.12/site-packages (from paper-qa==5.5.0->minedd==0.1.0) (2.6.0)\n",
      "Requirement already satisfied: rich in /opt/miniconda3/envs/poopqa/lib/python3.12/site-packages (from paper-qa==5.5.0->minedd==0.1.0) (13.9.2)\n",
      "Requirement already satisfied: setuptools in /opt/miniconda3/envs/poopqa/lib/python3.12/site-packages (from paper-qa==5.5.0->minedd==0.1.0) (75.1.0)\n",
      "Requirement already satisfied: tantivy in /opt/miniconda3/envs/poopqa/lib/python3.12/site-packages (from paper-qa==5.5.0->minedd==0.1.0) (0.22.0)\n",
      "Requirement already satisfied: tenacity in /opt/miniconda3/envs/poopqa/lib/python3.12/site-packages (from paper-qa==5.5.0->minedd==0.1.0) (9.0.0)\n",
      "Requirement already satisfied: aiohappyeyeballs>=2.3.0 in /opt/miniconda3/envs/poopqa/lib/python3.12/site-packages (from aiohttp>=3.11.7->minedd==0.1.0) (2.4.3)\n",
      "Requirement already satisfied: aiosignal>=1.1.2 in /opt/miniconda3/envs/poopqa/lib/python3.12/site-packages (from aiohttp>=3.11.7->minedd==0.1.0) (1.3.1)\n",
      "Requirement already satisfied: attrs>=17.3.0 in /opt/miniconda3/envs/poopqa/lib/python3.12/site-packages (from aiohttp>=3.11.7->minedd==0.1.0) (24.2.0)\n",
      "Requirement already satisfied: frozenlist>=1.1.1 in /opt/miniconda3/envs/poopqa/lib/python3.12/site-packages (from aiohttp>=3.11.7->minedd==0.1.0) (1.4.1)\n",
      "Requirement already satisfied: multidict<7.0,>=4.5 in /opt/miniconda3/envs/poopqa/lib/python3.12/site-packages (from aiohttp>=3.11.7->minedd==0.1.0) (6.1.0)\n",
      "Requirement already satisfied: propcache>=0.2.0 in /opt/miniconda3/envs/poopqa/lib/python3.12/site-packages (from aiohttp>=3.11.7->minedd==0.1.0) (0.2.0)\n",
      "Requirement already satisfied: yarl<2.0,>=1.17.0 in /opt/miniconda3/envs/poopqa/lib/python3.12/site-packages (from aiohttp>=3.11.7->minedd==0.1.0) (1.18.3)\n",
      "Requirement already satisfied: click in /opt/miniconda3/envs/poopqa/lib/python3.12/site-packages (from litellm>=1.52.16->minedd==0.1.0) (8.1.7)\n",
      "Requirement already satisfied: importlib-metadata>=6.8.0 in /opt/miniconda3/envs/poopqa/lib/python3.12/site-packages (from litellm>=1.52.16->minedd==0.1.0) (8.5.0)\n",
      "Requirement already satisfied: jinja2<4.0.0,>=3.1.2 in /opt/miniconda3/envs/poopqa/lib/python3.12/site-packages (from litellm>=1.52.16->minedd==0.1.0) (3.1.4)\n",
      "Requirement already satisfied: jsonschema<5.0.0,>=4.22.0 in /opt/miniconda3/envs/poopqa/lib/python3.12/site-packages (from litellm>=1.52.16->minedd==0.1.0) (4.23.0)\n",
      "Requirement already satisfied: tokenizers in /opt/miniconda3/envs/poopqa/lib/python3.12/site-packages (from litellm>=1.52.16->minedd==0.1.0) (0.21.0)\n",
      "Requirement already satisfied: distro<2,>=1.7.0 in /opt/miniconda3/envs/poopqa/lib/python3.12/site-packages (from openai>=1.55.0->minedd==0.1.0) (1.9.0)\n",
      "Requirement already satisfied: jiter<1,>=0.4.0 in /opt/miniconda3/envs/poopqa/lib/python3.12/site-packages (from openai>=1.55.0->minedd==0.1.0) (0.8.0)\n",
      "Requirement already satisfied: sniffio in /opt/miniconda3/envs/poopqa/lib/python3.12/site-packages (from openai>=1.55.0->minedd==0.1.0) (1.3.1)\n",
      "Requirement already satisfied: typing-extensions<5,>=4.11 in /opt/miniconda3/envs/poopqa/lib/python3.12/site-packages (from openai>=1.55.0->minedd==0.1.0) (4.12.2)\n",
      "Requirement already satisfied: et-xmlfile in /opt/miniconda3/envs/poopqa/lib/python3.12/site-packages (from openpyxl>=3.1.5->minedd==0.1.0) (2.0.0)\n",
      "Requirement already satisfied: python-dateutil>=2.8.2 in /opt/miniconda3/envs/poopqa/lib/python3.12/site-packages (from pandas>=2.2.3->minedd==0.1.0) (2.9.0.post0)\n",
      "Requirement already satisfied: pytz>=2020.1 in /opt/miniconda3/envs/poopqa/lib/python3.12/site-packages (from pandas>=2.2.3->minedd==0.1.0) (2024.2)\n",
      "Requirement already satisfied: tzdata>=2022.7 in /opt/miniconda3/envs/poopqa/lib/python3.12/site-packages (from pandas>=2.2.3->minedd==0.1.0) (2024.2)\n",
      "Requirement already satisfied: annotated-types>=0.6.0 in /opt/miniconda3/envs/poopqa/lib/python3.12/site-packages (from pydantic>=2.10.1->minedd==0.1.0) (0.7.0)\n",
      "Collecting pydantic-core==2.33.1 (from pydantic>=2.10.1->minedd==0.1.0)\n",
      "  Using cached pydantic_core-2.33.1-cp312-cp312-macosx_11_0_arm64.whl.metadata (6.8 kB)\n",
      "Requirement already satisfied: typing-inspection>=0.4.0 in /opt/miniconda3/envs/poopqa/lib/python3.12/site-packages (from pydantic>=2.10.1->minedd==0.1.0) (0.4.0)\n",
      "Requirement already satisfied: charset-normalizer<4,>=2 in /opt/miniconda3/envs/poopqa/lib/python3.12/site-packages (from requests>=2.32.3->minedd==0.1.0) (2.1.1)\n",
      "Requirement already satisfied: idna<4,>=2.5 in /opt/miniconda3/envs/poopqa/lib/python3.12/site-packages (from requests>=2.32.3->minedd==0.1.0) (3.10)\n",
      "Requirement already satisfied: urllib3<3,>=1.21.1 in /opt/miniconda3/envs/poopqa/lib/python3.12/site-packages (from requests>=2.32.3->minedd==0.1.0) (2.2.3)\n",
      "Requirement already satisfied: certifi>=2017.4.17 in /opt/miniconda3/envs/poopqa/lib/python3.12/site-packages (from requests>=2.32.3->minedd==0.1.0) (2024.8.30)\n",
      "Requirement already satisfied: regex>=2022.1.18 in /opt/miniconda3/envs/poopqa/lib/python3.12/site-packages (from tiktoken>=0.8.0->minedd==0.1.0) (2024.9.11)\n",
      "Requirement already satisfied: docstring_parser>=0.16 in /opt/miniconda3/envs/poopqa/lib/python3.12/site-packages (from fhaviary>=0.10.0->fhaviary[llm]>=0.10.0->paper-qa==5.5.0->minedd==0.1.0) (0.16)\n",
      "Requirement already satisfied: httpcore==1.* in /opt/miniconda3/envs/poopqa/lib/python3.12/site-packages (from httpx->paper-qa==5.5.0->minedd==0.1.0) (1.0.6)\n",
      "Requirement already satisfied: h11<0.15,>=0.13 in /opt/miniconda3/envs/poopqa/lib/python3.12/site-packages (from httpcore==1.*->httpx->paper-qa==5.5.0->minedd==0.1.0) (0.14.0)\n",
      "Requirement already satisfied: zipp>=3.20 in /opt/miniconda3/envs/poopqa/lib/python3.12/site-packages (from importlib-metadata>=6.8.0->litellm>=1.52.16->minedd==0.1.0) (3.21.0)\n",
      "Requirement already satisfied: MarkupSafe>=2.0 in /opt/miniconda3/envs/poopqa/lib/python3.12/site-packages (from jinja2<4.0.0,>=3.1.2->litellm>=1.52.16->minedd==0.1.0) (3.0.2)\n",
      "Requirement already satisfied: jsonschema-specifications>=2023.03.6 in /opt/miniconda3/envs/poopqa/lib/python3.12/site-packages (from jsonschema<5.0.0,>=4.22.0->litellm>=1.52.16->minedd==0.1.0) (2024.10.1)\n",
      "Requirement already satisfied: referencing>=0.28.4 in /opt/miniconda3/envs/poopqa/lib/python3.12/site-packages (from jsonschema<5.0.0,>=4.22.0->litellm>=1.52.16->minedd==0.1.0) (0.35.1)\n",
      "Requirement already satisfied: rpds-py>=0.7.1 in /opt/miniconda3/envs/poopqa/lib/python3.12/site-packages (from jsonschema<5.0.0,>=4.22.0->litellm>=1.52.16->minedd==0.1.0) (0.21.0)\n",
      "Requirement already satisfied: six>=1.5 in /opt/miniconda3/envs/poopqa/lib/python3.12/site-packages (from python-dateutil>=2.8.2->pandas>=2.2.3->minedd==0.1.0) (1.16.0)\n",
      "Requirement already satisfied: async-timeout<5,>4 in /opt/miniconda3/envs/poopqa/lib/python3.12/site-packages (from coredis->paper-qa==5.5.0->minedd==0.1.0) (4.0.3)\n",
      "Requirement already satisfied: deprecated>=1.2 in /opt/miniconda3/envs/poopqa/lib/python3.12/site-packages (from coredis->paper-qa==5.5.0->minedd==0.1.0) (1.2.15)\n",
      "Requirement already satisfied: packaging<25,>=21 in /opt/miniconda3/envs/poopqa/lib/python3.12/site-packages (from coredis->paper-qa==5.5.0->minedd==0.1.0) (24.1)\n",
      "Requirement already satisfied: pympler<2,>1 in /opt/miniconda3/envs/poopqa/lib/python3.12/site-packages (from coredis->paper-qa==5.5.0->minedd==0.1.0) (1.1)\n",
      "Requirement already satisfied: wrapt<2,>=1.1.0 in /opt/miniconda3/envs/poopqa/lib/python3.12/site-packages (from coredis->paper-qa==5.5.0->minedd==0.1.0) (1.14.1)\n",
      "Requirement already satisfied: PyYAML>=3.01 in /opt/miniconda3/envs/poopqa/lib/python3.12/site-packages (from pybtex->paper-qa==5.5.0->minedd==0.1.0) (6.0.2)\n",
      "Requirement already satisfied: latexcodec>=1.0.4 in /opt/miniconda3/envs/poopqa/lib/python3.12/site-packages (from pybtex->paper-qa==5.5.0->minedd==0.1.0) (3.0.0)\n",
      "Requirement already satisfied: markdown-it-py>=2.2.0 in /opt/miniconda3/envs/poopqa/lib/python3.12/site-packages (from rich->paper-qa==5.5.0->minedd==0.1.0) (3.0.0)\n",
      "Requirement already satisfied: pygments<3.0.0,>=2.13.0 in /opt/miniconda3/envs/poopqa/lib/python3.12/site-packages (from rich->paper-qa==5.5.0->minedd==0.1.0) (2.15.1)\n",
      "Requirement already satisfied: huggingface-hub<1.0,>=0.16.4 in /opt/miniconda3/envs/poopqa/lib/python3.12/site-packages (from tokenizers->litellm>=1.52.16->minedd==0.1.0) (0.26.3)\n",
      "Requirement already satisfied: filelock in /opt/miniconda3/envs/poopqa/lib/python3.12/site-packages (from huggingface-hub<1.0,>=0.16.4->tokenizers->litellm>=1.52.16->minedd==0.1.0) (3.16.1)\n",
      "Requirement already satisfied: fsspec>=2023.5.0 in /opt/miniconda3/envs/poopqa/lib/python3.12/site-packages (from huggingface-hub<1.0,>=0.16.4->tokenizers->litellm>=1.52.16->minedd==0.1.0) (2024.10.0)\n",
      "Requirement already satisfied: mdurl~=0.1 in /opt/miniconda3/envs/poopqa/lib/python3.12/site-packages (from markdown-it-py>=2.2.0->rich->paper-qa==5.5.0->minedd==0.1.0) (0.1.2)\n",
      "Using cached pydantic-2.11.2-py3-none-any.whl (443 kB)\n",
      "Using cached pydantic_core-2.33.1-cp312-cp312-macosx_11_0_arm64.whl (1.9 MB)\n",
      "Building wheels for collected packages: minedd\n",
      "  Building editable for minedd (pyproject.toml) ... \u001b[?25ldone\n",
      "\u001b[?25h  Created wheel for minedd: filename=minedd-0.1.0-0.editable-py3-none-any.whl size=13035 sha256=1125c2b5666e36bc4fca458ae8cbabbb1b5ce090ae37ffc4311b4ccb22c9d214\n",
      "  Stored in directory: /private/var/folders/79/zf67ls7520x9m4mj7nx6q07w0000gp/T/pip-ephem-wheel-cache-evkagyy4/wheels/c7/bf/1e/e7790fb2ba7cdeeb0fd2dc5eb82103f3cd4a31d3c897656e15\n",
      "Successfully built minedd\n",
      "Installing collected packages: pydantic-core, pydantic, minedd\n",
      "  Attempting uninstall: pydantic-core\n",
      "    Found existing installation: pydantic_core 2.23.4\n",
      "    Uninstalling pydantic_core-2.23.4:\n",
      "      Successfully uninstalled pydantic_core-2.23.4\n",
      "  Attempting uninstall: pydantic\n",
      "    Found existing installation: pydantic 2.9.2\n",
      "    Uninstalling pydantic-2.9.2:\n",
      "      Successfully uninstalled pydantic-2.9.2\n",
      "  Attempting uninstall: minedd\n",
      "    Found existing installation: minedd 0.1.0\n",
      "    Uninstalling minedd-0.1.0:\n",
      "      Successfully uninstalled minedd-0.1.0\n",
      "Successfully installed minedd-0.1.0 pydantic-2.11.2 pydantic-core-2.33.1\n",
      "\n",
      "\u001b[1m[\u001b[0m\u001b[34;49mnotice\u001b[0m\u001b[1;39;49m]\u001b[0m\u001b[39;49m A new release of pip is available: \u001b[0m\u001b[31;49m24.2\u001b[0m\u001b[39;49m -> \u001b[0m\u001b[32;49m25.0.1\u001b[0m\n",
      "\u001b[1m[\u001b[0m\u001b[34;49mnotice\u001b[0m\u001b[1;39;49m]\u001b[0m\u001b[39;49m To update, run: \u001b[0m\u001b[32;49mpip install --upgrade pip\u001b[0m\n",
      "Note: you may need to restart the kernel to use updated packages.\n",
      "Obtaining file:///Users/jose/Repos/MINE-DD\n",
      "  Installing build dependencies ... \u001b[?25ldone\n",
      "\u001b[?25h  Checking if build backend supports build_editable ... \u001b[?25ldone\n",
      "\u001b[?25h  Getting requirements to build editable ... \u001b[?25ldone\n",
      "\u001b[?25h  Preparing editable metadata (pyproject.toml) ... \u001b[?25ldone\n",
      "\u001b[?25hRequirement already satisfied: paper-qa==5.5.0 in /opt/miniconda3/envs/poopqa/lib/python3.12/site-packages (from minedd==0.1.0) (5.5.0)\n",
      "Requirement already satisfied: pandas>=2.2.3 in /opt/miniconda3/envs/poopqa/lib/python3.12/site-packages (from minedd==0.1.0) (2.2.3)\n",
      "Requirement already satisfied: numpy>=1.26.4 in /opt/miniconda3/envs/poopqa/lib/python3.12/site-packages (from minedd==0.1.0) (1.26.4)\n",
      "Requirement already satisfied: tqdm>=4.67.1 in /opt/miniconda3/envs/poopqa/lib/python3.12/site-packages (from minedd==0.1.0) (4.67.1)\n",
      "Requirement already satisfied: openpyxl>=3.1.5 in /opt/miniconda3/envs/poopqa/lib/python3.12/site-packages (from minedd==0.1.0) (3.1.5)\n",
      "Requirement already satisfied: nest-asyncio>=1.6.0 in /opt/miniconda3/envs/poopqa/lib/python3.12/site-packages (from minedd==0.1.0) (1.6.0)\n",
      "Requirement already satisfied: litellm>=1.52.16 in /opt/miniconda3/envs/poopqa/lib/python3.12/site-packages (from minedd==0.1.0) (1.53.1)\n",
      "Requirement already satisfied: aiohttp>=3.11.7 in /opt/miniconda3/envs/poopqa/lib/python3.12/site-packages (from minedd==0.1.0) (3.11.16)\n",
      "Requirement already satisfied: openai>=1.55.0 in /opt/miniconda3/envs/poopqa/lib/python3.12/site-packages (from minedd==0.1.0) (1.55.3)\n",
      "Requirement already satisfied: pydantic>=2.10.1 in /opt/miniconda3/envs/poopqa/lib/python3.12/site-packages (from minedd==0.1.0) (2.11.2)\n",
      "Requirement already satisfied: tiktoken>=0.8.0 in /opt/miniconda3/envs/poopqa/lib/python3.12/site-packages (from minedd==0.1.0) (0.8.0)\n",
      "Requirement already satisfied: requests>=2.32.3 in /opt/miniconda3/envs/poopqa/lib/python3.12/site-packages (from minedd==0.1.0) (2.32.3)\n",
      "Requirement already satisfied: python-dotenv>=1.0.1 in /opt/miniconda3/envs/poopqa/lib/python3.12/site-packages (from minedd==0.1.0) (1.0.1)\n",
      "Requirement already satisfied: PyMuPDF>=1.24.12 in /opt/miniconda3/envs/poopqa/lib/python3.12/site-packages (from paper-qa==5.5.0->minedd==0.1.0) (1.24.14)\n",
      "Requirement already satisfied: anyio in /opt/miniconda3/envs/poopqa/lib/python3.12/site-packages (from paper-qa==5.5.0->minedd==0.1.0) (4.6.2.post1)\n",
      "Requirement already satisfied: coredis in /opt/miniconda3/envs/poopqa/lib/python3.12/site-packages (from paper-qa==5.5.0->minedd==0.1.0) (4.17.0)\n",
      "Requirement already satisfied: fhaviary>=0.10.0 in /opt/miniconda3/envs/poopqa/lib/python3.12/site-packages (from fhaviary[llm]>=0.10.0->paper-qa==5.5.0->minedd==0.1.0) (0.10.2)\n",
      "Requirement already satisfied: html2text in /opt/miniconda3/envs/poopqa/lib/python3.12/site-packages (from paper-qa==5.5.0->minedd==0.1.0) (2024.2.26)\n",
      "Requirement already satisfied: httpx in /opt/miniconda3/envs/poopqa/lib/python3.12/site-packages (from paper-qa==5.5.0->minedd==0.1.0) (0.27.2)\n",
      "Requirement already satisfied: limits in /opt/miniconda3/envs/poopqa/lib/python3.12/site-packages (from paper-qa==5.5.0->minedd==0.1.0) (3.14.1)\n",
      "Requirement already satisfied: pybtex in /opt/miniconda3/envs/poopqa/lib/python3.12/site-packages (from paper-qa==5.5.0->minedd==0.1.0) (0.24.0)\n",
      "Requirement already satisfied: pydantic-settings in /opt/miniconda3/envs/poopqa/lib/python3.12/site-packages (from paper-qa==5.5.0->minedd==0.1.0) (2.6.0)\n",
      "Requirement already satisfied: rich in /opt/miniconda3/envs/poopqa/lib/python3.12/site-packages (from paper-qa==5.5.0->minedd==0.1.0) (13.9.2)\n",
      "Requirement already satisfied: setuptools in /opt/miniconda3/envs/poopqa/lib/python3.12/site-packages (from paper-qa==5.5.0->minedd==0.1.0) (75.1.0)\n",
      "Requirement already satisfied: tantivy in /opt/miniconda3/envs/poopqa/lib/python3.12/site-packages (from paper-qa==5.5.0->minedd==0.1.0) (0.22.0)\n",
      "Requirement already satisfied: tenacity in /opt/miniconda3/envs/poopqa/lib/python3.12/site-packages (from paper-qa==5.5.0->minedd==0.1.0) (9.0.0)\n",
      "Requirement already satisfied: aiohappyeyeballs>=2.3.0 in /opt/miniconda3/envs/poopqa/lib/python3.12/site-packages (from aiohttp>=3.11.7->minedd==0.1.0) (2.4.3)\n",
      "Requirement already satisfied: aiosignal>=1.1.2 in /opt/miniconda3/envs/poopqa/lib/python3.12/site-packages (from aiohttp>=3.11.7->minedd==0.1.0) (1.3.1)\n",
      "Requirement already satisfied: attrs>=17.3.0 in /opt/miniconda3/envs/poopqa/lib/python3.12/site-packages (from aiohttp>=3.11.7->minedd==0.1.0) (24.2.0)\n",
      "Requirement already satisfied: frozenlist>=1.1.1 in /opt/miniconda3/envs/poopqa/lib/python3.12/site-packages (from aiohttp>=3.11.7->minedd==0.1.0) (1.4.1)\n",
      "Requirement already satisfied: multidict<7.0,>=4.5 in /opt/miniconda3/envs/poopqa/lib/python3.12/site-packages (from aiohttp>=3.11.7->minedd==0.1.0) (6.1.0)\n",
      "Requirement already satisfied: propcache>=0.2.0 in /opt/miniconda3/envs/poopqa/lib/python3.12/site-packages (from aiohttp>=3.11.7->minedd==0.1.0) (0.2.0)\n",
      "Requirement already satisfied: yarl<2.0,>=1.17.0 in /opt/miniconda3/envs/poopqa/lib/python3.12/site-packages (from aiohttp>=3.11.7->minedd==0.1.0) (1.18.3)\n",
      "Requirement already satisfied: click in /opt/miniconda3/envs/poopqa/lib/python3.12/site-packages (from litellm>=1.52.16->minedd==0.1.0) (8.1.7)\n",
      "Requirement already satisfied: importlib-metadata>=6.8.0 in /opt/miniconda3/envs/poopqa/lib/python3.12/site-packages (from litellm>=1.52.16->minedd==0.1.0) (8.5.0)\n",
      "Requirement already satisfied: jinja2<4.0.0,>=3.1.2 in /opt/miniconda3/envs/poopqa/lib/python3.12/site-packages (from litellm>=1.52.16->minedd==0.1.0) (3.1.4)\n",
      "Requirement already satisfied: jsonschema<5.0.0,>=4.22.0 in /opt/miniconda3/envs/poopqa/lib/python3.12/site-packages (from litellm>=1.52.16->minedd==0.1.0) (4.23.0)\n",
      "Requirement already satisfied: tokenizers in /opt/miniconda3/envs/poopqa/lib/python3.12/site-packages (from litellm>=1.52.16->minedd==0.1.0) (0.21.0)\n",
      "Requirement already satisfied: distro<2,>=1.7.0 in /opt/miniconda3/envs/poopqa/lib/python3.12/site-packages (from openai>=1.55.0->minedd==0.1.0) (1.9.0)\n",
      "Requirement already satisfied: jiter<1,>=0.4.0 in /opt/miniconda3/envs/poopqa/lib/python3.12/site-packages (from openai>=1.55.0->minedd==0.1.0) (0.8.0)\n",
      "Requirement already satisfied: sniffio in /opt/miniconda3/envs/poopqa/lib/python3.12/site-packages (from openai>=1.55.0->minedd==0.1.0) (1.3.1)\n",
      "Requirement already satisfied: typing-extensions<5,>=4.11 in /opt/miniconda3/envs/poopqa/lib/python3.12/site-packages (from openai>=1.55.0->minedd==0.1.0) (4.12.2)\n",
      "Requirement already satisfied: et-xmlfile in /opt/miniconda3/envs/poopqa/lib/python3.12/site-packages (from openpyxl>=3.1.5->minedd==0.1.0) (2.0.0)\n",
      "Requirement already satisfied: python-dateutil>=2.8.2 in /opt/miniconda3/envs/poopqa/lib/python3.12/site-packages (from pandas>=2.2.3->minedd==0.1.0) (2.9.0.post0)\n",
      "Requirement already satisfied: pytz>=2020.1 in /opt/miniconda3/envs/poopqa/lib/python3.12/site-packages (from pandas>=2.2.3->minedd==0.1.0) (2024.2)\n",
      "Requirement already satisfied: tzdata>=2022.7 in /opt/miniconda3/envs/poopqa/lib/python3.12/site-packages (from pandas>=2.2.3->minedd==0.1.0) (2024.2)\n",
      "Requirement already satisfied: annotated-types>=0.6.0 in /opt/miniconda3/envs/poopqa/lib/python3.12/site-packages (from pydantic>=2.10.1->minedd==0.1.0) (0.7.0)\n",
      "Requirement already satisfied: pydantic-core==2.33.1 in /opt/miniconda3/envs/poopqa/lib/python3.12/site-packages (from pydantic>=2.10.1->minedd==0.1.0) (2.33.1)\n",
      "Requirement already satisfied: typing-inspection>=0.4.0 in /opt/miniconda3/envs/poopqa/lib/python3.12/site-packages (from pydantic>=2.10.1->minedd==0.1.0) (0.4.0)\n",
      "Requirement already satisfied: charset-normalizer<4,>=2 in /opt/miniconda3/envs/poopqa/lib/python3.12/site-packages (from requests>=2.32.3->minedd==0.1.0) (2.1.1)\n",
      "Requirement already satisfied: idna<4,>=2.5 in /opt/miniconda3/envs/poopqa/lib/python3.12/site-packages (from requests>=2.32.3->minedd==0.1.0) (3.10)\n",
      "Requirement already satisfied: urllib3<3,>=1.21.1 in /opt/miniconda3/envs/poopqa/lib/python3.12/site-packages (from requests>=2.32.3->minedd==0.1.0) (2.2.3)\n",
      "Requirement already satisfied: certifi>=2017.4.17 in /opt/miniconda3/envs/poopqa/lib/python3.12/site-packages (from requests>=2.32.3->minedd==0.1.0) (2024.8.30)\n",
      "Requirement already satisfied: regex>=2022.1.18 in /opt/miniconda3/envs/poopqa/lib/python3.12/site-packages (from tiktoken>=0.8.0->minedd==0.1.0) (2024.9.11)\n",
      "Requirement already satisfied: docstring_parser>=0.16 in /opt/miniconda3/envs/poopqa/lib/python3.12/site-packages (from fhaviary>=0.10.0->fhaviary[llm]>=0.10.0->paper-qa==5.5.0->minedd==0.1.0) (0.16)\n",
      "Requirement already satisfied: httpcore==1.* in /opt/miniconda3/envs/poopqa/lib/python3.12/site-packages (from httpx->paper-qa==5.5.0->minedd==0.1.0) (1.0.6)\n",
      "Requirement already satisfied: h11<0.15,>=0.13 in /opt/miniconda3/envs/poopqa/lib/python3.12/site-packages (from httpcore==1.*->httpx->paper-qa==5.5.0->minedd==0.1.0) (0.14.0)\n",
      "Requirement already satisfied: zipp>=3.20 in /opt/miniconda3/envs/poopqa/lib/python3.12/site-packages (from importlib-metadata>=6.8.0->litellm>=1.52.16->minedd==0.1.0) (3.21.0)\n",
      "Requirement already satisfied: MarkupSafe>=2.0 in /opt/miniconda3/envs/poopqa/lib/python3.12/site-packages (from jinja2<4.0.0,>=3.1.2->litellm>=1.52.16->minedd==0.1.0) (3.0.2)\n",
      "Requirement already satisfied: jsonschema-specifications>=2023.03.6 in /opt/miniconda3/envs/poopqa/lib/python3.12/site-packages (from jsonschema<5.0.0,>=4.22.0->litellm>=1.52.16->minedd==0.1.0) (2024.10.1)\n",
      "Requirement already satisfied: referencing>=0.28.4 in /opt/miniconda3/envs/poopqa/lib/python3.12/site-packages (from jsonschema<5.0.0,>=4.22.0->litellm>=1.52.16->minedd==0.1.0) (0.35.1)\n",
      "Requirement already satisfied: rpds-py>=0.7.1 in /opt/miniconda3/envs/poopqa/lib/python3.12/site-packages (from jsonschema<5.0.0,>=4.22.0->litellm>=1.52.16->minedd==0.1.0) (0.21.0)\n",
      "Requirement already satisfied: six>=1.5 in /opt/miniconda3/envs/poopqa/lib/python3.12/site-packages (from python-dateutil>=2.8.2->pandas>=2.2.3->minedd==0.1.0) (1.16.0)\n",
      "Requirement already satisfied: async-timeout<5,>4 in /opt/miniconda3/envs/poopqa/lib/python3.12/site-packages (from coredis->paper-qa==5.5.0->minedd==0.1.0) (4.0.3)\n",
      "Requirement already satisfied: deprecated>=1.2 in /opt/miniconda3/envs/poopqa/lib/python3.12/site-packages (from coredis->paper-qa==5.5.0->minedd==0.1.0) (1.2.15)\n",
      "Requirement already satisfied: packaging<25,>=21 in /opt/miniconda3/envs/poopqa/lib/python3.12/site-packages (from coredis->paper-qa==5.5.0->minedd==0.1.0) (24.1)\n",
      "Requirement already satisfied: pympler<2,>1 in /opt/miniconda3/envs/poopqa/lib/python3.12/site-packages (from coredis->paper-qa==5.5.0->minedd==0.1.0) (1.1)\n",
      "Requirement already satisfied: wrapt<2,>=1.1.0 in /opt/miniconda3/envs/poopqa/lib/python3.12/site-packages (from coredis->paper-qa==5.5.0->minedd==0.1.0) (1.14.1)\n",
      "Requirement already satisfied: PyYAML>=3.01 in /opt/miniconda3/envs/poopqa/lib/python3.12/site-packages (from pybtex->paper-qa==5.5.0->minedd==0.1.0) (6.0.2)\n",
      "Requirement already satisfied: latexcodec>=1.0.4 in /opt/miniconda3/envs/poopqa/lib/python3.12/site-packages (from pybtex->paper-qa==5.5.0->minedd==0.1.0) (3.0.0)\n",
      "Requirement already satisfied: markdown-it-py>=2.2.0 in /opt/miniconda3/envs/poopqa/lib/python3.12/site-packages (from rich->paper-qa==5.5.0->minedd==0.1.0) (3.0.0)\n",
      "Requirement already satisfied: pygments<3.0.0,>=2.13.0 in /opt/miniconda3/envs/poopqa/lib/python3.12/site-packages (from rich->paper-qa==5.5.0->minedd==0.1.0) (2.15.1)\n",
      "Requirement already satisfied: huggingface-hub<1.0,>=0.16.4 in /opt/miniconda3/envs/poopqa/lib/python3.12/site-packages (from tokenizers->litellm>=1.52.16->minedd==0.1.0) (0.26.3)\n",
      "Requirement already satisfied: filelock in /opt/miniconda3/envs/poopqa/lib/python3.12/site-packages (from huggingface-hub<1.0,>=0.16.4->tokenizers->litellm>=1.52.16->minedd==0.1.0) (3.16.1)\n",
      "Requirement already satisfied: fsspec>=2023.5.0 in /opt/miniconda3/envs/poopqa/lib/python3.12/site-packages (from huggingface-hub<1.0,>=0.16.4->tokenizers->litellm>=1.52.16->minedd==0.1.0) (2024.10.0)\n",
      "Requirement already satisfied: mdurl~=0.1 in /opt/miniconda3/envs/poopqa/lib/python3.12/site-packages (from markdown-it-py>=2.2.0->rich->paper-qa==5.5.0->minedd==0.1.0) (0.1.2)\n",
      "Building wheels for collected packages: minedd\n",
      "  Building editable for minedd (pyproject.toml) ... \u001b[?25ldone\n",
      "\u001b[?25h  Created wheel for minedd: filename=minedd-0.1.0-0.editable-py3-none-any.whl size=13035 sha256=1c6914696d14bda6ca1c3427cdfda442f09f2b7b72cac38ff869ff2c9cacc715\n",
      "  Stored in directory: /private/var/folders/79/zf67ls7520x9m4mj7nx6q07w0000gp/T/pip-ephem-wheel-cache-zpv4wfhg/wheels/c7/bf/1e/e7790fb2ba7cdeeb0fd2dc5eb82103f3cd4a31d3c897656e15\n",
      "Successfully built minedd\n",
      "Installing collected packages: minedd\n",
      "  Attempting uninstall: minedd\n",
      "    Found existing installation: minedd 0.1.0\n",
      "    Uninstalling minedd-0.1.0:\n",
      "      Successfully uninstalled minedd-0.1.0\n",
      "Successfully installed minedd-0.1.0\n",
      "\n",
      "\u001b[1m[\u001b[0m\u001b[34;49mnotice\u001b[0m\u001b[1;39;49m]\u001b[0m\u001b[39;49m A new release of pip is available: \u001b[0m\u001b[31;49m24.2\u001b[0m\u001b[39;49m -> \u001b[0m\u001b[32;49m25.0.1\u001b[0m\n",
      "\u001b[1m[\u001b[0m\u001b[34;49mnotice\u001b[0m\u001b[1;39;49m]\u001b[0m\u001b[39;49m To update, run: \u001b[0m\u001b[32;49mpip install --upgrade pip\u001b[0m\n",
      "Note: you may need to restart the kernel to use updated packages.\n",
      "Collecting pydantic==2.9.2\n",
      "  Using cached pydantic-2.9.2-py3-none-any.whl.metadata (149 kB)\n",
      "Requirement already satisfied: annotated-types>=0.6.0 in /opt/miniconda3/envs/poopqa/lib/python3.12/site-packages (from pydantic==2.9.2) (0.7.0)\n",
      "Collecting pydantic-core==2.23.4 (from pydantic==2.9.2)\n",
      "  Using cached pydantic_core-2.23.4-cp312-cp312-macosx_11_0_arm64.whl.metadata (6.6 kB)\n",
      "Requirement already satisfied: typing-extensions>=4.6.1 in /opt/miniconda3/envs/poopqa/lib/python3.12/site-packages (from pydantic==2.9.2) (4.12.2)\n",
      "Using cached pydantic-2.9.2-py3-none-any.whl (434 kB)\n",
      "Using cached pydantic_core-2.23.4-cp312-cp312-macosx_11_0_arm64.whl (1.8 MB)\n",
      "Installing collected packages: pydantic-core, pydantic\n",
      "  Attempting uninstall: pydantic-core\n",
      "    Found existing installation: pydantic_core 2.33.1\n",
      "    Uninstalling pydantic_core-2.33.1:\n",
      "      Successfully uninstalled pydantic_core-2.33.1\n",
      "  Attempting uninstall: pydantic\n",
      "    Found existing installation: pydantic 2.11.2\n",
      "    Uninstalling pydantic-2.11.2:\n",
      "      Successfully uninstalled pydantic-2.11.2\n",
      "\u001b[31mERROR: pip's dependency resolver does not currently take into account all the packages that are installed. This behaviour is the source of the following dependency conflicts.\n",
      "minedd 0.1.0 requires pydantic>=2.10.1, but you have pydantic 2.9.2 which is incompatible.\u001b[0m\u001b[31m\n",
      "\u001b[0mSuccessfully installed pydantic-2.9.2 pydantic-core-2.23.4\n",
      "\n",
      "\u001b[1m[\u001b[0m\u001b[34;49mnotice\u001b[0m\u001b[1;39;49m]\u001b[0m\u001b[39;49m A new release of pip is available: \u001b[0m\u001b[31;49m24.2\u001b[0m\u001b[39;49m -> \u001b[0m\u001b[32;49m25.0.1\u001b[0m\n",
      "\u001b[1m[\u001b[0m\u001b[34;49mnotice\u001b[0m\u001b[1;39;49m]\u001b[0m\u001b[39;49m To update, run: \u001b[0m\u001b[32;49mpip install --upgrade pip\u001b[0m\n",
      "Note: you may need to restart the kernel to use updated packages.\n",
      "Requirement already satisfied: nest_asyncio in /opt/miniconda3/envs/poopqa/lib/python3.12/site-packages (1.6.0)\n",
      "\n",
      "\u001b[1m[\u001b[0m\u001b[34;49mnotice\u001b[0m\u001b[1;39;49m]\u001b[0m\u001b[39;49m A new release of pip is available: \u001b[0m\u001b[31;49m24.2\u001b[0m\u001b[39;49m -> \u001b[0m\u001b[32;49m25.0.1\u001b[0m\n",
      "\u001b[1m[\u001b[0m\u001b[34;49mnotice\u001b[0m\u001b[1;39;49m]\u001b[0m\u001b[39;49m To update, run: \u001b[0m\u001b[32;49mpip install --upgrade pip\u001b[0m\n",
      "Note: you may need to restart the kernel to use updated packages.\n"
     ]
    }
   ],
   "source": [
    "%pip install -U -e ..\n",
    "%pip install -e ..\n",
    "%pip install pydantic==2.9.2\n",
    "%pip install nest_asyncio"
   ]
  },
  {
   "cell_type": "code",
   "execution_count": 2,
   "metadata": {},
   "outputs": [],
   "source": [
    "import nest_asyncio\n",
    "nest_asyncio.apply()"
   ]
  },
  {
   "cell_type": "markdown",
   "metadata": {},
   "source": [
    "### Load Embeddings object"
   ]
  },
  {
   "cell_type": "code",
   "execution_count": 3,
   "metadata": {},
   "outputs": [
    {
     "data": {
      "text/plain": [
       "<minedd.embeddings.Embeddings at 0x102b63cb0>"
      ]
     },
     "execution_count": 3,
     "metadata": {},
     "output_type": "execute_result"
    }
   ],
   "source": [
    "from minedd.embeddings import Embeddings\n",
    "\n",
    "embeddings = Embeddings(\n",
    "    output_embeddings_path=\"my-embeddings.pkl\",\n",
    ")\n",
    "embeddings"
   ]
  },
  {
   "cell_type": "markdown",
   "metadata": {},
   "source": [
    "### Load papers for processing"
   ]
  },
  {
   "cell_type": "code",
   "execution_count": 4,
   "metadata": {},
   "outputs": [
    {
     "name": "stdout",
     "output_type": "stream",
     "text": [
      "11\n"
     ]
    },
    {
     "data": {
      "text/plain": [
       "['Ambient temperature and age-related notified Campylobacter infection in Israel_ A 12-year time series study.pdf',\n",
       " 'A comparison of weather variables linked to infectious disease patterns using laboratory addresses and patient residence addresses.pdf',\n",
       " '.DS_Store',\n",
       " '_i_Campylobacter__i_ Monitoring in German Broiler Flocks_ An Explorative Time Series Analysis.pdf',\n",
       " 'A time series analysis of the relationship of ambient temperature and common bacterial enteric infections in two Canadian provinces.pdf',\n",
       " 'A Bayesian spatio-temporal framework to identify outbreaks and examine environmental and social risk factors for infectious diseases monitored by routine surveillance.pdf',\n",
       " 'A time-series study of the association of rainfall_ relative humidity and ambient temperature with hospitalizations for rotavirus and norovirus infection among children in Hong Kong.pdf',\n",
       " 'Weather Variability and the Incidence of Cryptosporidiosis_ Comparison of Time Series Poisson Regression and SARIMA Models.pdf',\n",
       " '_i_Campylobacter__i_epidemiology_ a descriptive study reviewing 1 million cases in England and Wales between 1989 and 2011.pdf',\n",
       " 'Weather and notified Campylobacter infections in temperate and sub-tropical regions of Australia_ An ecological study.pdf']"
      ]
     },
     "execution_count": 4,
     "metadata": {},
     "output_type": "execute_result"
    }
   ],
   "source": [
    "from pathlib import Path\n",
    "PAPERS_DIRECTORY = Path.home() / \"papers_minedd/\"\n",
    "pdf_file_list = embeddings.prepare_papers(PAPERS_DIRECTORY)\n",
    "print(len(pdf_file_list))\n",
    "# Check the first 10 files\n",
    "pdf_file_list[:10]"
   ]
  },
  {
   "cell_type": "markdown",
   "metadata": {},
   "source": [
    "### Define paperQA settings"
   ]
  },
  {
   "cell_type": "code",
   "execution_count": 5,
   "metadata": {},
   "outputs": [],
   "source": [
    "from paperqa.settings import Settings, AgentSettings\n",
    "\n",
    "MODEL = \"ollama/llama3.2\"\n",
    "EMBEDDING = \"ollama/mxbai-embed-large:latest\"\n",
    "\n",
    "\"\"\"Configure settings for paperqa.\"\"\"\n",
    "local_llm_config = {\n",
    "    \"model_list\": [\n",
    "        {\n",
    "            \"model_name\": MODEL,\n",
    "            \"litellm_params\": {\n",
    "                \"model\": MODEL,\n",
    "                \"api_base\": \"http://0.0.0.0:11434\",\n",
    "            },\n",
    "            \"answer\": {\n",
    "                \"evidence_k\": 40,\n",
    "                \"evidence_detailed_citations\": True,\n",
    "                \"evidence_summary_length\": \"about 100 words\",\n",
    "                \"answer_max_sources\": 10,\n",
    "                \"answer_length\": \"about 600 words, but can be longer\",\n",
    "                \"max_concurrent_requests\": 10,\n",
    "                \"answer_filter_extra_background\": False\n",
    "            },\n",
    "            \"parsing\": {\n",
    "                \"use_doc_details\": True\n",
    "            }\n",
    "        }\n",
    "    ]\n",
    "}\n",
    "\n",
    "settings = Settings(\n",
    "    llm=MODEL,\n",
    "    llm_config=local_llm_config,\n",
    "    summary_llm=MODEL,\n",
    "    summary_llm_config=local_llm_config,\n",
    "    paper_directory=str(PAPERS_DIRECTORY),\n",
    "    embedding=EMBEDDING,\n",
    "    agent=AgentSettings(\n",
    "        agent_llm=MODEL,\n",
    "        agent_llm_config=local_llm_config,\n",
    "        return_paper_metadata=True\n",
    "    )\n",
    ")"
   ]
  },
  {
   "cell_type": "markdown",
   "metadata": {},
   "source": [
    "### Create Embeddings and save in PKL"
   ]
  },
  {
   "cell_type": "code",
   "execution_count": 6,
   "metadata": {},
   "outputs": [
    {
     "name": "stdout",
     "output_type": "stream",
     "text": [
      "Creating new Docs object.\n"
     ]
    },
    {
     "name": "stderr",
     "output_type": "stream",
     "text": [
      "  0%|          | 0/11 [00:00<?, ?it/s]/opt/miniconda3/envs/poopqa/lib/python3.12/site-packages/tqdm/auto.py:21: TqdmWarning: IProgress not found. Please update jupyter and ipywidgets. See https://ipywidgets.readthedocs.io/en/stable/user_install.html\n",
      "  from .autonotebook import tqdm as notebook_tqdm\n",
      "Failed to parse all of title, DOI, and authors from the ParsingSettings.structured_citation_prompt's response {\"title\": None, \"authors\": [], \"doi\": None}, consider using a manifest file or specifying a different citation prompt.\n",
      "  9%|▉         | 1/11 [00:53<08:51, 53.14s/it]"
     ]
    },
    {
     "name": "stdout",
     "output_type": "stream",
     "text": [
      "Correctly loaded Ambient temperature and age-related notified Campylobacter infection in Israel_ A 12-year time series study.pdf\n"
     ]
    },
    {
     "name": "stderr",
     "output_type": "stream",
     "text": [
      "Failed to parse all of title, DOI, and authors from the ParsingSettings.structured_citation_prompt's response {key: value for key, value in [('title', title), ('authors', authors), ('doi', doi)] if value is not None}, consider using a manifest file or specifying a different citation prompt.\n",
      " 18%|█▊        | 2/11 [01:16<05:18, 35.36s/it]"
     ]
    },
    {
     "name": "stdout",
     "output_type": "stream",
     "text": [
      "Correctly loaded A comparison of weather variables linked to infectious disease patterns using laboratory addresses and patient residence addresses.pdf\n"
     ]
    },
    {
     "name": "stderr",
     "output_type": "stream",
     "text": [
      " 27%|██▋       | 3/11 [01:16<02:36, 19.53s/it]"
     ]
    },
    {
     "name": "stdout",
     "output_type": "stream",
     "text": [
      "Could not read .DS_Store: ParsedText.content must be a `list`, not <class 'str'>.\n"
     ]
    },
    {
     "name": "stderr",
     "output_type": "stream",
     "text": [
      "Failed to parse all of title, DOI, and authors from the ParsingSettings.structured_citation_prompt's response {\n",
      "        'title': title,\n",
      "        'authors': authors,\n",
      "        'doi': doi\n",
      "    }, consider using a manifest file or specifying a different citation prompt.\n",
      " 36%|███▋      | 4/11 [01:56<03:11, 27.42s/it]"
     ]
    },
    {
     "name": "stdout",
     "output_type": "stream",
     "text": [
      "Correctly loaded _i_Campylobacter__i_ Monitoring in German Broiler Flocks_ An Explorative Time Series Analysis.pdf\n"
     ]
    },
    {
     "name": "stderr",
     "output_type": "stream",
     "text": [
      "SEMANTIC_SCHOLAR_API_KEY environment variable not set. Semantic Scholar API rate limits may apply.\n",
      "CROSSREF_MAILTO environment variable not set. Crossref API rate limits may apply.\n",
      "CROSSREF_API_KEY environment variable not set. Crossref API rate limits may apply.\n",
      " 45%|████▌     | 5/11 [02:18<02:33, 25.55s/it]"
     ]
    },
    {
     "name": "stdout",
     "output_type": "stream",
     "text": [
      "Correctly loaded A time series analysis of the relationship of ambient temperature and common bacterial enteric infections in two Canadian provinces.pdf\n"
     ]
    },
    {
     "name": "stderr",
     "output_type": "stream",
     "text": [
      "Failed to parse all of title, DOI, and authors from the ParsingSettings.structured_citation_prompt's response {'title': title, 'authors': authors, 'doi': doi}, consider using a manifest file or specifying a different citation prompt.\n",
      " 55%|█████▍    | 6/11 [02:47<02:14, 26.84s/it]"
     ]
    },
    {
     "name": "stdout",
     "output_type": "stream",
     "text": [
      "Correctly loaded A Bayesian spatio-temporal framework to identify outbreaks and examine environmental and social risk factors for infectious diseases monitored by routine surveillance.pdf\n"
     ]
    },
    {
     "name": "stderr",
     "output_type": "stream",
     "text": [
      "SEMANTIC_SCHOLAR_API_KEY environment variable not set. Semantic Scholar API rate limits may apply.\n",
      " 64%|██████▎   | 7/11 [03:13<01:45, 26.34s/it]"
     ]
    },
    {
     "name": "stdout",
     "output_type": "stream",
     "text": [
      "Correctly loaded A time-series study of the association of rainfall_ relative humidity and ambient temperature with hospitalizations for rotavirus and norovirus infection among children in Hong Kong.pdf\n"
     ]
    },
    {
     "name": "stderr",
     "output_type": "stream",
     "text": [
      "Failed to parse all of title, DOI, and authors from the ParsingSettings.structured_citation_prompt's response {4}, consider using a manifest file or specifying a different citation prompt.\n",
      " 73%|███████▎  | 8/11 [03:50<01:29, 29.93s/it]"
     ]
    },
    {
     "name": "stdout",
     "output_type": "stream",
     "text": [
      "Correctly loaded Weather Variability and the Incidence of Cryptosporidiosis_ Comparison of Time Series Poisson Regression and SARIMA Models.pdf\n"
     ]
    },
    {
     "name": "stderr",
     "output_type": "stream",
     "text": [
      "SEMANTIC_SCHOLAR_API_KEY environment variable not set. Semantic Scholar API rate limits may apply.\n",
      " 82%|████████▏ | 9/11 [04:10<00:53, 26.68s/it]"
     ]
    },
    {
     "name": "stdout",
     "output_type": "stream",
     "text": [
      "Correctly loaded _i_Campylobacter__i_epidemiology_ a descriptive study reviewing 1 million cases in England and Wales between 1989 and 2011.pdf\n"
     ]
    },
    {
     "name": "stderr",
     "output_type": "stream",
     "text": [
      "Failed to parse all of title, DOI, and authors from the ParsingSettings.structured_citation_prompt's response {4,9}, consider using a manifest file or specifying a different citation prompt.\n",
      " 91%|█████████ | 10/11 [04:43<00:28, 28.71s/it]"
     ]
    },
    {
     "name": "stdout",
     "output_type": "stream",
     "text": [
      "Correctly loaded Weather and notified Campylobacter infections in temperate and sub-tropical regions of Australia_ An ecological study.pdf\n"
     ]
    },
    {
     "name": "stderr",
     "output_type": "stream",
     "text": [
      "SEMANTIC_SCHOLAR_API_KEY environment variable not set. Semantic Scholar API rate limits may apply.\n",
      "100%|██████████| 11/11 [05:02<00:00, 27.53s/it]"
     ]
    },
    {
     "name": "stdout",
     "output_type": "stream",
     "text": [
      "Correctly loaded Are hospitalizations for rotavirus gastroenteritis associated with meteorologic factors_.pdf\n",
      "Docs object saved to my-embeddings.pkl\n",
      "Embeddings created and saved to my-embeddings.pkl\n"
     ]
    },
    {
     "name": "stderr",
     "output_type": "stream",
     "text": [
      "\n"
     ]
    }
   ],
   "source": [
    "embeddings.process_papers(settings, PAPERS_DIRECTORY, pdf_file_list)\n",
    "print(\"Embeddings created and saved to my-embeddings.pkl\")"
   ]
  },
  {
   "cell_type": "markdown",
   "metadata": {},
   "source": [
    "### Inspect Documents Object"
   ]
  },
  {
   "cell_type": "code",
   "execution_count": 7,
   "metadata": {},
   "outputs": [
    {
     "name": "stdout",
     "output_type": "stream",
     "text": [
      "docname='Ambient temperature and age-related notified Campylobacter infection in Israel_ A 12-year time series study.pdf' citation='Alina Rosenberger, Miriam Weinberger, Shlomit Pazd, Lea Valinskye, Vered Agmon, Chava Peretz. \"Ambient Temperature and Age-Related Notified Campylobacter Infection in TIsrael: A 12-Year Time Series Study.\" Environmental Research 164 (2018): 539–545.\\n\\nWeinberger, Miriam. \"Campylobacter Infections: An Overview of a Public Health Problem.\" Journal of Food Protection 76.5 (2013): 751-758.\\n\\nEuropean Food Safety Authority. \"The European Food Safety Authority\\'s Scientific Opinion on the Risk Profile of Campylobacter in Relation to Human Health and the Environment.\" EFSA Journal 15.10 (2017): e04731.\\n\\nInstitute of Environmental Science and Research Ltd. \"Campylobacter Infection Control in New Zealand.\" \\n\\nNote: Since no publication date is provided for the Institute of Environmental Science and Research Ltd\\'s report, I could not include it in the citation.' dockey='ef5fb575eb743e9e2ddf54e5e0c9743e' overwrite_fields_from_metadata=True formatted_citation='Alina Rosenberger, Miriam Weinberger, Shlomit Pazd, Lea Valinskye, Vered Agmon, Chava Peretz. \"Ambient Temperature and Age-Related Notified Campylobacter Infection in TIsrael: A 12-Year Time Series Study.\" Environmental Research 164 (2018): 539–545.\\n\\nWeinberger, Miriam. \"Campylobacter Infections: An Overview of a Public Health Problem.\" Journal of Food Protection 76.5 (2013): 751-758.\\n\\nEuropean Food Safety Authority. \"The European Food Safety Authority\\'s Scientific Opinion on the Risk Profile of Campylobacter in Relation to Human Health and the Environment.\" EFSA Journal 15.10 (2017): e04731.\\n\\nInstitute of Environmental Science and Research Ltd. \"Campylobacter Infection Control in New Zealand.\" \\n\\nNote: Since no publication date is provided for the Institute of Environmental Science and Research Ltd\\'s report, I could not include it in the citation.'\n",
      "key: None\n",
      "docname: Ambient temperature and age-related notified Campylobacter infection in Israel_ A 12-year time series study.pdf\n",
      "title: None\n",
      "authors: None\n",
      "year: None\n",
      "journal: None\n",
      "volume: None\n",
      "pages: None\n",
      "doi: None\n",
      "url: None\n",
      "--------------------------------------------------------------------------------\n",
      "docname='A comparison of weather variables linked to infectious disease patterns using laboratory addresses and patient residence addresses.pdf' citation='Djennad et al. BMC Infectious Diseases (2018) 18:198\\nhttps://doi.org/10.1186/s12879-018-3106-9' dockey='5e1061700ab7312396d7b7fd503e8c2f' overwrite_fields_from_metadata=True formatted_citation='Djennad et al. BMC Infectious Diseases (2018) 18:198\\nhttps://doi.org/10.1186/s12879-018-3106-9'\n",
      "key: None\n",
      "docname: A comparison of weather variables linked to infectious disease patterns using laboratory addresses and patient residence addresses.pdf\n",
      "title: None\n",
      "authors: None\n",
      "year: None\n",
      "journal: None\n",
      "volume: None\n",
      "pages: None\n",
      "doi: None\n",
      "url: None\n",
      "--------------------------------------------------------------------------------\n",
      "docname='_i_Campylobacter__i_ Monitoring in German Broiler Flocks_ An Explorative Time Series Analysis.pdf' citation='Hartnack, S., Doherr, M. G., Alter, T., Toutounian-Mashad, K., & Greiner, M. \\n\\n2010. Campylobacter Monitoring in German Broiler Flocks: An Explorative Time Series Analysis. Zoonoses and Public Health 57(1), 34-43.\\n\\nWingstrand, A., Gudmand, M., & Molbak, D. K.\\n\\n2006. Epidemiology of campylobacteriosis. Journal of Clinical Microbiology 44(10):3150-3162' dockey='3bc9bfea106e4f86c21c162e72c5e9f0' overwrite_fields_from_metadata=True formatted_citation='Hartnack, S., Doherr, M. G., Alter, T., Toutounian-Mashad, K., & Greiner, M. \\n\\n2010. Campylobacter Monitoring in German Broiler Flocks: An Explorative Time Series Analysis. Zoonoses and Public Health 57(1), 34-43.\\n\\nWingstrand, A., Gudmand, M., & Molbak, D. K.\\n\\n2006. Epidemiology of campylobacteriosis. Journal of Clinical Microbiology 44(10):3150-3162'\n",
      "key: None\n",
      "docname: _i_Campylobacter__i_ Monitoring in German Broiler Flocks_ An Explorative Time Series Analysis.pdf\n",
      "title: None\n",
      "authors: None\n",
      "year: None\n",
      "journal: None\n",
      "volume: None\n",
      "pages: None\n",
      "doi: None\n",
      "url: None\n",
      "--------------------------------------------------------------------------------\n",
      "docname='fleury2006atimeseries' citation='Manon Fleury, Dominique F. Charron, John D. Holt, O. Brian Allen, and Abdel R. Maarouf. A time series analysis of the relationship of ambient temperature and common bacterial enteric infections in two canadian provinces. International Journal of Biometeorology, 50:385-391, Mar 2006. URL: https://doi.org/10.1007/s00484-006-0028-9, doi:10.1007/s00484-006-0028-9.' dockey='6af93989c109850b' overwrite_fields_from_metadata=True key='fleury2006atimeseries' bibtex='@article{fleury2006atimeseries,\\n    author = \"Fleury, Manon and Charron, Dominique F. and Holt, John D. and Allen, O. Brian and Maarouf, Abdel R.\",\\n    title = \"A time series analysis of the relationship of ambient temperature and common bacterial enteric infections in two Canadian provinces\",\\n    year = \"2006\",\\n    journal = \"International Journal of Biometeorology\",\\n    volume = \"50\",\\n    pages = \"385-391\",\\n    month = \"Mar\",\\n    doi = \"10.1007/s00484-006-0028-9\",\\n    url = \"https://doi.org/10.1007/s00484-006-0028-9\",\\n    publisher = \"Springer Science and Business Media LLC\",\\n    issue = \"6\",\\n    issn = \"0020-7128\"\\n}\\n' authors=['Manon Fleury', 'Dominique F. Charron', 'John D. Holt', 'O. Brian Allen', 'Abdel R. Maarouf'] publication_date=datetime.datetime(2006, 3, 31, 0, 0) year=2006 volume='50' issue='6' issn='0020-7128' pages='385-391' journal='International Journal of Biometeorology' publisher='Springer Science and Business Media LLC' url='https://doi.org/10.1007/s00484-006-0028-9' title='A time series analysis of the relationship of ambient temperature and common bacterial enteric infections in two Canadian provinces' citation_count=191 bibtex_type='misc' source_quality=1 is_retracted=None doi='10.1007/s00484-006-0028-9' doi_url='https://doi.org/10.1007/s00484-006-0028-9' doc_id='6af93989c109850b' file_location=None license=None pdf_url=None other={'bibtex_source': ['self_generated'], 'paperId': '06a52d34629075cecc438c57ad6fa03afccb873f', 'externalIds': {'MAG': '2081236987', 'DOI': '10.1007/S00484-006-0028-9', 'CorpusId': 26599871, 'PubMed': '16575582'}, 'venue': 'International journal of biometeorology', 'citationCount': 191, 'influentialCitationCount': 18, 'isOpenAccess': False, 'openAccessPdf': {'url': '', 'status': 'CLOSED', 'license': None}, 'publicationTypes': ['JournalArticle'], 'publicationDate': '2006-03-31', 'citationStyles': {'bibtex': '@Article{Charron2006ATS,\\n author = {Dominique F. Charron and John D. Holt and A. Maarouf},\\n booktitle = {International journal of biometeorology},\\n journal = {International Journal of Biometeorology},\\n pages = {385-391},\\n title = {A time series analysis of the relationship of ambient temperature and common bacterial enteric infections in two Canadian provinces},\\n volume = {50},\\n year = {2006}\\n}\\n'}, 'client_source': ['semantic_scholar', 'crossref'], 'indexed': {'date-parts': [[2025, 4, 1]], 'date-time': '2025-04-01T12:23:10Z', 'timestamp': 1743510190711}, 'reference-count': 19, 'content-domain': {'domain': [], 'crossmark-restriction': False}, 'short-container-title': ['Int J Biometeorol'], 'published-print': {'date-parts': [[2006, 7]]}, 'DOI': '10.1007/s00484-006-0028-9', 'type': 'journal-article', 'created': {'date-parts': [[2006, 3, 30]], 'date-time': '2006-03-30T10:26:50Z', 'timestamp': 1143714410000}, 'page': '385-391', 'source': 'Crossref', 'is-referenced-by-count': 150, 'prefix': '10.1007', 'author': [{'given': 'Manon', 'family': 'Fleury', 'sequence': 'first', 'affiliation': []}, {'given': 'Dominique F.', 'family': 'Charron', 'sequence': 'additional', 'affiliation': []}, {'given': 'John D.', 'family': 'Holt', 'sequence': 'additional', 'affiliation': []}, {'given': 'O. Brian', 'family': 'Allen', 'sequence': 'additional', 'affiliation': []}, {'given': 'Abdel R.', 'family': 'Maarouf', 'sequence': 'additional', 'affiliation': []}], 'member': '297', 'published-online': {'date-parts': [[2006, 3, 31]]}, 'reference': [{'key': '28_CR1', 'unstructured': 'Aramini J, McLean M, Wilson J et al (2000) Drinking water quality and health care utilization for gastrointestinal illness in greater Vancouver. Health Canada: Population and Public Health Branch. October'}, {'key': '28_CR2', 'doi-asserted-by': 'crossref', 'first-page': '81', 'DOI': '10.1007/BF01212585', 'volume': '39', 'author': 'G Bentham', 'year': '1995', 'unstructured': 'Bentham G, Langford IH (1995) Climate change and the incidence of food poisoning in England and Wales. Int J Biometeorol 39:81–86', 'journal-title': 'Int J Biometeorol'}, {'key': '28_CR3', 'doi-asserted-by': 'crossref', 'first-page': '22', 'DOI': '10.1007/s004840000083', 'volume': '45', 'author': 'G Bentham', 'year': '2001', 'unstructured': 'Bentham G, Langford IH (2001) Environmental temperatures and the incidence of food poisoning in England and Wales. Int J Biometeorol 45:22–26', 'journal-title': 'Int J Biometeorol'}, {'key': '28_CR4', 'doi-asserted-by': 'crossref', 'first-page': '16', 'DOI': '10.1080/01621459.2000.10473895', 'volume': '95', 'author': 'BA Brumback', 'year': '2000', 'unstructured': 'Brumback BA, Ryan LM, Schwartz, J, Neas L, Stark P, Burge H (2000) Transitional regression models, with application to environmental time series. J Am Stat Assoc 95:16–27', 'journal-title': 'J Am Stat Assoc'}, {'key': '28_CR5', 'unstructured': 'Canadian Integrated Surveillance Report (2003) Salmonella, Campylobacter, pathogenic E. coli and Shigella, from 1996–1999. Canadian Communicable Disease Report 2951'}, {'key': '28_CR6', 'first-page': '5', 'volume': '162', 'author': 'Canadian Medical Association Journal', 'year': '2003', 'unstructured': 'Canadian Medical Association Journal (2003) Food irradiation: Let’s do it (editorial). Can Med Assoc J 162:5', 'journal-title': 'Can Med Assoc J'}, {'key': '28_CR7', 'doi-asserted-by': 'crossref', 'first-page': '193', 'DOI': '10.1093/aje/kwf062', 'volume': '156', 'author': 'F Dominici', 'year': '2002', 'unstructured': 'Dominici F, McDermott A, Zeger SL, Samet JM (2002) On the use of generalized additive models in time-series studies of air pollution and health. Am J Epidemiol 156:193–203', 'journal-title': 'Am J Epidemiol'}, {'key': '28_CR8', 'doi-asserted-by': 'crossref', 'first-page': '86', 'DOI': '10.1097/01.ede.0000101021.03453.3e', 'volume': '15', 'author': 'RM D’Souza', 'year': '2004', 'unstructured': 'D’Souza RM, Becker NG, Hall G, Moodie KBA (2004) Does ambient temperature affect foodborne disease? Epidemiology 15:86–92', 'journal-title': 'Epidemiology'}, {'key': '28_CR9', 'unstructured': 'Environment Canada (2002) “The Climate of Newfoundland.” The Green Lane (Dartmouth, Nova Scotia) http://www.atl.ec.gc.ca/climate/nfld.html )'}, {'key': '28_CR10', 'doi-asserted-by': 'crossref', 'first-page': '614', 'DOI': '10.5694/j.1326-5377.2002.tb04984.x', 'volume': '177', 'author': 'GV Hall', 'year': '2002', 'unstructured': 'Hall GV, D’Souza RM, Kirk MD (2002) Foodborne disease in the new millennium: out of the frying pan and into the fire? Med J Aust 177:614–618', 'journal-title': 'Med J Aust'}, {'key': '28_CR11', 'volume-title': 'Generalized additive models', 'author': 'TJ Hastie', 'year': '1990', 'unstructured': 'Hastie TJ, Tibshirani R (1990) Generalized additive models. Chapman and Hall, London'}, {'key': '28_CR12', 'first-page': '61', 'volume': '24', 'author': 'S Isaacs', 'year': '1998', 'unstructured': 'Isaacs S, Leber C, Michel P (1998) The distribution of foodborne disease by risk setting—Ontario. Can Commun Dis Rep 24:61–64', 'journal-title': 'Can Commun Dis Rep'}, {'key': '28_CR13', 'doi-asserted-by': 'crossref', 'first-page': '443', 'DOI': '10.1017/S0950268804001992', 'volume': '132', 'author': 'S Kovats', 'year': '2004', 'unstructured': 'Kovats S, Edwards S, Hajat S, Armstrong BG, Ebi KL, Menne B (2004) The effect of temperature on food poisoning: a time-series analysis of salmonellosis in ten European countries. Epidemiol Infect 132:443–453', 'journal-title': 'Epidemiol Infect'}, {'key': '28_CR14', 'doi-asserted-by': 'crossref', 'first-page': '57', 'DOI': '10.1016/0168-1605(88)90085-2', 'volume': '6', 'author': 'BM Mackey', 'year': '1988', 'unstructured': 'Mackey BM, Kerridge AL (1988) The effect of incubation temperature and inoculum size on growth of salmonellae in minced beef. Int J Food Microbiol 6:57–65', 'journal-title': 'Int J Food Microbiol'}, {'key': '28_CR15', 'unstructured': 'Mathsoft (1999) S-PLUS 2000 guide to statistics, vol 1. Data Analysis Products Division, Mathsoft, Seattle, WA'}, {'key': '28_CR16', 'doi-asserted-by': 'crossref', 'first-page': '1283', 'DOI': '10.1289/ehp.6047', 'volume': '110', 'author': 'TO Ramsay', 'year': '2003', 'unstructured': 'Ramsay TO, Burnett R, Krewski D (2003) Exploring bias in a generalized additive model for spatial air pollution data. Environ Health Perspect 110:1283–1288', 'journal-title': 'Environ Health Perspect'}, {'key': '28_CR17', 'unstructured': 'Statistics Canada (2002) Population and dwelling counts, for Canada, Provinces and Territories, 2001 and 1996 censuses. Statistical Reference Centre, Ottawa, ON, http://www12.statcan.ca/english/census01/products/standard/popdwell/Table-PR.cfm )'}, {'key': '28_CR18', 'doi-asserted-by': 'crossref', 'first-page': '233', 'DOI': '10.1007/s00420-002-0392-7', 'volume': '76', 'author': 'K Ulm', 'year': '2003', 'unstructured': 'Ulm K, Salanti G (2003) Estimation of the general threshold limit values for dust. Int Arch Occup Environ Health 76:233–240', 'journal-title': 'Int Arch Occup Environ Health'}, {'key': '28_CR19', 'doi-asserted-by': 'crossref', 'first-page': '673', 'DOI': '10.1198/016214504000000980', 'volume': '99', 'author': 'SN Woods', 'year': '2004', 'unstructured': 'Woods SN (2004) Stable and efficient multiple smoothing parameter estimation for generalized additive models. J Am Stat Assoc 99:673–686', 'journal-title': 'J Am Stat Assoc'}], 'container-title': ['International Journal of Biometeorology'], 'original-title': [], 'language': 'en', 'link': [{'URL': 'http://link.springer.com/content/pdf/10.1007/s00484-006-0028-9.pdf', 'content-type': 'application/pdf', 'content-version': 'vor', 'intended-application': 'text-mining'}, {'URL': 'http://link.springer.com/article/10.1007/s00484-006-0028-9/fulltext.html', 'content-type': 'text/html', 'content-version': 'vor', 'intended-application': 'text-mining'}, {'URL': 'http://link.springer.com/content/pdf/10.1007/s00484-006-0028-9', 'content-type': 'unspecified', 'content-version': 'vor', 'intended-application': 'similarity-checking'}], 'deposited': {'date-parts': [[2020, 4, 13]], 'date-time': '2020-04-13T12:27:27Z', 'timestamp': 1586780847000}, 'score': 1, 'resource': {'primary': {'URL': 'http://link.springer.com/10.1007/s00484-006-0028-9'}}, 'subtitle': [], 'short-title': [], 'issued': {'date-parts': [[2006, 3, 31]]}, 'references-count': 19, 'journal-issue': {'issue': '6', 'published-print': {'date-parts': [[2006, 7]]}}, 'alternative-id': ['28'], 'URL': 'https://doi.org/10.1007/s00484-006-0028-9', 'relation': {}, 'ISSN': ['0020-7128', '1432-1254'], 'issn-type': [{'value': '0020-7128', 'type': 'print'}, {'value': '1432-1254', 'type': 'electronic'}], 'subject': [], 'published': {'date-parts': [[2006, 3, 31]]}} formatted_citation='Manon Fleury, Dominique F. Charron, John D. Holt, O. Brian Allen, and Abdel R. Maarouf. A time series analysis of the relationship of ambient temperature and common bacterial enteric infections in two canadian provinces. International Journal of Biometeorology, 50:385-391, Mar 2006. URL: https://doi.org/10.1007/s00484-006-0028-9, doi:10.1007/s00484-006-0028-9. This article has 191 citations and is from a peer-reviewed journal.'\n",
      "key: fleury2006atimeseries\n",
      "docname: fleury2006atimeseries\n",
      "title: A time series analysis of the relationship of ambient temperature and common bacterial enteric infections in two Canadian provinces\n",
      "authors: ['Manon Fleury', 'Dominique F. Charron', 'John D. Holt', 'O. Brian Allen', 'Abdel R. Maarouf']\n",
      "year: 2006\n",
      "journal: International Journal of Biometeorology\n",
      "volume: 50\n",
      "pages: 385-391\n",
      "doi: 10.1007/s00484-006-0028-9\n",
      "url: https://doi.org/10.1007/s00484-006-0028-9\n",
      "--------------------------------------------------------------------------------\n",
      "docname='A Bayesian spatio-temporal framework to identify outbreaks and examine environmental and social risk factors for infectious diseases monitored by routine surveillance.pdf' citation='Aparna Lal, Jonathan Marshall, Jackie Benschop, Aleisha Brock, Simon Hales, Michael G Baker, Nigel P French.\\n\"A Bayesian spatio-temporal framework to identify outbreaks and examine environmental and social risk factors for infectious diseases monitored by routine surveillance.\" Spatial and Spatio-temporal Epidemiology 12.2 (2017): doi: 10.1016/j.sste.2017.10.004.\\n\\nAccessed February 2024' dockey='140bd9764073390a4631a93ce7ffe0ec' overwrite_fields_from_metadata=True formatted_citation='Aparna Lal, Jonathan Marshall, Jackie Benschop, Aleisha Brock, Simon Hales, Michael G Baker, Nigel P French.\\n\"A Bayesian spatio-temporal framework to identify outbreaks and examine environmental and social risk factors for infectious diseases monitored by routine surveillance.\" Spatial and Spatio-temporal Epidemiology 12.2 (2017): doi: 10.1016/j.sste.2017.10.004.\\n\\nAccessed February 2024'\n",
      "key: None\n",
      "docname: A Bayesian spatio-temporal framework to identify outbreaks and examine environmental and social risk factors for infectious diseases monitored by routine surveillance.pdf\n",
      "title: None\n",
      "authors: None\n",
      "year: None\n",
      "journal: None\n",
      "volume: None\n",
      "pages: None\n",
      "doi: None\n",
      "url: None\n",
      "--------------------------------------------------------------------------------\n",
      "docname='wang2018atimeseriesstudy' citation='Pin Wang, William B. Goggins, and Emily Y.Y. Chan. A time-series study of the association of rainfall, relative humidity and ambient temperature with hospitalizations for rotavirus and norovirus infection among children in hong kong. Science of The Total Environment, 643:414-422, Dec 2018. URL: https://doi.org/10.1016/j.scitotenv.2018.06.189, doi:10.1016/j.scitotenv.2018.06.189.' dockey='b6a6137315ccac14' overwrite_fields_from_metadata=True key='wang2018atimeseriesstudy' bibtex='@article{wang2018atimeseriesstudy,\\n    author = \"Wang, Pin and Goggins, William B. and Chan, Emily Y.Y.\",\\n    title = \"A time-series study of the association of rainfall, relative humidity and ambient temperature with hospitalizations for rotavirus and norovirus infection among children in Hong Kong\",\\n    year = \"2018\",\\n    journal = \"Science of The Total Environment\",\\n    volume = \"643\",\\n    pages = \"414-422\",\\n    month = \"Dec\",\\n    doi = \"10.1016/j.scitotenv.2018.06.189\",\\n    url = \"https://doi.org/10.1016/j.scitotenv.2018.06.189\",\\n    publisher = \"Elsevier BV\",\\n    issn = \"0048-9697\"\\n}\\n' authors=['Pin Wang', 'William B. Goggins', 'Emily Y.Y. Chan'] publication_date=datetime.datetime(2018, 12, 1, 0, 0) year=2018 volume='643' issue=None issn='0048-9697' pages='414-422' journal='Science of The Total Environment' publisher='Elsevier BV' url='https://doi.org/10.1016/j.scitotenv.2018.06.189' title='A time-series study of the association of rainfall, relative humidity and ambient temperature with hospitalizations for rotavirus and norovirus infection among children in Hong Kong' citation_count=69 bibtex_type='misc' source_quality=2 is_retracted=None doi='10.1016/j.scitotenv.2018.06.189' doi_url='https://doi.org/10.1016/j.scitotenv.2018.06.189' doc_id='b6a6137315ccac14' file_location=None license=None pdf_url=None other={'bibtex_source': ['self_generated'], 'paperId': '46f142a8401aa9406ca5ee466c0022c663c41f1d', 'externalIds': {'MAG': '2809704401', 'DOI': '10.1016/j.scitotenv.2018.06.189', 'CorpusId': 49486011, 'PubMed': '29940452'}, 'venue': 'Science of the Total Environment', 'citationCount': 69, 'influentialCitationCount': 0, 'isOpenAccess': False, 'openAccessPdf': {'url': '', 'status': 'CLOSED', 'license': None}, 'publicationTypes': ['JournalArticle'], 'publicationDate': '2018-12-01', 'citationStyles': {'bibtex': '@Article{Wang2018ATS,\\n author = {Pin Wang and W. Goggins and E. Chan},\\n booktitle = {Science of the Total Environment},\\n journal = {The Science of the total environment},\\n pages = {\\n          414-422\\n        },\\n title = {A time-series study of the association of rainfall, relative humidity and ambient temperature with hospitalizations for rotavirus and norovirus infection among children in Hong Kong.},\\n volume = {643},\\n year = {2018}\\n}\\n'}, 'client_source': ['semantic_scholar', 'crossref'], 'indexed': {'date-parts': [[2025, 3, 29]], 'date-time': '2025-03-29T23:30:38Z', 'timestamp': 1743291038393}, 'reference-count': 44, 'content-domain': {'domain': ['elsevier.com', 'sciencedirect.com'], 'crossmark-restriction': True}, 'short-container-title': ['Science of The Total Environment'], 'published-print': {'date-parts': [[2018, 12]]}, 'DOI': '10.1016/j.scitotenv.2018.06.189', 'type': 'journal-article', 'created': {'date-parts': [[2018, 6, 22]], 'date-time': '2018-06-22T20:48:53Z', 'timestamp': 1529700533000}, 'page': '414-422', 'update-policy': 'http://dx.doi.org/10.1016/elsevier_cm_policy', 'source': 'Crossref', 'is-referenced-by-count': 68, 'special_numbering': 'C', 'prefix': '10.1016', 'author': [{'ORCID': 'http://orcid.org/0000-0002-8031-8494', 'authenticated-orcid': False, 'given': 'Pin', 'family': 'Wang', 'sequence': 'first', 'affiliation': []}, {'given': 'William B.', 'family': 'Goggins', 'sequence': 'additional', 'affiliation': []}, {'given': 'Emily Y.Y.', 'family': 'Chan', 'sequence': 'additional', 'affiliation': []}], 'member': '78', 'reference': [{'key': '10.1016/j.scitotenv.2018.06.189_bb0005', 'doi-asserted-by': 'crossref', 'DOI': '10.1371/journal.pone.0075922', 'article-title': 'A systematic review and meta-analysis of the global seasonality of norovirus', 'volume': '8', 'author': 'Ahmed', 'year': '2013', 'journal-title': 'PLoS One'}, {'key': '10.1016/j.scitotenv.2018.06.189_bb0010', 'doi-asserted-by': 'crossref', 'first-page': '203', 'DOI': '10.2166/wst.2009.860', 'article-title': 'Variability analysis of pathogen and indicator loads from urban sewer systems along a river', 'volume': '59', 'author': 'Astrom', 'year': '2009', 'journal-title': 'Water Sci. Technol.'}, {'key': '10.1016/j.scitotenv.2018.06.189_bb0015', 'doi-asserted-by': 'crossref', 'first-page': '933', 'DOI': '10.1098/rspb.2009.1755', 'article-title': 'Temperature-dependent transmission of rotavirus in Great Britain and The Netherlands', 'volume': '277', 'author': 'Atchison', 'year': '2010', 'journal-title': 'Proc. Biol. Sci.'}, {'key': '10.1016/j.scitotenv.2018.06.189_bb0020', 'doi-asserted-by': 'crossref', 'first-page': '679', 'DOI': '10.1111/j.1365-3156.1996.tb00095.x', 'article-title': 'Aetiology of acute diarrhoea in hospitalized children in Hong Kong', 'volume': '1', 'author': 'Biswas', 'year': '1996', 'journal-title': 'Tropical Med. Int. Health'}, {'key': '10.1016/j.scitotenv.2018.06.189_bb0025', 'doi-asserted-by': 'crossref', 'first-page': '1597', 'DOI': '10.4315/0362-028X.JFP-14-487', 'article-title': 'Thermal inactivation of foodborne enteric viruses and their viral surrogates in foods', 'volume': '78', 'author': 'Bozkurt', 'year': '2015', 'journal-title': 'J. Food Prot.'}, {'key': '10.1016/j.scitotenv.2018.06.189_bb0030', 'doi-asserted-by': 'crossref', 'first-page': '478', 'DOI': '10.1128/JCM.16.3.478-482.1982', 'article-title': 'Rotavirus gastroenteritis and weather', 'volume': '16', 'author': 'Brandt', 'year': '1982', 'journal-title': 'J. Clin. Microbiol.'}, {'key': '10.1016/j.scitotenv.2018.06.189_bb0035', 'doi-asserted-by': 'crossref', 'first-page': '2822', 'DOI': '10.3390/ijerph7072822', 'article-title': 'The incidence of norovirus-associated gastroenteritis outbreaks in Victoria, Australia (2002-2007) and their relationship with rainfall', 'volume': '7', 'author': 'Bruggink', 'year': '2010', 'journal-title': 'Int. J. Environ. Res. Public Health'}, {'key': '10.1016/j.scitotenv.2018.06.189_bb0040', 'author': 'Centre for Health Protection'}, {'key': '10.1016/j.scitotenv.2018.06.189_bb0045', 'doi-asserted-by': 'crossref', 'first-page': '43', 'DOI': '10.1016/j.scitotenv.2010.09.001', 'article-title': 'Modeling the impact of climate variability on diarrhea-associated diseases in Taiwan (1996-2007)', 'volume': '409', 'author': 'Chou', 'year': '2010', 'journal-title': 'Sci. Total Environ.'}, {'key': '10.1016/j.scitotenv.2018.06.189_bb0050', 'doi-asserted-by': 'crossref', 'first-page': '270', 'DOI': '10.1016/j.scitotenv.2016.01.034', 'article-title': 'Quantitative microbial risk assessment combined with hydrodynamic modelling to estimate the public health risk associated with bathing after rainfall events', 'volume': '548-549', 'author': 'Eregno', 'year': '2016', 'journal-title': 'Sci. Total Environ.'}, {'key': '10.1016/j.scitotenv.2018.06.189_bb0055', 'doi-asserted-by': 'crossref', 'first-page': '1', 'DOI': '10.18637/jss.v043.i08', 'article-title': 'Distributed lag linear and non-linear models in R: the package dlnm', 'volume': '43', 'author': 'Gasparrini', 'year': '2011', 'journal-title': 'J. Stat. Softw.'}, {'key': '10.1016/j.scitotenv.2018.06.189_bb0060', 'doi-asserted-by': 'crossref', 'first-page': '117', 'DOI': '10.1016/S0140-6736(14)61682-2', 'article-title': 'Global, regional, and national age-sex specific all-cause and cause-specific mortality for 240 causes of death, 1990–2013: a systematic analysis for the Global Burden of Disease Study 2013', 'volume': '385', 'year': '2015', 'journal-title': 'Lancet'}, {'key': '10.1016/j.scitotenv.2018.06.189_bb0065', 'first-page': '254', 'article-title': 'Seasonality of rotavirus infection in Venezuela: relationship between monthly rotavirus incidence and rainfall rates', 'volume': '56', 'author': 'Gonzalez Chavez', 'year': '2015', 'journal-title': 'Investig. Clin.'}, {'key': '10.1016/j.scitotenv.2018.06.189_bb0070', 'doi-asserted-by': 'crossref', 'first-page': '192', 'DOI': '10.1007/s10393-009-0247-8', 'article-title': 'Why “winter” vomiting disease? Seasonality, hydrology, and norovirus epidemiology in Toronto', 'volume': '6', 'author': 'Greer', 'year': '2009', 'journal-title': 'Canada. Ecohealth'}, {'key': '10.1016/j.scitotenv.2018.06.189_bb0075', 'doi-asserted-by': 'crossref', 'first-page': '1030', 'DOI': '10.1093/ije/dym148', 'article-title': 'Association between climate variability and hospital visits for non-cholera diarrhoea in Bangladesh: effects and vulnerable groups', 'volume': '36', 'author': 'Hashizume', 'year': '2007', 'journal-title': 'Int. J. Epidemiol.'}, {'key': '10.1016/j.scitotenv.2018.06.189_bb0080', 'doi-asserted-by': 'crossref', 'first-page': '1547', 'DOI': '10.1007/s10096-014-2106-y', 'article-title': 'Are hospitalizations for rotavirus gastroenteritis associated with meteorologic factors?', 'volume': '33', 'author': 'Hervas', 'year': '2014', 'journal-title': 'Eur. J. Clin. Microbiol. Infect. Dis.'}, {'key': '10.1016/j.scitotenv.2018.06.189_bb0085', 'doi-asserted-by': 'crossref', 'first-page': '1473', 'DOI': '10.1002/jmv.20721', 'article-title': 'Correlation of norovirus variants with epidemics of acute viral gastroenteritis in Hong Kong', 'volume': '78', 'author': 'Ho', 'year': '2006', 'journal-title': 'J. Med. Virol.'}, {'key': '10.1016/j.scitotenv.2018.06.189_bb0090', 'author': 'Hong Kong Observatory'}, {'key': '10.1016/j.scitotenv.2018.06.189_bb0095', 'doi-asserted-by': 'crossref', 'first-page': '681', 'DOI': '10.1139/m85-129', 'article-title': 'Effect of relative humidity, atmospheric temperature, and suspending medium on the airborne survival of human rotavirus', 'volume': '31', 'author': 'Ijaz', 'year': '1985', 'journal-title': 'Can. J. Microbiol.'}, {'key': '10.1016/j.scitotenv.2018.06.189_bb0100', 'doi-asserted-by': 'crossref', 'first-page': '323', 'DOI': '10.1016/0928-0197(94)90002-7', 'article-title': 'Seasonality and prevalence of rotavirus in Al-Ain, United Arab Emirates', 'volume': '2', 'author': 'Ijaz', 'year': '1994', 'journal-title': 'Clin. Diagn. Virol.'}, {'key': '10.1016/j.scitotenv.2018.06.189_bb0105', 'doi-asserted-by': 'crossref', 'first-page': '91', 'DOI': '10.1016/0147-9571(94)90034-5', 'article-title': 'Studies on the survival of aerosolized bovine rotavirus (UK) and a murine rotavirus', 'volume': '17', 'author': 'Ijaz', 'year': '1994', 'journal-title': 'Comp. Immunol. Microbiol. Infect. Dis.'}, {'key': '10.1016/j.scitotenv.2018.06.189_bb0110', 'series-title': 'The Physical Science Basis: Working Group I Contribution to the Fifth Assessment Report of the Intergovernmental Panel on Climate Change', 'article-title': 'Climate change 2013', 'author': 'Intergovernmental Panel on Climate Change', 'year': '2014'}, {'key': '10.1016/j.scitotenv.2018.06.189_bb0115', 'doi-asserted-by': 'crossref', 'DOI': '10.1371/journal.pone.0038168', 'article-title': 'Seasonality of rotavirus in South Asia: a meta-analysis approach assessing associations with temperature, precipitation, and vegetation index', 'volume': '7', 'author': 'Jagai', 'year': '2012', 'journal-title': 'PLoS One'}, {'key': '10.1016/j.scitotenv.2018.06.189_bb0120', 'doi-asserted-by': 'crossref', 'first-page': '691', 'DOI': '10.1007/s13351-011-0601-y', 'article-title': 'Projections of extreme rainfall in Hong Kong in the 21st Century', 'volume': '25', 'author': 'Lee', 'year': '2011', 'journal-title': 'Acta Meteorol Sin'}, {'key': '10.1016/j.scitotenv.2018.06.189_bb0125', 'doi-asserted-by': 'crossref', 'first-page': '446', 'DOI': '10.1186/1471-2334-13-446', 'article-title': 'Incubation periods of viral gastroenteritis: a systematic review', 'volume': '13', 'author': 'Lee', 'year': '2013', 'journal-title': 'BMC Infect. Dis.'}, {'key': '10.1016/j.scitotenv.2018.06.189_bb0130', 'doi-asserted-by': 'crossref', 'first-page': '1487', 'DOI': '10.1093/ije/dyn260', 'article-title': 'Seasonality of rotavirus disease in the tropics: a systematic review and meta-analysis', 'volume': '38', 'author': 'Levy', 'year': '2009', 'journal-title': 'Int. J. Epidemiol.'}, {'key': '10.1016/j.scitotenv.2018.06.189_bb0135', 'doi-asserted-by': 'crossref', 'first-page': '1903', 'DOI': '10.1002/jmv.21611', 'article-title': 'Prevalence of diarrhea viruses in hospitalized children in Hong Kong in 2008', 'volume': '81', 'author': 'Li', 'year': '2009', 'journal-title': 'J. Med. Virol.'}, {'key': '10.1016/j.scitotenv.2018.06.189_bb0140', 'doi-asserted-by': 'crossref', 'DOI': '10.1371/journal.pone.0006671', 'article-title': 'Host, weather and virological factors drive norovirus epidemiology: time-series analysis of laboratory surveillance data in England and Wales', 'volume': '4', 'author': 'Lopman', 'year': '2009', 'journal-title': 'PLoS One'}, {'key': '10.1016/j.scitotenv.2018.06.189_bb0145', 'doi-asserted-by': 'crossref', 'first-page': '2095', 'DOI': '10.1016/S0140-6736(12)61728-0', 'article-title': 'Global and regional mortality from 235 causes of death for 20 age groups in 1990 and 2010: a systematic analysis for the Global Burden of Disease Study 2010', 'volume': '380', 'author': 'Lozano', 'year': '2012', 'journal-title': 'Lancet'}, {'key': '10.1016/j.scitotenv.2018.06.189_bb0150', 'doi-asserted-by': 'crossref', 'first-page': '3858', 'DOI': '10.1073/pnas.1503667112', 'article-title': 'Climate change and California drought in the 21st century', 'volume': '112', 'author': 'Mann', 'year': '2015', 'journal-title': 'Proc. Natl. Acad. Sci. U. S. A.'}, {'key': '10.1016/j.scitotenv.2018.06.189_bb0155', 'doi-asserted-by': 'crossref', 'first-page': '325', 'DOI': '10.1016/j.jcv.2011.01.008', 'article-title': 'Co-dominance of G1 and emerging G3 rotaviruses in Hong Kong: a three-year surveillance in three major hospitals', 'volume': '50', 'author': 'Mitui', 'year': '2011', 'journal-title': 'J. Clin. Virol.'}, {'key': '10.1016/j.scitotenv.2018.06.189_bb0160', 'doi-asserted-by': 'crossref', 'first-page': '179', 'DOI': '10.1007/BF01348963', 'article-title': 'The effects of relative humidity and temperature on the survival of human rotavirus in faeces', 'volume': '72', 'author': 'Moe', 'year': '1982', 'journal-title': 'Arch. Virol.'}, {'key': '10.1016/j.scitotenv.2018.06.189_bb0165', 'doi-asserted-by': 'crossref', 'first-page': '49', 'DOI': '10.1007/s40641-015-0009-3', 'article-title': 'Precipitation extremes under climate change', 'volume': '1', 'author': \"O'Gorman\", 'year': '2015', 'journal-title': 'Curr Clim Change Rep'}, {'key': '10.1016/j.scitotenv.2018.06.189_bb0170', 'doi-asserted-by': 'crossref', 'first-page': '212', 'DOI': '10.1128/JCM.15.2.212-215.1982', 'article-title': 'Influence of humidity on rotavirus prevalence among Nigerian infants and young-children with gastroenteritis', 'volume': '15', 'author': 'Paul', 'year': '1982', 'journal-title': 'J. Clin. Microbiol.'}, {'key': '10.1016/j.scitotenv.2018.06.189_bb0175', 'doi-asserted-by': 'crossref', 'first-page': '1121', 'DOI': '10.1056/NEJMsa1206589', 'article-title': 'Norovirus and medically attended gastroenteritis in U.S. children', 'volume': '368', 'author': 'Payne', 'year': '2013', 'journal-title': 'N. Engl. J. Med.'}, {'key': '10.1016/j.scitotenv.2018.06.189_bb0180', 'doi-asserted-by': 'crossref', 'first-page': '1321', 'DOI': '10.1007/s00484-014-0942-1', 'article-title': 'Association between climate factors and diarrhoea in a Mekong Delta area', 'volume': '59', 'author': 'Phung', 'year': '2015', 'journal-title': 'Int. J. Biometeorol.'}, {'key': '10.1016/j.scitotenv.2018.06.189_bb0185', 'doi-asserted-by': 'crossref', 'first-page': '7', 'DOI': '10.3201/eid1701.P11101', 'article-title': 'Foodborne illness acquired in the United States–major pathogens', 'volume': '17', 'author': 'Scallan', 'year': '2011', 'journal-title': 'Emerg. Infect. Dis.'}, {'key': '10.1016/j.scitotenv.2018.06.189_bb0190', 'doi-asserted-by': 'crossref', 'first-page': '1652', 'DOI': '10.1017/S0950268812002208', 'article-title': 'Effect of temperature, relative humidity and rainfall on rotavirus infections in Kolkata, India', 'volume': '141', 'author': 'Sumi', 'year': '2013', 'journal-title': 'Epidemiol Infect'}, {'key': '10.1016/j.scitotenv.2018.06.189_bb0195', 'doi-asserted-by': 'crossref', 'first-page': '322', 'DOI': '10.1038/nclimate1744', 'article-title': 'Ground water and climate change', 'volume': '3', 'author': 'Taylor', 'year': '2013', 'journal-title': 'Nat. Clim. Chang.'}, {'key': '10.1016/j.scitotenv.2018.06.189_bb0200', 'doi-asserted-by': 'crossref', 'first-page': '346', 'DOI': '10.1016/j.ijfoodmicro.2013.09.018', 'article-title': 'Transfer of noroviruses between fingers and fomites and food products', 'volume': '167', 'author': 'Tuladhar', 'year': '2013', 'journal-title': 'Int. J. Food Microbiol.'}, {'key': '10.1016/j.scitotenv.2018.06.189_bb0205', 'doi-asserted-by': 'crossref', 'first-page': '627', 'DOI': '10.1289/ehp.1509764', 'article-title': 'Modeling and prediction of oyster norovirus outbreaks along Gulf of Mexico coast', 'volume': '124', 'author': 'Wang', 'year': '2016', 'journal-title': 'Environ. Health Perspect.'}, {'key': '10.1016/j.scitotenv.2018.06.189_bb0210', 'series-title': 'Generalized Additive Models: An Introduction with R', 'author': 'Wood', 'year': '2006'}, {'key': '10.1016/j.scitotenv.2018.06.189_bb0215', 'doi-asserted-by': 'crossref', 'first-page': '1859', 'DOI': '10.1017/S095026881300277X', 'article-title': 'Association of climate variability and childhood diarrhoeal disease in rural Bangladesh, 2000-2006', 'volume': '142', 'author': 'Wu', 'year': '2014', 'journal-title': 'Epidemiol. Infect.'}, {'key': '10.1016/j.scitotenv.2018.06.189_bb0220', 'doi-asserted-by': 'crossref', 'first-page': '4935', 'DOI': '10.1016/j.vaccine.2016.08.047', 'article-title': 'Rotavirus vaccine effectiveness in Hong Kong children', 'volume': '34', 'author': 'Yeung', 'year': '2016', 'journal-title': 'Vaccine'}], 'container-title': ['Science of The Total Environment'], 'original-title': [], 'language': 'en', 'link': [{'URL': 'https://api.elsevier.com/content/article/PII:S0048969718322654?httpAccept=text/xml', 'content-type': 'text/xml', 'content-version': 'vor', 'intended-application': 'text-mining'}, {'URL': 'https://api.elsevier.com/content/article/PII:S0048969718322654?httpAccept=text/plain', 'content-type': 'text/plain', 'content-version': 'vor', 'intended-application': 'text-mining'}], 'deposited': {'date-parts': [[2020, 11, 4]], 'date-time': '2020-11-04T00:39:19Z', 'timestamp': 1604450359000}, 'score': 1, 'resource': {'primary': {'URL': 'https://linkinghub.elsevier.com/retrieve/pii/S0048969718322654'}}, 'subtitle': [], 'short-title': [], 'issued': {'date-parts': [[2018, 12]]}, 'references-count': 44, 'alternative-id': ['S0048969718322654'], 'URL': 'https://doi.org/10.1016/j.scitotenv.2018.06.189', 'relation': {}, 'ISSN': ['0048-9697'], 'issn-type': [{'value': '0048-9697', 'type': 'print'}], 'subject': [], 'published': {'date-parts': [[2018, 12]]}, 'assertion': [{'value': 'Elsevier', 'name': 'publisher', 'label': 'This article is maintained by'}, {'value': 'A time-series study of the association of rainfall, relative humidity and ambient temperature with hospitalizations for rotavirus and norovirus infection among children in Hong Kong', 'name': 'articletitle', 'label': 'Article Title'}, {'value': 'Science of The Total Environment', 'name': 'journaltitle', 'label': 'Journal Title'}, {'value': 'https://doi.org/10.1016/j.scitotenv.2018.06.189', 'name': 'articlelink', 'label': 'CrossRef DOI link to publisher maintained version'}, {'value': 'article', 'name': 'content_type', 'label': 'Content Type'}, {'value': '© 2018 Elsevier B.V. All rights reserved.', 'name': 'copyright', 'label': 'Copyright'}]} formatted_citation='Pin Wang, William B. Goggins, and Emily Y.Y. Chan. A time-series study of the association of rainfall, relative humidity and ambient temperature with hospitalizations for rotavirus and norovirus infection among children in hong kong. Science of The Total Environment, 643:414-422, Dec 2018. URL: https://doi.org/10.1016/j.scitotenv.2018.06.189, doi:10.1016/j.scitotenv.2018.06.189. This article has 69 citations and is from a domain leading peer-reviewed journal.'\n",
      "key: wang2018atimeseriesstudy\n",
      "docname: wang2018atimeseriesstudy\n",
      "title: A time-series study of the association of rainfall, relative humidity and ambient temperature with hospitalizations for rotavirus and norovirus infection among children in Hong Kong\n",
      "authors: ['Pin Wang', 'William B. Goggins', 'Emily Y.Y. Chan']\n",
      "year: 2018\n",
      "journal: Science of The Total Environment\n",
      "volume: 643\n",
      "pages: 414-422\n",
      "doi: 10.1016/j.scitotenv.2018.06.189\n",
      "url: https://doi.org/10.1016/j.scitotenv.2018.06.189\n",
      "--------------------------------------------------------------------------------\n",
      "docname='Weather Variability and the Incidence of Cryptosporidiosis_ Comparison of Time Series Poisson Regression and SARIMA Models.pdf' citation='HU, WENBIAO, SHILU TONG, KERRIE MENGERSEN, AND DES CONNELL. \"Weather Variability and the Incidence of Cryptosporidiosis: Comparison of Time Series Poisson Regression and SARIMA Models.\" Annals of Epidemiology, vol. 17, no. 6, Elsevier Inc., 2007, pp. 679-688.\\n\\nAnn Epidemiol. 2007;17(6):679–688. doi: 10.1016/j.annepidem.2007.02.003' dockey='9e26ccef2cfc3b32fa4c2f143c32c296' overwrite_fields_from_metadata=True formatted_citation='HU, WENBIAO, SHILU TONG, KERRIE MENGERSEN, AND DES CONNELL. \"Weather Variability and the Incidence of Cryptosporidiosis: Comparison of Time Series Poisson Regression and SARIMA Models.\" Annals of Epidemiology, vol. 17, no. 6, Elsevier Inc., 2007, pp. 679-688.\\n\\nAnn Epidemiol. 2007;17(6):679–688. doi: 10.1016/j.annepidem.2007.02.003'\n",
      "key: None\n",
      "docname: Weather Variability and the Incidence of Cryptosporidiosis_ Comparison of Time Series Poisson Regression and SARIMA Models.pdf\n",
      "title: None\n",
      "authors: None\n",
      "year: None\n",
      "journal: None\n",
      "volume: None\n",
      "pages: None\n",
      "doi: None\n",
      "url: None\n",
      "--------------------------------------------------------------------------------\n",
      "docname='nichols2012campylobacterepidemiologya' citation='Gordon L Nichols, Judith F Richardson, Samuel K Sheppard, Chris Lane, and Christophe Sarran. Campylobacter epidemiology: a descriptive study reviewing 1 million cases in england and wales between 1989 and 2011. BMJ Open, Jul 2012. URL: https://doi.org/10.1136/bmjopen-2012-001179, doi:10.1136/bmjopen-2012-001179.' dockey='8fd3974f4ecb34bc' overwrite_fields_from_metadata=True key='nichols2012campylobacterepidemiologya' bibtex='@article{nichols2012campylobacterepidemiologya,\\n    author = \"Nichols, Gordon L and Richardson, Judith F and Sheppard, Samuel K and Lane, Chris and Sarran, Christophe\",\\n    title = \"Campylobacter epidemiology: a descriptive study reviewing 1 million cases in England and Wales between 1989 and 2011\",\\n    year = \"2012\",\\n    journal = \"BMJ Open\",\\n    volume = \"2\",\\n    month = \"Jul\",\\n    doi = \"10.1136/bmjopen-2012-001179\",\\n    url = \"https://doi.org/10.1136/bmjopen-2012-001179\"\\n}\\n' authors=['Gordon L Nichols', 'Judith F Richardson', 'Samuel K Sheppard', 'Chris Lane', 'Christophe Sarran'] publication_date=datetime.datetime(2012, 7, 12, 0, 0) year=2012 volume='2' issue=None issn=None pages=None journal='BMJ Open' publisher=None url='https://bmjopen.bmj.com/content/bmjopen/2/4/e001179.full.pdf' title='Campylobacter epidemiology: a descriptive study reviewing 1 million cases in England and Wales between 1989 and 2011' citation_count=142 bibtex_type='article' source_quality=1 is_retracted=None doi='10.1136/bmjopen-2012-001179' doi_url='https://doi.org/10.1136/bmjopen-2012-001179' doc_id='8fd3974f4ecb34bc' file_location=None license=None pdf_url=None other={'bibtex_source': ['self_generated'], 'paperId': '310aab09ab0212dce830675664fe79ac1cfc1163', 'externalIds': {'MAG': '2157119382', 'PubMedCentral': '3400078', 'DOI': '10.1136/bmjopen-2012-001179', 'CorpusId': 15610301, 'PubMed': '22798256'}, 'venue': 'BMJ Open', 'citationCount': 142, 'influentialCitationCount': 9, 'isOpenAccess': True, 'openAccessPdf': {'url': 'https://bmjopen.bmj.com/content/bmjopen/2/4/e001179.full.pdf', 'status': 'GOLD', 'license': 'CCBYNC'}, 'publicationTypes': ['JournalArticle', 'Review'], 'publicationDate': '2012-07-12', 'citationStyles': {'bibtex': '@Article{Nichols2012CampylobacterEA,\\n author = {G. Nichols and J. Richardson and S. Sheppard and C. Lane and C. Sarran},\\n booktitle = {BMJ Open},\\n journal = {BMJ Open},\\n title = {Campylobacter epidemiology: a descriptive study reviewing 1 million cases in England and Wales between 1989 and 2011},\\n volume = {2},\\n year = {2012}\\n}\\n'}, 'client_source': ['semantic_scholar', 'crossref'], 'indexed': {'date-parts': [[2025, 3, 19]], 'date-time': '2025-03-19T12:58:15Z', 'timestamp': 1742389095901}, 'reference-count': 50, 'content-domain': {'domain': [], 'crossmark-restriction': False}, 'short-container-title': ['BMJ Open'], 'accepted': {'date-parts': [[2012, 5, 22]]}, 'published-print': {'date-parts': [[2012]]}, 'abstract': '<jats:sec><jats:title>Objectives</jats:title><jats:p>To review<jats:italic>Campylobacter</jats:italic>cases in England and Wales over 2\\u2005decades and examine the main factors/mechanisms driving the changing epidemiology.</jats:p></jats:sec><jats:sec><jats:title>Design</jats:title><jats:p>A descriptive study of<jats:italic>Campylobacter</jats:italic>patients between 1989 and 2011. Cases over 3\\u2005years were linked anonymously to postcode, population density, deprivation indices and census data. Cases over 5\\u2005years were anonymously linked to local weather exposure estimates.</jats:p></jats:sec><jats:sec><jats:title>Setting</jats:title><jats:p>Patients were from general practice, hospital and environmental health investigations through primary diagnostic laboratories across England and Wales.</jats:p></jats:sec><jats:sec><jats:title>Participants</jats:title><jats:p>There were 1\\u2008109\\u2008406 cases.</jats:p></jats:sec><jats:sec><jats:title>Outcome measures</jats:title><jats:p>Description of changes in<jats:italic>Campylobacter</jats:italic>epidemiology over 23\\u2005years and how the main drivers may influence these.</jats:p></jats:sec><jats:sec><jats:title>Results</jats:title><jats:p>There was an increase in<jats:italic>Campylobacter</jats:italic>cases over the past 23\\u2005years, with the largest increase in people over 50\\u2005years. Changes in the underlying population have contributed to this, including the impacts of population increases after World War I, World War II and the ‘baby boom’ of the 1960s. A recent increase in risk or ascertainment within this population has caused an increase in cases in all age groups from 2004 to 2011. The seasonal increase in cases between weeks 18 (Early May) and 22 (Early June) was consistent across ages, years and regions and was most marked in children and in more rural regions.<jats:italic>Campylobacter</jats:italic>prevalence by week in each region correlated with temperature 2\\u2005weeks before. There were higher prevalences in areas with a low population density, low deprivation and lower percentage of people of ethnic origin. Data from sero–phage and multilocus sequence typing show a few common types and many uncommon types.</jats:p></jats:sec><jats:sec><jats:title>Conclusions</jats:title><jats:p>The drivers/mechanisms influencing seasonality, age distribution, population density, socioeconomic and long-term differences are diverse and their relative contributions remain to be established. Surveillance and typing provide insights into<jats:italic>Campylobacter</jats:italic>epidemiology and sources of infection, providing a sound basis for targeted interventions.</jats:p></jats:sec>', 'DOI': '10.1136/bmjopen-2012-001179', 'type': 'journal-article', 'created': {'date-parts': [[2012, 7, 14]], 'date-time': '2012-07-14T09:30:13Z', 'timestamp': 1342258213000}, 'page': 'e001179', 'source': 'Crossref', 'is-referenced-by-count': 101, 'prefix': '10.1136', 'author': [{'given': 'Gordon L', 'family': 'Nichols', 'sequence': 'first', 'affiliation': []}, {'given': 'Judith F', 'family': 'Richardson', 'sequence': 'additional', 'affiliation': []}, {'given': 'Samuel K', 'family': 'Sheppard', 'sequence': 'additional', 'affiliation': []}, {'given': 'Chris', 'family': 'Lane', 'sequence': 'additional', 'affiliation': []}, {'given': 'Christophe', 'family': 'Sarran', 'sequence': 'additional', 'affiliation': []}], 'member': '239', 'published-online': {'date-parts': [[2012, 7, 12]]}, 'reference': [{'key': '2024051503430025000_2.4.e001179.1', 'doi-asserted-by': 'publisher', 'DOI': '10.1136/gut.2011.238386'}, {'key': '2024051503430025000_2.4.e001179.2', 'doi-asserted-by': 'publisher', 'DOI': '10.1086/597402'}, {'key': '2024051503430025000_2.4.e001179.3', 'doi-asserted-by': 'publisher', 'DOI': '10.3201/eid1509.080773'}, {'key': '2024051503430025000_2.4.e001179.4', 'doi-asserted-by': 'publisher', 'DOI': '10.1017/S0950268809991579'}, {'key': '2024051503430025000_2.4.e001179.5', 'doi-asserted-by': 'publisher', 'DOI': '10.1016/j.meegid.2009.09.003'}, {'key': '2024051503430025000_2.4.e001179.6', 'doi-asserted-by': 'publisher', 'DOI': '10.1128/AEM.71.1.85-92.2005'}, {'key': '2024051503430025000_2.4.e001179.7', 'doi-asserted-by': 'publisher', 'DOI': '10.3201/eid1512.090280'}, {'key': '2024051503430025000_2.4.e001179.8', 'doi-asserted-by': 'publisher', 'DOI': '10.1017/S095026881000052X'}, {'key': '2024051503430025000_2.4.e001179.9', 'doi-asserted-by': 'crossref', 'first-page': '19693', 'DOI': '10.2807/ese.15.42.19693-en', 'article-title': 'Urban-rural differences of age- and species-specific campylobacteriosis incidence, Hesse, Germany, July 2005 - June 2006', 'volume': '15', 'author': 'Fitzenberger', 'year': '2010', 'journal-title': 'Euro Surveill'}, {'key': '2024051503430025000_2.4.e001179.10', 'doi-asserted-by': 'publisher', 'DOI': '10.1086/597417'}, {'key': '2024051503430025000_2.4.e001179.11', 'doi-asserted-by': 'publisher', 'DOI': '10.1111/j.1365-2672.2007.03437.x'}, {'key': '2024051503430025000_2.4.e001179.12', 'doi-asserted-by': 'publisher', 'DOI': '10.1186/1476-072X-5-2'}, {'key': '2024051503430025000_2.4.e001179.13', 'doi-asserted-by': 'crossref', 'first-page': '337', 'DOI': '10.1080/09603120310001616128', 'article-title': 'The regionality of campylobacteriosis seasonality in New Zealand', 'volume': '13', 'author': 'Hearnden', 'year': '2003', 'journal-title': 'Int J Environ Health Res'}, {'key': '2024051503430025000_2.4.e001179.14', 'doi-asserted-by': 'publisher', 'DOI': '10.1017/S0022172400062318'}, {'key': '2024051503430025000_2.4.e001179.15', 'doi-asserted-by': 'publisher', 'DOI': '10.3201/eid0809.010187'}, {'key': '2024051503430025000_2.4.e001179.16', 'doi-asserted-by': 'publisher', 'DOI': '10.1017/S095026889900254X'}, {'key': '2024051503430025000_2.4.e001179.17', 'doi-asserted-by': 'crossref', 'first-page': '335', 'DOI': '10.1128/JCM.36.2.335-339.1998', 'article-title': 'Serotyping scheme for Campylobacter jejuni and Campylobacter coli based on direct agglutination of heat-stable antigens', 'volume': '36', 'author': 'Frost', 'year': '1998', 'journal-title': 'J Clin Microbiol'}, {'key': '2024051503430025000_2.4.e001179.18', 'doi-asserted-by': 'publisher', 'DOI': '10.1073/pnas.95.6.3140'}, {'key': '2024051503430025000_2.4.e001179.19', 'doi-asserted-by': 'publisher', 'DOI': '10.1086/375845'}, {'key': '2024051503430025000_2.4.e001179.20', 'doi-asserted-by': 'publisher', 'DOI': '10.1371/journal.pone.0000344'}, {'key': '2024051503430025000_2.4.e001179.21', 'doi-asserted-by': 'publisher', 'DOI': '10.1086/504294'}, {'key': '2024051503430025000_2.4.e001179.22', 'doi-asserted-by': 'publisher', 'DOI': '10.3201/eid1103.040460'}, {'key': '2024051503430025000_2.4.e001179.23', 'doi-asserted-by': 'publisher', 'DOI': '10.1016/j.cgh.2007.09.010'}, {'key': '2024051503430025000_2.4.e001179.24', 'doi-asserted-by': 'publisher', 'DOI': '10.1111/j.1572-0241.2007.01275.x'}, {'key': '2024051503430025000_2.4.e001179.25', 'doi-asserted-by': 'crossref', 'first-page': '579', 'DOI': '10.1111/j.1365-2036.1994.tb00333.x', 'article-title': 'Review article: infective complications of therapeutic gastric acid inhibition', 'volume': '8', 'author': 'Larner', 'year': '1994', 'journal-title': 'Aliment Pharmacol Ther'}, {'key': '2024051503430025000_2.4.e001179.26', 'unstructured': 'Royal College of General Practitioners. Royal College of General Practitioners Weekly Returns Service Annual Reports, 2008. http://www.rcgp.org.uk/clinical_and_research/rsc/annual_reports.aspx (accessed 15 Apr 2011).'}, {'key': '2024051503430025000_2.4.e001179.27', 'doi-asserted-by': 'crossref', 'first-page': '200', 'DOI': '10.1007/s10393-009-0246-9', 'article-title': 'Environmental determinants of campylobacteriosis risk in Philadelphia from 1994 to 2007', 'volume': '6', 'author': 'White', 'year': '2009', 'journal-title': 'Ecohealth'}, {'key': '2024051503430025000_2.4.e001179.28', 'doi-asserted-by': 'publisher', 'DOI': '10.1007/s00484-004-0241-3'}, {'key': '2024051503430025000_2.4.e001179.29', 'doi-asserted-by': 'publisher', 'DOI': '10.1186/1746-6148-3-30'}, {'key': '2024051503430025000_2.4.e001179.30', 'doi-asserted-by': 'publisher', 'DOI': '10.1017/S0950268804003188'}, {'key': '2024051503430025000_2.4.e001179.31', 'doi-asserted-by': 'publisher', 'DOI': '10.1017/S0950268802007665'}, {'key': '2024051503430025000_2.4.e001179.32', 'doi-asserted-by': 'publisher', 'DOI': '10.1046/j.1365-2672.1999.00806.x'}, {'key': '2024051503430025000_2.4.e001179.33', 'doi-asserted-by': 'publisher', 'DOI': '10.1186/1471-2334-5-11'}, {'key': '2024051503430025000_2.4.e001179.34', 'doi-asserted-by': 'publisher', 'DOI': '10.1128/AEM.02444-10'}, {'key': '2024051503430025000_2.4.e001179.35', 'doi-asserted-by': 'publisher', 'DOI': '10.1016/j.jinf.2008.08.004'}, {'key': '2024051503430025000_2.4.e001179.36', 'doi-asserted-by': 'crossref', 'first-page': '119', 'DOI': '10.1017/S0950268805004899', 'article-title': 'Temperature dependence of reported Campylobacter infection in England, 1989-1999', 'volume': '134', 'author': 'Tam', 'year': '2006', 'journal-title': 'Epidemiol Infect'}, {'key': '2024051503430025000_2.4.e001179.37', 'doi-asserted-by': 'publisher', 'DOI': '10.1016/j.prevetmed.2009.09.015'}, {'key': '2024051503430025000_2.4.e001179.38', 'doi-asserted-by': 'publisher', 'DOI': '10.1128/AEM.70.12.7474-7480.2004'}, {'key': '2024051503430025000_2.4.e001179.39', 'doi-asserted-by': 'publisher', 'DOI': '10.1111/j.1863-2378.2008.01184.x'}, {'key': '2024051503430025000_2.4.e001179.40', 'doi-asserted-by': 'publisher', 'DOI': '10.3382/ps.2007-00301'}, {'key': '2024051503430025000_2.4.e001179.41', 'doi-asserted-by': 'publisher', 'DOI': '10.3201/eid1008.040129'}, {'key': '2024051503430025000_2.4.e001179.42', 'doi-asserted-by': 'publisher', 'DOI': '10.3201/eid1312.070488'}, {'key': '2024051503430025000_2.4.e001179.43', 'doi-asserted-by': 'publisher', 'DOI': '10.1016/j.prevetmed.2008.02.015'}, {'key': '2024051503430025000_2.4.e001179.44', 'first-page': 'U2128', 'article-title': 'Flies, fingers, fomites, and food. Campylobacteriosis in New Zealand–food-associated rather than food-borne', 'volume': '119', 'author': 'Nelson', 'year': '2006', 'journal-title': 'N Z Med J'}, {'key': '2024051503430025000_2.4.e001179.45', 'doi-asserted-by': 'crossref', 'unstructured': 'Nichols GL . Disease transmission by non-biting hlies. In: Ayres JG Harrison RM Nichols GL , eds. Environmental Medicine. London: Hodder Arnold, 2010:434–46.', 'DOI': '10.1201/b13390-50'}, {'key': '2024051503430025000_2.4.e001179.46', 'doi-asserted-by': 'publisher', 'DOI': '10.3201/eid0809.020122'}, {'key': '2024051503430025000_2.4.e001179.47', 'doi-asserted-by': 'publisher', 'DOI': '10.1128/JCM.39.1.14-23.2001'}, {'key': '2024051503430025000_2.4.e001179.48', 'doi-asserted-by': 'publisher', 'DOI': '10.1016/j.ijfoodmicro.2009.02.010'}, {'key': '2024051503430025000_2.4.e001179.49', 'doi-asserted-by': 'publisher', 'DOI': '10.1128/JCM.01731-08'}, {'key': '2024051503430025000_2.4.e001179.50', 'doi-asserted-by': 'publisher', 'DOI': '10.1046/j.1365-2672.2001.01377.x'}], 'container-title': ['BMJ Open'], 'original-title': [], 'language': 'en', 'link': [{'URL': 'https://syndication.highwire.org/content/doi/10.1136/bmjopen-2012-001179', 'content-type': 'unspecified', 'content-version': 'vor', 'intended-application': 'similarity-checking'}], 'deposited': {'date-parts': [[2024, 5, 15]], 'date-time': '2024-05-15T14:17:45Z', 'timestamp': 1715782665000}, 'score': 1, 'resource': {'primary': {'URL': 'https://bmjopen.bmj.com/lookup/doi/10.1136/bmjopen-2012-001179'}}, 'subtitle': [], 'short-title': [], 'issued': {'date-parts': [[2012]]}, 'references-count': 50, 'journal-issue': {'issue': '4', 'published-online': {'date-parts': [[2012, 7, 12]]}, 'published-print': {'date-parts': [[2012]]}}, 'alternative-id': ['10.1136/bmjopen-2012-001179'], 'URL': 'https://doi.org/10.1136/bmjopen-2012-001179', 'relation': {}, 'ISSN': ['2044-6055', '2044-6055'], 'issn-type': [{'value': '2044-6055', 'type': 'print'}, {'value': '2044-6055', 'type': 'electronic'}], 'subject': [], 'published': {'date-parts': [[2012]]}} formatted_citation='Gordon L Nichols, Judith F Richardson, Samuel K Sheppard, Chris Lane, and Christophe Sarran. Campylobacter epidemiology: a descriptive study reviewing 1 million cases in england and wales between 1989 and 2011. BMJ Open, Jul 2012. URL: https://doi.org/10.1136/bmjopen-2012-001179, doi:10.1136/bmjopen-2012-001179. This article has 142 citations and is from a peer-reviewed journal.'\n",
      "key: nichols2012campylobacterepidemiologya\n",
      "docname: nichols2012campylobacterepidemiologya\n",
      "title: Campylobacter epidemiology: a descriptive study reviewing 1 million cases in England and Wales between 1989 and 2011\n",
      "authors: ['Gordon L Nichols', 'Judith F Richardson', 'Samuel K Sheppard', 'Chris Lane', 'Christophe Sarran']\n",
      "year: 2012\n",
      "journal: BMJ Open\n",
      "volume: 2\n",
      "pages: None\n",
      "doi: 10.1136/bmjopen-2012-001179\n",
      "url: https://bmjopen.bmj.com/content/bmjopen/2/4/e001179.full.pdf\n",
      "--------------------------------------------------------------------------------\n",
      "docname='Weather and notified Campylobacter infections in temperate and sub-tropical regions of Australia_ An ecological study.pdf' citation='Bi, Peng et al. \"Weather and Notified Campylobacter Infections in Temperate and Sub-tropical Regions of Australia: An Ecological Study.\" Journal of Infection 57 (2008): 317e323. doi:10.1016/j.jinf.2008.08.004.\\n\\n accessed 2024.' dockey='e2e754915d56cacf7780abef4f1fdf7b' overwrite_fields_from_metadata=True formatted_citation='Bi, Peng et al. \"Weather and Notified Campylobacter Infections in Temperate and Sub-tropical Regions of Australia: An Ecological Study.\" Journal of Infection 57 (2008): 317e323. doi:10.1016/j.jinf.2008.08.004.\\n\\n accessed 2024.'\n",
      "key: None\n",
      "docname: Weather and notified Campylobacter infections in temperate and sub-tropical regions of Australia_ An ecological study.pdf\n",
      "title: None\n",
      "authors: None\n",
      "year: None\n",
      "journal: None\n",
      "volume: None\n",
      "pages: None\n",
      "doi: None\n",
      "url: None\n",
      "--------------------------------------------------------------------------------\n",
      "docname='hervas2014arehospitalizationsfor' citation='D. Hervás, J. Hervás-Masip, A. Rosell, A. Mena, J. L. Pérez, and J. A. Hervás. Are hospitalizations for rotavirus gastroenteritis associated with meteorologic factors? European Journal of Clinical Microbiology &amp; Infectious Diseases, 33:1547-1553, Apr 2014. URL: https://doi.org/10.1007/s10096-014-2106-y, doi:10.1007/s10096-014-2106-y.' dockey='2de90bd8cde7df74' overwrite_fields_from_metadata=True key='hervas2014arehospitalizationsfor' bibtex='@article{hervas2014arehospitalizationsfor,\\n    author = \"Hervás, D. and Hervás-Masip, J. and Rosell, A. and Mena, A. and Pérez, J. L. and Hervás, J. A.\",\\n    title = \"Are hospitalizations for rotavirus gastroenteritis associated with meteorologic factors?\",\\n    year = \"2014\",\\n    journal = \"European Journal of Clinical Microbiology \\\\&amp; Infectious Diseases\",\\n    volume = \"33\",\\n    pages = \"1547-1553\",\\n    month = \"Apr\",\\n    doi = \"10.1007/s10096-014-2106-y\",\\n    url = \"https://doi.org/10.1007/s10096-014-2106-y\",\\n    publisher = \"Springer Science and Business Media LLC\",\\n    issue = \"9\",\\n    issn = \"0934-9723\"\\n}\\n' authors=['D. Hervás', 'J. Hervás-Masip', 'A. Rosell', 'A. Mena', 'J. L. Pérez', 'J. A. Hervás'] publication_date=datetime.datetime(2014, 4, 24, 0, 0) year=2014 volume='33' issue='9' issn='0934-9723' pages='1547-1553' journal='European Journal of Clinical Microbiology &amp; Infectious Diseases' publisher='Springer Science and Business Media LLC' url='https://doi.org/10.1007/s10096-014-2106-y' title='Are hospitalizations for rotavirus gastroenteritis associated with meteorologic factors?' citation_count=22 bibtex_type='misc' source_quality=-1 is_retracted=None doi='10.1007/s10096-014-2106-y' doi_url='https://doi.org/10.1007/s10096-014-2106-y' doc_id='2de90bd8cde7df74' file_location=None license=None pdf_url=None other={'bibtex_source': ['self_generated'], 'paperId': '66d003f2f3f71190a8e64bcf6125dde699c9f02d', 'externalIds': {'MAG': '2036096856', 'DOI': '10.1007/s10096-014-2106-y', 'CorpusId': 10779853, 'PubMed': '24760250'}, 'venue': 'European Journal of Clinical Microbiology and Infectious Diseases', 'citationCount': 22, 'influentialCitationCount': 2, 'isOpenAccess': False, 'openAccessPdf': {'url': '', 'status': 'CLOSED', 'license': None}, 'publicationTypes': ['JournalArticle', 'Review'], 'publicationDate': '2014-04-24', 'citationStyles': {'bibtex': '@Article{Hervás2014AreHF,\\n author = {D. Hervás and J. Hervás-Masip and A. Rosell and Ana Mena and J. Pérez and J. Hervás},\\n booktitle = {European Journal of Clinical Microbiology and Infectious Diseases},\\n journal = {European Journal of Clinical Microbiology & Infectious Diseases},\\n pages = {1547 - 1553},\\n title = {Are hospitalizations for rotavirus gastroenteritis associated with meteorologic factors?},\\n volume = {33},\\n year = {2014}\\n}\\n'}, 'client_source': ['semantic_scholar', 'crossref'], 'indexed': {'date-parts': [[2024, 9, 15]], 'date-time': '2024-09-15T20:45:27Z', 'timestamp': 1726433127931}, 'reference-count': 24, 'content-domain': {'domain': ['link.springer.com'], 'crossmark-restriction': False}, 'short-container-title': ['Eur J Clin Microbiol Infect Dis'], 'published-print': {'date-parts': [[2014, 9]]}, 'DOI': '10.1007/s10096-014-2106-y', 'type': 'journal-article', 'created': {'date-parts': [[2014, 4, 23]], 'date-time': '2014-04-23T08:14:36Z', 'timestamp': 1398240876000}, 'page': '1547-1553', 'update-policy': 'http://dx.doi.org/10.1007/springer_crossmark_policy', 'source': 'Crossref', 'is-referenced-by-count': 19, 'prefix': '10.1007', 'author': [{'given': 'D.', 'family': 'Hervás', 'sequence': 'first', 'affiliation': []}, {'given': 'J.', 'family': 'Hervás-Masip', 'sequence': 'additional', 'affiliation': []}, {'given': 'A.', 'family': 'Rosell', 'sequence': 'additional', 'affiliation': []}, {'given': 'A.', 'family': 'Mena', 'sequence': 'additional', 'affiliation': []}, {'given': 'J. L.', 'family': 'Pérez', 'sequence': 'additional', 'affiliation': []}, {'given': 'J. A.', 'family': 'Hervás', 'sequence': 'additional', 'affiliation': []}], 'member': '297', 'published-online': {'date-parts': [[2014, 4, 24]]}, 'reference': [{'key': '2106_CR1', 'first-page': '171', 'volume': '68', 'author': 'SM Cook', 'year': '1990', 'unstructured': 'Cook SM, Glass RI, LeBaron CW, Ho MS (1990) Global seasonality of rotavirus infections. Bull World Health Organ 68:171–177', 'journal-title': 'Bull World Health Organ'}, {'key': '2106_CR2', 'doi-asserted-by': 'crossref', 'first-page': '478', 'DOI': '10.1128/JCM.16.3.478-482.1982', 'volume': '16', 'author': 'CD Brandt', 'year': '1982', 'unstructured': 'Brandt CD, Kim HW, Rodriguez WJ, Arrobio JO, Jeffries BC, Parrott RH (1982) Rotavirus gastroenteritis and weather. J Clin Microbiol 16:478–482', 'journal-title': 'J Clin Microbiol'}, {'key': '2106_CR3', 'doi-asserted-by': 'crossref', 'first-page': '1487', 'DOI': '10.1093/ije/dyn260', 'volume': '38', 'author': 'K Levy', 'year': '2009', 'unstructured': 'Levy K, Hubbard AE, Eisenberg JNS (2009) Seasonality of rotavirus disease in the tropics: a systematic review and meta-analysis. Int J Epidemiol 38:1487–1496', 'journal-title': 'Int J Epidemiol'}, {'key': '2106_CR4', 'doi-asserted-by': 'crossref', 'first-page': '56', 'DOI': '10.1017/S0950268807008229', 'volume': '136', 'author': 'RM D’Souza', 'year': '2008', 'unstructured': 'D’Souza RM, Hall G, Becker NG (2008) Climatic factors associated with hospitalizations for rotavirus diarrhoea in children under 5\\xa0years of age. Epidemiol Infect 136:56–64', 'journal-title': 'Epidemiol Infect'}, {'key': '2106_CR5', 'doi-asserted-by': 'crossref', 'first-page': '1281', 'DOI': '10.1017/S0950268807009776', 'volume': '136', 'author': 'M Hashizume', 'year': '2008', 'unstructured': 'Hashizume M, Armstrong B, Wagatsuma Y, Faruque AS, Hayashi T, Sack DA (2008) Rotavirus infections and climate variability in Dhaka, Bangladesh: a time-series analysis. Epidemiol Infect 136:1281–1289', 'journal-title': 'Epidemiol Infect'}, {'key': '2106_CR6', 'doi-asserted-by': 'crossref', 'first-page': '933', 'DOI': '10.1098/rspb.2009.1755', 'volume': '277', 'author': 'CJ Atchison', 'year': '2010', 'unstructured': 'Atchison CJ, Tam CC, Hajat S, van Pelt W, Cowden JM, Lopman BA (2010) Temperature-dependent transmission of rotavirus in Great Britain and The Netherlands. Proc Biol Sci 277:933–942', 'journal-title': 'Proc Biol Sci'}, {'key': '2106_CR7', 'doi-asserted-by': 'crossref', 'first-page': 'e134', 'DOI': '10.1097/INF.0b013e31827d3b68', 'volume': '32', 'author': 'MM Patel', 'year': '2013', 'unstructured': 'Patel MM, Pitzer VE, Alonso WJ, Vera D, Lopman B, Tate J, Viboud C, Parashar UD (2013) Global seasonality of rotavirus disease. Pediatr Infect Dis J 32:e134–e147', 'journal-title': 'Pediatr Infect Dis J'}, {'key': '2106_CR8', 'doi-asserted-by': 'crossref', 'first-page': '448', 'DOI': '10.1093/clinids/13.3.448', 'volume': '13', 'author': 'SA Ansari', 'year': '1991', 'unstructured': 'Ansari SA, Springthorpe VS, Sattar SA (1991) Survival and vehicular spread of human rotaviruses: possible relation to seasonality of outbreaks. Rev Infect Dis 13:448–461', 'journal-title': 'Rev Infect Dis'}, {'key': '2106_CR9', 'first-page': '830', 'volume': '104', 'author': 'GT Zhaori', 'year': '1991', 'unstructured': 'Zhaori GT, Fu LT, Xu YH, Guo YR, Peng ZJ, Shan WS (1991) Detection of rotavirus antigen in tracheal aspirates of infants and children with pneumonia. Chin Med J (Engl) 104:830–833', 'journal-title': 'Chin Med J (Engl)'}, {'key': '2106_CR10', 'first-page': '74', 'volume': '16', 'author': 'SG Purohit', 'year': '1998', 'unstructured': 'Purohit SG, Kelkar SD, Simha VK (1998) Time series analysis of patients with rotavirus diarrhoea in Pune, India. J Diarrhoeal Dis Res 16:74–83', 'journal-title': 'J Diarrhoeal Dis Res'}, {'key': '2106_CR11', 'doi-asserted-by': 'crossref', 'first-page': '1495', 'DOI': '10.1562/2006-07-28-IR-987', 'volume': '82', 'author': 'M Norval', 'year': '2006', 'unstructured': 'Norval M (2006) The effect of ultraviolet radiation on human viral infections. Photochem Photobiol 82:1495–1504', 'journal-title': 'Photochem Photobiol'}, {'key': '2106_CR12', 'doi-asserted-by': 'crossref', 'first-page': 'S84', 'DOI': '10.2188/jea.9.6sup_84', 'volume': '9', 'author': 'M Norval', 'year': '1999', 'unstructured': 'Norval M, Garssen J, Van Loveren H, el-Ghorr AA (1999) UV-induced changes in the immune response to microbial infections in human subjects and animal models. J Epidemiol 9:S84–S92', 'journal-title': 'J Epidemiol'}, {'key': '2106_CR13', 'doi-asserted-by': 'crossref', 'first-page': '618', 'DOI': '10.1016/S0140-6736(99)02301-6', 'volume': '355', 'author': 'RJ Wilkinson', 'year': '2000', 'unstructured': 'Wilkinson RJ, Llewelyn M, Toossi Z, Patel P, Pasvol G, Lalvani A, Wright D, Latif M, Davidson RN (2000) Influence of vitamin D deficiency and vitamin D receptor polymorphisms on tuberculosis among Gujarati Asians in west London: a case–control study. Lancet 355:618–621', 'journal-title': 'Lancet'}, {'key': '2106_CR14', 'doi-asserted-by': 'crossref', 'first-page': '2762', 'DOI': '10.1038/jid.2012.238', 'volume': '132', 'author': 'A Schwarz', 'year': '2012', 'unstructured': 'Schwarz A, Navid F, Sparwasser T, Clausen BE, Schwarz T (2012) 1,25-dihydroxyvitamin D exerts similar immunosuppressive effects as UVR but is dispensable for local UVR-induced immunosuppression. J Invest Dermatol 132:2762–2769', 'journal-title': 'J Invest Dermatol'}, {'key': '2106_CR15', 'doi-asserted-by': 'crossref', 'first-page': '199', 'DOI': '10.1111/j.1365-3083.1989.tb01202.x', 'volume': '30', 'author': 'KH Leung', 'year': '1989', 'unstructured': 'Leung KH (1989) Inhibition of human natural killer cell and lymphokine-activated killer cell cytotoxicity and differentiation by vitamin D3. Scand J Immunol 30:199–208', 'journal-title': 'Scand J Immunol'}, {'key': '2106_CR16', 'doi-asserted-by': 'crossref', 'first-page': '49', 'DOI': '10.1111/j.1365-2249.1990.tb06440.x', 'volume': '80', 'author': 'M Yasukawa', 'year': '1990', 'unstructured': 'Yasukawa M, Nakagomi O, Kobayashi Y (1990) Rotavirus induces proliferative response and augments non-specific cytotoxic activity of lymphocytes in humans. Clin Exp Immunol 80:49–55', 'journal-title': 'Clin Exp Immunol'}, {'key': '2106_CR17', 'doi-asserted-by': 'crossref', 'first-page': '613', 'DOI': '10.1002/jmv.10147', 'volume': '67', 'author': 'I Mori', 'year': '2002', 'unstructured': 'Mori I, Matsumoto K, Sugimoto K, Kimura M, Daimon N, Yokochi T, Kimura Y (2002) Prolonged shedding of rotavirus in a geriatric inpatient. J Med Virol 67:613–615', 'journal-title': 'J Med Virol'}, {'issue': '10 Suppl', 'key': '2106_CR18', 'doi-asserted-by': 'crossref', 'first-page': 'S103', 'DOI': '10.1097/00006454-200010001-00003', 'volume': '19', 'author': 'PH Dennehy', 'year': '2000', 'unstructured': 'Dennehy PH (2000) Transmission of rotavirus and other enteric pathogens in the home. Pediatr Infect Dis J 19(10 Suppl):S103–S105', 'journal-title': 'Pediatr Infect Dis J'}, {'key': '2106_CR19', 'doi-asserted-by': 'crossref', 'first-page': '277', 'DOI': '10.1017/S0022172400066055', 'volume': '96', 'author': 'SA Sattar', 'year': '1986', 'unstructured': 'Sattar SA, Lloyd-Evans N, Springthorpe VS, Nair RC (1986) Institutional outbreaks of rotavirus diarrhoea: potential role of fomites and environmental surfaces as vehicles for virus transmission. J Hyg (Lond) 96:277–289', 'journal-title': 'J Hyg (Lond)'}, {'key': '2106_CR20', 'doi-asserted-by': 'crossref', 'first-page': '4763', 'DOI': '10.1128/JCM.40.12.4763-4764.2002', 'volume': '40', 'author': 'TK Fischer', 'year': '2002', 'unstructured': 'Fischer TK, Steinsland H, Valentiner-Branth P (2002) Rotavirus particles can survive storage in ambient tropical temperatures for more than 2\\xa0months. J Clin Microbiol 40:4763–4764', 'journal-title': 'J Clin Microbiol'}, {'key': '2106_CR21', 'doi-asserted-by': 'crossref', 'first-page': '304', 'DOI': '10.3201/eid1202.050006', 'volume': '12', 'author': 'UD Parashar', 'year': '2006', 'unstructured': 'Parashar UD, Gibson CJ, Bresee JS, Glass RI (2006) Rotavirus and severe childhood diarrhea. Emerg Infect Dis 12:304–306', 'journal-title': 'Emerg Infect Dis'}, {'key': '2106_CR22', 'first-page': '119', 'volume': '12', 'author': 'RF Bishop', 'year': '1996', 'unstructured': 'Bishop RF (1996) Natural history of human rotavirus infection. Arch Virol Suppl 12:119–128', 'journal-title': 'Arch Virol Suppl'}, {'key': '2106_CR23', 'doi-asserted-by': 'crossref', 'first-page': '1652', 'DOI': '10.1017/S0950268812002208', 'volume': '141', 'author': 'A Sumi', 'year': '2013', 'unstructured': 'Sumi A, Rajendran K, Ramamurthy T, Krishnan T, Nair GB, Harigane K, Kobayashi N (2013) Effect of temperature, relative humidity and rainfall on rotavirus infections in Kolkata, India. Epidemiol Infect 141:1652–1661', 'journal-title': 'Epidemiol Infect'}, {'issue': '4', 'key': '2106_CR24', 'doi-asserted-by': 'crossref', 'first-page': '429', 'DOI': '10.1186/1756-0500-4-429', 'volume': '20', 'author': 'AL García-Basteiro', 'year': '2011', 'unstructured': 'García-Basteiro AL, Bosch A, Sicuri E, Bayas JM, Trilla A, Hayes EB (2011) Hospitalizations due to rotavirus gastroenteritis in Catalonia, Spain, 2003–2008. BMC Res Notes 20(4):429. doi: 10.1186/1756-0500-4-429', 'journal-title': 'BMC Res Notes'}], 'container-title': ['European Journal of Clinical Microbiology &amp; Infectious Diseases'], 'original-title': [], 'language': 'en', 'link': [{'URL': 'http://link.springer.com/content/pdf/10.1007/s10096-014-2106-y.pdf', 'content-type': 'application/pdf', 'content-version': 'vor', 'intended-application': 'text-mining'}, {'URL': 'http://link.springer.com/article/10.1007/s10096-014-2106-y/fulltext.html', 'content-type': 'text/html', 'content-version': 'vor', 'intended-application': 'text-mining'}, {'URL': 'http://link.springer.com/content/pdf/10.1007/s10096-014-2106-y', 'content-type': 'unspecified', 'content-version': 'vor', 'intended-application': 'similarity-checking'}], 'deposited': {'date-parts': [[2020, 8, 18]], 'date-time': '2020-08-18T07:10:25Z', 'timestamp': 1597734625000}, 'score': 1, 'resource': {'primary': {'URL': 'http://link.springer.com/10.1007/s10096-014-2106-y'}}, 'subtitle': [], 'short-title': [], 'issued': {'date-parts': [[2014, 4, 24]]}, 'references-count': 24, 'journal-issue': {'issue': '9', 'published-print': {'date-parts': [[2014, 9]]}}, 'alternative-id': ['2106'], 'URL': 'https://doi.org/10.1007/s10096-014-2106-y', 'relation': {}, 'ISSN': ['0934-9723', '1435-4373'], 'issn-type': [{'value': '0934-9723', 'type': 'print'}, {'value': '1435-4373', 'type': 'electronic'}], 'subject': [], 'published': {'date-parts': [[2014, 4, 24]]}} formatted_citation='D. Hervás, J. Hervás-Masip, A. Rosell, A. Mena, J. L. Pérez, and J. A. Hervás. Are hospitalizations for rotavirus gastroenteritis associated with meteorologic factors? European Journal of Clinical Microbiology &amp; Infectious Diseases, 33:1547-1553, Apr 2014. URL: https://doi.org/10.1007/s10096-014-2106-y, doi:10.1007/s10096-014-2106-y. This article has 22 citations.'\n",
      "key: hervas2014arehospitalizationsfor\n",
      "docname: hervas2014arehospitalizationsfor\n",
      "title: Are hospitalizations for rotavirus gastroenteritis associated with meteorologic factors?\n",
      "authors: ['D. Hervás', 'J. Hervás-Masip', 'A. Rosell', 'A. Mena', 'J. L. Pérez', 'J. A. Hervás']\n",
      "year: 2014\n",
      "journal: European Journal of Clinical Microbiology &amp; Infectious Diseases\n",
      "volume: 33\n",
      "pages: 1547-1553\n",
      "doi: 10.1007/s10096-014-2106-y\n",
      "url: https://doi.org/10.1007/s10096-014-2106-y\n",
      "--------------------------------------------------------------------------------\n"
     ]
    }
   ],
   "source": [
    "def get_doc_details(doc_detail, verbose=False):\n",
    "    def get_safe_key(doc_detail, key):\n",
    "        try:\n",
    "            return getattr(doc_detail, key)\n",
    "        except AttributeError:\n",
    "            return None\n",
    "\n",
    "    details_dict = {\n",
    "        \"key\": get_safe_key(doc_detail, \"key\"),\n",
    "        \"docname\":get_safe_key(doc_detail, \"docname\"),\n",
    "        \"title\": get_safe_key(doc_detail, \"title\"),\n",
    "        \"authors\": get_safe_key(doc_detail, \"authors\"),\n",
    "        \"year\": get_safe_key(doc_detail, \"year\"),\n",
    "        \"journal\": get_safe_key(doc_detail, \"journal\"),\n",
    "        \"volume\": get_safe_key(doc_detail, \"volume\"),\n",
    "        \"pages\": get_safe_key(doc_detail, \"pages\"),\n",
    "        \"doi\": get_safe_key(doc_detail, \"doi\"),\n",
    "        \"url\": get_safe_key(doc_detail, \"url\"),\n",
    "    }\n",
    "\n",
    "    # Print for informative purposes\n",
    "    if verbose:\n",
    "        for k, v in details_dict.items():\n",
    "            print(f\"{k}: {v}\")\n",
    "\n",
    "    return details_dict\n",
    "\n",
    "for doc_key in embeddings.docs.docs.keys():\n",
    "    doc_detail = embeddings.docs.docs.get(doc_key)\n",
    "    print(doc_detail)\n",
    "    get_doc_details(doc_detail, verbose=True)\n",
    "    print(\"-\" * 80)"
   ]
  }
 ],
 "metadata": {
  "kernelspec": {
   "display_name": "poopqa",
   "language": "python",
   "name": "python3"
  },
  "language_info": {
   "codemirror_mode": {
    "name": "ipython",
    "version": 3
   },
   "file_extension": ".py",
   "mimetype": "text/x-python",
   "name": "python",
   "nbconvert_exporter": "python",
   "pygments_lexer": "ipython3",
   "version": "3.12.7"
  }
 },
 "nbformat": 4,
 "nbformat_minor": 2
}
