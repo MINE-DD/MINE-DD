{
 "cells": [
  {
   "cell_type": "markdown",
   "id": "416f0ceb",
   "metadata": {},
   "source": [
    "# Loading Data"
   ]
  },
  {
   "cell_type": "code",
   "execution_count": 1,
   "id": "e1c9dea4",
   "metadata": {},
   "outputs": [],
   "source": [
    "# pip install sentence-transformers\n",
    "# pip install langchain"
   ]
  },
  {
   "cell_type": "code",
   "execution_count": 2,
   "id": "173d812d",
   "metadata": {},
   "outputs": [
    {
     "name": "stderr",
     "output_type": "stream",
     "text": [
      "/Users/jose/Repos/MINE-DD/.venv/lib/python3.12/site-packages/tqdm/auto.py:21: TqdmWarning: IProgress not found. Please update jupyter and ipywidgets. See https://ipywidgets.readthedocs.io/en/stable/user_install.html\n",
      "  from .autonotebook import tqdm as notebook_tqdm\n"
     ]
    },
    {
     "name": "stdout",
     "output_type": "stream",
     "text": [
      "Loaded layout model s3://layout/2025_02_18 on device mps with dtype torch.float16\n",
      "Loaded texify model s3://texify/2025_02_18 on device mps with dtype torch.float16\n",
      "Loaded recognition model s3://text_recognition/2025_02_18 on device mps with dtype torch.float16\n",
      "Loaded table recognition model s3://table_recognition/2025_02_18 on device mps with dtype torch.float16\n",
      "Loaded detection model s3://text_detection/2025_02_28 on device mps with dtype torch.float16\n",
      "Loaded detection model s3://inline_math_detection/2025_02_24 on device mps with dtype torch.float16\n"
     ]
    }
   ],
   "source": [
    "from pathlib import Path\n",
    "from minedd.document import DocumentPDF, DocumentMarkdown\n",
    "from IPython.display import Markdown, display\n",
    "\n",
    "PAPERS_DIR = Path.home() / \"papers_minedd\"\n",
    "\n",
    "test_paper = PAPERS_DIR / \"Seasonality of rotavirus disease in the tropics_ a systematic review and meta-analysis.pdf\"\n",
    "\n",
    "pdf_paper = DocumentPDF(pdf_path=str(test_paper))"
   ]
  },
  {
   "cell_type": "markdown",
   "id": "076bc862",
   "metadata": {},
   "source": [
    "## PDF to Markdown"
   ]
  },
  {
   "cell_type": "code",
   "execution_count": 3,
   "id": "1ecb91a3",
   "metadata": {},
   "outputs": [
    {
     "name": "stdout",
     "output_type": "stream",
     "text": [
      "WARNING! Both 'md_content' and 'md_path' were provided, only loading the content from 'md_content'.\n"
     ]
    }
   ],
   "source": [
    "try:\n",
    "    markdown_text = DocumentMarkdown(md_path=\"outputs/paper_text.md\").get_markdown()\n",
    "except FileNotFoundError:\n",
    "    markdown_text = pdf_paper.get_markdown()\n",
    "    with open(\"outputs/paper_text.md\", \"w\") as f:\n",
    "        f.write(markdown_text)\n",
    "\n",
    "markdown_paper = DocumentMarkdown(md_content=markdown_text, md_path=\"outputs/paper_text.md\")\n",
    "# display(Markdown(markdown_text))"
   ]
  },
  {
   "cell_type": "code",
   "execution_count": 4,
   "id": "4cd0c6d1",
   "metadata": {},
   "outputs": [],
   "source": [
    "# Not Satisfactory, will create our own MD Chunker\n",
    "# # pip install langchain-community\n",
    "# # pip install unstructured\n",
    "# # pip install markdown\n",
    "\n",
    "# from langchain_community.document_loaders import UnstructuredMarkdownLoader\n",
    "\n",
    "# loader = UnstructuredMarkdownLoader(\n",
    "#     \"outputs/paper_text.md\",\n",
    "#     mode=\"elements\",\n",
    "#     strategy=\"fast\",\n",
    "# )\n",
    "\n",
    "# docs = loader.load()\n",
    "# for doc in docs:\n",
    "#     print(doc.metadata)\n",
    "#     print(len(doc.page_content))\n",
    "#     print(doc.page_content[:100])  # Print the first 100 characters of the content\n",
    "#     print(doc.page_content[-100:])  # Print the last 100 characters of the content\n",
    "#     print(\"\\n---\\n\")  # Separator for clarity"
   ]
  },
  {
   "cell_type": "code",
   "execution_count": 5,
   "id": "0599aa46",
   "metadata": {},
   "outputs": [
    {
     "data": {
      "text/plain": [
       "'cal variables provide a better predictor of seasonality in the tropics, where weather patterns differ from those in the temperate zones. This review reveals a trend for rotavirus to occur in the cool, dry seasons in tropical countries, as observed in temperate zones. These results suggest that paying close attention to local climatic conditions will improve our understanding of the transmission and epidemiology of rotavirus disease.  # Funding  National Institutes of Allergy and Infectious Diseases (R01AI050038).  Conflict of interest: None declared.  # KEY MESSAGES  - Incidence of rotavirus disease responds to changes in climate in the tropics, with the highest number of infections found at the colder and drier times of the year. - Monthly rotavirus incidence is significantly negatively correlated with temperature, rainfall, and relative humidity in the majority of studies reviewed. - Rotavirus previously was not thought to respond to seasonal changes in tropical regions of the world.'"
      ]
     },
     "execution_count": 5,
     "metadata": {},
     "output_type": "execute_result"
    }
   ],
   "source": [
    "markdown_paper.get_markdown(only_text=True, remove_references=True)[-1000:]"
   ]
  },
  {
   "cell_type": "markdown",
   "id": "49cffc9a",
   "metadata": {},
   "source": [
    "### Get Chunks from Markdown"
   ]
  },
  {
   "cell_type": "code",
   "execution_count": 6,
   "id": "16d49c18",
   "metadata": {},
   "outputs": [
    {
     "name": "stdout",
     "output_type": "stream",
     "text": [
      "35\n"
     ]
    }
   ],
   "source": [
    "# TODO: paginate markdown before passing it to the splitter (just pass each page independently) and keep the chunk metadata\n",
    "chunks = markdown_paper.convert_to_chunks(mode=\"chars\",chunk_size=1500, overlap=100)\n",
    "print(len(chunks))\n",
    "with open(\"outputs/paper_chunks.txt\", \"w\") as f:\n",
    "    for i, chunk in enumerate(chunks):\n",
    "        f.write(f\"\\n----- Chunk {i + 1} (Size {len(chunk)} chars) -----\\n{chunk}\\n\")"
   ]
  },
  {
   "cell_type": "markdown",
   "id": "12cdf62e",
   "metadata": {},
   "source": [
    "### Quick RAG"
   ]
  },
  {
   "cell_type": "code",
   "execution_count": null,
   "id": "6e92cbf4",
   "metadata": {},
   "outputs": [
    {
     "name": "stdout",
     "output_type": "stream",
     "text": [
      "{'chunk_id': 1, 'source': 'outputs/paper_text.md', 'title': 'SYSTEMATIC REVIEWS Seasonality of rotavirus disease in the tropics: a systematic review and meta-analysis'}\n",
      "{'chunk_id': 2, 'source': 'outputs/paper_text.md', 'title': 'SYSTEMATIC REVIEWS Seasonality of rotavirus disease in the tropics: a systematic review and meta-analysis'}\n",
      "{'chunk_id': 3, 'source': 'outputs/paper_text.md', 'title': 'SYSTEMATIC REVIEWS Seasonality of rotavirus disease in the tropics: a systematic review and meta-analysis'}\n",
      "{'chunk_id': 4, 'source': 'outputs/paper_text.md', 'title': 'SYSTEMATIC REVIEWS Seasonality of rotavirus disease in the tropics: a systematic review and meta-analysis'}\n",
      "{'chunk_id': 5, 'source': 'outputs/paper_text.md', 'title': 'SYSTEMATIC REVIEWS Seasonality of rotavirus disease in the tropics: a systematic review and meta-analysis'}\n",
      "{'chunk_id': 6, 'source': 'outputs/paper_text.md', 'title': 'SYSTEMATIC REVIEWS Seasonality of rotavirus disease in the tropics: a systematic review and meta-analysis'}\n",
      "{'chunk_id': 7, 'source': 'outputs/paper_text.md', 'title': 'SYSTEMATIC REVIEWS Seasonality of rotavirus disease in the tropics: a systematic review and meta-analysis'}\n",
      "{'chunk_id': 8, 'source': 'outputs/paper_text.md', 'title': 'SYSTEMATIC REVIEWS Seasonality of rotavirus disease in the tropics: a systematic review and meta-analysis'}\n",
      "{'chunk_id': 9, 'source': 'outputs/paper_text.md', 'title': 'SYSTEMATIC REVIEWS Seasonality of rotavirus disease in the tropics: a systematic review and meta-analysis'}\n",
      "{'chunk_id': 10, 'source': 'outputs/paper_text.md', 'title': 'SYSTEMATIC REVIEWS Seasonality of rotavirus disease in the tropics: a systematic review and meta-analysis'}\n",
      "{'chunk_id': 11, 'source': 'outputs/paper_text.md', 'title': 'SYSTEMATIC REVIEWS Seasonality of rotavirus disease in the tropics: a systematic review and meta-analysis'}\n",
      "{'chunk_id': 12, 'source': 'outputs/paper_text.md', 'title': 'SYSTEMATIC REVIEWS Seasonality of rotavirus disease in the tropics: a systematic review and meta-analysis'}\n",
      "{'chunk_id': 13, 'source': 'outputs/paper_text.md', 'title': 'SYSTEMATIC REVIEWS Seasonality of rotavirus disease in the tropics: a systematic review and meta-analysis'}\n",
      "{'chunk_id': 14, 'source': 'outputs/paper_text.md', 'title': 'SYSTEMATIC REVIEWS Seasonality of rotavirus disease in the tropics: a systematic review and meta-analysis'}\n",
      "{'chunk_id': 15, 'source': 'outputs/paper_text.md', 'title': 'SYSTEMATIC REVIEWS Seasonality of rotavirus disease in the tropics: a systematic review and meta-analysis'}\n",
      "{'chunk_id': 16, 'source': 'outputs/paper_text.md', 'title': 'SYSTEMATIC REVIEWS Seasonality of rotavirus disease in the tropics: a systematic review and meta-analysis'}\n",
      "{'chunk_id': 17, 'source': 'outputs/paper_text.md', 'title': 'SYSTEMATIC REVIEWS Seasonality of rotavirus disease in the tropics: a systematic review and meta-analysis'}\n",
      "{'chunk_id': 18, 'source': 'outputs/paper_text.md', 'title': 'SYSTEMATIC REVIEWS Seasonality of rotavirus disease in the tropics: a systematic review and meta-analysis'}\n",
      "{'chunk_id': 19, 'source': 'outputs/paper_text.md', 'title': 'SYSTEMATIC REVIEWS Seasonality of rotavirus disease in the tropics: a systematic review and meta-analysis'}\n",
      "{'chunk_id': 20, 'source': 'outputs/paper_text.md', 'title': 'SYSTEMATIC REVIEWS Seasonality of rotavirus disease in the tropics: a systematic review and meta-analysis'}\n",
      "{'chunk_id': 21, 'source': 'outputs/paper_text.md', 'title': 'SYSTEMATIC REVIEWS Seasonality of rotavirus disease in the tropics: a systematic review and meta-analysis'}\n",
      "{'chunk_id': 22, 'source': 'outputs/paper_text.md', 'title': 'SYSTEMATIC REVIEWS Seasonality of rotavirus disease in the tropics: a systematic review and meta-analysis'}\n",
      "{'chunk_id': 23, 'source': 'outputs/paper_text.md', 'title': 'SYSTEMATIC REVIEWS Seasonality of rotavirus disease in the tropics: a systematic review and meta-analysis'}\n",
      "{'chunk_id': 24, 'source': 'outputs/paper_text.md', 'title': 'SYSTEMATIC REVIEWS Seasonality of rotavirus disease in the tropics: a systematic review and meta-analysis'}\n",
      "{'chunk_id': 25, 'source': 'outputs/paper_text.md', 'title': 'SYSTEMATIC REVIEWS Seasonality of rotavirus disease in the tropics: a systematic review and meta-analysis'}\n",
      "{'chunk_id': 26, 'source': 'outputs/paper_text.md', 'title': 'SYSTEMATIC REVIEWS Seasonality of rotavirus disease in the tropics: a systematic review and meta-analysis'}\n",
      "{'chunk_id': 27, 'source': 'outputs/paper_text.md', 'title': 'SYSTEMATIC REVIEWS Seasonality of rotavirus disease in the tropics: a systematic review and meta-analysis'}\n",
      "{'chunk_id': 28, 'source': 'outputs/paper_text.md', 'title': 'SYSTEMATIC REVIEWS Seasonality of rotavirus disease in the tropics: a systematic review and meta-analysis'}\n",
      "{'chunk_id': 29, 'source': 'outputs/paper_text.md', 'title': 'SYSTEMATIC REVIEWS Seasonality of rotavirus disease in the tropics: a systematic review and meta-analysis'}\n",
      "{'chunk_id': 30, 'source': 'outputs/paper_text.md', 'title': 'SYSTEMATIC REVIEWS Seasonality of rotavirus disease in the tropics: a systematic review and meta-analysis'}\n",
      "{'chunk_id': 31, 'source': 'outputs/paper_text.md', 'title': 'SYSTEMATIC REVIEWS Seasonality of rotavirus disease in the tropics: a systematic review and meta-analysis'}\n",
      "{'chunk_id': 32, 'source': 'outputs/paper_text.md', 'title': 'SYSTEMATIC REVIEWS Seasonality of rotavirus disease in the tropics: a systematic review and meta-analysis'}\n",
      "{'chunk_id': 33, 'source': 'outputs/paper_text.md', 'title': 'SYSTEMATIC REVIEWS Seasonality of rotavirus disease in the tropics: a systematic review and meta-analysis'}\n",
      "{'chunk_id': 34, 'source': 'outputs/paper_text.md', 'title': 'SYSTEMATIC REVIEWS Seasonality of rotavirus disease in the tropics: a systematic review and meta-analysis'}\n",
      "{'chunk_id': 35, 'source': 'outputs/paper_text.md', 'title': 'SYSTEMATIC REVIEWS Seasonality of rotavirus disease in the tropics: a systematic review and meta-analysis'}\n"
     ]
    }
   ],
   "source": [
    "# pip install chromadb\n",
    "# pip install sentence-transformers\n",
    "import chromadb\n",
    "from sentence_transformers import SentenceTransformer\n",
    "\n",
    "try:\n",
    "    client.delete_collection(name=\"paper_chunks\")\n",
    "except Exception:\n",
    "    pass\n",
    "\n",
    "\n",
    "client = chromadb.PersistentClient(path=\"outputs/chroma_db\")\n",
    "paper_collection = client.create_collection(name=\"paper_chunks\")\n",
    "text_embedding_model = SentenceTransformer('all-MiniLM-L6-v2')\n",
    "\n",
    "\n",
    "\n",
    "for i, chunk in enumerate(chunks):\n",
    "    embedding = text_embedding_model.encode(chunk)\n",
    "    paper_collection.add(\n",
    "        ids=[f\"chunk_{i + 1}\"],\n",
    "        documents=[chunk],\n",
    "        embeddings=[embedding.tolist()],\n",
    "        metadatas=[{\"chunk_id\": i + 1, \"source\": str(markdown_paper.md_path), \"title\": markdown_paper.get_title()}],\n",
    "        \n",
    "    )\n",
    "    print({\"chunk_id\": i + 1, \"source\": markdown_paper.md_path, \"title\": markdown_paper.get_title()})"
   ]
  },
  {
   "cell_type": "code",
   "execution_count": 10,
   "id": "6754c659",
   "metadata": {},
   "outputs": [
    {
     "name": "stdout",
     "output_type": "stream",
     "text": [
      "Result 1:\n",
      "Chunk ID: 10\n",
      "Source: outputs/paper_text.md\n",
      "Title: SYSTEMATIC REVIEWS Seasonality of rotavirus disease in the tropics: a systematic review and meta-analysis\n",
      "Content: | | Image: Background information on rotavirus seasonality                                    |                                                                                                                                                                                                                                                                                                                                                                                                                                                                                                                                      |                                                                                                                                                                                                                                                                                                                                                                                                                                                                                                                                      |\n",
      "\n",
      "Result 2:\n",
      "Chunk ID: 11\n",
      "Source: outputs/paper_text.md\n",
      "Title: SYSTEMATIC REVIEWS Seasonality of rotavirus disease in the tropics: a systematic review and meta-analysis\n",
      "Content: |  # Introduction  Throughout the world, rotavirus is the single most important viral agent of acute diarrhoea in children. Rotavirus accounts for -39% of all cases of severe diarrhoea and over 600 000 deaths worldwide each year.   Department of Environmental Science, Policy and  Management, University of California, Berkeley.  Department of Epidemiology, School of Public Health, University of Michigan, 109 Observatory Street, Ann Arbor,  MI 48109.  Division of Biostatistics, School of Public Health, University of California, Berkeley, 101 Haviland Hall, MC 7358, Berkeley, CA 94720.   Corresponding author. Department of Epidemiology, School of Public Health, University of Michigan, 109 Observatory Street, Ann Arbor, MI 48109, USA. E-mail: karenlev@umich.edu  Rotavirus is believed to be spread predominantly through fecal-oral transmission, through water, person-to-person contact, or contaminated environmental surfaces, although respiratory secretions have also been speculated as a source of infection.  Rotavirus exhibits distinct seasonality, and has been known as 'winter diarrhoea' in some parts of the world. 'Winter gastroenteritis' and\n",
      "\n",
      "Result 3:\n",
      "Chunk ID: 34\n",
      "Source: outputs/paper_text.md\n",
      "Title: SYSTEMATIC REVIEWS Seasonality of rotavirus disease in the tropics: a systematic review and meta-analysis\n",
      "Content: spread rapidly with little or no contact between the various groups. Bishop proposes that the explanation for these patterns might lie in the airborne spread of aerosolized particles that are ingested, rather than through respiratory tract infections.6  We speculate that the airborne component of rotavirus transmission might be responsible for the seasonal pattern of rotavirus disease. A relative drop in humidity and rainfall combined with drying of soils in higher temperatures might increase the aerial transport of dried, contaminated fecal material (in the form of droplet nuclei), and might also lead to increased formation of dust, which could provide a substrate for the virus particles. Increased burning of organic materials during the dry season may also increase the amount of particulates in the air. Airborne particles could settle out and infect water supplies or environmental surfaces, or could be ingested. Particles carried on fomites such as clothing could also play a role in large-scale dispersal of rotavirus organisms.  Some mechanical force would likely be required for aerosolization to occur, and wind might play this role, as well as help disperse the particles once formed. In a 4-year study of rotavirus in Pune, India, a tight correlation was seen between number of days with easterly wind and the number of rotavirus diarrhoea cases as functions of time. Further research on the relationship between wind patterns and rotavirus incidence might shed light on this\n",
      "\n"
     ]
    }
   ],
   "source": [
    "def semantic_search(query, collection, top_k=3):\n",
    "    query_embedding = text_embedding_model.encode(query)\n",
    "    results = collection.query(\n",
    "        query_embeddings=[query_embedding.tolist()], n_results=top_k\n",
    "    )\n",
    "    return results\n",
    " \n",
    "# def generate_response(query, context):\n",
    "#     prompt = f\"Query: {query}\\nContext: {context}\\nAnswer:\"\n",
    "#     response = completion(\n",
    "#         model=\"gemini/gemini-1.5-flash\",\n",
    "#         messages=[{\"content\": prompt, \"role\": \"user\"}],\n",
    "#         api_key=gemini_api_key\n",
    "#     )\n",
    "#     return response['choices'][0]['message']['content']\n",
    "\n",
    "# Example usage\n",
    "query = \"Is rotavirus in waterbourne surfaces?\"\n",
    "results = semantic_search(query, paper_collection, top_k=3)\n",
    "for i, doc in enumerate(results['documents'][0]):\n",
    "    print(f\"Result {i + 1}:\")\n",
    "    print(f\"Chunk ID: {results['metadatas'][0][i]['chunk_id']}\")\n",
    "    print(f\"Source: {results['metadatas'][0][i]['source']}\")\n",
    "    print(f\"Title: {results['metadatas'][0][i]['title']}\")\n",
    "    print(f\"Content: {doc}\\n\")"
   ]
  }
 ],
 "metadata": {
  "kernelspec": {
   "display_name": ".venv",
   "language": "python",
   "name": "python3"
  },
  "language_info": {
   "codemirror_mode": {
    "name": "ipython",
    "version": 3
   },
   "file_extension": ".py",
   "mimetype": "text/x-python",
   "name": "python",
   "nbconvert_exporter": "python",
   "pygments_lexer": "ipython3",
   "version": "3.12.9"
  }
 },
 "nbformat": 4,
 "nbformat_minor": 5
}
