{
 "cells": [
  {
   "cell_type": "markdown",
   "id": "ab959852-e492-42fc-af79-11a45ccf5ace",
   "metadata": {},
   "source": [
    "# RAG prototype"
   ]
  },
  {
   "cell_type": "markdown",
   "id": "1467e843-eb28-42dc-88fc-adff47e6f475",
   "metadata": {},
   "source": [
    "This notebook builds a langgraph that showcases the potential of a RAG agent that summarises scientific evidence from the literature and extracts statistical significant associations between pathogens and enviromental factors"
   ]
  },
  {
   "cell_type": "markdown",
   "id": "0a261e50-c86a-4c8d-9748-db883a4ed771",
   "metadata": {},
   "source": [
    "#### Imports"
   ]
  },
  {
   "cell_type": "code",
   "execution_count": 11,
   "id": "23f28e0e-d670-4678-8f36-053bffe9b9bf",
   "metadata": {},
   "outputs": [],
   "source": [
    "import json\n",
    "import os\n",
    "from os.path import exists\n",
    "import sqlite3\n",
    "# LLM\n",
    "from langchain_ollama import ChatOllama\n",
    "from langchain.schema import Document, AIMessage\n",
    "# to chunk the text\n",
    "from langchain.text_splitter import RecursiveCharacterTextSplitter\n",
    "# to make/store embeddings \n",
    "from langchain_community.vectorstores import SKLearnVectorStore\n",
    "from langchain_community.embeddings.spacy_embeddings import SpacyEmbeddings\n",
    "from langchain_core.messages import HumanMessage, SystemMessage\n",
    "# to build/display/run a langgraph\n",
    "from langgraph.graph import StateGraph\n",
    "from IPython.display import Image, display\n",
    "import operator\n",
    "from typing_extensions import TypedDict\n",
    "from typing import List, Annotated\n",
    "from langgraph.graph import END"
   ]
  },
  {
   "cell_type": "markdown",
   "id": "3076fada-99f5-40f2-9fa7-6c5a23e27835",
   "metadata": {},
   "source": [
    "#### Set-up the LLM"
   ]
  },
  {
   "cell_type": "code",
   "execution_count": 2,
   "id": "4e3603ea-8c3f-47db-afb9-b5c9c0e45eb9",
   "metadata": {},
   "outputs": [],
   "source": [
    "### llama 3.2-3b\n",
    "\n",
    "local_llm = \"llama3.2:3b-instruct-fp16\"\n",
    "llm = ChatOllama(model=local_llm, temperature=0)\n",
    "llm_json_mode = ChatOllama(model=local_llm, temperature=0, format=\"json\")"
   ]
  },
  {
   "cell_type": "markdown",
   "id": "03f28008-99e0-4429-b4fa-0f67ef243428",
   "metadata": {},
   "source": [
    "## Note: Skip to the embeddings part if you don't have the `db` file as the embeddings are run on the text contained in the database"
   ]
  },
  {
   "cell_type": "markdown",
   "id": "254da7c5-731a-4f26-be2a-e7ebe62ea3f1",
   "metadata": {},
   "source": [
    "#### Load database `db` of papers"
   ]
  },
  {
   "cell_type": "markdown",
   "id": "8c77352d-51f2-4707-bea9-33ee88e28df1",
   "metadata": {},
   "source": [
    "This is the path of the `db` database containing the text extracted from the relevant papers with llamaParse"
   ]
  },
  {
   "cell_type": "code",
   "execution_count": 3,
   "id": "c9ecec23-da9b-4d14-80bb-b85136e8c5f5",
   "metadata": {},
   "outputs": [],
   "source": [
    "database_path = 'literature_relevant.db'"
   ]
  },
  {
   "cell_type": "markdown",
   "id": "5ea33170-e7b0-43eb-b04c-94c050b15dce",
   "metadata": {},
   "source": [
    "Define `extract_full_text_content` - this function below takes as input the SQL database and returns the full-text of the papers per page content. "
   ]
  },
  {
   "cell_type": "code",
   "execution_count": 4,
   "id": "cb5a67ef-4eef-45f8-887b-3b2314596bf3",
   "metadata": {},
   "outputs": [],
   "source": [
    "def extract_full_text_content(db_path):\n",
    "    conn = sqlite3.connect(db_path)\n",
    "    cursor = conn.cursor()\n",
    "\n",
    "    # get list of tables in the database\n",
    "    cursor.execute(\"SELECT name FROM sqlite_master WHERE type='table';\")\n",
    "    tables = cursor.fetchall()\n",
    "\n",
    "    text_content = []\n",
    "\n",
    "    # get fulltext table content\n",
    "    table_name = 'literature_fulltext'\n",
    "\n",
    "    cursor.execute(f\"PRAGMA table_info({table_name});\")\n",
    "    columns = cursor.fetchall()\n",
    "    column_names = [col[1] for col in columns]\n",
    "    column_types = [col[2] for col in columns]\n",
    "\n",
    "    # Retrieve all rows/papers from the table\n",
    "    cursor.execute(f\"SELECT fulltext FROM {table_name};\")\n",
    "    rows = cursor.fetchall()\n",
    "\n",
    "    # Iterate through the rows (which are papers) and extract text content\n",
    "    for row in rows:\n",
    "        row_text = []\n",
    "        for idx, value in enumerate(row):\n",
    "            if column_types[idx].lower() == 'text' and value is not None:\n",
    "                row_text.append(value)\n",
    "\n",
    "        if row_text:\n",
    "            text_content.extend(row_text)\n",
    "\n",
    "    conn.close()\n",
    "\n",
    "    return text_content"
   ]
  },
  {
   "cell_type": "markdown",
   "id": "0debe0fe-abb9-4fab-9a52-c86be7164ce7",
   "metadata": {},
   "source": [
    "Extract the content below:"
   ]
  },
  {
   "cell_type": "code",
   "execution_count": 5,
   "id": "fe0815fb-8e72-4e05-89b9-1b4aa5b32544",
   "metadata": {},
   "outputs": [],
   "source": [
    "db_path = database_path\n",
    "docs = extract_full_text_content(db_path)"
   ]
  },
  {
   "cell_type": "markdown",
   "id": "9972b1b8-6c88-4a9d-9de1-68d834eeb2e2",
   "metadata": {},
   "source": [
    "`docs` is a list containing the full text per paper. This is not directly usable for `langchain` and it must be converted into a `Document` istance"
   ]
  },
  {
   "cell_type": "markdown",
   "id": "c88c41d1-b1fd-4212-b382-a28654a540db",
   "metadata": {},
   "source": [
    "We do this together with the splitting, by using the function `.create_documents` while splitting it, within the `RecursiveCharacterTextSplitter`"
   ]
  },
  {
   "cell_type": "markdown",
   "id": "cbf10e28-d900-4183-9b40-1ce59dfd9756",
   "metadata": {},
   "source": [
    "#### Chunk text and extract embeddings"
   ]
  },
  {
   "cell_type": "code",
   "execution_count": 6,
   "id": "1ca33d72-2295-497c-8068-2e6fcd28f9ac",
   "metadata": {},
   "outputs": [],
   "source": [
    "text_splitter = RecursiveCharacterTextSplitter.from_tiktoken_encoder(\n",
    "    chunk_size=5000, chunk_overlap=0\n",
    ")\n",
    "\n",
    "documents = text_splitter.create_documents([text for text in docs])"
   ]
  },
  {
   "cell_type": "code",
   "execution_count": 7,
   "id": "820f25ed-57cf-4e7b-85d3-526685e6fde5",
   "metadata": {
    "tags": []
   },
   "outputs": [
    {
     "name": "stdout",
     "output_type": "stream",
     "text": [
      "# Rotavirus Seasonality and Age Effects in a Birth Cohort Study of Southern India\n",
      "\n",
      "#\n",
      "# Rotavirus Seasonality and Age Effects in a Birth Cohort Study of Southern India\n",
      "\n",
      "Rajiv Sarkar1, Gagandeep Kang1, Elena N. Naumova1,2*\n",
      "\n",
      "1Department of Gastrointestinal Sciences, Christian Medical College, Vellore, TN, India\n",
      "\n",
      "2Department of Civil and Environmental Engineering, Tufts University School of Engineering, Boston, Massachusetts, United States of America\n",
      "\n",
      "# Abstract\n",
      "\n",
      "# Introduction\n",
      "\n",
      "Understanding the temporal patterns in disease occurrence is valuable for formulating effective disease preventive progr\n"
     ]
    }
   ],
   "source": [
    "# does this print something meaningful? must have .page_content() functionality\n",
    "print(documents[0].page_content[:600])"
   ]
  },
  {
   "cell_type": "code",
   "execution_count": 8,
   "id": "f09669fa-c1b4-43b3-a837-2a7d013ca3f0",
   "metadata": {},
   "outputs": [
    {
     "data": {
      "text/plain": [
       "194"
      ]
     },
     "execution_count": 8,
     "metadata": {},
     "output_type": "execute_result"
    }
   ],
   "source": [
    "len(documents)"
   ]
  },
  {
   "cell_type": "code",
   "execution_count": 17,
   "id": "8bbe93d7-6ab9-43d8-bf87-1a6016f19cba",
   "metadata": {},
   "outputs": [],
   "source": [
    "# Spacy Embeddings -- a bit faster than the nomic ones\n",
    "# we save the embeddings into a in-memory vector store from sklearn, that is SKLearnVectorStore\n",
    "persist_path = f\"embeddings/\"+\"union.bson\"\n",
    "\n",
    "def create_embeddings(out_path, docs):\n",
    "    folder = os.path.dirname(out_path)\n",
    "    if not os.path.exists(folder):\n",
    "        os.makedirs(folder)\n",
    "    \n",
    "    if exists(out_path):\n",
    "        \n",
    "        vectorstore = SKLearnVectorStore(\n",
    "            embedding=SpacyEmbeddings(model_name='en_core_web_sm'),\n",
    "            persist_path=out_path,\n",
    "            serializer=\"bson\") \n",
    "        print(\"Vector store was loaded from\", out_path)\n",
    "        \n",
    "    else:\n",
    "        vectorstore = SKLearnVectorStore.from_documents(\n",
    "            documents=docs,\n",
    "            embedding=SpacyEmbeddings(model_name='en_core_web_sm'),\n",
    "            persist_path=out_path,\n",
    "            serializer=\"bson\")\n",
    "        vectorstore.persist()\n",
    "        print(\"Vector store was persisted to\", out_path)\n",
    "    return vectorstore"
   ]
  },
  {
   "cell_type": "code",
   "execution_count": 18,
   "id": "eb6f47a3-7379-4d1d-98ed-9ac7284f866a",
   "metadata": {},
   "outputs": [
    {
     "name": "stdout",
     "output_type": "stream",
     "text": [
      "Vector store was persisted to embeddings/union.bson\n"
     ]
    }
   ],
   "source": [
    "vectorstore = create_embeddings(persist_path, docs=documents)"
   ]
  },
  {
   "cell_type": "code",
   "execution_count": 19,
   "id": "7aee1b2c-7bc2-4132-8c2a-f14d22711f00",
   "metadata": {},
   "outputs": [],
   "source": [
    "# Create retriever\n",
    "retriever = vectorstore.as_retriever()"
   ]
  },
  {
   "cell_type": "markdown",
   "id": "08bfe7df-e551-4415-8305-dcfe386163a3",
   "metadata": {},
   "source": [
    "You can check if the retriever works by asking to retrieve documents similar to your search"
   ]
  },
  {
   "cell_type": "code",
   "execution_count": 24,
   "id": "92fa4aff-ec64-4bac-8f91-ef37a5ccbf84",
   "metadata": {
    "tags": []
   },
   "outputs": [],
   "source": [
    "enviroment_docs = retriever.invoke(\"Escherichia coli\")"
   ]
  },
  {
   "cell_type": "code",
   "execution_count": 26,
   "id": "057ef683-9a26-4c61-82be-84a25f9553a0",
   "metadata": {},
   "outputs": [
    {
     "data": {
      "text/plain": [
       "'Figure 5 shows the plot of the cumulative sums of actual and predicted values for the ZIP model. The validation analyses indicate that the model had reasonable accuracy over the predictive period (RMS'"
      ]
     },
     "execution_count": 26,
     "metadata": {},
     "output_type": "execute_result"
    }
   ],
   "source": [
    "enviroment_docs[0].page_content[:200]"
   ]
  },
  {
   "cell_type": "markdown",
   "id": "26f176c2-362c-4f39-ba29-1e1bc72520bd",
   "metadata": {},
   "source": [
    "# build a langGraph"
   ]
  },
  {
   "cell_type": "markdown",
   "id": "ecad0635-9c43-478f-a77b-06222a91d67b",
   "metadata": {},
   "source": [
    "set up a state. A state is a schema that is going to survive across the steps above. All inputs/output across the prompting is going to survive across the steps."
   ]
  },
  {
   "cell_type": "code",
   "execution_count": 27,
   "id": "981b57cd-f30e-47ed-94fc-9e0c46197643",
   "metadata": {},
   "outputs": [],
   "source": [
    "# this is the class state \n",
    "class GraphState(TypedDict):\n",
    "    \"\"\"\n",
    "    Graph state is a dictionary that contains information we want to propagate to, and modify in, each graph node.\n",
    "    \"\"\"\n",
    "    question : str # User question\n",
    "    generation : str # LLM generation\n",
    "    max_retries : int # Max number of retries for answer generation \n",
    "    answers : int # Number of answers generated\n",
    "    loop_step: Annotated[int, operator.add] \n",
    "    documents : List[str] # List of retrieved documents"
   ]
  },
  {
   "cell_type": "markdown",
   "id": "7a2a9696-61ea-499d-b8cc-8e0c15f01c35",
   "metadata": {},
   "source": [
    "Take each of the steps above, and wrapping those into individual functions (which are nodes). They take state as input, and modify it."
   ]
  },
  {
   "cell_type": "markdown",
   "id": "303ba1a1-e2ea-45a8-97b2-f435dba67b38",
   "metadata": {},
   "source": [
    "Some of the functions are 'edges', so they basically evaluate the input and decide where to go (which nodes) next."
   ]
  },
  {
   "cell_type": "code",
   "execution_count": 28,
   "id": "db20b7a2-d13f-4d51-b8c4-0f45a53bb61a",
   "metadata": {},
   "outputs": [],
   "source": [
    "# Post-processing\n",
    "def format_docs(docs):\n",
    "    return \"\\n\\n\".join(doc.page_content for doc in docs)\n",
    "\n",
    "### Nodes\n",
    "def retrieve(state):\n",
    "    \"\"\"\n",
    "    Retrieve documents from vectorstore\n",
    "\n",
    "    Args:\n",
    "        state (dict): The current graph state\n",
    "\n",
    "    Returns:\n",
    "        state (dict): New key added to state, documents, that contains retrieved documents\n",
    "    \"\"\"\n",
    "    print(\"---RETRIEVE---\")\n",
    "    question = state[\"question\"]\n",
    "\n",
    "    # Write retrieved documents to documents key in state\n",
    "    documents = retriever.invoke(question)\n",
    "    return {\"documents\": documents}\n",
    "    \n",
    "\n",
    "def generate(state):\n",
    "    \"\"\"\n",
    "    Generate answer using RAG on retrieved documents\n",
    "\n",
    "    Args:\n",
    "        state (dict): The current graph state\n",
    "\n",
    "    Returns:\n",
    "        state (dict): New key added to state, generation, that contains LLM generation\n",
    "    \"\"\"\n",
    "    print(\"---GENERATE---\")\n",
    "    question = state[\"question\"]\n",
    "    documents = state[\"documents\"]\n",
    "    loop_step = state.get(\"loop_step\", 0)\n",
    "    \n",
    "    rag_prompt = \"\"\"You are an assistant for question-answering tasks. \n",
    "\n",
    "    Here is the context to use to answer the question:\n",
    "\n",
    "    {context} \n",
    "\n",
    "    Think carefully about the above context. \n",
    "\n",
    "    Now, review the user question:\n",
    "\n",
    "    {question}\n",
    "\n",
    "    Provide an answer to this questions using only the above context. \n",
    "\n",
    "    Use 10 sentences maximum and keep the answer concise.\n",
    "\n",
    "    Answer:\"\"\"\n",
    "    \n",
    "    \n",
    "    # RAG generation\n",
    "    docs_txt = format_docs(documents)\n",
    "    rag_prompt_formatted = rag_prompt.format(context=docs_txt, question=question)\n",
    "    generation = llm.invoke([HumanMessage(content=rag_prompt_formatted)])\n",
    "    return {\"generation\": generation, \"loop_step\": loop_step+1}\n",
    "\n",
    "def grade_documents(state):\n",
    "    \"\"\"\n",
    "    Determines whether the retrieved documents are relevant to the question\n",
    "    If any document is not relevant, we will set a flag AND THAT'S IT\n",
    "\n",
    "    Args:\n",
    "        state (dict): The current graph state\n",
    "\n",
    "    Returns:\n",
    "        state (dict): Filtered out irrelevant documents and updated web_search state\n",
    "    \"\"\"\n",
    "\n",
    "    print(\"---CHECK DOCUMENT RELEVANCE TO QUESTION---\")\n",
    "    question = state[\"question\"]\n",
    "    documents = state[\"documents\"]\n",
    "    \n",
    "    doc_grader_prompt = \"\"\"Here is the retrieved document: \\n\\n {document} \\n\\n Here is the user question: \\n\\n {question}. \n",
    "\n",
    "    This carefully and objectively assess whether the document contains at least some information that is relevant to the question.\n",
    "\n",
    "    Return JSON with single key, binary_score, that is 'yes' or 'no' score to indicate whether the document contains at least some information that is relevant to the question.\"\"\"\n",
    "    \n",
    "    doc_grader_instructions = \"\"\"You are a grader assessing relevance of a retrieved document to a user question.\n",
    "\n",
    "    If the document contains keyword(s) or semantic meaning related to the question, grade it as relevant.\"\"\"\n",
    "    \n",
    "    # Score each doc\n",
    "    filtered_docs = []\n",
    "    web_search = \"No\" \n",
    "    for d in documents:\n",
    "        doc_grader_prompt_formatted = doc_grader_prompt.format(document=d.page_content, question=question)\n",
    "        result = llm_json_mode.invoke([SystemMessage(content=doc_grader_instructions)] + [HumanMessage(content=doc_grader_prompt_formatted)])\n",
    "        grade = json.loads(result.content)['binary_score']\n",
    "        # Document relevant\n",
    "        if grade.lower() == \"yes\":\n",
    "            print(\"---GRADE: DOCUMENT RELEVANT---\")\n",
    "            filtered_docs.append(d)\n",
    "        # Document not relevant\n",
    "        else:\n",
    "            print(\"---GRADE: DOCUMENT NOT RELEVANT---\")\n",
    "            # We do not include the document in filtered_docs\n",
    "            # We set a flag to indicate that we want to run web search\n",
    "            web_search = \"Yes\"\n",
    "            continue\n",
    "    return {\"documents\": filtered_docs, \"web_search\": web_search}\n",
    "    \n",
    "\n",
    "\n",
    "### Edges\n",
    "\n",
    "def grade_generation_v_documents_and_question(state):\n",
    "    \"\"\"\n",
    "    Determines whether the generation is grounded in the document and answers question\n",
    "\n",
    "    Args:\n",
    "        state (dict): The current graph state\n",
    "\n",
    "    Returns:\n",
    "        str: Decision for next node to call\n",
    "    \"\"\"\n",
    "\n",
    "    print(\"---CHECK HALLUCINATIONS---\")\n",
    "    question = state[\"question\"]\n",
    "    documents = state[\"documents\"]\n",
    "    generation = state[\"generation\"]\n",
    "    max_retries = state.get(\"max_retries\", 3) # Default to 3 if not provided\n",
    "\n",
    "    hallucination_grader_prompt_formatted = hallucination_grader_prompt.format(documents=format_docs(documents), generation=generation.content)\n",
    "    result = llm_json_mode.invoke([SystemMessage(content=hallucination_grader_instructions)] + [HumanMessage(content=hallucination_grader_prompt_formatted)])\n",
    "    grade = json.loads(result.content)['binary_score']\n",
    "\n",
    "    # Check hallucination\n",
    "    if grade == \"yes\":\n",
    "        print(\"---DECISION: GENERATION IS GROUNDED IN DOCUMENTS---\")\n",
    "        # Check question-answering\n",
    "        print(\"---GRADE GENERATION vs QUESTION---\")\n",
    "        # Test using question and generation from above \n",
    "        answer_grader_prompt_formatted = answer_grader_prompt.format(question=question, generation=generation.content)\n",
    "        result = llm_json_mode.invoke([SystemMessage(content=answer_grader_instructions)] + [HumanMessage(content=answer_grader_prompt_formatted)])\n",
    "        grade = json.loads(result.content)['binary_score']\n",
    "        if grade == \"yes\":\n",
    "            print(\"---DECISION: GENERATION ADDRESSES QUESTION---\")\n",
    "            return \"useful\"\n",
    "        elif state[\"loop_step\"] <= max_retries:\n",
    "            print(\"---DECISION: GENERATION DOES NOT ADDRESS QUESTION---\")\n",
    "            return \"not useful\"\n",
    "        else:\n",
    "            print(\"---DECISION: MAX RETRIES REACHED---\")\n",
    "            return \"max retries\"  \n",
    "    elif state[\"loop_step\"] <= max_retries:\n",
    "        print(\"---DECISION: GENERATION IS NOT GROUNDED IN DOCUMENTS, RE-TRY---\")\n",
    "        return \"not supported\"\n",
    "    else:\n",
    "        print(\"---DECISION: MAX RETRIES REACHED---\")\n",
    "        return \"max retries\""
   ]
  },
  {
   "cell_type": "code",
   "execution_count": 29,
   "id": "34dc5277-9027-4388-a4af-9dbc200cca68",
   "metadata": {},
   "outputs": [
    {
     "data": {
      "image/jpeg": "[encoded data removed]",
      "text/plain": [
       "<IPython.core.display.Image object>"
      ]
     },
     "metadata": {},
     "output_type": "display_data"
    }
   ],
   "source": [
    "# Create the StateGraph\n",
    "workflow = StateGraph(GraphState)\n",
    "\n",
    "# Define the nodes\n",
    "workflow.add_node(\"retrieve\", retrieve)  # retrieve\n",
    "workflow.add_node(\"grade_documents\", grade_documents)  # grade documents\n",
    "workflow.add_node(\"generate\", generate)  # generate\n",
    "\n",
    "# Build graph\n",
    "# Directly set \"retrieve\" as the entry point, skipping route_question and web_search\n",
    "workflow.set_entry_point(\"retrieve\")\n",
    "\n",
    "# Set edges to transition between nodes\n",
    "workflow.add_edge(\"retrieve\", \"grade_documents\")  # After retrieving, grade documents\n",
    "workflow.add_edge(\"grade_documents\", \"generate\")  # After grading, generate the response\n",
    "\n",
    "# Compile\n",
    "graph = workflow.compile()\n",
    "display(Image(graph.get_graph().draw_mermaid_png()))\n"
   ]
  },
  {
   "cell_type": "code",
   "execution_count": 31,
   "id": "3531ed5a-d6c6-41ea-a0a0-53775306b164",
   "metadata": {},
   "outputs": [
    {
     "name": "stdout",
     "output_type": "stream",
     "text": [
      "---RETRIEVE---\n",
      "---CHECK DOCUMENT RELEVANCE TO QUESTION---\n",
      "---GRADE: DOCUMENT RELEVANT---\n",
      "---GRADE: DOCUMENT RELEVANT---\n",
      "---GRADE: DOCUMENT NOT RELEVANT---\n",
      "---GRADE: DOCUMENT RELEVANT---\n",
      "---GENERATE---\n",
      "The study suggests that environmental factors, such as rainfall and temperature, do not play a significant role in the prevalence of Campylobacter infection. The degree of contamination is more important than the total poultry weight produced. Human infections are related to people returning from travel abroad and domestic use of antibiotics. Rainfall and latitude/longitude have no association with Campylobacter cases. Surface water/sewage exposure and population ageing/demographic change may contribute to disease epidemiology, but their impact is unclear. The economic situation and socioeconomic status also do not appear to be significant factors. Climate impacts are mentioned as a potential driver for change, but more research is needed to understand this relationship. The study highlights the need for further examination of transmission routes and underlying population factors. Environmental factors such as rainfall and temperature may have an indirect impact on disease prevalence through other means, but their direct role is unclear. Overall, the evidence suggests that environmental factors are not a primary driver of Campylobacter infection.\n"
     ]
    }
   ],
   "source": [
    "question = {\"question\": \"What is the role of enviromental factors in the prevalence of diarrheal pathogens?\", \n",
    "            \"max_retries\": 3}\n",
    "\n",
    "documents_list = []\n",
    "\n",
    "for event in graph.stream(question, stream_mode=\"values\"):\n",
    "    if \"generation\" in event and isinstance(event[\"generation\"], AIMessage):\n",
    "        # Print only the content of the AIMessage\n",
    "        print(event[\"generation\"].content)  \n",
    "    \n",
    "    # event contains documents (which are stored under the key 'documents')\n",
    "    if \"documents\" in event:\n",
    "        # append the documents to the documents_list, but do not print them\n",
    "        documents_list.extend(event[\"documents\"])\n"
   ]
  },
  {
   "cell_type": "code",
   "execution_count": 32,
   "id": "be98e668-e5ab-45e7-b9c4-2d32475acf02",
   "metadata": {},
   "outputs": [
    {
     "data": {
      "text/plain": [
       "10"
      ]
     },
     "execution_count": 32,
     "metadata": {},
     "output_type": "execute_result"
    }
   ],
   "source": [
    "len(documents_list)"
   ]
  },
  {
   "cell_type": "code",
   "execution_count": null,
   "id": "0a1249e1-aba6-4e5a-875c-28cf295ca363",
   "metadata": {},
   "outputs": [],
   "source": []
  }
 ],
 "metadata": {
  "kernelspec": {
   "display_name": "rag_september",
   "language": "python",
   "name": "rag_september"
  },
  "language_info": {
   "codemirror_mode": {
    "name": "ipython",
    "version": 3
   },
   "file_extension": ".py",
   "mimetype": "text/x-python",
   "name": "python",
   "nbconvert_exporter": "python",
   "pygments_lexer": "ipython3",
   "version": "3.12.0"
  }
 },
 "nbformat": 4,
 "nbformat_minor": 5
}
