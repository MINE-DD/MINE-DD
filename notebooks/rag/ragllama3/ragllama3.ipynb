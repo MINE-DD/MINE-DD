{
 "cells": [
  {
   "cell_type": "markdown",
   "id": "ab959852-e492-42fc-af79-11a45ccf5ace",
   "metadata": {},
   "source": [
    "# RAG prototype"
   ]
  },
  {
   "cell_type": "markdown",
   "id": "1467e843-eb28-42dc-88fc-adff47e6f475",
   "metadata": {},
   "source": [
    "This notebook builds a langgraph that showcases the potential of a RAG agent that summarises scientific evidence from the literature and extracts statistical significant associations between pathogens and enviromental factors"
   ]
  },
  {
   "cell_type": "markdown",
   "id": "0a261e50-c86a-4c8d-9748-db883a4ed771",
   "metadata": {},
   "source": [
    "#### Imports"
   ]
  },
  {
   "cell_type": "code",
   "execution_count": 1,
   "id": "23f28e0e-d670-4678-8f36-053bffe9b9bf",
   "metadata": {},
   "outputs": [],
   "source": [
    "import json\n",
    "import os\n",
    "from os.path import exists\n",
    "import sqlite3\n",
    "# LLM\n",
    "from langchain_ollama import ChatOllama\n",
    "from langchain.schema import Document, AIMessage\n",
    "# to chunk the text\n",
    "from langchain.text_splitter import RecursiveCharacterTextSplitter\n",
    "# to make/store embeddings \n",
    "from langchain_community.vectorstores import SKLearnVectorStore\n",
    "#from langchain_community.embeddings.spacy_embeddings import SpacyEmbeddings\n",
    "from langchain_nomic.embeddings import NomicEmbeddings\n",
    "from langchain_core.messages import HumanMessage, SystemMessage\n",
    "# to build/display/run a langgraph\n",
    "from langgraph.graph import StateGraph\n",
    "from IPython.display import Image, display\n",
    "import operator\n",
    "from typing_extensions import TypedDict\n",
    "from typing import List, Annotated\n",
    "from langgraph.graph import END"
   ]
  },
  {
   "cell_type": "markdown",
   "id": "3076fada-99f5-40f2-9fa7-6c5a23e27835",
   "metadata": {},
   "source": [
    "#### Set-up the LLM"
   ]
  },
  {
   "cell_type": "code",
   "execution_count": 2,
   "id": "4e3603ea-8c3f-47db-afb9-b5c9c0e45eb9",
   "metadata": {},
   "outputs": [],
   "source": [
    "### llama 3.2-3b\n",
    "\n",
    "local_llm = \"llama3.2:3b-instruct-fp16\"\n",
    "llm = ChatOllama(model=local_llm, temperature=0)\n",
    "llm_json_mode = ChatOllama(model=local_llm, temperature=0, format=\"json\")"
   ]
  },
  {
   "cell_type": "markdown",
   "id": "03f28008-99e0-4429-b4fa-0f67ef243428",
   "metadata": {},
   "source": [
    "## Note: Skip to the embeddings part if you don't have the `db` file as the embeddings are run on the text contained in the database"
   ]
  },
  {
   "cell_type": "markdown",
   "id": "254da7c5-731a-4f26-be2a-e7ebe62ea3f1",
   "metadata": {},
   "source": [
    "#### Load database `db` of papers"
   ]
  },
  {
   "cell_type": "markdown",
   "id": "8c77352d-51f2-4707-bea9-33ee88e28df1",
   "metadata": {},
   "source": [
    "This is the path of the `db` database containing the text extracted from the relevant papers with llamaParse"
   ]
  },
  {
   "cell_type": "code",
   "execution_count": 6,
   "id": "c9ecec23-da9b-4d14-80bb-b85136e8c5f5",
   "metadata": {},
   "outputs": [],
   "source": [
    "database_path = 'literature_relevant.db'"
   ]
  },
  {
   "cell_type": "markdown",
   "id": "5ea33170-e7b0-43eb-b04c-94c050b15dce",
   "metadata": {},
   "source": [
    "Define `extract_full_text_content` - this function below takes as input the SQL database and returns the full-text of the papers per page content. "
   ]
  },
  {
   "cell_type": "code",
   "execution_count": 7,
   "id": "1f3b28d9",
   "metadata": {},
   "outputs": [],
   "source": [
    "def extract_full_text_content(database_path):\n",
    "    conn = sqlite3.connect(database_path)\n",
    "    cursor = conn.cursor()\n",
    "\n",
    "    # Retrieve all rows/papers from the table\n",
    "    cursor.execute(f\"SELECT fulltext, DOI FROM literature_fulltext;\")\n",
    "    rows = cursor.fetchall()\n",
    "\n",
    "    documents = []\n",
    "    # Add paper text and dict of metadata\n",
    "    for row in rows:\n",
    "        fulltext, doi = row\n",
    "        if isinstance(fulltext, str) and fulltext is not None:\n",
    "            documents.append({\n",
    "                \"content\": fulltext,\n",
    "                \"metadata\": {\n",
    "                    \"doi\": doi\n",
    "                }\n",
    "            })\n",
    "\n",
    "    conn.close()\n",
    "    return documents\n"
   ]
  },
  {
   "cell_type": "markdown",
   "id": "0debe0fe-abb9-4fab-9a52-c86be7164ce7",
   "metadata": {},
   "source": [
    "Extract the content below:"
   ]
  },
  {
   "cell_type": "code",
   "execution_count": 8,
   "id": "fe0815fb-8e72-4e05-89b9-1b4aa5b32544",
   "metadata": {},
   "outputs": [],
   "source": [
    "docs = extract_full_text_content(database_path)"
   ]
  },
  {
   "cell_type": "code",
   "execution_count": 9,
   "id": "e8de4055",
   "metadata": {
    "collapsed": true,
    "jupyter": {
     "outputs_hidden": true
    },
    "tags": []
   },
   "outputs": [
    {
     "data": {
      "text/plain": [
       "{'content': '# Rotavirus Seasonality and Age Effects in a Birth Cohort Study of Southern India\\n\\n#\\n# Rotavirus Seasonality and Age Effects in a Birth Cohort Study of Southern India\\n\\nRajiv Sarkar1, Gagandeep Kang1, Elena N. Naumova1,2*\\n\\n1Department of Gastrointestinal Sciences, Christian Medical College, Vellore, TN, India\\n\\n2Department of Civil and Environmental Engineering, Tufts University School of Engineering, Boston, Massachusetts, United States of America\\n\\n# Abstract\\n\\n# Introduction\\n\\nUnderstanding the temporal patterns in disease occurrence is valuable for formulating effective disease preventive programs. Cohort studies present a unique opportunity to explore complex interactions associated with emergence of seasonal patterns of infectious diseases.\\n\\n# Methods\\n\\nWe used data from 452 children participating in a birth cohort study to assess the seasonal patterns of rotavirus diarrhea by creating a weekly time series of rotavirus incidence and fitting a Poisson harmonic regression with biannual peaks. Age and cohort effects were adjusted for by including the weekly counts of number of children in the study and the median age of cohort in a given week. Weekly average temperature, humidity and an interaction term to reflect the joint effect of temperature and humidity were included to consider the effects of meteorological variables.\\n\\n# Results\\n\\nIn the overall rotavirus time series, two significant peaks within a single year were observed – one in winter and the other in summer. The effect of age was found to be the most significant contributor for rotavirus incidence, showing a strong negative association. Seasonality remained a significant factor, even after adjusting for meteorological parameters, and the age and cohort effects.\\n\\n# Conclusions\\n\\nThe methodology for assessing seasonality in cohort studies is not yet developed. This is the first attempt to explore seasonal patterns in a cohort study with a dynamic denominator and rapidly changing immune response on individual and group levels, and provides a highly promising approach for a better understanding of the seasonal patterns of infectious diseases, tracking emergence of pathogenic strains and evaluating the efficacy of intervention programs.\\n\\n# Citation\\n\\nSarkar R, Kang G, Naumova EN (2013) Rotavirus Seasonality and Age Effects in a Birth Cohort Study of Southern India. PLoS ONE 8(8): e71616. doi:10.1371/journal.pone.0071616\\n\\nEditor: Amit Kapoor, Columbia University, United States of America\\n\\nReceived March 12, 2013; Accepted June 30, 2013; Published August 16, 2013\\n\\nCopyright: © 2013 Sarkar et al. This is an open-access article distributed under the terms of the Creative Commons Attribution License, which permits unrestricted use, distribution, and reproduction in any medium, provided the original author and source are credited.\\n\\nFunding: This work was supported by PHS grant R01 A1075452 “Transmission Dynamics of Cryptosporidial Infections in India” (PI - GK); CDC/Indo-US Concept “Environmental Indicators for Diarrheal Infections in South India” (PI - ENN). RS was supported by the Global Infectious Disease Research Training Grant (D43TW007392; PI - GK). The data used in this study was collected from a rotavirus birth cohort study supported by the Wellcome Trust Trilateral Initiative for Infectious Diseases (Grant No.: 063144). The funders had no role in study design, data collection and analysis, decision to publish, or preparation of the manuscript.\\n\\nCompeting Interests: The authors have declared that no competing interests exist.\\n\\n* E-mail: Elena.Naumova@tufts.edu\\n\\n# Introduction\\n\\nWorld-wide expansions of public health surveillance, long-term maintenance of patient electronic records and digital disease detection have invigorated attention to seasonal fluctuations in infectious diseases. A deep understanding of temporal patterns in disease occurrence and its governing principles is valuable for designing preventive programs for disease control, tracking effectiveness of public health programs, and allocating scarce resources.\\n\\nMany infectious diseases exhibit seasonal patterns, when systematic periodic fluctuations are observed during an annual cycle. Seasonality can be characterized by the magnitude, timing, and duration of a seasonal increase. It may differ by pathogen and its strain virulence, and may change from year to year due to shift/drift in antigenic strain and change in immunity of a naïve and exposed population. Seasonal characteristics may also vary by population, geographical area, or climate zone. Introduction of a vaccine and/or successful coverage expansion may also dramatically alter the seasonal fluctuations in infectious disease occurrence.\\n\\nPeriodic fluctuations can be successfully detected and modeled using statistical methods, which allows us to describe and compare seasonal characteristics: amplitude, peaks and troughs. An analysis of seasonality has to be performed on a sufficiently long time series to be able to capture many occurrences of seasonal increases. Thus, by abstracting records from large databases of medical records, including laboratory tests, hospitalizations and mortality records, long time series can be successfully compiled to provide the foundation for reliable assessment of disease seasonality. However, each data source might contain only a fraction of all events associated with infection and sometimes may offer biased reflection of a true incidence of infection in a community.\\n\\nWhile surveillance systems are an excellent source of data to study seasonality in a general population, they might not be ideal for tracking unique features of specific diseases. Cohort studies present a unique opportunity to explore intricate details associated.\\n---\\n# Rotavirus Seasonality in a Birth Cohort\\n\\nbody {\\nfont-family: Arial, sans-serif;\\nline-height: 1.6;\\nmargin: 20px;\\n}\\nh1 {\\ntext-align: center;\\n}\\nh2 {\\nmargin-top: 20px;\\n}\\np {\\nmargin: 10px 0;\\n}\\n.ethics, .data-sources, .compilation, .adjustment, .assessment {\\nmargin-bottom: 20px;\\nborder-left: 4px solid #007BFF;\\npadding-left: 10px;\\n}\\n\\n# Rotavirus Seasonality in a Birth Cohort\\n\\nWith the emergence of seasonal patterns, longitudinal tracking of disease occurrence in each subject allows for the detection of symptomatic and asymptomatic infections, complete genotyping, and comparison of observed strains in the same individual. This also links disease profiles to environmental, social, and genetic features.\\n\\nHowever, the specific features of cohort studies—such as staggered enrollment, age effects, and short follow-up periods—present substantial methodological challenges for seasonality analysis. Current analytical approaches for assessing seasonality are best suited for long time series with relatively stable populations and usually when the patterns of disease have a stable structure. It is useful to expand the methodology of seasonality analysis to this promising study design, which has already demonstrated advantages in understanding the natural history of viral and protozoan infections.\\n\\nRotavirus infection is a leading cause of morbidity in developing countries, and currently, there are a number of suitable vaccines. In temperate areas, the seasonality of rotavirus infection with a single winter peak is well documented. In tropical climates, its seasonality is less defined; however, sometimes an increase is noticed during cold and dry periods. Occasionally, two peaks within a single year are reported: one in winter and one in summer. The burden of rotavirus diarrhea is highest among very young children and decreases rapidly thereafter, which can introduce a strong age effect in the assessment of any temporal pattern.\\n\\n# Methods\\n\\n# Ethics Statement\\n\\nThis paper presents the results of a secondary data analysis from a birth cohort study in southern India, which was approved by the Institutional Review Board of Christian Medical College, Vellore, India. Written informed consent was obtained from parents or guardians of the participating children prior to enrollment, which also included permission to use the data for future research purposes. The time series presented in this study was assembled using de-identified data.\\n\\n# Data Sources\\n\\nWe used data from a birth cohort study on the natural history of rotavirus infection in Vellore, south India. In this study, a total of 452 children were recruited between March 2002 and August 2003 and followed up for a period of 3 years; a total of 373 (80%) children completed the follow-up period. Each child was subjected to a biweekly follow-up schedule to record diarrheal and other morbidities during the preceding days. Surveillance stool samples were collected every 2 weeks, and up to 3 diarrheal stool samples were collected every time the child had diarrhea. The stool samples were tested for the presence of rotavirus using ELISA and PCR-based methods. The details of symptomatic and asymptomatic rotavirus infections over the 3-year period among the 373 children who completed the study have been reported elsewhere.\\n\\nData from all 452 children enrolled in this study was used to illustrate the seasonality of rotavirus diarrhea in this cohort. We defined a diarrheal episode to be associated with rotavirus if one or more stool samples collected within 67 days of that episode was positive for rotavirus by PCR. Using this definition, we identified a total of 291 episodes of PCR-positive rotavirus diarrhea among the 452 children in this cohort. We also explored the effect of different rotavirus genotypes in the overall seasonality of rotavirus diarrhea among the study children.\\n\\nDaily data on ambient temperature, relative humidity, and rainfall for Vellore for the study period was obtained from the Regional Meteorological Office in Chennai, India. Average weekly temperature and humidity readings were then computed for the duration of the time series. The total volume of rainfall for a particular week was calculated using the daily rainfall measurements.\\n\\n# Compilation of Time Series\\n\\nAll samples tested for rotavirus contained the date of sample collection; thus, the created time series was 100% complete. Seasonality of rotavirus diarrhea was assessed by aggregating the daily surveillance data into a weekly time-series of counts. Diarrheal episodes were assigned to the week corresponding to the first day of that episode. A week was defined as seven consecutive days from Sunday to Saturday, irrespective of any overlap between two calendar years. The first week of January 2002 was considered to be the first week of the time-series. Hence, for this study, the week-series commenced from March 10, 2002, and ended on the 243rd week, week ending August 31, 2006, for a total of 234 weeks.\\n\\n# Adjustment for Age and Cohort Effects\\n\\nIn cohort studies with staggered enrollment, there are at least three effects that might impact the time series: staggered enrollment, loss to follow-up, and age effect. To address these factors, two additional time series were created: a time series of weekly counts of the number of children (child-weeks of follow-up) in the study and a time series of the median age of children in a given week. Using the weekly counts of children and events (rotavirus diarrhea), incidence rates per 1000 child-weeks of follow-up were calculated. Therefore, the assessment of seasonality was based on the weekly incidence rates, adjusting for the aging in the cohort.\\n\\n# Assessment of Seasonality\\n\\nThe seasonality of rotavirus diarrhea was assessed by fitting a Poisson harmonic regression (PHM) as a generalized linear model (GLM) considering two annual humps, which were accommodated by including four sine-cosine terms. To adjust for the cohort effect, we expanded the regression model by including child-weeks of follow-up as a linear term. The age effect of rotavirus diarrhea was explored by applying three different models: first using a linear term representing the median age of the cohort for the corresponding week, second by adding a quadratic term for the weekly median age to the linear term, and third by replacing the linear and quadratic terms by adding an exponential term representing the log-transformed median age of the cohort. Based on overall model performance and results interpretation, a linear term to represent the effect of age was selected. Finally, to consider the effects of meteorological variables, variables for weekly average temperature, humidity, and an interaction term were included to reflect the joint effect of temperature and humidity.\\n---\\n# Rotavirus Seasonality in a Birth Cohort\\n\\nbody {\\nfont-family: Arial, sans-serif;\\nline-height: 1.6;\\nmargin: 20px;\\n}\\nh1 {\\ntext-align: center;\\n}\\nh2 {\\nmargin-top: 20px;\\n}\\np {\\nmargin: 10px 0;\\n}\\ntable {\\nwidth: 100%;\\nborder-collapse: collapse;\\nmargin: 20px 0;\\n}\\ntable, th, td {\\nborder: 1px solid black;\\n}\\nth, td {\\npadding: 10px;\\ntext-align: left;\\n}\\nfigure {\\nmargin: 20px 0;\\n}\\n\\n# Rotavirus Seasonality in a Birth Cohort\\n\\nThe sequentially-built final model can thus be depicted as below: incidence of 27.8 episodes per 1000 child-weeks. The predicted incidence from the model was 15.7 episodes per 1000 child-weeks.\\n\\nLog(E½Y) ~ b0 + b1 sin(2πvt) + b2 cos(2πvt) + b3 sin(4πvt) + b4 cos(4πvt) + b5 nt + b6 a + b7 T + b8 P + b9 TP + et, where t is time in weeks, v is frequency of 52.25, Yt is a time-series of incidence, nt is a term for weekly value of child-weeks of follow-up; at is a median age for a cohort at t-week, thus the regression parameter b6 reflects the change in the incidence associated with 1 week; T, P, and TP are values for weekly average temperature, humidity and their cross-product interaction, respectively; b are regression parameters, e is the error term. Using b6 we estimate the age effect as follows: d = 1 - exp{52.25b6}, where d is the percent reduction in the incidence over one year. In this model, parameters b1 through b4 refer to seasonal harmonics.\\n\\nBased on predicted curves, such seasonal increases were observed to repeat at least twice – one around week 72 and 84th week and then another around 96th and 108th week. During the peaks of these intervals (81st and 104th week respectively), the predicted rotavirus incidence was found to be 9.9 and 9.1 episodes per 1000 child-weeks respectively; and the median age of the cohort was 32.9 and 55.3 weeks respectively. A smaller hump was also observed at the inception of the study, peaking at the 25th week when the first 68 children were enrolled. The median age of the cohort at this time was 6 weeks, thereby indicating neonatal and early childhood infections.\\n\\n# Results\\n\\nThe cumulative weekly distribution and the relative contribution of the different rotavirus genotypes are presented in Figure 4. Visualization of these data suggests clustering of rotavirus genotypes at certain time points. For example, rotavirus G1P [8] was the predominant circulating genotype between the 52nd and 67th weeks, whereas between the 103rd and 116th week, G2P [4] was found to be more common. As observed in Figure 3, the second peak of rotavirus diarrhea seems to be driven primarily by the G1P [8] genotype, whereas the fourth peak was mostly driven by G2P [4]. Interestingly, the third peak observed in Figure 3 (81st week) seems to be driven at least partially by G1P [4] and the untypable or partially typable rotavirus genotypes.\\n\\nThe weekly counts of detected rotavirus diarrhea (total 291 episodes) are plotted in a form of a needle-plot and presented in Figure 1. The time series (see Dataset S1) started from week 10, which refers to the beginning of enrollment. The observed average (95% CI) weekly incidence of rotavirus diarrhea was 4.4 (3.7–5.2) episodes per 1000 child-weeks. As expected, the initial weeks of the study had low counts of rotavirus diarrhea due to continuing enrollment. The highest count of rotavirus diarrhea was observed on the 73rd week of the study, which coincides with the end of the enrollment period.\\n\\nThe enrollment scheme is presented in Figure 2, which reflects three segments with characteristic features. Between the 10th and 84th week a steady increase is observed in the child-weeks of follow-up depicting the ongoing enrollment process; between the 84th and 204th week, a practically flat line in the child-weeks of follow-up was observed that denoted the time period when most of the children were being followed-up; thereafter, between 204 and 243rd a rapid decline was observed because of children completing the study. The ageing of the cohort is depicted in Figure 2 as a dashed line.\\n\\nOver the course of the study, the effect of age was found to be the most significant contributor for rotavirus incidence. In one year, a significant reduction of 62.9, 66.6, 60.9, 71.5 percent was observed in the incidence of rotavirus diarrhea and three major genotypes, G1P [8], G2P [4], and G1P [4], respectively (p < 0.0001, see Table 1). The age-specific decline explained 32.1% of the variation in the incidence of rotavirus overall, whereas the seasonality and meteorological factors explained 6.1% of the overall model variation.\\n\\nThe overall rotavirus incidence and for the individual strains assessed, the seasonality remained significant after adjusting for meteorological parameters, and the age and cohort effects. The highest seasonal increase in rotavirus incidence was observed between the 41st and 66th weeks of the study, coinciding with the major bulk of rotavirus diarrhea counts among the study children. This wave peaked at the 54th week when a total of 7 episodes of rotavirus diarrhea were observed over 251.4 child-weeks of follow-up.\\n\\n**Table 1: Model Parameters and Goodness of Fit**\\n|Parameter|Value|\\n|---|---|\\n|b0|Value|\\n|b1|Value|\\n|b2|Value|\\n|b3|Value|\\n|b4|Value|\\n|b5|Value|\\n|b6|Value|\\n|b7|Value|\\n|b8|Value|\\n|b9|Value|\\n|Goodness of Fit|Value|\\n---\\n# Rotavirus Seasonality in a Birth Cohort\\n\\n#\\n# Rotavirus Seasonality in a Birth Cohort\\n\\n# Figures\\n\\nFigure 1. Needle plot showing the weekly distribution of counts of rotavirus diarrhea during the study period. doi:10.1371/journal.pone.0071616.g001\\n\\nFigure 2. Cumulative weekly enrollment, follow-up and ageing of the cohort. The black line represents the total number of child-weeks of follow-up for each week in the time series. The red line depicts the median age of children (in weeks) corresponding to a particular week in the time-series. doi:10.1371/journal.pone.0071616.g002\\n\\n# Study Period\\n\\nThe study spans from 2002 to 2006, with significant data collected in the years 2003, 2004, and 2005.\\n\\nPLOS ONE | www.plosone.org | August 2013 | Volume 8 | Issue 8 | e71616\\n---\\n# Rotavirus Seasonality in a Birth Cohort\\n\\nbody {\\nfont-family: Arial, sans-serif;\\nline-height: 1.6;\\nmargin: 20px;\\n}\\nh1 {\\ntext-align: center;\\n}\\nh2 {\\nmargin-top: 40px;\\n}\\ntable {\\nwidth: 100%;\\nborder-collapse: collapse;\\nmargin: 20px 0;\\n}\\nth, td {\\nborder: 1px solid #ddd;\\npadding: 8px;\\ntext-align: center;\\n}\\nth {\\nbackground-color: #f2f2f2;\\n}\\nfigure {\\ntext-align: center;\\nmargin: 20px 0;\\n}\\nfigcaption {\\nfont-style: italic;\\n}\\n\\n# Rotavirus Seasonality in a Birth Cohort\\n\\nFigure 3. Week-series of incidence of rotavirus diarrhea (per 1000 child-weeks). The horizontal spikes depict the observed incidence of rotavirus diarrhea among children in the cohort. The blue vertical line depicts the predicted incidence derived from the Poisson harmonic regression model.\\n\\n# Table 1. Results of the Poisson harmonic regression models for assessment of rotavirus seasonality, and age and cohort effects.\\n\\n|Effects| |All rotavirus| |G1P [8]| |G2P [4]| |G1P [4]| |\\n|---|---|---|---|---|---|---|---|---|---|\\n|Cohort effect|Child-weeks of follow up|0.002|&lt;0.001|0.003|&lt;0.001|0.019|&lt;0.001|0.002|0.005|\\n|Age effect|Median age of the cohort (in weeks)|-0.019|&lt;0.001|-0.021|&lt;0.001|-0.018|&lt;0.001|-0.024|&lt;0.001|\\n|Seasonality effects|Sine (1st harmonic)|-0.024|0.757|-0.692|&lt;0.001|0.587|0.003|-0.220|0.371|\\n| |Cosine (1st harmonic)|0.328|0.006|0.757|0.019|-0.344|0.282|-0.701|0.04|\\n| |Sine (2nd harmonic)|0.277|&lt;0.001|0.506|&lt;0.001|0.447|0.004|-0.052|0.746|\\n| |Cosine (2nd harmonic)|0.338|&lt;0.001|-0.309|0.076|-0.491|0.013|0.738|&lt;0.001|\\n|Effect of meteorological factors|Weekly average temperature|0.821|&lt;0.001|2.18|&lt;0.001|0.341|0.383|0.282|0.447|\\n| |Weekly average humidity|0.308|&lt;0.001|0.834|&lt;0.001|0.234|0.158|0.192|0.212|\\n| |Temperature*humidity|-0.011|&lt;0.001|-0.031|&lt;0.001|-0.008|0.183|-0.005|0.341|\\n| |Null Deviance|1713|-|719|-|453|-|560|-|\\n| |Regression Deviance|959|-|527|-|288|-|398|-|\\n| |Percent reduction in deviance|43.9|-|26.7|-|36.5|-|28.9|-|\\n\\ndoi:10.1371/journal.pone.0071616.t001\\n---\\n# Rotavirus Seasonality in a Birth Cohort\\n\\n#\\n# Rotavirus Seasonality in a Birth Cohort\\n\\n# Figure 4\\n\\nWeekly distribution of different rotavirus genotypes. Observed changes in a relative contribution of rotavirus genotypes indicate temporal clustering characteristic for seasonality in genotype dominance.\\n\\ndoi:10.1371/journal.pone.0071616.g004\\n\\n# Discussion\\n\\nA time series was created for rotavirus diarrhea observed in a birth cohort study in southern India. We adjusted for age and cohort effects, and assessed the seasonal patterns of rotavirus diarrhea overall and that of three most common genotypes using a Poisson harmonic regression model. After adjusting for strong age effect, seasonal fluctuations remained significant with biannual peaks, 6 months apart. The most pronounced peak was observed during the first winter in the life of the newborn at an average age of about 4 months.\\n\\nBirth cohort studies offer an unbiased approach to examine the relationship between time of birth and susceptibility to infections and have substantial advantages in tracking unique features of specific diseases such as rotavirus where the incidence of symptomatic disease is heavily shifted towards the first few years of life and then diminishes rapidly. It also allows careful tracking of age effects and changes in immunity, and frequency and routes of exposure due to changes during child development including feeding patterns, introduction of weaning foods and changes in hygiene practices.\\n\\nA strong age effect was noticed in this study, with the incidence of rotavirus diarrhea decreasing steadily with increasing age. This is possibly due to the development of protective immunity to rotavirus, which prevented children from developing symptomatic infections at an older age. Natural rotavirus infection has been shown to confer protection against subsequent infection and disease [27,28]. Despite this strong age effect, the detection of seasonal fluctuations in the incidence of rotavirus infection is, on its own, remarkable.\\n\\nThe temporal clustering of the circulating rotavirus genotypes, even within a relatively short time series (Figure 4) was another important finding of this study, and is possibly a result of immune selection pressure. Also, the strain-specific variations in the seasonality of rotavirus observed in this study suggest that the seasonality of rotavirus may be strain-dependent. Therefore, in future studies, including data on the circulating rotavirus genotypes may provide a more robust estimate of the seasonality of rotavirus infection.\\n\\nIt has previously been observed that in temperate climates, the season of birth can adversely affect rotavirus diarrhea and children born in summer have a higher risk of laboratory-confirmed rotavirus infection that typically peaked in winter [29]. However, unlike in temperate climates, in this study two seasonal peaks of rotavirus diarrhea, 6-months apart, were observed which suggests that children in tropical climates may have the same risk of exposure to the virus, irrespective of their birth season. The staggered enrollment lasted for over one year (Figure 2), thereby enabling children born at different seasons to be equally represented in this study. Hence, it can reasonably be assumed that the effect of seasonality observed in this study was independent of their birth season.\\n\\nCohort studies with an intensive follow-up are difficult to replicate and such in-depth evaluation can be available only for a limited time period, small geographic area and relatively small sample size. To increase the power to appropriately detect and...\\n\\nPLOS ONE | www.plosone.org | August 2013 | Volume 8 | Issue 8 | e71616\\n---\\n# Rotavirus Seasonality in a Birth Cohort\\n\\nbody {\\nfont-family: Arial, sans-serif;\\nmargin: 20px;\\nline-height: 1.6;\\n}\\nh1 {\\ntext-align: center;\\n}\\ntable {\\nwidth: 100%;\\nborder-collapse: collapse;\\nmargin: 20px 0;\\n}\\nth, td {\\nborder: 1px solid #ddd;\\npadding: 8px;\\ntext-align: center;\\n}\\nth {\\nbackground-color: #f2f2f2;\\n}\\n.caption {\\ntext-align: center;\\nfont-style: italic;\\nmargin-top: 10px;\\n}\\n\\n# Rotavirus Seasonality in a Birth Cohort\\n\\n# Observed and Predicted Incidence of Rotavirus Diarrhea\\n\\n|Year|Week Series|Observed Incidence of Rotavirus Diarrhea|Observed Incidence of Rotavirus GIP[8]|Predicted Incidence of Diarrhea|\\n|---|---|---|---|---|\\n|2002|1|132|156|168|\\n|2003|2|180| | |\\n|2004|3|108|120|132|\\n|2005|4|204|216|228|\\n|2006|5|240|252| |\\n\\nTable 1: Observed and predicted incidences of rotavirus diarrhea across different years.\\n\\n# Additional Observations\\n\\n|Year|Week Series|Observed Incidence of Rotavirus GZP[4]|Predicted Incidence of Diarrhea|\\n|---|---|---|---|\\n|2002|1|180|204|\\n|2003|2|228|240|\\n|2004|3| | |\\n|2005|4| | |\\n|2006|5| | |\\n\\nTable 2: Observed incidences of rotavirus GZP[4] and predicted incidences of diarrhea.\\n\\nPLOS ONE | www.plosone.org | August 2013 | Volume 8 | Issue 8 | e71616\\n---\\n# Rotavirus Seasonality in a Birth Cohort\\n\\n#\\n# Rotavirus Seasonality in a Birth Cohort\\n\\n# Figure 5\\n\\nWeek-series of incidence of diarrhea (per 1000 child-weeks) due to major rotavirus strains:\\n\\n- (A) G1P [8]\\n- (B) G2P [4]\\n- (C) G1P [4]\\n\\nThe colored horizontal spikes (khaki for G1P [8], orange for G2P [4] and green for G1P [4]) represent the observed strain-specific incidence of rotavirus diarrhea among children in the cohort. The vertical blue line depicts the predicted incidence derived from the Poisson harmonic regression model.\\n\\ndoi:10.1371/journal.pone.0071616.g005\\n\\n# Methodology and Findings\\n\\nTo characterize seasonality, it would be valuable to compile data from similar studies and to pair these data with ongoing community and hospital-based surveillance. The observation of biannual peaks agrees with other studies of rotavirus in tropical climates [17,30,31,32,33]. Published data also provide an illustration of biannual peaks [17].\\n\\nIn a cross-sectional study in Dhaka, a total of 10,739 stool samples from patients admitted between January 2001 to May 2006 in the ICDDR,B hospital were tested for the presence of rotavirus using ELISA-based methods, of which 2706 (25.2%) were found to be positive. A large proportion (>90%) of the rotavirus positive patients were children below the age of 2 years.\\n\\nApplying the harmonic regression model presented in this study, a predictive curve was produced that accounted for 80% of variability in the monthly time series of the proportion of rotavirus positive stool samples (see Figure 6). Although the shift to more severe cases due to differences in patient profiles has to be taken into account while comparing cohort data with community or hospital-based surveillance systems [24], this similarity of biannual peaks observed in the large surveillance sample and our relatively small cohort is encouraging.\\n\\n# Figure 6\\n\\nSeasonality of rotavirus diarrhea in Dhaka, Bangladesh (2001–2006) with pronounced biannual peaks. The horizontal spikes depict the observed monthly values, the red vertical lines represent the smoothed estimates, and the blue vertical lines reflect the predicted counts based on Poisson harmonic regression model with four sine-cosine terms.\\n\\ndoi:10.1371/journal.pone.0071616.g006\\n\\n# Conclusion\\n\\nThere is a paucity of data from prospective, community-based studies that measure the incidence of rotavirus diarrhea in Indian children. The majority of studies on rotavirus diarrhea are hospital-based cross-sectional studies. From these studies, the prevalence of rotavirus among hospitalized children was found to be significant.\\n\\nPLOS ONE | www.plosone.org | August 2013 | Volume 8 | Issue 8 | e71616\\n---\\n# Rotavirus Seasonality in a Birth Cohort\\n\\nbody {\\nfont-family: Arial, sans-serif;\\nline-height: 1.6;\\nmargin: 20px;\\n}\\nh1 {\\ntext-align: center;\\n}\\nh2 {\\nmargin-top: 20px;\\n}\\nh3 {\\nmargin-top: 15px;\\n}\\np {\\nmargin: 10px 0;\\n}\\n.references {\\nmargin-top: 20px;\\n}\\n.acknowledgments, .author-contributions {\\nmargin-top: 20px;\\nfont-style: italic;\\n}\\n\\n# Rotavirus Seasonality in a Birth Cohort\\n\\nTo range from 19.2–49.9% (average 33.6%). The proportion of diarrhea attributed to rotavirus was, however, much lower at 12% (range 7.1–15.5%) in outpatient settings. Converting our observed weekly incidence of 4.4 (3.7–5.2) episodes per 1000 child-weeks to an annual incidence would have resulted in an average (95% CI) of 0.22 (0.19–0.27) episodes of rotavirus diarrhea per child per year. This is comparable to the rotavirus diarrheal incidence of 0.16 (0.10–0.22) episodes per child-year among <2-year old children in an urban slum in Delhi.\\n\\nWhile birth cohort studies provide highly valuable information to close critical gaps in understanding disease burden, the design of such studies should be also explored as a working platform for investigating the emergence of novel pathogens and strains. In this study, a large number of untypable samples occurred before the switch to another type. Their disproportional increase might indicate the appearance of a new strain previously unknown and not seen for a period of time and not considered for typing. Using a wide range of information sources through triangulation and integration of epidemiological cohorts, surveillance systems, hospitalization records, and outpatient follow-up is a highly promising approach for a better understanding of the seasonal patterns of infectious diseases, tracking the emergence of pathogenic strains, and evaluating the efficacy of intervention programs.\\n\\n# Supporting Information\\n\\n- Dataset S1: Time series of selected variables presented in the study. (XLS)\\n- Text S1: Adjustment for age and cohort effects. (DOC)\\n\\n# Acknowledgments\\n\\nWe would like to thank Drs. Jyotsna S. Jagai and Kenneth K. H. Chui for their help with compilation and analysis of the time series data and for participating in the preliminary paper discussion. We also thank Dr. Beryl P. Gladstone for her help in assembling the data on rotavirus diarrhea among children in the birth cohort.\\n\\n# Author Contributions\\n\\nConceived and designed the experiments: GK ENN. Performed the experiments: RS ENN. Analyzed the data: RS ENN. Contributed reagents/materials/analysis tools: GK. Wrote the paper: RS GK ENN.\\n\\n# References\\n\\nChui KK, Jagai JS, Griffiths JK, Naumova EN (2011) Hospitalization of the elderly in the United States for nonspecific gastrointestinal diseases: a search for etiological clues. Am J Public Health 101: 2082–2086.\\nFisman DN (2007) Seasonality of infectious diseases. Annu Rev Public Health 28: 127–143.\\nGreene SK, Ionides EL, Wilson ML (2006) Patterns of influenza-associated mortality among US elderly by geographic region and virus subtype, 1968–1998. Am J Epidemiol 163: 316–326.\\nNaumova EN, Jagai JS, Matyas B, DeMaria A Jr, MacNeill IB, et al. (2007) Seasonality in six enterically transmitted diseases and ambient temperature. Epidemiol Infect 135: 281–292.\\nMoorthy M, Castronovo D, Abraham A, Bhattacharyya S, Gradus S, et al. (2012) Deviations in influenza seasonality: odd coincidence or obscure consequence? Clin Microbiol Infect 18: 955–962.\\nJagai JS, Castronovo DA, Monchak J, Naumova EN (2009) Seasonality of cryptosporidiosis: A meta-analysis approach. Environ Res 109: 465–478.\\nJagai JS, Sarkar R, Castronovo D, Kattula D, McEntee J, et al. (2012) Seasonality of rotavirus in South Asia: a meta-analysis approach assessing associations with temperature, precipitation, and vegetation index. PLoS One 7: e38168.\\nButtery JP, Lambert SB, Grimwood K, Nissen MD, Field EJ, et al. (2011) Reduction in rotavirus-associated acute gastroenteritis following introduction of rotavirus vaccine into Australia’s National Childhood vaccine schedule. Pediatr Infect Dis J 30: S25–29.\\nTate JE, Panozzo CA, Payne DC, Patel MM, Cortese MM, et al. (2009) Decline and change in seasonality of US rotavirus activity after the introduction of rotavirus vaccine. Pediatrics 124: 465–471.\\nZeller M, Rahman M, Heylen E, De Coster S, De Vos S, et al. (2010) Rotavirus incidence and genotype distribution before and after national rotavirus vaccine introduction in Belgium. Vaccine 28: 7507–7513.\\nWenger JB, Naumova EN (2010) Seasonal synchronization of influenza in the United States older adult population. PLoS One 5: e10187.\\nFraser D, Dagan R, Naggan L, Greene V, El-On J, et al. (1997) Natural history of Giardia lamblia and Cryptosporidium infections in a cohort of Israeli Bedouin infants: a study of a population in transition. Am J Trop Med Hyg 57: 544–549.\\nGladstone BP, Ramani S, Mukhopadhya I, Muliyil J, Sarkar R, et al. (2011) Protective effect of natural rotavirus infection in an Indian birth cohort. N Engl J Med 365: 337–346.\\nOhuma EO, Okiro EA, Ochola R, Sande CJ, Cane PA, et al. (2012) The natural history of respiratory syncytial virus in a birth cohort: the influence of age and previous infection on reinfection and disease. Am J Epidemiol 176: 794–802.\\nCook SM, Glass RI, LeBaron CW, Ho MS (1990) Global seasonality of rotavirus infections. Bull World Health Organ 68: 171–177.\\nLevy K, Hubbard AE, Eisenberg JN (2009) Seasonality of rotavirus disease in the tropics: a systematic review and meta-analysis. Int J Epidemiol 38: 1487–1496.\\nRahman M, Sultana R, Ahmed G, Nahar S, Hassan ZM, et al. (2007) Prevalence of G2P[4] and G12P[6] rotavirus, Bangladesh. Emerg Infect Dis 13: 18–24.\\nKang G, Arora R, Chitambar SD, Deshpande J, Gupte MD, et al. (2009) Multicenter, hospital-based surveillance of rotavirus disease and strains among Indian children aged <5 years. J Infect Dis 200 Suppl 1: S147–153.\\nParashar UD, Holman RC, Clarke MJ, Bresee JS, Glass RI (1998) Hospitalizations associated with rotavirus diarrhea in the United States, 1993 through 1995: surveillance based on the new ICD-9-CM rotavirus-specific diagnostic code. J Infect Dis 177: 13–17.\\nYokoo M, Arisawa K, Nakagomi O (2004) Estimation of annual incidence, age-specific incidence rate, and cumulative risk of rotavirus gastroenteritis among children in Japan. Jpn J Infect Dis 57: 166–171.\\nSarkar R, Ajjampur SS, Ward HD, Kang G, Naumova EN (2012) Analysis of human immune responses in quasi-experimental settings: tutorial in biostatistics. BMC Med Res Methodol 12: 1.\\nGladstone BP, Das AR, Rehman AM, Jaffar S, Estes MK, et al. (2010) Burden of illness in the first 3 years of life in an Indian slum. J Trop Pediatr 56: 221–226.\\nGladstone BP, Muliyil JP, Jaffar S, Wheeler JG, Le Fevre A, et al. (2008) Infant morbidity in an Indian slum birth cohort. Arch Dis Child 93: 479–484.\\nBanerjee I, Ramani S, Primrose B, Moses P, Iturriza-Gomara M, et al. (2006) Comparative study of the epidemiology of rotavirus in children from a community-based birth cohort and a hospital in South India. J Clin Microbiol 44: 2468–2474.\\nRamani S, Banerjee I, Gladstone BP, Sarkar R, Selvapandian D, et al. (2007) Geographic information systems and genotyping in identification of rotavirus G12 infections in residents of an urban slum with subsequent detection in hospitalized children: emergence of G12 genotype in South India. J Clin Microbiol 45: 432–437.\\nNaumova EN, MacNeill IB (2006) Seasonality assessment for biosurveillance systems. In: Balakrishnan N, Auget JL, Mesbah M, editors. Advances in statistical methods for the health sciences: applications to cancer and aids studies, genome sequence analysis, and survival analysis. 1st ed. Boston, MA: Birkhaeuser.\\nFischer TK, Valentiner-Branth P, Steinsland H, Perch M, Santos G, et al. (2002) Protective immunity after natural rotavirus infection: a community cohort study of newborn children in Guinea-Bissau, west Africa. J Infect Dis 186: 593–597.\\nVelazquez FR, Matson DO, Calva JJ, Guerrero L, Morrow AL, et al. (1996) Rotavirus infections in infants as protection against subsequent infections. N Engl J Med 335: 1022–1028.\\nAtchison CJ, Tam CC, Lopman BA (2009) Season of birth and risk of rotavirus diarrhoea in children aged <5 years. Epidemiol Infect 137: 957–960.\\nArmah GE, Mingle JA, Dodoo AK, Anyanful A, Antwi R, et al. (1994) Seasonality of rotavirus infection in Ghana. Ann Trop Paediatr 14: 223–229.\\nKiulia NM, Kamenwa R, Irimu G, Nyangao JO, Gatheru Z, et al. (2008) The epidemiology of human rotavirus associated with diarrhoea in Kenyan children: a review. J Trop Pediatr 54: 401–405.\\nSoenarto Y, Aman AT, Bakri A, Waluya H, Firmansyah A, et al. (2009) Burden of severe rotavirus diarrhea in Indonesia. J Infect Dis 200 Suppl 1: S188–194.\\nZaman K, Yunus M, Faruque AS, El Arifeen S, Hossain I, et al. (2009) Surveillance of rotavirus in a rural diarrhoea treatment centre in Bangladesh, 2000–2006. Vaccine 27 Suppl 5: F31–34.\\nChui KK, Webb P, Russell RM, Naumova EN (2009) Geographic variations and temporal trends of Salmonella-associated hospitalization in the U.S. elderly.\\n---\\n# Rotavirus Seasonality in a Birth Cohort\\n\\n#\\n# Rotavirus Seasonality in a Birth Cohort\\n\\n# References\\n\\n1. Jagai JS, Griffiths JK, Kirshen PK, Webb P, Naumova EN (2012) Seasonal patterns of gastrointestinal illness and streamflow along the Ohio River. *Int J Environ Res Public Health* 9: 1771–1790.\\n2. Kahn G, Fitzwater S, Tate J, Kang G, Ganguly N, et al. (2012) Epidemiology and prospects for prevention of rotavirus disease in India. *Indian Pediatr* 49: 467–474.\\n3. Chandola TR, Taneja S, Goyal N, Rathore SS, Appaiahgari MB, et al. (2013) Descriptive epidemiology of rotavirus infection in a community in North India. *Epidemiol Infect*: 1–7.\\n\\nPLOS ONE | www.plosone.org | August 2013 | Volume 8 | Issue 8 | e71616',\n",
       " 'metadata': {'doi': 'paper 10.1371/journal.pone.0071616 44'}}"
      ]
     },
     "execution_count": 9,
     "metadata": {},
     "output_type": "execute_result"
    }
   ],
   "source": [
    "docs[0]"
   ]
  },
  {
   "cell_type": "code",
   "execution_count": 10,
   "id": "04269cf9",
   "metadata": {},
   "outputs": [
    {
     "data": {
      "text/plain": [
       "69"
      ]
     },
     "execution_count": 10,
     "metadata": {},
     "output_type": "execute_result"
    }
   ],
   "source": [
    "len(docs)"
   ]
  },
  {
   "cell_type": "markdown",
   "id": "9972b1b8-6c88-4a9d-9de1-68d834eeb2e2",
   "metadata": {},
   "source": [
    "`docs` is a list containing the full text per paper. This is not directly usable for `langchain` and it must be converted into a `Document` istance"
   ]
  },
  {
   "cell_type": "markdown",
   "id": "c88c41d1-b1fd-4212-b382-a28654a540db",
   "metadata": {},
   "source": [
    "We do this together with the splitting, by using the function `.create_documents` while splitting it, within the `RecursiveCharacterTextSplitter`"
   ]
  },
  {
   "cell_type": "markdown",
   "id": "cbf10e28-d900-4183-9b40-1ce59dfd9756",
   "metadata": {},
   "source": [
    "#### Chunk text and extract embeddings"
   ]
  },
  {
   "cell_type": "code",
   "execution_count": 11,
   "id": "1ca33d72-2295-497c-8068-2e6fcd28f9ac",
   "metadata": {},
   "outputs": [],
   "source": [
    "text_splitter = RecursiveCharacterTextSplitter.from_tiktoken_encoder(\n",
    "    chunk_size=2000, chunk_overlap=200\n",
    ")\n",
    "\n",
    "documents = text_splitter.create_documents([doc[\"content\"] for doc in docs], \n",
    "                                           metadatas=[doc[\"metadata\"] for doc in docs])"
   ]
  },
  {
   "cell_type": "code",
   "execution_count": 24,
   "id": "b9b796b4",
   "metadata": {},
   "outputs": [
    {
     "data": {
      "text/plain": [
       "{'doi': 'paper 10.1371/journal.pone.0071616 44'}"
      ]
     },
     "execution_count": 24,
     "metadata": {},
     "output_type": "execute_result"
    }
   ],
   "source": [
    "documents[0].metadata"
   ]
  },
  {
   "cell_type": "code",
   "execution_count": 25,
   "id": "0a38616c",
   "metadata": {
    "collapsed": true,
    "jupyter": {
     "outputs_hidden": true
    },
    "tags": []
   },
   "outputs": [
    {
     "data": {
      "text/plain": [
       "'# Rotavirus Seasonality and Age Effects in a Birth Cohort Study of Southern India\\n\\n#\\n# Rotavirus Seasonality and Age Effects in a Birth Cohort Study of Southern India\\n\\nRajiv Sarkar1, Gagandeep Kang1, Elena N. Naumova1,2*\\n\\n1Department of Gastrointestinal Sciences, Christian Medical College, Vellore, TN, India\\n\\n2Department of Civil and Environmental Engineering, Tufts University School of Engineering, Boston, Massachusetts, United States of America\\n\\n# Abstract\\n\\n# Introduction\\n\\nUnderstanding the temporal patterns in disease occurrence is valuable for formulating effective disease preventive programs. Cohort studies present a unique opportunity to explore complex interactions associated with emergence of seasonal patterns of infectious diseases.\\n\\n# Methods\\n\\nWe used data from 452 children participating in a birth cohort study to assess the seasonal patterns of rotavirus diarrhea by creating a weekly time series of rotavirus incidence and fitting a Poisson harmonic regression with biannual peaks. Age and cohort effects were adjusted for by including the weekly counts of number of children in the study and the median age of cohort in a given week. Weekly average temperature, humidity and an interaction term to reflect the joint effect of temperature and humidity were included to consider the effects of meteorological variables.\\n\\n# Results\\n\\nIn the overall rotavirus time series, two significant peaks within a single year were observed – one in winter and the other in summer. The effect of age was found to be the most significant contributor for rotavirus incidence, showing a strong negative association. Seasonality remained a significant factor, even after adjusting for meteorological parameters, and the age and cohort effects.\\n\\n# Conclusions\\n\\nThe methodology for assessing seasonality in cohort studies is not yet developed. This is the first attempt to explore seasonal patterns in a cohort study with a dynamic denominator and rapidly changing immune response on individual and group levels, and provides a highly promising approach for a better understanding of the seasonal patterns of infectious diseases, tracking emergence of pathogenic strains and evaluating the efficacy of intervention programs.\\n\\n# Citation\\n\\nSarkar R, Kang G, Naumova EN (2013) Rotavirus Seasonality and Age Effects in a Birth Cohort Study of Southern India. PLoS ONE 8(8): e71616. doi:10.1371/journal.pone.0071616\\n\\nEditor: Amit Kapoor, Columbia University, United States of America\\n\\nReceived March 12, 2013; Accepted June 30, 2013; Published August 16, 2013\\n\\nCopyright: © 2013 Sarkar et al. This is an open-access article distributed under the terms of the Creative Commons Attribution License, which permits unrestricted use, distribution, and reproduction in any medium, provided the original author and source are credited.\\n\\nFunding: This work was supported by PHS grant R01 A1075452 “Transmission Dynamics of Cryptosporidial Infections in India” (PI - GK); CDC/Indo-US Concept “Environmental Indicators for Diarrheal Infections in South India” (PI - ENN). RS was supported by the Global Infectious Disease Research Training Grant (D43TW007392; PI - GK). The data used in this study was collected from a rotavirus birth cohort study supported by the Wellcome Trust Trilateral Initiative for Infectious Diseases (Grant No.: 063144). The funders had no role in study design, data collection and analysis, decision to publish, or preparation of the manuscript.\\n\\nCompeting Interests: The authors have declared that no competing interests exist.\\n\\n* E-mail: Elena.Naumova@tufts.edu\\n\\n# Introduction\\n\\nWorld-wide expansions of public health surveillance, long-term maintenance of patient electronic records and digital disease detection have invigorated attention to seasonal fluctuations in infectious diseases. A deep understanding of temporal patterns in disease occurrence and its governing principles is valuable for designing preventive programs for disease control, tracking effectiveness of public health programs, and allocating scarce resources.\\n\\nMany infectious diseases exhibit seasonal patterns, when systematic periodic fluctuations are observed during an annual cycle. Seasonality can be characterized by the magnitude, timing, and duration of a seasonal increase. It may differ by pathogen and its strain virulence, and may change from year to year due to shift/drift in antigenic strain and change in immunity of a naïve and exposed population. Seasonal characteristics may also vary by population, geographical area, or climate zone. Introduction of a vaccine and/or successful coverage expansion may also dramatically alter the seasonal fluctuations in infectious disease occurrence.\\n\\nPeriodic fluctuations can be successfully detected and modeled using statistical methods, which allows us to describe and compare seasonal characteristics: amplitude, peaks and troughs. An analysis of seasonality has to be performed on a sufficiently long time series to be able to capture many occurrences of seasonal increases. Thus, by abstracting records from large databases of medical records, including laboratory tests, hospitalizations and mortality records, long time series can be successfully compiled to provide the foundation for reliable assessment of disease seasonality. However, each data source might contain only a fraction of all events associated with infection and sometimes may offer biased reflection of a true incidence of infection in a community.\\n\\nWhile surveillance systems are an excellent source of data to study seasonality in a general population, they might not be ideal for tracking unique features of specific diseases. Cohort studies present a unique opportunity to explore intricate details associated.\\n---\\n# Rotavirus Seasonality in a Birth Cohort\\n\\nbody {\\nfont-family: Arial, sans-serif;\\nline-height: 1.6;\\nmargin: 20px;\\n}\\nh1 {\\ntext-align: center;\\n}\\nh2 {\\nmargin-top: 20px;\\n}\\np {\\nmargin: 10px 0;\\n}\\n.ethics, .data-sources, .compilation, .adjustment, .assessment {\\nmargin-bottom: 20px;\\nborder-left: 4px solid #007BFF;\\npadding-left: 10px;\\n}\\n\\n# Rotavirus Seasonality in a Birth Cohort\\n\\nWith the emergence of seasonal patterns, longitudinal tracking of disease occurrence in each subject allows for the detection of symptomatic and asymptomatic infections, complete genotyping, and comparison of observed strains in the same individual. This also links disease profiles to environmental, social, and genetic features.\\n\\nHowever, the specific features of cohort studies—such as staggered enrollment, age effects, and short follow-up periods—present substantial methodological challenges for seasonality analysis. Current analytical approaches for assessing seasonality are best suited for long time series with relatively stable populations and usually when the patterns of disease have a stable structure. It is useful to expand the methodology of seasonality analysis to this promising study design, which has already demonstrated advantages in understanding the natural history of viral and protozoan infections.\\n\\nRotavirus infection is a leading cause of morbidity in developing countries, and currently, there are a number of suitable vaccines. In temperate areas, the seasonality of rotavirus infection with a single winter peak is well documented. In tropical climates, its seasonality is less defined; however, sometimes an increase is noticed during cold and dry periods. Occasionally, two peaks within a single year are reported: one in winter and one in summer. The burden of rotavirus diarrhea is highest among very young children and decreases rapidly thereafter, which can introduce a strong age effect in the assessment of any temporal pattern.\\n\\n# Methods\\n\\n# Ethics Statement\\n\\nThis paper presents the results of a secondary data analysis from a birth cohort study in southern India, which was approved by the Institutional Review Board of Christian Medical College, Vellore, India. Written informed consent was obtained from parents or guardians of the participating children prior to enrollment, which also included permission to use the data for future research purposes. The time series presented in this study was assembled using de-identified data.\\n\\n# Data Sources\\n\\nWe used data from a birth cohort study on the natural history of rotavirus infection in Vellore, south India. In this study, a total of 452 children were recruited between March 2002 and August 2003 and followed up for a period of 3 years; a total of 373 (80%) children completed the follow-up period. Each child was subjected to a biweekly follow-up schedule to record diarrheal and other morbidities during the preceding days. Surveillance stool samples were collected every 2 weeks, and up to 3 diarrheal stool samples were collected every time the child had diarrhea. The stool samples were tested for the presence of rotavirus using ELISA and PCR-based methods. The details of symptomatic and asymptomatic rotavirus infections over the 3-year period among the 373 children who completed the study have been reported elsewhere.\\n\\nData from all 452 children enrolled in this study was used to illustrate the seasonality of rotavirus diarrhea in this cohort. We defined a diarrheal episode to be associated with rotavirus if one or more stool samples collected within 67 days of that episode was positive for rotavirus by PCR. Using this definition, we identified a total of 291 episodes of PCR-positive rotavirus diarrhea among the 452 children in this cohort. We also explored the effect of different rotavirus genotypes in the overall seasonality of rotavirus diarrhea among the study children.'"
      ]
     },
     "execution_count": 25,
     "metadata": {},
     "output_type": "execute_result"
    }
   ],
   "source": [
    "documents[0].page_content"
   ]
  },
  {
   "cell_type": "code",
   "execution_count": 26,
   "id": "820f25ed-57cf-4e7b-85d3-526685e6fde5",
   "metadata": {
    "tags": []
   },
   "outputs": [
    {
     "name": "stdout",
     "output_type": "stream",
     "text": [
      "491\n",
      "# Rotavirus Seasonality and Age Effects in a Birth Cohort Study of Southern India\n",
      "\n",
      "#\n",
      "# Rotavirus Seasonality and Age Effects in a Birth Cohort Study of Southern India\n",
      "\n",
      "Rajiv Sarkar1, Gagandeep Kang1, Elena N. Naumova1,2*\n",
      "\n",
      "1Department of Gastrointestinal Sciences, Christian Medical College, Vellore, TN, India\n",
      "\n",
      "2Department of Civil and Environmental Engineering, Tufts University School of Engineering, Boston, Massachusetts, United States of America\n",
      "\n",
      "# Abstract\n",
      "\n",
      "# Introduction\n",
      "\n",
      "Understanding the temporal patterns in disease occurrence is valuable for formulating effective disease preventive progr\n"
     ]
    }
   ],
   "source": [
    "print(len(documents))\n",
    "print(documents[0].page_content[:600])"
   ]
  },
  {
   "cell_type": "code",
   "execution_count": 14,
   "id": "8bbe93d7-6ab9-43d8-bf87-1a6016f19cba",
   "metadata": {},
   "outputs": [],
   "source": [
    "# Spacy Embeddings -- a bit faster than the nomic ones\n",
    "# we save the embeddings into a in-memory vector store from sklearn, that is SKLearnVectorStore\n",
    "persist_path = f\"embeddings/\"+\"union.bson\"\n",
    "\n",
    "def create_embeddings(out_path, docs):\n",
    "    folder = os.path.dirname(out_path)\n",
    "    if not os.path.exists(folder):\n",
    "        os.makedirs(folder)\n",
    "    \n",
    "    if exists(out_path):\n",
    "        vectorstore = SKLearnVectorStore(\n",
    "            embedding=NomicEmbeddings(model=\"nomic-embed-text-v1.5\", inference_mode=\"local\"),\n",
    "            persist_path=out_path,\n",
    "            serializer=\"bson\") \n",
    "        print(\"Vector store was loaded from\", out_path)\n",
    "        \n",
    "    else:\n",
    "        vectorstore = SKLearnVectorStore.from_texts(\n",
    "            texts=[doc.page_content for doc in docs],\n",
    "            embedding=NomicEmbeddings(model=\"nomic-embed-text-v1.5\", inference_mode=\"local\"),\n",
    "            persist_path=out_path,\n",
    "            serializer=\"bson\",\n",
    "            metadatas=[doc.metadata for doc in docs])\n",
    "        vectorstore.persist()\n",
    "        print(\"Vector store was persisted to\", out_path)\n",
    "        \n",
    "    return vectorstore"
   ]
  },
  {
   "cell_type": "code",
   "execution_count": 31,
   "id": "eb6f47a3-7379-4d1d-98ed-9ac7284f866a",
   "metadata": {},
   "outputs": [
    {
     "name": "stdout",
     "output_type": "stream",
     "text": [
      "Vector store was persisted to embeddings/union.bson\n"
     ]
    }
   ],
   "source": [
    "vectorstore = create_embeddings(persist_path, docs=documents)"
   ]
  },
  {
   "cell_type": "code",
   "execution_count": 32,
   "id": "7aee1b2c-7bc2-4132-8c2a-f14d22711f00",
   "metadata": {},
   "outputs": [],
   "source": [
    "# Create retriever\n",
    "retriever = vectorstore.as_retriever()"
   ]
  },
  {
   "cell_type": "markdown",
   "id": "08bfe7df-e551-4415-8305-dcfe386163a3",
   "metadata": {},
   "source": [
    "You can check if the retriever works by asking to retrieve documents similar to your search"
   ]
  },
  {
   "cell_type": "code",
   "execution_count": 33,
   "id": "92fa4aff-ec64-4bac-8f91-ef37a5ccbf84",
   "metadata": {
    "tags": []
   },
   "outputs": [],
   "source": [
    "enviroment_docs = retriever.invoke(\"dracunculus\")"
   ]
  },
  {
   "cell_type": "code",
   "execution_count": 40,
   "id": "8d524ed9",
   "metadata": {
    "tags": []
   },
   "outputs": [
    {
     "data": {
      "text/plain": [
       "'paper 10.1016/j.envres.2009.02.008 36'"
      ]
     },
     "execution_count": 40,
     "metadata": {},
     "output_type": "execute_result"
    }
   ],
   "source": [
    "enviroment_docs[0].metadata['doi']"
   ]
  },
  {
   "cell_type": "code",
   "execution_count": 35,
   "id": "057ef683-9a26-4c61-82be-84a25f9553a0",
   "metadata": {},
   "outputs": [
    {
     "data": {
      "text/plain": [
       "'Griffiths, J.K., 1998. Human cryptosporidiosis: epidemiology, transmission, clinical disease, treatment, and diagnosis. Adv. Parasitol. 40, 37–85.\\n\\nHarvell, C.D., Mitchell, C.E., Ward, J.R., Altizer, '"
      ]
     },
     "execution_count": 35,
     "metadata": {},
     "output_type": "execute_result"
    }
   ],
   "source": [
    "enviroment_docs[0].page_content[:200]"
   ]
  },
  {
   "cell_type": "markdown",
   "id": "26f176c2-362c-4f39-ba29-1e1bc72520bd",
   "metadata": {},
   "source": [
    "# build a langGraph"
   ]
  },
  {
   "cell_type": "markdown",
   "id": "ecad0635-9c43-478f-a77b-06222a91d67b",
   "metadata": {},
   "source": [
    "set up a state. A state is a schema that is going to survive across the steps above. All inputs/output across the prompting is going to survive across the steps."
   ]
  },
  {
   "cell_type": "code",
   "execution_count": 20,
   "id": "981b57cd-f30e-47ed-94fc-9e0c46197643",
   "metadata": {},
   "outputs": [],
   "source": [
    "# this is the class state \n",
    "class GraphState(TypedDict):\n",
    "    \"\"\"\n",
    "    Graph state is a dictionary that contains information we want to propagate to, and modify in, each graph node.\n",
    "    \"\"\"\n",
    "    question : str # User question\n",
    "    generation : str # LLM generation\n",
    "    max_retries : int # Max number of retries for answer generation \n",
    "    answers : int # Number of answers generated\n",
    "    loop_step: Annotated[int, operator.add] \n",
    "    documents : List[str] # List of retrieved documents"
   ]
  },
  {
   "cell_type": "markdown",
   "id": "7a2a9696-61ea-499d-b8cc-8e0c15f01c35",
   "metadata": {},
   "source": [
    "Take each of the steps above, and wrapping those into individual functions (which are nodes). They take state as input, and modify it."
   ]
  },
  {
   "cell_type": "markdown",
   "id": "303ba1a1-e2ea-45a8-97b2-f435dba67b38",
   "metadata": {},
   "source": [
    "Some of the functions are 'edges', so they basically evaluate the input and decide where to go (which nodes) next."
   ]
  },
  {
   "cell_type": "code",
   "execution_count": 21,
   "id": "db20b7a2-d13f-4d51-b8c4-0f45a53bb61a",
   "metadata": {},
   "outputs": [],
   "source": [
    "# Post-processing\n",
    "def format_docs(docs):\n",
    "    return \"\\n\\n\".join(doc.page_content for doc in docs)\n",
    "\n",
    "### Nodes\n",
    "def retrieve(state):\n",
    "    \"\"\"\n",
    "    Retrieve documents from vectorstore\n",
    "\n",
    "    Args:\n",
    "        state (dict): The current graph state\n",
    "\n",
    "    Returns:\n",
    "        state (dict): New key added to state, documents, that contains retrieved documents\n",
    "    \"\"\"\n",
    "    print(\"---RETRIEVE---\")\n",
    "    question = state[\"question\"]\n",
    "\n",
    "    # Write retrieved documents to documents key in state\n",
    "    documents = retriever.invoke(question)\n",
    "    return {\"documents\": documents}\n",
    "    \n",
    "\n",
    "def generate(state):\n",
    "    \"\"\"\n",
    "    Generate answer using RAG on retrieved documents\n",
    "\n",
    "    Args:\n",
    "        state (dict): The current graph state\n",
    "\n",
    "    Returns:\n",
    "        state (dict): New key added to state, generation, that contains LLM generation\n",
    "    \"\"\"\n",
    "    print(\"---GENERATE---\")\n",
    "    question = state[\"question\"]\n",
    "    documents = state[\"documents\"]\n",
    "    loop_step = state.get(\"loop_step\", 0)\n",
    "    \n",
    "    rag_prompt = \"\"\"You are an assistant for question-answering tasks. \n",
    "\n",
    "    Here is the context to use to answer the question:\n",
    "\n",
    "    {context} \n",
    "\n",
    "    Think carefully about the above context. \n",
    "\n",
    "    Now, review the user question:\n",
    "\n",
    "    {question}\n",
    "\n",
    "    Provide an answer to this questions using only the above context. \n",
    "\n",
    "    Use 10 sentences maximum and keep the answer concise.\n",
    "\n",
    "    Answer:\"\"\"\n",
    "    \n",
    "    \n",
    "    # RAG generation\n",
    "    docs_txt = format_docs(documents)\n",
    "    rag_prompt_formatted = rag_prompt.format(context=docs_txt, question=question)\n",
    "    generation = llm.invoke([HumanMessage(content=rag_prompt_formatted)])\n",
    "    return {\"generation\": generation, \"loop_step\": loop_step+1}\n",
    "\n",
    "def grade_documents(state):\n",
    "    \"\"\"\n",
    "    Determines whether the retrieved documents are relevant to the question\n",
    "    If any document is not relevant, we will set a flag AND THAT'S IT\n",
    "\n",
    "    Args:\n",
    "        state (dict): The current graph state\n",
    "\n",
    "    Returns:\n",
    "        state (dict): Filtered out irrelevant documents and updated web_search state\n",
    "    \"\"\"\n",
    "\n",
    "    print(\"---CHECK DOCUMENT RELEVANCE TO QUESTION---\")\n",
    "    question = state[\"question\"]\n",
    "    documents = state[\"documents\"]\n",
    "    \n",
    "    doc_grader_prompt = \"\"\"Here is the retrieved document: \\n\\n {document} \\n\\n Here is the user question: \\n\\n {question}. \n",
    "\n",
    "    This carefully and objectively assess whether the document contains at least some information that is relevant to the question.\n",
    "\n",
    "    Return JSON with single key, binary_score, that is 'yes' or 'no' score to indicate whether the document contains at least some information that is relevant to the question.\"\"\"\n",
    "    \n",
    "    doc_grader_instructions = \"\"\"You are a grader assessing relevance of a retrieved document to a user question.\n",
    "\n",
    "    If the document contains keyword(s) or semantic meaning related to the question, grade it as relevant.\"\"\"\n",
    "    \n",
    "    # Score each doc\n",
    "    filtered_docs = []\n",
    "    web_search = \"No\" \n",
    "    for d in documents:\n",
    "        doc_grader_prompt_formatted = doc_grader_prompt.format(document=d.page_content, question=question)\n",
    "        result = llm_json_mode.invoke([SystemMessage(content=doc_grader_instructions)] + [HumanMessage(content=doc_grader_prompt_formatted)])\n",
    "        grade = json.loads(result.content)['binary_score']\n",
    "        # Document relevant\n",
    "        if grade.lower() == \"yes\":\n",
    "            print(\"---GRADE: DOCUMENT RELEVANT---\")\n",
    "            filtered_docs.append(d)\n",
    "        # Document not relevant\n",
    "        else:\n",
    "            print(\"---GRADE: DOCUMENT NOT RELEVANT---\")\n",
    "            # We do not include the document in filtered_docs\n",
    "            # We set a flag to indicate that we want to run web search\n",
    "            web_search = \"Yes\"\n",
    "            continue\n",
    "    return {\"documents\": filtered_docs, \"web_search\": web_search}\n",
    "    \n",
    "\n",
    "\n",
    "### Edges\n",
    "\n",
    "def grade_generation_v_documents_and_question(state):\n",
    "    \"\"\"\n",
    "    Determines whether the generation is grounded in the document and answers question\n",
    "\n",
    "    Args:\n",
    "        state (dict): The current graph state\n",
    "\n",
    "    Returns:\n",
    "        str: Decision for next node to call\n",
    "    \"\"\"\n",
    "\n",
    "    print(\"---CHECK HALLUCINATIONS---\")\n",
    "    question = state[\"question\"]\n",
    "    documents = state[\"documents\"]\n",
    "    generation = state[\"generation\"]\n",
    "    max_retries = state.get(\"max_retries\", 3) # Default to 3 if not provided\n",
    "\n",
    "    hallucination_grader_prompt_formatted = hallucination_grader_prompt.format(documents=format_docs(documents), generation=generation.content)\n",
    "    result = llm_json_mode.invoke([SystemMessage(content=hallucination_grader_instructions)] + [HumanMessage(content=hallucination_grader_prompt_formatted)])\n",
    "    grade = json.loads(result.content)['binary_score']\n",
    "\n",
    "    # Check hallucination\n",
    "    if grade == \"yes\":\n",
    "        print(\"---DECISION: GENERATION IS GROUNDED IN DOCUMENTS---\")\n",
    "        # Check question-answering\n",
    "        print(\"---GRADE GENERATION vs QUESTION---\")\n",
    "        # Test using question and generation from above \n",
    "        answer_grader_prompt_formatted = answer_grader_prompt.format(question=question, generation=generation.content)\n",
    "        result = llm_json_mode.invoke([SystemMessage(content=answer_grader_instructions)] + [HumanMessage(content=answer_grader_prompt_formatted)])\n",
    "        grade = json.loads(result.content)['binary_score']\n",
    "        if grade == \"yes\":\n",
    "            print(\"---DECISION: GENERATION ADDRESSES QUESTION---\")\n",
    "            return \"useful\"\n",
    "        elif state[\"loop_step\"] <= max_retries:\n",
    "            print(\"---DECISION: GENERATION DOES NOT ADDRESS QUESTION---\")\n",
    "            return \"not useful\"\n",
    "        else:\n",
    "            print(\"---DECISION: MAX RETRIES REACHED---\")\n",
    "            return \"max retries\"  \n",
    "    elif state[\"loop_step\"] <= max_retries:\n",
    "        print(\"---DECISION: GENERATION IS NOT GROUNDED IN DOCUMENTS, RE-TRY---\")\n",
    "        return \"not supported\"\n",
    "    else:\n",
    "        print(\"---DECISION: MAX RETRIES REACHED---\")\n",
    "        return \"max retries\""
   ]
  },
  {
   "cell_type": "code",
   "execution_count": 22,
   "id": "34dc5277-9027-4388-a4af-9dbc200cca68",
   "metadata": {},
   "outputs": [
    {
     "data": {
      "image/jpeg": "[encoded data removed]",
      "text/plain": [
       "<IPython.core.display.Image object>"
      ]
     },
     "metadata": {},
     "output_type": "display_data"
    }
   ],
   "source": [
    "# Create the StateGraph\n",
    "workflow = StateGraph(GraphState)\n",
    "\n",
    "# Define the nodes\n",
    "workflow.add_node(\"retrieve\", retrieve)  # retrieve\n",
    "workflow.add_node(\"grade_documents\", grade_documents)  # grade documents\n",
    "workflow.add_node(\"generate\", generate)  # generate\n",
    "\n",
    "# Build graph\n",
    "# Directly set \"retrieve\" as the entry point, skipping route_question and web_search\n",
    "workflow.set_entry_point(\"retrieve\")\n",
    "\n",
    "# Set edges to transition between nodes\n",
    "workflow.add_edge(\"retrieve\", \"grade_documents\")  # After retrieving, grade documents\n",
    "workflow.add_edge(\"grade_documents\", \"generate\")  # After grading, generate the response\n",
    "\n",
    "# Compile\n",
    "graph = workflow.compile()\n",
    "display(Image(graph.get_graph().draw_mermaid_png()))\n"
   ]
  },
  {
   "cell_type": "code",
   "execution_count": 54,
   "id": "997d67a0-7ec4-4e5e-8029-ef4d63b2b648",
   "metadata": {},
   "outputs": [],
   "source": [
    "import re \n",
    "def print_doi(doi):\n",
    "    doi_pattern = r\"10.\\d{4,9}/[-._;()/:A-Za-z0-9]+\"\n",
    "    doi_match = re.search(doi_pattern, doi)\n",
    "    \n",
    "    if doi_match:\n",
    "        return doi_match.group(0)\n",
    "    return print(\"no valid DOI has been found\")\n",
    "    "
   ]
  },
  {
   "cell_type": "code",
   "execution_count": 55,
   "id": "3531ed5a-d6c6-41ea-a0a0-53775306b164",
   "metadata": {
    "tags": []
   },
   "outputs": [
    {
     "name": "stdout",
     "output_type": "stream",
     "text": [
      "---RETRIEVE---\n",
      "---CHECK DOCUMENT RELEVANCE TO QUESTION---\n",
      "---GRADE: DOCUMENT RELEVANT---\n",
      "---GRADE: DOCUMENT NOT RELEVANT---\n",
      "---GRADE: DOCUMENT NOT RELEVANT---\n",
      "---GRADE: DOCUMENT RELEVANT---\n",
      "---GENERATE---\n",
      "Based on the provided context, the following diarrheal pathogens can be listed:\n",
      "\n",
      "1. Rotavirus\n",
      "2. Bacterial enteropathogens (not specified)\n",
      "3. Other enteric pathogens (not specified)\n",
      "\n",
      "The context mentions specific studies and surveillance data for rotavirus in various countries, including Bangladesh, India, Sri Lanka, and Myanmar. However, it does not provide comprehensive information on other diarrheal pathogens.\n",
      "\n",
      "Some studies mention the presence of bacterial enteropathogens, such as those mentioned in study 77, but they are not listed separately due to lack of specificity.\n",
      "\n",
      "The context also mentions \"other enteric pathogens\" (study 72), but no specific examples are provided.\n",
      "================================ References ================================\n",
      "DOI: https://10.1371/journal.pntd.0007211\n",
      "DOI: https://10.1371/journal.pone.0038168\n"
     ]
    }
   ],
   "source": [
    "question = {\"question\": \"List all diarrheal pathogens\", \n",
    "            \"max_retries\": 3}\n",
    "\n",
    "documents_list = []\n",
    "\n",
    "for event in graph.stream(question, stream_mode=\"values\"):\n",
    "    if \"generation\" in event and isinstance(event[\"generation\"], AIMessage):\n",
    "        # Print only the content of the AIMessage\n",
    "        print(event[\"generation\"].content)\n",
    "\n",
    "        # Get the unique references\n",
    "        references = []\n",
    "        print('================================ References ================================')\n",
    "        for ref in event['documents']:\n",
    "            if ref.metadata['doi'] not in references:\n",
    "                doi = print_doi(ref.metadata['doi'])\n",
    "                references.append(doi)\n",
    "                print(f\"DOI: {doi}\")\n",
    "    \n",
    "    # event contains documents (which are stored under the key 'documents')\n",
    "    if \"documents\" in event:\n",
    "        # append the documents to the documents_list, but do not print them\n",
    "        documents_list.extend(event[\"documents\"])\n"
   ]
  },
  {
   "cell_type": "code",
   "execution_count": null,
   "id": "1c2ba590-37bd-4b7f-8dbc-89b3040ff6b1",
   "metadata": {},
   "outputs": [],
   "source": []
  }
 ],
 "metadata": {
  "kernelspec": {
   "display_name": "rag october",
   "language": "python",
   "name": "rag_october"
  },
  "language_info": {
   "codemirror_mode": {
    "name": "ipython",
    "version": 3
   },
   "file_extension": ".py",
   "mimetype": "text/x-python",
   "name": "python",
   "nbconvert_exporter": "python",
   "pygments_lexer": "ipython3",
   "version": "3.11.0"
  }
 },
 "nbformat": 4,
 "nbformat_minor": 5
}
