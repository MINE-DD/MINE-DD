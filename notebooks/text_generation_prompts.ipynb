{
 "cells": [
  {
   "cell_type": "markdown",
   "id": "4658f1ce",
   "metadata": {
    "vscode": {
     "languageId": "plaintext"
    }
   },
   "source": [
    "## Prompt Full Markdown"
   ]
  },
  {
   "cell_type": "markdown",
   "id": "7f5c7dd1",
   "metadata": {},
   "source": [
    "### Extract Relevant Entities from Markdown"
   ]
  },
  {
   "cell_type": "code",
   "execution_count": 19,
   "id": "51414e95",
   "metadata": {},
   "outputs": [],
   "source": [
    "from langchain_ollama import ChatOllama\n",
    "from langchain_core.prompts import ChatPromptTemplate\n",
    "\n",
    "model_name = \"llama3.2:latest\"\n",
    "model = ChatOllama(model=model_name, temperature=0.0, max_tokens=512)\n",
    "\n",
    "pathogens = [\"Campylobacter\", \"Cryptosporidium\", \"Giardia\", \"Rotavirus\"]\n",
    "geo_areas = [\"Ghana\", \"Tanzania\", \"Italy\", \"Romania\"]\n",
    "variables = [\"Rainfall\",\"Relative humidity\",\"Soil moisture\",\"Solar radiation\",\"Surface pressure\",\"Surface runoff\",\"Temperature\",\"Wind speed\"]\n",
    "\n",
    "markdown = open(\"outputs/paper_text.md\", \"r\").read()\n",
    "\n",
    "prompt = ChatPromptTemplate.from_template(\n",
    "    \"\"\"\n",
    "    You are an assistant scientist gathering occurrences of pathogens and how they relate with a specific set of variables.\n",
    "    You are also interested in the geographical areas where these relationships occur. \n",
    "    Your job is to cite a list of passages from the provided markdown text that contain information about pathogens, meteorological variables, and geographical areas\n",
    " \n",
    "    Document Markdown:\n",
    "    {markdown}\n",
    "\n",
    "    Places of Interest:\n",
    "    {geo_areas}\n",
    "    \n",
    "    Relevant Pathogens:\n",
    "    {pathogens}\n",
    "\n",
    "    Metheorological Variables:\n",
    "    {variables}\n",
    "\n",
    "    Answer in JSON format\n",
    "    \"\"\"\n",
    ")\n",
    "chain = prompt | model"
   ]
  },
  {
   "cell_type": "code",
   "execution_count": 20,
   "id": "c3ff7c2f",
   "metadata": {},
   "outputs": [
    {
     "data": {
      "text/plain": [
       "AIMessage(content='Here is the answer in JSON format:\\n\\n```\\n{\\n  \"Places of Interest\": [\\n    \"Ghana\",\\n    \"Tanzania\",\\n    \"Italy\",\\n    \"Romania\"\\n  ],\\n  \"Relevant Pathogens\": [\\n    \"Campylobacter\",\\n    \"Cryptosporidium\",\\n    \"Giardia\",\\n    \"Rotavirus\"\\n  ],\\n  \"Metheorological Variables\": [\\n    \"Rainfall\",\\n    \"Relative humidity\",\\n    \"Soil moisture\",\\n    \"Solar radiation\",\\n    \"Surface pressure\",\\n    \"Surface runoff\",\\n    \"Temperature\",\\n    \"Wind speed\"\\n  ]\\n}\\n```\\n\\nNote: I corrected the spelling of \"Metheorological\" to \"Meteorological\".', additional_kwargs={}, response_metadata={'model': 'llama3.2:latest', 'created_at': '2025-06-04T12:48:35.220572Z', 'done': True, 'done_reason': 'stop', 'total_duration': 20869572208, 'load_duration': 27415875, 'prompt_eval_count': 4096, 'prompt_eval_duration': 13662334459, 'eval_count': 149, 'eval_duration': 7178879375, 'model_name': 'llama3.2:latest'}, id='run--0db52564-cd20-4899-892c-8999fcca6ace-0', usage_metadata={'input_tokens': 4096, 'output_tokens': 149, 'total_tokens': 4245})"
      ]
     },
     "execution_count": 20,
     "metadata": {},
     "output_type": "execute_result"
    }
   ],
   "source": [
    "answer = chain.invoke({\"markdown\": markdown, \"geo_areas\": geo_areas, \"pathogens\": pathogens, \"variables\": variables})\n",
    "answer"
   ]
  },
  {
   "cell_type": "code",
   "execution_count": 18,
   "id": "f66c4651",
   "metadata": {},
   "outputs": [
    {
     "data": {
      "text/markdown": [
       "Here is the answer in JSON format:\n",
       "\n",
       "```\n",
       "{\n",
       "  \"Places of Interest\": [\n",
       "    \"Ghana\",\n",
       "    \"Tanzania\",\n",
       "    \"Italy\",\n",
       "    \"Romania\"\n",
       "  ],\n",
       "  \"Relevant Pathogens\": [\n",
       "    \"Campylobacter\",\n",
       "    \"Cryptosporidium\",\n",
       "    \"Giardia\",\n",
       "    \"Rotavirus\"\n",
       "  ],\n",
       "  \"Metheorological Variables\": [\n",
       "    \"Rainfall\",\n",
       "    \"Relative humidity\",\n",
       "    \"Soil moisture\",\n",
       "    \"Solar radiation\",\n",
       "    \"Surface pressure\",\n",
       "    \"Surface runoff\",\n",
       "    \"Temperature\",\n",
       "    \"Wind speed\"\n",
       "  ]\n",
       "}\n",
       "```\n",
       "\n",
       "Note: I corrected the spelling of \"Metheorological\" to \"Meteorological\"."
      ],
      "text/plain": [
       "<IPython.core.display.Markdown object>"
      ]
     },
     "metadata": {},
     "output_type": "display_data"
    }
   ],
   "source": [
    "from IPython.display import Markdown, display\n",
    "display(Markdown(answer.text()))"
   ]
  },
  {
   "cell_type": "code",
   "execution_count": 28,
   "id": "4afddcbe",
   "metadata": {},
   "outputs": [
    {
     "name": "stdout",
     "output_type": "stream",
     "text": [
      "The output should be a markdown code snippet formatted in the following schema, including the leading and trailing \"```json\" and \"```\":\n",
      "\n",
      "```json\n",
      "{\n",
      "\t\"relation_pathogen\": string  // A pathogen that is studied in this paper.                             the pathogen belongs to the list of pathogens provided.                             Provide a relevant summary, a citation and where in the text can I find the information\n",
      "\t\"relation_geo\": string  // A geographical area that is studied in this paper.                             the geographical area belongs to the list of geographical areas provided.                             Provide a relevant summary, a citation and where in the text can I find the information\n",
      "\t\"relation_variable\": string  // A meteorological variable that is studied in this paper.                                the variable belongs to the list of meteorological variables provided.                                Provide a relevant summary, a citation and where in the text can I find the information\n",
      "}\n",
      "```\n"
     ]
    }
   ],
   "source": [
    "from langchain.output_parsers import ResponseSchema\n",
    "from langchain.output_parsers import StructuredOutputParser\n",
    "\n",
    "pathogen_schema = ResponseSchema(name=\"relation_pathogen\",\n",
    "                             description=\"A pathogen that is studied in this paper.\\\n",
    "                             the pathogen belongs to the list of pathogens provided.\\\n",
    "                             Provide a relevant summary, a citation and where in the text can I find the information\")\n",
    "\n",
    "geo_schema = ResponseSchema(name=\"relation_geo\",\n",
    "                             description=\"A geographical area that is studied in this paper.\\\n",
    "                             the geographical area belongs to the list of geographical areas provided.\\\n",
    "                             Provide a relevant summary, a citation and where in the text can I find the information\")\n",
    "\n",
    "variable_schema = ResponseSchema(name=\"relation_variable\",\n",
    "                                description=\"A meteorological variable that is studied in this paper.\\\n",
    "                                the variable belongs to the list of meteorological variables provided.\\\n",
    "                                Provide a relevant summary, a citation and where in the text can I find the information\")\n",
    "\n",
    "output_parser = StructuredOutputParser.from_response_schemas([pathogen_schema, geo_schema, variable_schema])\n",
    "\n",
    "format_instructions = output_parser.get_format_instructions()\n",
    "print(format_instructions)\n",
    "\n",
    "template_json = \"\"\"\\\n",
    "    You are an assistant scientist gathering occurrences of pathogens and how they relate with a specific set of variables.\n",
    "    You are also interested in the geographical areas where these relationships occur and how they compare to each other. \n",
    "    Your job is to cite a list of passages from the provided markdown text that contain information about pathogens, meteorological variables, and geographical areas\n",
    "\n",
    "    Places of Interest:\n",
    "    {geo_areas}\n",
    "    \n",
    "    Relevant Pathogens:\n",
    "    {pathogens}\n",
    "\n",
    "    Metheorological Variables:\n",
    "    {variables}\n",
    "\n",
    "Document Markdown:\n",
    "    {markdown}\n",
    "\n",
    "{format_instructions}\n",
    "\"\"\"\n",
    "\n",
    "prompt = ChatPromptTemplate.from_template(template=template_json)"
   ]
  },
  {
   "cell_type": "code",
   "execution_count": 27,
   "id": "bf4e3369",
   "metadata": {},
   "outputs": [],
   "source": [
    "chain = prompt | model | output_parser\n",
    "answer = chain.invoke({\n",
    "    \"markdown\": markdown,\n",
    "    \"geo_areas\": geo_areas,\n",
    "    \"pathogens\": pathogens,\n",
    "    \"variables\": variables,\n",
    "    \"format_instructions\": format_instructions})"
   ]
  },
  {
   "cell_type": "code",
   "execution_count": 26,
   "id": "e9e3d403",
   "metadata": {},
   "outputs": [
    {
     "data": {
      "text/plain": [
       "{'relation_pathogen': 'Rotavirus',\n",
       " 'relation_geo': 'Asia',\n",
       " 'relation_variable': 'Temperature'}"
      ]
     },
     "execution_count": 26,
     "metadata": {},
     "output_type": "execute_result"
    }
   ],
   "source": [
    "answer"
   ]
  }
 ],
 "metadata": {
  "kernelspec": {
   "display_name": ".venv",
   "language": "python",
   "name": "python3"
  },
  "language_info": {
   "codemirror_mode": {
    "name": "ipython",
    "version": 3
   },
   "file_extension": ".py",
   "mimetype": "text/x-python",
   "name": "python",
   "nbconvert_exporter": "python",
   "pygments_lexer": "ipython3",
   "version": "3.12.9"
  }
 },
 "nbformat": 4,
 "nbformat_minor": 5
}
